{
  "nbformat": 4,
  "nbformat_minor": 0,
  "metadata": {
    "colab": {
      "name": "BikeSharing.ipynb",
      "provenance": [],
      "collapsed_sections": [],
      "authorship_tag": "ABX9TyNUlJcQAtQaFGILiTO8t4Gb",
      "include_colab_link": true
    },
    "kernelspec": {
      "name": "python3",
      "display_name": "Python 3"
    }
  },
  "cells": [
    {
      "cell_type": "markdown",
      "metadata": {
        "id": "view-in-github",
        "colab_type": "text"
      },
      "source": [
        "<a href=\"https://colab.research.google.com/github/PaulAlexInc/BikeSharing-dataset/blob/main/BikeSharing.ipynb\" target=\"_parent\"><img src=\"https://colab.research.google.com/assets/colab-badge.svg\" alt=\"Open In Colab\"/></a>"
      ]
    },
    {
      "cell_type": "markdown",
      "metadata": {
        "id": "k0MWtyZoTNO-"
      },
      "source": [
        "#LINEAR REGRESSION"
      ]
    },
    {
      "cell_type": "markdown",
      "metadata": {
        "id": "cz8EVhPtS2KT"
      },
      "source": [
        "## Bike Sharing Dataset<br>\n",
        "\n",
        "UCI Machine Learning Repository"
      ]
    },
    {
      "cell_type": "markdown",
      "metadata": {
        "id": "F_QNqElCU359"
      },
      "source": [
        "[Bike Sharing Dataset](https://archive.ics.uci.edu/ml/datasets/Bike+Sharing+Dataset)<br>"
      ]
    },
    {
      "cell_type": "markdown",
      "metadata": {
        "id": "1A48q5PMVFoK"
      },
      "source": [
        "Note: upload the day.csv file during each runtime"
      ]
    },
    {
      "cell_type": "markdown",
      "metadata": {
        "id": "pG7G3PFcWYz8"
      },
      "source": [
        "Abstract: This dataset contains the hourly and daily count of rental bikes between years 2011 and 2012 in Capital bikeshare system with the corresponding weather and seasonal information.\n",
        "\n",
        "*Attribute* Information:\n",
        "\n",
        "Both hour.csv and day.csv have the following fields, except hr which is not available in day.csv\n",
        "\n",
        "- instant: record index\n",
        "- dteday : date\n",
        "- season : season (1:winter, 2:spring, 3:summer, 4:fall)\n",
        "- yr : year (0: 2011, 1:2012)\n",
        "- mnth : month ( 1 to 12)\n",
        "- hr : hour (0 to 23)\n",
        "- holiday : weather day is holiday or not (extracted from [Web Link])\n",
        "- weekday : day of the week\n",
        "- workingday : if day is neither weekend nor holiday is 1, otherwise is 0.\n",
        "+ weathersit :\n",
        "- 1: Clear, Few clouds, Partly cloudy, Partly cloudy\n",
        "- 2: Mist + Cloudy, Mist + Broken clouds, Mist + Few clouds, Mist\n",
        "- 3: Light Snow, Light Rain + Thunderstorm + Scattered clouds, Light Rain + Scattered clouds\n",
        "- 4: Heavy Rain + Ice Pallets + Thunderstorm + Mist, Snow + Fog\n",
        "- temp : Normalized temperature in Celsius. The values are derived via (t-t_min)/(t_max-t_min), t_min=-8, t_max=+39 (only in hourly scale)\n",
        "- atemp: Normalized feeling temperature in Celsius. The values are derived via (t-t_min)/(t_max-t_min), t_min=-16, t_max=+50 (only in hourly scale)\n",
        "- hum: Normalized humidity. The values are divided to 100 (max)\n",
        "- windspeed: Normalized wind speed. The values are divided to 67 (max)\n",
        "- casual: count of casual users\n",
        "- registered: count of registered users\n",
        "- cnt: count of total rental bikes including both casual and registered"
      ]
    },
    {
      "cell_type": "markdown",
      "metadata": {
        "id": "aZ0kYaZrZHh9"
      },
      "source": [
        "Predict the count based on various factors"
      ]
    },
    {
      "cell_type": "code",
      "metadata": {
        "id": "Kx5noBMqDEAp"
      },
      "source": [
        "                             # importing libraries\n",
        "# always import the libraries in the first cell, its a standard\n",
        "import pandas as pd\n",
        "import seaborn as sns\n",
        "import numpy as np\n",
        "\n",
        "from sklearn.preprocessing import StandardScaler\n",
        "from sklearn.model_selection import train_test_split   # train_test_split is used to perform splitting\n",
        "from sklearn.metrics import r2_score                   # accuracy measure for the model- from a subpackage called metrics\n",
        "from sklearn.metrics import mean_squared_error         # accuracy measure for the model\n",
        "from sklearn.linear_model import LinearRegression\n",
        "\n",
        "from sklearn.feature_selection import RFE\n",
        "from sklearn.ensemble import RandomForestRegressor\n",
        "from pickle import dump # helps us to dump or save these models and scalers"
      ],
      "execution_count": null,
      "outputs": []
    },
    {
      "cell_type": "code",
      "metadata": {
        "colab": {
          "base_uri": "https://localhost:8080/",
          "height": 279
        },
        "id": "5_gFg7AEDD2c",
        "outputId": "b14d51db-74f4-49f4-f936-4a15e16f1894"
      },
      "source": [
        "data=pd.read_csv(\"day.csv\")\n",
        "data.head()"
      ],
      "execution_count": null,
      "outputs": [
        {
          "output_type": "execute_result",
          "data": {
            "text/html": [
              "<div>\n",
              "<style scoped>\n",
              "    .dataframe tbody tr th:only-of-type {\n",
              "        vertical-align: middle;\n",
              "    }\n",
              "\n",
              "    .dataframe tbody tr th {\n",
              "        vertical-align: top;\n",
              "    }\n",
              "\n",
              "    .dataframe thead th {\n",
              "        text-align: right;\n",
              "    }\n",
              "</style>\n",
              "<table border=\"1\" class=\"dataframe\">\n",
              "  <thead>\n",
              "    <tr style=\"text-align: right;\">\n",
              "      <th></th>\n",
              "      <th>instant</th>\n",
              "      <th>dteday</th>\n",
              "      <th>season</th>\n",
              "      <th>yr</th>\n",
              "      <th>mnth</th>\n",
              "      <th>holiday</th>\n",
              "      <th>weekday</th>\n",
              "      <th>workingday</th>\n",
              "      <th>weathersit</th>\n",
              "      <th>temp</th>\n",
              "      <th>atemp</th>\n",
              "      <th>hum</th>\n",
              "      <th>windspeed</th>\n",
              "      <th>casual</th>\n",
              "      <th>registered</th>\n",
              "      <th>cnt</th>\n",
              "    </tr>\n",
              "  </thead>\n",
              "  <tbody>\n",
              "    <tr>\n",
              "      <th>0</th>\n",
              "      <td>1</td>\n",
              "      <td>2011-01-01</td>\n",
              "      <td>1</td>\n",
              "      <td>0</td>\n",
              "      <td>1</td>\n",
              "      <td>0</td>\n",
              "      <td>6</td>\n",
              "      <td>0</td>\n",
              "      <td>2</td>\n",
              "      <td>0.344167</td>\n",
              "      <td>0.363625</td>\n",
              "      <td>0.805833</td>\n",
              "      <td>0.160446</td>\n",
              "      <td>331</td>\n",
              "      <td>654</td>\n",
              "      <td>985</td>\n",
              "    </tr>\n",
              "    <tr>\n",
              "      <th>1</th>\n",
              "      <td>2</td>\n",
              "      <td>2011-01-02</td>\n",
              "      <td>1</td>\n",
              "      <td>0</td>\n",
              "      <td>1</td>\n",
              "      <td>0</td>\n",
              "      <td>0</td>\n",
              "      <td>0</td>\n",
              "      <td>2</td>\n",
              "      <td>0.363478</td>\n",
              "      <td>0.353739</td>\n",
              "      <td>0.696087</td>\n",
              "      <td>0.248539</td>\n",
              "      <td>131</td>\n",
              "      <td>670</td>\n",
              "      <td>801</td>\n",
              "    </tr>\n",
              "    <tr>\n",
              "      <th>2</th>\n",
              "      <td>3</td>\n",
              "      <td>2011-01-03</td>\n",
              "      <td>1</td>\n",
              "      <td>0</td>\n",
              "      <td>1</td>\n",
              "      <td>0</td>\n",
              "      <td>1</td>\n",
              "      <td>1</td>\n",
              "      <td>1</td>\n",
              "      <td>0.196364</td>\n",
              "      <td>0.189405</td>\n",
              "      <td>0.437273</td>\n",
              "      <td>0.248309</td>\n",
              "      <td>120</td>\n",
              "      <td>1229</td>\n",
              "      <td>1349</td>\n",
              "    </tr>\n",
              "    <tr>\n",
              "      <th>3</th>\n",
              "      <td>4</td>\n",
              "      <td>2011-01-04</td>\n",
              "      <td>1</td>\n",
              "      <td>0</td>\n",
              "      <td>1</td>\n",
              "      <td>0</td>\n",
              "      <td>2</td>\n",
              "      <td>1</td>\n",
              "      <td>1</td>\n",
              "      <td>0.200000</td>\n",
              "      <td>0.212122</td>\n",
              "      <td>0.590435</td>\n",
              "      <td>0.160296</td>\n",
              "      <td>108</td>\n",
              "      <td>1454</td>\n",
              "      <td>1562</td>\n",
              "    </tr>\n",
              "    <tr>\n",
              "      <th>4</th>\n",
              "      <td>5</td>\n",
              "      <td>2011-01-05</td>\n",
              "      <td>1</td>\n",
              "      <td>0</td>\n",
              "      <td>1</td>\n",
              "      <td>0</td>\n",
              "      <td>3</td>\n",
              "      <td>1</td>\n",
              "      <td>1</td>\n",
              "      <td>0.226957</td>\n",
              "      <td>0.229270</td>\n",
              "      <td>0.436957</td>\n",
              "      <td>0.186900</td>\n",
              "      <td>82</td>\n",
              "      <td>1518</td>\n",
              "      <td>1600</td>\n",
              "    </tr>\n",
              "  </tbody>\n",
              "</table>\n",
              "</div>"
            ],
            "text/plain": [
              "   instant      dteday  season  yr  ...  windspeed  casual  registered   cnt\n",
              "0        1  2011-01-01       1   0  ...   0.160446     331         654   985\n",
              "1        2  2011-01-02       1   0  ...   0.248539     131         670   801\n",
              "2        3  2011-01-03       1   0  ...   0.248309     120        1229  1349\n",
              "3        4  2011-01-04       1   0  ...   0.160296     108        1454  1562\n",
              "4        5  2011-01-05       1   0  ...   0.186900      82        1518  1600\n",
              "\n",
              "[5 rows x 16 columns]"
            ]
          },
          "metadata": {
            "tags": []
          },
          "execution_count": 2
        }
      ]
    },
    {
      "cell_type": "markdown",
      "metadata": {
        "id": "HLKaRagHARza"
      },
      "source": [
        "- matemp    : adjusted temperature is the feeling temperature i.e how it feels like<br>\n",
        "- since we are working with day.csv, the information is given for each day of the two years the data was collected<br>\n",
        "- instant is like an identifier or sort of an index, doesn't store any data as such<br>\n",
        "- cnt = casual+registered"
      ]
    },
    {
      "cell_type": "markdown",
      "metadata": {
        "id": "X7qc-AOb_gXd"
      },
      "source": [
        "- The cnt variable is simply the sum of casual and registered, this cnt variable is our target variable i.e what we want to predict<br>\n",
        "\n",
        "- ### We need to predict the number of bikes that will be rented out on a specific day depending on the weather conditions and other factors like weather it is a week day or a holiday \n",
        "\n"
      ]
    },
    {
      "cell_type": "code",
      "metadata": {
        "id": "ZjoidY53CzwZ",
        "colab": {
          "base_uri": "https://localhost:8080/"
        },
        "outputId": "5bd48a09-c4f4-4462-b4b5-97c724ad95d9"
      },
      "source": [
        "data.columns"
      ],
      "execution_count": null,
      "outputs": [
        {
          "output_type": "execute_result",
          "data": {
            "text/plain": [
              "Index(['instant', 'dteday', 'season', 'yr', 'mnth', 'holiday', 'weekday',\n",
              "       'workingday', 'weathersit', 'temp', 'atemp', 'hum', 'windspeed',\n",
              "       'casual', 'registered', 'cnt'],\n",
              "      dtype='object')"
            ]
          },
          "metadata": {
            "tags": []
          },
          "execution_count": 3
        }
      ]
    },
    {
      "cell_type": "code",
      "metadata": {
        "colab": {
          "base_uri": "https://localhost:8080/"
        },
        "id": "EDAek-1iCCt5",
        "outputId": "2f724efd-d3ec-4dfa-9645-4db36757bc65"
      },
      "source": [
        "data.info()"
      ],
      "execution_count": null,
      "outputs": [
        {
          "output_type": "stream",
          "text": [
            "<class 'pandas.core.frame.DataFrame'>\n",
            "RangeIndex: 731 entries, 0 to 730\n",
            "Data columns (total 16 columns):\n",
            " #   Column      Non-Null Count  Dtype  \n",
            "---  ------      --------------  -----  \n",
            " 0   instant     731 non-null    int64  \n",
            " 1   dteday      731 non-null    object \n",
            " 2   season      731 non-null    int64  \n",
            " 3   yr          731 non-null    int64  \n",
            " 4   mnth        731 non-null    int64  \n",
            " 5   holiday     731 non-null    int64  \n",
            " 6   weekday     731 non-null    int64  \n",
            " 7   workingday  731 non-null    int64  \n",
            " 8   weathersit  731 non-null    int64  \n",
            " 9   temp        731 non-null    float64\n",
            " 10  atemp       731 non-null    float64\n",
            " 11  hum         731 non-null    float64\n",
            " 12  windspeed   731 non-null    float64\n",
            " 13  casual      731 non-null    int64  \n",
            " 14  registered  731 non-null    int64  \n",
            " 15  cnt         731 non-null    int64  \n",
            "dtypes: float64(4), int64(11), object(1)\n",
            "memory usage: 91.5+ KB\n"
          ],
          "name": "stdout"
        }
      ]
    },
    {
      "cell_type": "markdown",
      "metadata": {
        "id": "vQi6nv0EC3NS"
      },
      "source": [
        "### Note : In the website, Missing values is given as N/A"
      ]
    },
    {
      "cell_type": "code",
      "metadata": {
        "id": "B2iW6YVECzmF",
        "colab": {
          "base_uri": "https://localhost:8080/",
          "height": 402
        },
        "outputId": "28ca76f2-f9c8-47a0-e496-e6d43f5f43b5"
      },
      "source": [
        "data.isnull()"
      ],
      "execution_count": null,
      "outputs": [
        {
          "output_type": "execute_result",
          "data": {
            "text/html": [
              "<div>\n",
              "<style scoped>\n",
              "    .dataframe tbody tr th:only-of-type {\n",
              "        vertical-align: middle;\n",
              "    }\n",
              "\n",
              "    .dataframe tbody tr th {\n",
              "        vertical-align: top;\n",
              "    }\n",
              "\n",
              "    .dataframe thead th {\n",
              "        text-align: right;\n",
              "    }\n",
              "</style>\n",
              "<table border=\"1\" class=\"dataframe\">\n",
              "  <thead>\n",
              "    <tr style=\"text-align: right;\">\n",
              "      <th></th>\n",
              "      <th>instant</th>\n",
              "      <th>dteday</th>\n",
              "      <th>season</th>\n",
              "      <th>yr</th>\n",
              "      <th>mnth</th>\n",
              "      <th>holiday</th>\n",
              "      <th>weekday</th>\n",
              "      <th>workingday</th>\n",
              "      <th>weathersit</th>\n",
              "      <th>temp</th>\n",
              "      <th>atemp</th>\n",
              "      <th>hum</th>\n",
              "      <th>windspeed</th>\n",
              "      <th>casual</th>\n",
              "      <th>registered</th>\n",
              "      <th>cnt</th>\n",
              "    </tr>\n",
              "  </thead>\n",
              "  <tbody>\n",
              "    <tr>\n",
              "      <th>0</th>\n",
              "      <td>False</td>\n",
              "      <td>False</td>\n",
              "      <td>False</td>\n",
              "      <td>False</td>\n",
              "      <td>False</td>\n",
              "      <td>False</td>\n",
              "      <td>False</td>\n",
              "      <td>False</td>\n",
              "      <td>False</td>\n",
              "      <td>False</td>\n",
              "      <td>False</td>\n",
              "      <td>False</td>\n",
              "      <td>False</td>\n",
              "      <td>False</td>\n",
              "      <td>False</td>\n",
              "      <td>False</td>\n",
              "    </tr>\n",
              "    <tr>\n",
              "      <th>1</th>\n",
              "      <td>False</td>\n",
              "      <td>False</td>\n",
              "      <td>False</td>\n",
              "      <td>False</td>\n",
              "      <td>False</td>\n",
              "      <td>False</td>\n",
              "      <td>False</td>\n",
              "      <td>False</td>\n",
              "      <td>False</td>\n",
              "      <td>False</td>\n",
              "      <td>False</td>\n",
              "      <td>False</td>\n",
              "      <td>False</td>\n",
              "      <td>False</td>\n",
              "      <td>False</td>\n",
              "      <td>False</td>\n",
              "    </tr>\n",
              "    <tr>\n",
              "      <th>2</th>\n",
              "      <td>False</td>\n",
              "      <td>False</td>\n",
              "      <td>False</td>\n",
              "      <td>False</td>\n",
              "      <td>False</td>\n",
              "      <td>False</td>\n",
              "      <td>False</td>\n",
              "      <td>False</td>\n",
              "      <td>False</td>\n",
              "      <td>False</td>\n",
              "      <td>False</td>\n",
              "      <td>False</td>\n",
              "      <td>False</td>\n",
              "      <td>False</td>\n",
              "      <td>False</td>\n",
              "      <td>False</td>\n",
              "    </tr>\n",
              "    <tr>\n",
              "      <th>3</th>\n",
              "      <td>False</td>\n",
              "      <td>False</td>\n",
              "      <td>False</td>\n",
              "      <td>False</td>\n",
              "      <td>False</td>\n",
              "      <td>False</td>\n",
              "      <td>False</td>\n",
              "      <td>False</td>\n",
              "      <td>False</td>\n",
              "      <td>False</td>\n",
              "      <td>False</td>\n",
              "      <td>False</td>\n",
              "      <td>False</td>\n",
              "      <td>False</td>\n",
              "      <td>False</td>\n",
              "      <td>False</td>\n",
              "    </tr>\n",
              "    <tr>\n",
              "      <th>4</th>\n",
              "      <td>False</td>\n",
              "      <td>False</td>\n",
              "      <td>False</td>\n",
              "      <td>False</td>\n",
              "      <td>False</td>\n",
              "      <td>False</td>\n",
              "      <td>False</td>\n",
              "      <td>False</td>\n",
              "      <td>False</td>\n",
              "      <td>False</td>\n",
              "      <td>False</td>\n",
              "      <td>False</td>\n",
              "      <td>False</td>\n",
              "      <td>False</td>\n",
              "      <td>False</td>\n",
              "      <td>False</td>\n",
              "    </tr>\n",
              "    <tr>\n",
              "      <th>...</th>\n",
              "      <td>...</td>\n",
              "      <td>...</td>\n",
              "      <td>...</td>\n",
              "      <td>...</td>\n",
              "      <td>...</td>\n",
              "      <td>...</td>\n",
              "      <td>...</td>\n",
              "      <td>...</td>\n",
              "      <td>...</td>\n",
              "      <td>...</td>\n",
              "      <td>...</td>\n",
              "      <td>...</td>\n",
              "      <td>...</td>\n",
              "      <td>...</td>\n",
              "      <td>...</td>\n",
              "      <td>...</td>\n",
              "    </tr>\n",
              "    <tr>\n",
              "      <th>726</th>\n",
              "      <td>False</td>\n",
              "      <td>False</td>\n",
              "      <td>False</td>\n",
              "      <td>False</td>\n",
              "      <td>False</td>\n",
              "      <td>False</td>\n",
              "      <td>False</td>\n",
              "      <td>False</td>\n",
              "      <td>False</td>\n",
              "      <td>False</td>\n",
              "      <td>False</td>\n",
              "      <td>False</td>\n",
              "      <td>False</td>\n",
              "      <td>False</td>\n",
              "      <td>False</td>\n",
              "      <td>False</td>\n",
              "    </tr>\n",
              "    <tr>\n",
              "      <th>727</th>\n",
              "      <td>False</td>\n",
              "      <td>False</td>\n",
              "      <td>False</td>\n",
              "      <td>False</td>\n",
              "      <td>False</td>\n",
              "      <td>False</td>\n",
              "      <td>False</td>\n",
              "      <td>False</td>\n",
              "      <td>False</td>\n",
              "      <td>False</td>\n",
              "      <td>False</td>\n",
              "      <td>False</td>\n",
              "      <td>False</td>\n",
              "      <td>False</td>\n",
              "      <td>False</td>\n",
              "      <td>False</td>\n",
              "    </tr>\n",
              "    <tr>\n",
              "      <th>728</th>\n",
              "      <td>False</td>\n",
              "      <td>False</td>\n",
              "      <td>False</td>\n",
              "      <td>False</td>\n",
              "      <td>False</td>\n",
              "      <td>False</td>\n",
              "      <td>False</td>\n",
              "      <td>False</td>\n",
              "      <td>False</td>\n",
              "      <td>False</td>\n",
              "      <td>False</td>\n",
              "      <td>False</td>\n",
              "      <td>False</td>\n",
              "      <td>False</td>\n",
              "      <td>False</td>\n",
              "      <td>False</td>\n",
              "    </tr>\n",
              "    <tr>\n",
              "      <th>729</th>\n",
              "      <td>False</td>\n",
              "      <td>False</td>\n",
              "      <td>False</td>\n",
              "      <td>False</td>\n",
              "      <td>False</td>\n",
              "      <td>False</td>\n",
              "      <td>False</td>\n",
              "      <td>False</td>\n",
              "      <td>False</td>\n",
              "      <td>False</td>\n",
              "      <td>False</td>\n",
              "      <td>False</td>\n",
              "      <td>False</td>\n",
              "      <td>False</td>\n",
              "      <td>False</td>\n",
              "      <td>False</td>\n",
              "    </tr>\n",
              "    <tr>\n",
              "      <th>730</th>\n",
              "      <td>False</td>\n",
              "      <td>False</td>\n",
              "      <td>False</td>\n",
              "      <td>False</td>\n",
              "      <td>False</td>\n",
              "      <td>False</td>\n",
              "      <td>False</td>\n",
              "      <td>False</td>\n",
              "      <td>False</td>\n",
              "      <td>False</td>\n",
              "      <td>False</td>\n",
              "      <td>False</td>\n",
              "      <td>False</td>\n",
              "      <td>False</td>\n",
              "      <td>False</td>\n",
              "      <td>False</td>\n",
              "    </tr>\n",
              "  </tbody>\n",
              "</table>\n",
              "<p>731 rows × 16 columns</p>\n",
              "</div>"
            ],
            "text/plain": [
              "     instant  dteday  season     yr  ...  windspeed  casual  registered    cnt\n",
              "0      False   False   False  False  ...      False   False       False  False\n",
              "1      False   False   False  False  ...      False   False       False  False\n",
              "2      False   False   False  False  ...      False   False       False  False\n",
              "3      False   False   False  False  ...      False   False       False  False\n",
              "4      False   False   False  False  ...      False   False       False  False\n",
              "..       ...     ...     ...    ...  ...        ...     ...         ...    ...\n",
              "726    False   False   False  False  ...      False   False       False  False\n",
              "727    False   False   False  False  ...      False   False       False  False\n",
              "728    False   False   False  False  ...      False   False       False  False\n",
              "729    False   False   False  False  ...      False   False       False  False\n",
              "730    False   False   False  False  ...      False   False       False  False\n",
              "\n",
              "[731 rows x 16 columns]"
            ]
          },
          "metadata": {
            "tags": []
          },
          "execution_count": 5
        }
      ]
    },
    {
      "cell_type": "code",
      "metadata": {
        "id": "lDdQc1upCzaz",
        "colab": {
          "base_uri": "https://localhost:8080/"
        },
        "outputId": "0b03f5e9-0be2-42ac-a6d6-b2e86fcd7abb"
      },
      "source": [
        "data.isnull().sum()"
      ],
      "execution_count": null,
      "outputs": [
        {
          "output_type": "execute_result",
          "data": {
            "text/plain": [
              "instant       0\n",
              "dteday        0\n",
              "season        0\n",
              "yr            0\n",
              "mnth          0\n",
              "holiday       0\n",
              "weekday       0\n",
              "workingday    0\n",
              "weathersit    0\n",
              "temp          0\n",
              "atemp         0\n",
              "hum           0\n",
              "windspeed     0\n",
              "casual        0\n",
              "registered    0\n",
              "cnt           0\n",
              "dtype: int64"
            ]
          },
          "metadata": {
            "tags": []
          },
          "execution_count": 6
        }
      ]
    },
    {
      "cell_type": "code",
      "metadata": {
        "id": "7l00eEgvCzJq",
        "colab": {
          "base_uri": "https://localhost:8080/",
          "height": 195
        },
        "outputId": "5084cff3-94dc-4aef-bc9a-9bea51fb7a1d"
      },
      "source": [
        "#first we start by dropping the columns we don't need for the task, i.e instant', 'dteday', 'casual', 'registered'\n",
        "\n",
        "data.drop(['instant', 'dteday', 'casual', 'registered'], axis=1, inplace = True )\n",
        "data.head()"
      ],
      "execution_count": null,
      "outputs": [
        {
          "output_type": "execute_result",
          "data": {
            "text/html": [
              "<div>\n",
              "<style scoped>\n",
              "    .dataframe tbody tr th:only-of-type {\n",
              "        vertical-align: middle;\n",
              "    }\n",
              "\n",
              "    .dataframe tbody tr th {\n",
              "        vertical-align: top;\n",
              "    }\n",
              "\n",
              "    .dataframe thead th {\n",
              "        text-align: right;\n",
              "    }\n",
              "</style>\n",
              "<table border=\"1\" class=\"dataframe\">\n",
              "  <thead>\n",
              "    <tr style=\"text-align: right;\">\n",
              "      <th></th>\n",
              "      <th>season</th>\n",
              "      <th>yr</th>\n",
              "      <th>mnth</th>\n",
              "      <th>holiday</th>\n",
              "      <th>weekday</th>\n",
              "      <th>workingday</th>\n",
              "      <th>weathersit</th>\n",
              "      <th>temp</th>\n",
              "      <th>atemp</th>\n",
              "      <th>hum</th>\n",
              "      <th>windspeed</th>\n",
              "      <th>cnt</th>\n",
              "    </tr>\n",
              "  </thead>\n",
              "  <tbody>\n",
              "    <tr>\n",
              "      <th>0</th>\n",
              "      <td>1</td>\n",
              "      <td>0</td>\n",
              "      <td>1</td>\n",
              "      <td>0</td>\n",
              "      <td>6</td>\n",
              "      <td>0</td>\n",
              "      <td>2</td>\n",
              "      <td>0.344167</td>\n",
              "      <td>0.363625</td>\n",
              "      <td>0.805833</td>\n",
              "      <td>0.160446</td>\n",
              "      <td>985</td>\n",
              "    </tr>\n",
              "    <tr>\n",
              "      <th>1</th>\n",
              "      <td>1</td>\n",
              "      <td>0</td>\n",
              "      <td>1</td>\n",
              "      <td>0</td>\n",
              "      <td>0</td>\n",
              "      <td>0</td>\n",
              "      <td>2</td>\n",
              "      <td>0.363478</td>\n",
              "      <td>0.353739</td>\n",
              "      <td>0.696087</td>\n",
              "      <td>0.248539</td>\n",
              "      <td>801</td>\n",
              "    </tr>\n",
              "    <tr>\n",
              "      <th>2</th>\n",
              "      <td>1</td>\n",
              "      <td>0</td>\n",
              "      <td>1</td>\n",
              "      <td>0</td>\n",
              "      <td>1</td>\n",
              "      <td>1</td>\n",
              "      <td>1</td>\n",
              "      <td>0.196364</td>\n",
              "      <td>0.189405</td>\n",
              "      <td>0.437273</td>\n",
              "      <td>0.248309</td>\n",
              "      <td>1349</td>\n",
              "    </tr>\n",
              "    <tr>\n",
              "      <th>3</th>\n",
              "      <td>1</td>\n",
              "      <td>0</td>\n",
              "      <td>1</td>\n",
              "      <td>0</td>\n",
              "      <td>2</td>\n",
              "      <td>1</td>\n",
              "      <td>1</td>\n",
              "      <td>0.200000</td>\n",
              "      <td>0.212122</td>\n",
              "      <td>0.590435</td>\n",
              "      <td>0.160296</td>\n",
              "      <td>1562</td>\n",
              "    </tr>\n",
              "    <tr>\n",
              "      <th>4</th>\n",
              "      <td>1</td>\n",
              "      <td>0</td>\n",
              "      <td>1</td>\n",
              "      <td>0</td>\n",
              "      <td>3</td>\n",
              "      <td>1</td>\n",
              "      <td>1</td>\n",
              "      <td>0.226957</td>\n",
              "      <td>0.229270</td>\n",
              "      <td>0.436957</td>\n",
              "      <td>0.186900</td>\n",
              "      <td>1600</td>\n",
              "    </tr>\n",
              "  </tbody>\n",
              "</table>\n",
              "</div>"
            ],
            "text/plain": [
              "   season  yr  mnth  holiday  ...     atemp       hum  windspeed   cnt\n",
              "0       1   0     1        0  ...  0.363625  0.805833   0.160446   985\n",
              "1       1   0     1        0  ...  0.353739  0.696087   0.248539   801\n",
              "2       1   0     1        0  ...  0.189405  0.437273   0.248309  1349\n",
              "3       1   0     1        0  ...  0.212122  0.590435   0.160296  1562\n",
              "4       1   0     1        0  ...  0.229270  0.436957   0.186900  1600\n",
              "\n",
              "[5 rows x 12 columns]"
            ]
          },
          "metadata": {
            "tags": []
          },
          "execution_count": 7
        }
      ]
    },
    {
      "cell_type": "markdown",
      "metadata": {
        "id": "Xx99xKH2FUey"
      },
      "source": [
        "- We mainly study the correlation between the \"numerical\" variables\n",
        "- here the numerical variables are: temp,\tatemp,\thum,\twindspeed,\tcnt(target variable)"
      ]
    },
    {
      "cell_type": "code",
      "metadata": {
        "colab": {
          "base_uri": "https://localhost:8080/"
        },
        "id": "IVzhDG1DFLda",
        "outputId": "1d09a707-b6ab-45c4-a389-3f363002173f"
      },
      "source": [
        "# suppose we find the correlation between temp and cnt variables\n",
        "data.temp.corr(data.cnt)"
      ],
      "execution_count": null,
      "outputs": [
        {
          "output_type": "execute_result",
          "data": {
            "text/plain": [
              "0.6274940090334917"
            ]
          },
          "metadata": {
            "tags": []
          },
          "execution_count": 8
        }
      ]
    },
    {
      "cell_type": "code",
      "metadata": {
        "colab": {
          "base_uri": "https://localhost:8080/"
        },
        "id": "iH7QRy0nFmmi",
        "outputId": "0314b748-0c8a-4c58-8244-24527001e418"
      },
      "source": [
        "# we can do it the other way also\n",
        "# correlation between temp and cnt variables \n",
        "data.cnt.corr(data.temp)"
      ],
      "execution_count": null,
      "outputs": [
        {
          "output_type": "execute_result",
          "data": {
            "text/plain": [
              "0.6274940090334917"
            ]
          },
          "metadata": {
            "tags": []
          },
          "execution_count": 9
        }
      ]
    },
    {
      "cell_type": "markdown",
      "metadata": {
        "id": "U4_VQQs1LlgE"
      },
      "source": [
        "- Is the correlation between temp and cnt variables positive or negative?<br>\n",
        "Ans: Positive<br>\n",
        "\n",
        "- ### This shows that the number of bikes rented out increased with the increase in temperature<br>\n"
      ]
    },
    {
      "cell_type": "markdown",
      "metadata": {
        "id": "sxWlPYC2GUdA"
      },
      "source": [
        "### Why did we get the same value on reversing the cnt and temp variables?<br>\n",
        "-r(x,y)=r(y,x)<br>\n",
        "-Swapping the variables in the formula we get the same value<br>\n",
        "![Screenshot_20210316-231833_Adobe Scan.jpg](data:image/jpeg;base64,/9j/4AAQSkZJRgABAQAAAQABAAD/2wBDAAEBAQEBAQEBAQEBAQEBAQEBAQEBAQEBAQEBAQEBAQEBAQEBAQEBAQEBAQEBAQEBAQEBAQEBAQEBAQEBAQEBAQH/2wBDAQEBAQEBAQEBAQEBAQEBAQEBAQEBAQEBAQEBAQEBAQEBAQEBAQEBAQEBAQEBAQEBAQEBAQEBAQEBAQEBAQEBAQH/wAARCAK7AwYDASIAAhEBAxEB/8QAHwABAAEDBQEBAAAAAAAAAAAAAAkHCAoBAgMFBgQL/8QASRAAAAYCAgEDAgMGBAUCBAENAQIDBAUGAAcIESEJEjETQRRRYRUicYGR8AoWobEXIzLB0ULhGCRS8RkzQ2KCU5IaJSY0coPS/8QAHQEBAQEAAwEBAQEAAAAAAAAAAAECAwQFBgcICf/EAEQRAAEDAgQDBgQEBQMCBAcBAAEAAhEDIQQSMUEFUWEGEyJxgZEHobHwFDLB0QhCUuHxFSNicpIWFzOCGDRDU2OiwtL/2gAMAwEAAhEDEQA/AM/jGMYRMYxhExjGETGMYRMYxhExjGETGMYRMYxhExjGETGMYRMYxhExjGETGMYRMYxhExjGETGMYRMYxhExjGETGMYRMYxhExjGETGMYRMYxhExjGETGMYRMYxhExjGETGMYRMYxhExjGETGMYRMYxhExjGETGMYRMYxhExjGETGMYRMYxhExjGETGMYRMYxhExjGETGMYRMYxhExjGETGMYRMYxhExjGETGMYRMYxhExjGETGMYRMYxhExjGETGMYRMYxhExjGETGMYRMYxhExjGETGMYRMYxhExjGETGMYRMYxhExjGETGMYRMYxhExjGETGMYRMYxhExjGETGMYRMYxhExjGETGMYRMYxhExjGETGMYRMYxhExjGETGMYRMYxhExjGETGMYRMYxhExjGETGMYRMYxhExjGETGMYRMYxhExjGETGMYRMYxhExjGETGMYRMYxhExjGETGMYRMYxhExjGETGMYRMYxhExjGETGMYRMYxhExjGETGMYRMYxhExjGETGMYRMYxhExjGETGMYRMYxkkcx9/wCR7omMZoIgH5fp2PWC5oEkgDmSANtyeoRa4zYBgAPIh39+uxD+vWBUKH5j39gD8vn56Dx/HOPvqYuXsA5yANryTyIufpCLfjOITh2A+7oBD56DwP8ATz34+O/gf0zT3gH/AKug78B0HgA+3ff5dfbxkOIo/wD3WAazmERbfQa25wUAJmxF9I100iZ1H05Bc2M+cXCIeRWIAfcROQAD9M2A9a+O3KQCI9dfUTH4/h9h/r/Qc4Tj8G3XE0GzfxVqYkmLXdvI+g6XK7+l3/ad46dR7r68Z8Z3rUodmcpAXz5FRPr8+u++g+PgQERAfIfGbBkmReu3SP73fs7VIHu67766Hoeuh/PvrvxnC/i/DKZh+PwjDuHYik0zI2LuvPpqtCm86Md7H73X34zrhlGJevc6QDvwX/mFH5+B66Doev5f9toyrEo+0XSQj156MXsA/QoCPx8/A/kPxnAe0HBGkh3FeHtIsQcVRBBtN8+8gDnGvJ3b/wClw028ufOR7rsxEA8jjOhVsMUkIgd2Tv8AIpRN9x7DwUfd15DoBHofnPsZSrN+X3NVwV8APtEDJmABDvsSHKUwB0IfIfPjwIdZ1cL2t7N43Gjh+E43w3E406YWjjcPUrGQLCm2oXEiDIuRqbFU0qjW53McG6SQQNv3XZYzQB7D/X+vn/vmufRAz9/fuuNMYxlRMYxhExjGETGMYRMYxhExjGETGMYRMYxhExjGETGMYRMYxhExjGETGMYRMYxhExjGETGMYRMYxhExjGETGMYRMYxhExjGETGMYRMYxhExjGETGMYRMYzQf49ef7DCf26/T7C1Dv7h1+nzmgiH5h8+ex/vzmxb3/TP7B9pxKYCj4HowlHoeh+eh6HrLRt5ciKvxvoU9tLdV3YUmi1ldqSWm3TJ69IkMlIto2OboMYtm+lH7l28dt2yDSMYPHiyqgFRbqB7s/K/ib8VeEfC/D8NxfGOF8Xx9HiWJGEpVOF4YYgU67iwU6dWajMrqrnAU2+IvNhex7OHwrsQKhFSnTbSaXvdUeGgNGpknYe+iu7A3x30HYf35+Ous2mMQPIj3+oCAdfz7Dx/UfnII/8A8VHau95j8FwV42XPf1KSO4bvdz3GUd6n1z+PImVUjaDay1bkbNM+0pyg5O+Z14UBWQRI1MR4xkk+GR1/6vWwbPr66POUes9YQTezN3F41bQtZRS0UpWkUVnaiDeauqNpsbt65XRbxD1EstHNU0ny71q5SXbNQH4qj/ER2cxWGxFXDcK4iKlCmX9ziKuEpVHuAaS0sZWqPa8aFrmtcJhwB16Zq0y7LRLq4Ey+lTqFo/8AcWgEHnIBCngBVIPHuD8/kv59/n9s2ion2AgcgB10PZvgAEfnofuA/b+eWrVxlsFlFs0LHOBJSZW5SLuSp/hlFVU/aArLmIuZIxlQIZQDAmX9xQExKIpidT1ySM4IEEXR/cBBATfWA5jD5AwlMYB9vgBH2j4APjsfn4Wp/FZS744cdh+KGoDYHF0QXARcNdTMyBIsdSdLr0aOBfWaHAlhIFnsIgmLE89dJ2VfAVS6AfeUfHgQN0A/cfuH8f5fPjOM7puT5XTDsQDoygB0I99B37/kehEA+fA9fA5RJD9umOVM6qYpAoAiYHAe8CeAMU3u7KIdAJvHnvoS+RDvsRQeqK+76nsAvfuAFOxP5IH2KHQ+BEREw/f577zvYX+JjEY/D95hexXEGPzhraeJxDWTcBzgQBLQRrAHKNV2RwsfzYgAiJytJH8s7W1I/aCqrA/ZdgH4lHsOwEPqB2HQ/qfvwP8ADz5zT9oMw67dIeO+h+qHX9ewAOg6/L+eUrMi4/eMUyJR9xg9xh7EQ7H/AKhL2HYj8+OwEB666ziMg/8AA/iUUx8h2KfZAH/9IBN2PfyAiYADz5EfGcVT+IvjrGHL2SY54JAaMXNhlkFznNAIO83+SruGUWgTXIuBYWtlmJtH3uqshIMgATg6SEoAI+DgYOgAREB6HoQEAEQ8dj2PXecP7aYgIAC3Y99D0mb8uwABAvkP0Dz89ePOUyQQcAQRVdJm95fHRfb0YBD7d+Q6HyA9dh4H5HunW3ti17TmsNh7Wt0kdnVdbUqzXexrt0UjKoQ1Xh3kzJqNyGMBVXANGaoIIiYAUV+kQBKJ+sziP4huPMw9LEN7OYWg6qWM7upihVOd7mNYA0PkSTEAE6+Hnn/TaYaXmqcrbkxEAZSRa1hOk8ucXJBMsDmEv1x+A7ACH7D5Hvrrx3+v2Dx8Dm4ZdgXoBXMXvryKZg8fbofYH8vP5fPxkPfpKbb37vjiJB7m5F2d1M23YFxt0tXTu42BhjNKSR6izhmSSMDGRLRRui4QkBaLKNTu1GZ0yOl3SqZXAygCsj8A5EP5lEQKPXQh4DwPkA8f+R9Dh/x548adelxbhHDMHjqVd1NlIYxobVa17WNczO5pOYtJaCGuLYO6wzB0Kga9lZxY4EmGzEEDXr7qof7XYgPZVTCAgIiPsOYBAA+egDvr9fPyHwA5xhNtB+6hhDsOgTHsfP5dlHoPPyAB57/XLYLdyG0Fr6YkK5fN5aoplhiGrOQloG1bHqUDNRke/R/ER8hIRUtKs37Ro8Q9i6DlwgRJZNQh0jqpHIcbUeRXqjcLNA6ivmz2/ITR+yp+qV5xI1vWVH3DQJy63+xrE+hXa3ERMPMS8mghMyqzRB/YRjF4yuRpnc7MCnFRz05e9U+NnHczRS4Zh3EuDXMYe8dENLi1zandggAkZ36STYrLsLhmgufiBDQSfECQAG3ygzNjaLTImFKgWXbGH/8AOfIef+UH5/kYR/8APY+PzKSyBehAoiAAPgRD5/IA6EAD4AR7Dx2PX52U8S+UlU5RaQ15txmevwsvcKtFTU9SYm3RttXpcs9biu8rsnIsGzBVR7Hj7iqg7io157SAZRomPYBX6HvlIszucj67aq9Ov6y8RjrGxh5uOk3dfkHTZN81ZTbZm6XcRLt00VTdt275Juqs3USXSTOmcp89Hh/xrocQwbazMdw2niH5w7DVKrW1aZpENqBzATlLXGDcg7bhcAo0y8Q+abgMjoIBJgRN41m/lAVTTzxCiH/J7DsAAfqAHkRHvvovQf8Ap8iPnsewD5Hi/b5BHv6AB89GFUAKI+B6DonXfx57Drz4+4+SM5aHL7fqE67+Sm7APj7APkevIAIdiIB0ACA58plGJR9wiQxygAif2nEQEfACJewAOwHrwHjv8vOfLcR+M/GaWJYKHFOEdyYL3GrTDmyBEAtfJ0OlwCQRoO7TwLHQMtQFwuAJmcm4Ohvf25L2Y2EPPtbdiAeQ+sUB77AAAvZOvID32JvPfjx1nzHsS/YiVBICd9ABjiJgHyIAYQH29gA9D147ARAeh8+XIsxUH3AVMxwH94wAIGHr4Ae/PYeRHz10HgPPnlMZqf4J4HyHQiPX6fbvx4Hrx5+/fWea/wCK3afGUX1aPH8AyHTSFA0iXNblBDpwxk7EWv1suRuCog3pVXAQD4Z/o9tb+Z813Z7I+EQEhW4AHf3MYeh+PPfjv7j8dBm4bK5EnftSAe+uvI9fmBuj/ID9g/IQEPvnnTFS7MJSgIB7fAl667EexD48CH6APz2A+O+D6SfZh9oAIiHYD56HroBEA8+M+ZqfE/t7Sq1I4x3jKkNAzNJYYaZaAwGJuYHOdFy/hMO43pxGkOIBPhFwQf6TtFxBhelCxSBzfukSEA/IDB0Aj89+/vrrv/0+Og+fOc4Tb8Q931CF7EA9p0vAeQD3dgI+AEf/AKgHx37exAB8ymqUnYAHXQCQDAHjsPt58/cBEPuAibrrIk+W2xtvW71BuJnHTRu3ZjXcnCad39uXZ0Mgu4/yvYGEpCtKTqxe1sEEXKEmERd2rxWMZTDOVh0yvX0mES7lI5kiv2cD8TO1D2kVOO4nE4lzMxw/fd2GtDgHZC2k65A3AF7uESuGtQpUaZqmi1rQWNudSS0WM2vB6Ex0UyITMgc4gKhB6H2iUqfjsPnoR77AfA/PyHXgeihzftKROXwqH5eCkAQ/qHQfoH2DoevPYw10L0++XruuNDbq9Unk9MW9Zqi5lUNZMqBSq0ylFPcLhrHqo1NN9Iw6P4hUrdUzODcrGBBdRNMEm6Lev+puNnKvUmwK4u/5yXnc+nEEZn/NFG21QaSvb/rKtBGGdQWya+1h5kyTaQKkDpjNpPC/gzOSpuV1FECtPrH9vOMcO4a7Fv4jjeLYh5aBgsLimtxDXPyktJrMpjLTBnwzvBm66/dh7mtFDKLHvLloBy3126+SkQB6/KICd0PXjx/yxEPkevAdD+vf3/hnMm+dnAA+uIAX/q6P5HsPHXZg78999/YA7/IKB683JqTary0Mda7bomyHlKlDQ1yaUi8121uapLgs4RPGWROCkXgwb4qzR4kZnIJtXSajRyiKIKIHKFXUlWBgIb8WQyanXtEHSY+/vvr2GKYQH48ddiYA8APQgN7P/EriHEM1RxqYPMRDMfxMMeQ1zQXQG5gDlgQLmBoUqYekWjK9rwdXUzOUjLIkG+hEieu69GZ46KYoCuYpR6ERD2iA9j0IfvdGD46H2/ID47H5+M71U5gKZyp/1dh++cAABEOvkeu/Hf6d/Yc6ZVyyQIY34hMqYFOcTiqAgBSgHvERD2+SiYoddd9j9uvHzFfMFS+9NdJQgGEBEFSde7sQEwG9wlEhTF9gmAegMUS+DAYA7fEviTUp1HYd3EMGIaDVp/6jVBLRkALTlaI6zobJTwbDBznbT8w/LMg672BOvKF3IqrFMH/zC3Y9iAfVN18fx+3z4EfPXkewEeBVVYx//wAsqAh9wUN57DvsQAQAf08j0Hx+nXGfMS+0pnCHZh6IUzgAERH/APW6Hz+XkewDrv50/HsgAQ+ukUQEQ9oqB46EQHz5+RARD+n8Pi8d26wWIa+m7jOGpBzhLWcVd4R4Ya4lwgGJIBmbc12mYcNAGRzhAAOSSbtubk9esHYL6hOp30ZVTz58n7H7/mf9fz++bVDCPZVFFuhAB6MqIAIB+nvAP4+PPYfOfEMhHFMPuWSHvz2Bg78+fIe4o9D2PY+fjofnzwnlogDdKLNgACh0J/b0AAAB4/j47Ef5j2GfI4ntlwWmx/edocFRdna0tq8UmmWCCXOJqCIsRr6rnFB1iykTIv4Y/ogeV29bSF2fQFHsR7Ae+w89eQH58+QDvvz38fzDd/yuw8lEQEOuhEvY/P8A09AI9ff9M8o+ucGzQUVUcCYhDGKAlTUMH7pTG79xSCboQAQESh2H69hkQO4vVlj0+aGouF/G+oRWzrpMXJsy3RPyki5ZRevqyRmjJSrOHTZN1xmLM1h1DyzxcyxIqITSax7sVHUmopGfLH4o9mxVxlLhHFBxurw7BVuI8QpYHEjEDC4TDtc+rXqVzUFCk0ZMrO8qMzvc1jAXwDxVH0KGX8RVZSD3NY0OIzOc7LAa25MSJ5AC2imrMUokHsQ9wCHQ9fAee+hEAEBH9B+Azg9hCn7HyIfoAk+Pn2j5/h9wHznj2VmOsmCiiXRvBVDFIcUin6ET9D7QACgICHYAAgACAh47N24S6Z0/cURAfkRD5Doxg7ARH3efH2+BHz10AdLB/GXsL2hoUsXhcW9tQtBY2vTex5ykQ5wMCZF8pImZmLd44Ou0i7TIDgQ8aENiwM6QY5RpC7dUAMPYFAR8h2BQ8d99mD/6fPQB14AOhz5/eBPaP0+zkACgb3dCb5ERP8j8+PID319uu8+AsiBxDoTgBvjyUfcbz49ph7AQ8B8d9/xHN/1zGMAGAw9iIe0Cl8D489l+R6/IehAQHyPXXBiO2/DcQ/vsJiHF7nsjuwe7cXOaAHEmxuL25bgDTMO8fmu2Qb7C0AH63t5gRq5OYejl6KbsAD2kKAj7h7H3CUQHsOvnz+fnPrg3IklmyZSgUTnKUR66AwCPQl9oD56IA+R668dAJQHOA6Zjk9wAAh2HXtDryAh+YAHY9D1338j7fHffcwjYoyjU/X/QUTD2ACAj9M3f59CBh/6gEB89/wDT8d3shgOM4jt/2dr4CpWpF3F+G18Q9zS3PQfWa6q1txma6mC0nSLHec1X0Pw9QOFhTdAdrmgZb+cQdbXVTSfH9/w/7f0zd2HYh+Xz/PNpQ6D57/7f39w+2bs/08pzkbOuUA+gjkNdfVfJpjGM2iYxjCJjGMImMYwiYxjCJjGMImMYwiYxjCJjGMImMYwiYxjCJjGMImMYwiYxjCJjGMImMYwiYxjCJjGMImMYwiYxjCJjGMImMYwiYxjCJjGMImMYwiY7DsA/P4/ljGEWxT/p/n19/PfgQ8fHgR85C56oLxDau2eKnDVRiLqr7htznZO2lEyIq/Uo2rZiAkISuO0zgksg0tdvWaLLu2btq6OjWHMcY5mci+TPM86XI2brLnATFRSUVMUA9xhKmUTmAofcwgHQAIh2I/OY3PqH7Z2ZrPl/xp5lx1Gfr6q1dXrlqzYykQqaZkUK5eTLlaWN7EEVQBWKgZRQJJZRgk5kCLNWSBBSNKC3N/P/APEPjOFVOxGK4FXxFOnxviZbX4BQdTFSvWx3D6tHEtOFa4ZTVaWAMBIzOdAI1XHULiwsEgOIDi2Zyy0ua6ATBAI035EqaaswcZXK/GQlXjmsTCxrVJkwYRjNq0aR7RqkCaDdsigAJFKRNMCgVIgEMPZvd2ICb2ILmTAETqHKPtTN10QvYCUpQKUOgD3D57KI+0AAA9wiA5GK79UTjTH1RtLo7Jp8msug2UTaxswi6cuzLgdP2pMGRXT9u7RclEqrBZqD1AgHUWQACj1RMnKvmJyMlI95x9orjW+ri/VfyG07nW2wryrNoZMyUdVoCxLFWkzyiiakYrKO4k8fGAZ05M3XcIJpB/ng/C9ouH18KG4Di/4rFOofixXouoMotqAd64hz7BuUkwYOgF4Xq0eMYGhSDKVJ9dzGtb3dNn9OUeKYiLkxcgWGwuZ5Jc05yobFDjzx+13Lbw5FvopB+4rUc4SiqdriNkCLBG2TatwcmBnXmCxUV3rGMKReVlmiJfoptCyEYs7sF2Tzc9UHi/C612ByF4+6Va6zk9w1PVOwJOq295Y7I4C7zj+Ph7bW4SMnXaUXDpo/smMWbSjyQmFJtdNv+yEG79w/hreODvLaH0O65bR/Im8RdL5NS/IGxWLYhrsT8HITkAvExxajLwK67UyD6uNWhHcVCQTV86eRUJGsFCEJFSdb/Ee5tjvlN6npYfXNPbyETxkr9sgLzZNk2aBNX4q3TFRlgnq/XqwaQRbyE+VOWZtffIMosIhNQpvxMoVNNJB16XDeEUcL2irni+Fx9fDtY+o7iOJrVmtcX0vA3DU2YgN7pr6jXAd09xyNzwRlHzOJxHFMTVL+9xTHvtSw+GPd02ARlFQAODiLdNYsVc9f/VwfUzl1LcRq1qVfZdyb0CBmIhtVZp9+25LZlgcqKRtC/AuYg0a2ZfsBaNnn9lVnEWEW3eCiYjkxXZWV3bvl7ZdCVI0lzJPq7TlpsIP3+uqfV9gOLnP3hBkxi11a1AxTiEh5eyXuOeyqcQ9hKczs6Dg5mT1pIGbvk00Y3+Cfpz8kKZvbffLzf6oNNx3uyT0XTFXclHzM82rYmJCNZwzhmiRpHqOIWLjoxi2QI0VQhCm/5bcXZ25UFwP5K7m9Qi87+39JWROk6Zr0Kw0S/mHac9DSNiffWB08r0UMgmrHkjknklIyL5vHM1/2sEcQFnpCe4PY4xQ4LSxJw2AZxug/C4R2J/HsxNalTxlVtOnUGHwzTUNNpqEloc9mXwVA2PCF3cJS47h8I2pXxdetWeRko+GKbSWyTDRM6QTaIvJKvtrHIPnntOLk7jUuN2t9Q0tBuo+iIrkRsyer15sccRj+OM8d1+jUm5qUhyZZYqQMJxWQdqe36olYFOkLmC+9+rxzI5AVuW2joDdHHzS0ZFTyNc1XpJtHPtq7+3ZLtzCKxXNNb1+1TVdgJMEiGi5F/Uq0zag8bs5CeMVReRbTZ7s47buulUmY2Pv98VVdxCzIwsFXUeiudRBZkqYzZn0oQVW7k6v0iARMFkG4pAkdIhgx+tHcWeV3EOYtev5TiptzYMXD2KYHX+2NYa+TfO5quy7l7J/g7Co4BjLIlj36pFF1jPziZZR23Yg/j04tZz1vh/W4ZWwfHMRx7B06uPbUL+G4fH8QxNanVw7hSAe9tdzqLH0qvjmncycoDSMvBjKvGXCKTcY+MrnXb4nggnIGtaWjWNbLKX0Hc9y2rVFDsm2pWDrl4fUquSN7iU0kEmcXbFodqvPNOhMiRNo3eGXEiInE7RPtodVRRscwRN+tTzNrqOoI3hdrq/x8puDklOVSqT6ddkI90NIoK9mil5decVFcyTILuZslUG0UsUi0lX5exPjqNGzRuEjTKi8HfUX5GP2DjZsgXjZrV4RosqSWsoWnajyKXSTA7csBGyZoxi8RarLtnCVpkox82XKcSsjj0qau1l9AXQtobVhJDZOwa08hbUlZZufj1YuRsloD2uCnaLyMk06YvhVcAdlKHbP0mBCrkVZPCrqLk5OzHZrs9w3tMzifFOPcQdSY9+JZw6hWxmNojE5i6izO7/ZZSpl4IpeLNlExF+1THGa+D/DOoVXFzfFUe6XkW1JIEmBJG5EbKvMlym488ANC651jNbIbztsq0HXqbU9OURZhZ9j2BwgwArRCIp7Z6Z8Vo5SSKd3OzDplHIPF0UJORJJyLZJzEftP1IOQvLCrcpjSW4GnBrTejYe0QhYKLtEWryS2ns1pDyyMXrmHkynaPWBHM0MY3eFpMag/BU5WTG0OEQkHiMw+u/R94zaxiF2darrg0+8fhIyl6n5dzN3OVeexukCjuYWbpKJpFI2TKm0YotmCCQqFSal96gDT6U9FDj0axPrlXa/GMLhIuJF06kpOTkZaOK8knizxeRRh1yC1bvinU9iC6QlFAwCt19Q6/wBf7Hs03s1gOK1uIcU4RxLiQbXqPwmNxFV9V+R1QZXjCl7pIFi6qXTBc0M0Hn912hae5NBzKDQ2O6IJfBbZw3mZLgZMxFlY56GetdN7D4qbB2HybquoLpa5PdE+k2sG3Yqp2W1pRcZX6cAIPZW5pyMwDYtgaSLps1XeqMgdfjQbEIBVxP4nlPUeJ/M71C9T8W9YtNG1Dj5x2g3+19+3HXUXQqrFzc8stHnChpTdfj2UbIuWzZnWYx3+EfOgiC2SzpO27eYrbhkjViq+hhyTi5y1UlXk7U6loiWt81Z2ydMaWRfY0pHyyoKJwT5Z/HsIeDK1AUBNIs3kwuso2dAm3Sbu0it+5vHoJWus3k1g4vbvgda1+ZhWNbtlft8FLWJd6xK5brSEs3l2LhsDmXMZMXpGajJrGv3ySKai0W1cvFm32tSnwYcV4pjKXHMSMNxDD1PwlJjMSKWAq12NYBiKZd3ZyNJ8LWxrF9OapR4q+maX4MgiMrn5XZ3eEwXbA6QNiVIDzP5vaG448QtzTOp9w66r+y6/qmfDTsZELQlhkj3taFUiaGtHVZNN63lGjebPHnc/iI9WFZRbd1JTgoQ7N66a074wczuBHHPjlqWx3jYmiaFtfbWtqDf90LauqTEshdtkScAyWs80+rusawq9cLf5ikZgycSyhEW8EspIMI9kxbpOUlO80p6K/FqhQ6im2C2jkNfJGK/ZcvbL7IvoyJSSUKsRyjXqfFPzMIpJUFlSHO7dTCxRMKjJ03QUBFO4mgemRws1koZ1UOP1QYPxRcopyT5WYm5FoV0HtV/Z7yZdSCzA3RjGL+CUbCAnP2HRus+PxDsDw3DOwODo4rG4qq9r38Qp8MYxhpBzQaTMxDwDvUeXkmXACbd6jheM5qTxSwlN9MNaKeYFgENIhkghwJu6TLdJgFQ08rv8Qc8QeXOpcOtStmjulRsjIym4ORDd1D1dyBWrk1fRp+uKzLBb7ArbSHQc1xSxSVVdpGcMQf1dds/cOIypuwN2c+NMcXY7ltaeddGm7m21/TNnv+Ms1xz1/XqnJFmU4ySda2NcYh+pdo6YFu7fRBnrZ6dyM6zbswVQEqqq0i7/ANJThPJ7kc7yl9QEm7iuaEXBlKWCcWqBZGvt0msZKqVQrokO/fN26DRIhpRB82KLRssm2TdJAuFUt98CNGclKeND2TX5FevmeRbhUkTOyMM7O1iZEZNtFg/YCi5QjjqiZBwk3URVWbm9hViqAQ5bxPinCGUuHcM4X2YfinVKtJ/E8RiKD34mo4tZTcyiczQyGTlLS2HGQRdaqYbj1Sqaj62SGwMrw1oHhsBBmCBfkNbyrDqr6vll3u0jGXD/AIxXTcDksezPatm7Fm2enNKVyUUhySErDx9kkWMxZrjMxMgDmFdMGdUg0ngtnEnDu37QWJXt3nAfnLYOWNZ2cz2VqlXTu0tN3k9IutdZWFvdqo9UVbC8ipmuWxm1aEeoPG5ViuGCjcqrBVH3g4doOW6hOs2vxB3NNs4TS/H+X1Jx10bHQSLRS7QUfPz2yK+VAy4nhqXQyJQ1TVM+ROKbixWK2uFWzl2tIGgJlymKa9xvF/iFrTihrw9EoQy8u8mZWQst3vNrcJy1x2DbZdcV5Gy2qUAqSa74wiDZg3bot2zFiUrdJJRQVF1PNp8O4q/h2Pw/C+z1fh2Kp4mlT4ficU976lTDtLRVOJY57gQXZe6LI3JFpdz4WnxduMovqY4vwtNh72k5rRndDcoaWwSQIEmZEGSZVxQT7IQAQBU5fZ+6chQMBh7IHQED94AETf8A0iBfuIdjnRvbxHMQOLlF4RMpxTA4o+DGDrvwPX7odh7vP3+BAQ79CvECJfYB0hAo+8gfRAeh+OgH6nwHz339x78B46F1A/VIInEiihhD/qbkOBFPsoUpwEgmDv3CU5gAfgOgHx8Z2jxfxLwdFuHwr8LTfTY1pc7AMeHZgA5vjddwGmUiZMkaL3SwuOYESdJjpFiZ5T6WXlJjblYhGDh/ICZFmiiZwqdT6RABFIp1D9lVMQBMJCG9hAEwKeAA3QiI40cRsHmRyw5+705lcQ4/Q8Jr7XjBLiNXrFvGKvdsUIzrKqVktE3WY2kuqu1Uki2R+9H68xZV49JhPtWLJi/dN36rfIi2pp+xXelWqErdvcVW0yME+ZV+xEhK65Qi5pVoqhGvzIO4eRXBFs4Miq6M1VSWFBISlIYTAU1vHp7cKZDhlxjgdLW2yRN5ty07OW63zsNGmZwy0/YnSbl61h1XLFlKPmbQyaf05OWZtpB8f6q6rVikZNqhz9nsb2mocH4nj69WlW42MNTpYDD4zAtfRvUb+Kf3TC9hZk8DGPJAzuOwjxcdhuJYtxoVRlw5cxw7qAczSwgyHD1gcugVk922r6meoKxN3u18q+MC9erEHJWaWQk+NlpFo3LGtlXX4QW8VsuMkyx6pSq+1+rLi6Axm6SgHUFNV1b9r+hcofUl1RGby5qbd3Tr/W9/r7f/AIbcfeLdrf6QpcxViOCKo32/NlpCwWC0u7U4K2loeGsslKIs4VKDlIoDNJAhFZY+dnH2U3LxX3prqnwashcbNrmyQ9YSIIoFdTDhoY0WzWI2RVXFFV4VAh1ATXEqYmUMmcpDkGwyheqVrSs6T17pSH0Jvy68vKTrmAp0zxfruntj/wCa2dyqjBhV3zYsu3qitRa1H67ck7/mBOY/CR9XH6iqQzqS9faej2e4128x/COJnvMNS49+PpU8HU4fwtjHYbC1KUyZZDQ57HMNSoGsbA8VwD5uIwmJogsq4usKYY0hj3udnIylosLxGlrkSRMKOqT1FrXinzM4aF42UrYD27JH3FDbDk7NdIskruGqEjZK0LtbadtFQUM+XpH7ReC3m12asg9jG8SzkjPnMOwflrfxn9WXkRZ7JtzjlrDTchujkGfkPuVWmrWY6pdfab1M6trk8U4v05BmbOpOHoplnES3FqSGUl4xkzjE3yMudk3l5FdF8ReQN1ttv5j8o6TU4bdzvXdgrGguNMRcV7BAaWbS7dJ7IuLZsVilHNJjYl6fIsIqwSdXTbwMBAtVUGLty6k37SIqH6YHp8TfELT9qldsqwMxyM3ddJnYu37BX3ISjNk9lpBd+xqkXJOWLIyjCJO6eOXoJIqtXMw+eKJO37Vuwch+kYHC1zwmvQ4rwupxrtjh+F0AOIf+lmxVR9RwIfSH4dwohzcwa7K62aTlJ6mCwPEqrmGrWfRZBLXzlJbmZAeJsYiJIPQK2S56UlZ2mS1+57bX3XvVOPRk5m3UWr3mZ0nxwiYRmspIkax1C1kyrT6QawiKAqln73ZbFYXazMqyr5qQ5kAjv4s+pVtiy7Sump/Tf4lVWM0NWowI2vs7RI36QhYaZkpRBBTYV7tEjMyLmHrp0WbxCDocEwZPpspn02nIuZYkm2Y5CvPHixsrk3xytmjdU3SA1zM7IeQVbtVzn2MlIDF64dzLM19Qho+IOgu6m5eupPYhogZ7Gt1m7963PJR51knAey4n8H9M8PdOQOmtTwZW0WyEslZp9+gRWevNrcNWyMpZ7E5MIh+NfHbF+myamKwj2RG0c3A6DZMcx2a4DxOlwPjP+t4PFcS4vUNPC4Th/wCEbSw9Iua0nEPrUmM7xoLh4WVIDmkm5JPeqcPxZq+DFlrYaGvkzIyQc0zJncWkRcQoDLx6kPqDaT3kPHm/1HTe6NmXOqsbRrtnqKvTkJHoKyD59HfhZYk+/cOixDNSKfqLvZNFsZFswWM8VVROcyNbNGc8eWtG5VVDTnLaa1m+Y7ao9hm4uDqkKSDDXliqZCSikYnMfjXjWWavY56VU6kxIOAdqsHC8S8BP66Lubm4aHoQ2BS3kq9fStEixRiHNnSiI1CwqxrYyiqMaaXI3K//AASZzHVSZg6K1KqJzlIRZZdVSNnlT6U2oOWUxSpS1WDYNTkqk/fGGRockwhJuSj5JH8M+jXcm+YyRGjR4kPTkW7Y5jp9ImExClz+bO0PaDsjwrjvEOx/aTsri+B4jF0X06/HeG4epiMTRxrmMdh8RQw1IQA45IaBcTJMmeJvCu09CrTxdDGVq1JrgINQkEGLlrnRHQGwtMK3bdXq+yiG5qVx+4yVmmbl2VY7MyRsZEJN3JV2nVFk9TXsUzLS0G8SaJO0oYkgs3TSdqJNxTMqcXDxNCLlO0356ubOibe1HoDXlShbps6+3CrQtmZqzQotq1ETUmlGOlzHaC6As7+JVOowj3olKLZu5duDAkZp9ejk/wCgTaapttO28Wd9NdC1SSpZqjYk3tccXO3qIrOElZJ3DSEi9aNW7yWBJIzl+6dF/Au0E1o6MFIClS7e+egi7iKbTlePOx4WsbrpNsZ7BT2jsJ/OTkldbc2auPxS1rkmUK5koxk5eLpkaNoNushGJNyPfwjh8o8Vc+5wH4Y/CfE4bhWGx3E+M4zCVMPjKGNxHE6eNo4rEY3FeKnXxgOUUaOGcGGhRwwbDXEVHOJISoe1Jql04kNtl7uMpecsHKAY8ydLxZXScx+X1l0Dx+2BsZxL1+EsMbEO067COH8aq/fWWSKEbEMWLZZcFHXUg4RXWapKlMVokqcogHuMWD/g7snT/EuOU3lZZKV3XzG5Ayn7ThtR6sr7i+bKYp3owzSikwDEoMYictTxwMrItpB4xlGDJwVNeNScmdtkZrtOejBTJ8r+y86tgynJq7zLUzdCuQzmfour9f8A1zgd6FSbxL6Km5N68S+k3VsUkEc7M1KLZOMZuAdOnUmOleFfF7jlHEZaW01TaMYEit3ksyZKO7FJl+mCRP2xZ5FZ3PyYAAnFNN5IqIImVWMgkkZUc+67Jdl/h32R7EdpuyfB8Nj+OV+K4ltLiOPa9+Fbi8KxznDCMruHeDDBtQOy0w3MRDhuNDgPFcUaFTGYhoeXNqf7j3OLCC0bARfrEgWiIxSOZG8PWSvAryhaNuLQOp1a0NgYR9CsEW2tjCNQRRcuX9zkqu+ZW+tSaiaJlVK/IIxktGq/XYPmCrj3lJkgenTumr7h4q6YcNNrRW1dhwWq6MhtVQlxjLPcIe1LRgovyXZJrJSMkzlXT9i+AFZNQDPzNFXTRy/bmByN7KusKC8dJvndMrD1duRVJq5eQce9coEXFT65SLum6yxCq/VVBQgHBM5VDAJB9xhNtpWp9Y61Qkm+ute0qgozTwX8uhS6rCVZKVfAUxCvJFOEj2BXrsiZzEK5clUW+mb2CcxQL187xvgWB492e4XwrhHZfhfZ2pwXE1KlDEYVlMVq9B1NlNwfUqMNSrVMiSXZXSD0X0fDMBjeH4l1Sri24hlRmVzRnc4C0eIudEEzeLbWt9pnC4FVArb2gAAJjiUxhKAiAgX2+QHsQ+f3f9QDONpKqqvWyKnubE7EB7L7QOJAASiHaZR8iYAD983YeehEO89I5SakMUy31SiUSiBSpKG+p7AEAKb6YCAlEREfPXu6EA+Os8+5Bo5T9zdBycxFgKZQzZZIAOmb2iXtRMv/AEiHYCUPb15AwgAd/kXE+A8V4HXw9RvEyKlKtRrVME4Bv4htKqx7mTSY3ISBFtRM2ifdzPe4FhaW8s3/AEnpY85gXnVVYi45vIs1i/U+mp7wEFAADdd99iJT9lN8dAIgAB0I+A+fRR8Km0UFb6p1Dh7vaJigUAExfb/6R6EOg7EPnyGUuLIrJlImiJiqKpD/AMkp/Jv3i+4PkB67H5N32IgHj4CsjEhk2yRDf9QEIJ/v++YBEw/n12PgPgA+ADP9M/gPxfsr2ywuH7jgTGcX7MYPC0cRxISabqzxnptF/G9oBdLpIgxG3znEqNfDnx1P9uvJawE7ZdR6TrG4X1gHQAH5ZrjGf1GLQNSB8vsLyUxjGVExjGETGMYRMYxhExjGETGMYRMYxhExjGETGMYRMYxhExjGETGMYRMYxhExjGETGMYRMYxhExjGETGMYRMYxhExjGETGMYRMYxhExjGETGMYRMYxhExjGEXGqX3EMUfICAgPgB8CHX3/v8Al3lDntGrz88nHzMJGSce/I7auWr5k3ctnLZyVRNduu0XSO3WQXSUOVYiiZyKAYSHKYpjBldDB30H6/8AYf6/w/LvPDSzU6ciZXv/AJZwKcC+7v8Ae6EDCAd+PICHYeOvj8s/FPjH2ZwfGcLwLimJwYxbuCcTbWkhp7qlWaGVC4OBkWBERDoMruYN7WuewlrQ9p/MBGYEEQdif06qhcJxu0HWJc8/XtJ6qg5pRc7lSWidf1WPk1XKiqqyjhd82iUnarg6iixzLKrHVOdRQ5jCdQxjVXPEsjpkSM0bmTTASppg3T9iZOifuEL17SkES/AAAB10AgAFAOwKt2I+BHvrrwIB5D+A9AIdfPX9e85REo9d9D1/P/b/AL5+Vv4N2exg7yjRYaQec9gYJAOVx3AtEjQLnpjI8S1gM3IaADocxaBeQGnzki6pZM6g1bPzLefndbUGYnWqRUGs3LVGAkZhq3L0JWzeSdsFniLYoAQSIEWBL3B7/YJxMY3sWkQyZopNWrdBs3QL7UGzVAiKKJAKBQKiRMpSJ9de4QIUodiPYCHt6706YHEPZ7QAOx9xvd5EPsAeeuw6DsPjvvsM1IX5D3FHz9vcPRh+fI9APgO+++s8Cr2K4bjcQx1XCsDQS2k4uGQtlrmgN0bBiTGpvaV2W1Sy4awG0kACdN9tOuq+MEAKUPaHXQe0O+x6H7mETG6Hsvj46DvwHY+Nv4coD2JQ6EQ6EDD8j330BTddD8j0Xz48j4zsBTEAEQATD46H49oD89diHffX6/P9OIwiQOgKAiPj5D93x899+0evjryP5fmHZxHZfh+FYHYjCCzIY19NzgB4YOmWbERpdBWcTYzoYA/6Z5W29SJXyikQQAPb5ABDvvz4+O/z6DoAEQHvryI+c4TsyKn7DyAdD2YCfPkOg6KUPHnsB+fuPfnOc5+h/wCov69j8j478B+vfwHX8usCoBeujB5//SAv2/j5+/8A3z5yvwrg1ZlShUwbTSMAhlFjXEeEgy0OdAMgaX1mFzMquYQSZNrHyEjb7K+UGhAH57+Q/wCnrwPz5AfHf5j8eRzf9AoAYnRR+BED+fPn8y+A6678/fPpJ7zgHtKAiPgwdlMJR/IvQHAR+euh89fPz0OU5TiI9Abr2mA3Y9eA+PsH2+Ovge/OdWn2bwOHpNq4fA1RScQH1e4eCB4QXZiy7pjU6bc9OrPtLgNB75f7RyBXzgh0YBMBfuIh2A/ID9igAefA99h/P78v0ieB6Dv8uv8Afvv/AH8/p8ZyfI9AACIddgPu67+fPgR7D9Pv1gwiUAExPHwAgCg9/n18B48/l5/PPWp8EwtPDte3DVXMLgC51Co5xBy+EQ0EEA389N1g1HGDnh23iHMRbW8+5tMBaJolA3kC9CH3AA6789+B+R6+4dD5++cxkSdj0UogAj58/l2H3D7D+oD30HnrNCEWVKH0ynAB6+CGAfPgA8l7HsQD8w7/AFHOUqbhIRKKRzGEAHr2iI9dAHfQB9w+Q8CA/IAPz9Hw3hOHGHAbwjEPpOObv3YZ5vDS0fkk3FtD01XC95BANVofDYGYAG7Lm83ifU7SF8/s6APYBRAfPfXn9PIGDx5H8/y8dBmoe0SiI+0BDvryIfb+P2+/n/bxygi6AP8A+2VD/wDUMPX9R/p/tmwGzvwH4ZUwmHoB9hgD+AiAeA+4j9vzDx3w1MBVZiGto8LxvduyghuFqFhEsJgBhIvax+aMeSB/uUiYAMuJMeGJvGjhf12vvFEBAB6KI9APkO/PX5D+XY9ef9xDNgl8+3sAHv8A6ehAR8D8+fIB2A/YA8fy+krZ8HQA2U9nx17DCP5B8h1+fffz2Pn571Fo/EQMDZUwD8AJfA/n4AR+OvsHyPz58e4zgzn5X0+D45rhkDj+DqzMAAtIpzznXkTC4+8MmarMp0yuk6s0B0ERvrM6r5wDoOvyD5/P5/iP+v3wJVBD7lD5AQAfIB48iPj759H4eQ8B+FVDwIj0n2HfwAAI9dgH3ABAQ+4fYN4M5RQBKVubrrroxil8D9uzdh35+A89+fd4887eD4h7XUncM4xWe6zcuErAAAt0cQ24sIB6+ec3/Jl4MlwnQXOlzI5b8jHWCUPACHkPz7H5/iIdCPx346D4++bSk9vuDovXfyACHfz8/Yfz8fmPffjO1GIku+xQKAj/APUdMe+vjrr8vz+fj8sBESRehFABDv7HJ9vz936/kID8+Q8DnzVfsfx6tjBUHAuJhgc0y7CuNhGuaxsTO/Uann76lDBnZIGuYblvtqP1iF1wJl9o9gAdeADr9A8CI/mHfx5ziMRP90BKH7vf5j+fn79fb4+fb/HO7/ZUkIAP4cCiI+e1CAAAH6AJvn8xMHx9vkQw0ibr/kJiIeQMKhPHfXx5H5DvvsPt4+c9Z3YriT6bAOCYwPY3K6cG6Tmy3FxNja43tquJtcD/AOq06RJH/GP0911JUU/AiAB5H/0/yHo3YD9+v3fjvwPecyrf3CHRv3R67AgiBRDvwHsKIFABDr3CAe8fkTCIFEvZEhJAwfvfTTEPt7x8/I/BSj19vHgfgfzz6Cwr8AABOkAB8de4RAew+f3Q+Q+4efzz1sB2Kx7cO9n/AIbxje8DCK2RlJ5LcsEgVAYlxgGDNt1xvrtLge8ZoAZaHa5YM7Wve2srpfal0AGKcR78gBRAPHYdgHx132AdAP6dBgogQvQmMAB57Ao+RH578h/LoPn+OdwaIkC9gH0lOx77A3tEA+wdGIAdD319x/X7i/Yz45ejmITyPj3CAiH/AOqBg8dd9+BDv+npDspxkAdzwnE0a1JjQ0NpNZ3mUtgF4qAFxMfzdVgVaZhpe0C0m+2XnJkecRPJdcQ6Ym6ERL15/wCkBAf49dh5+3YgI/PwA5yHWIHRQEBAwiAh7R7DsPI/PXQh15EB/n9uwJAuwHsyyXz2AD9Qevnx146Dx4Ee+/HjNTwDkxgN9ZIOg68AboAARHv7fn/p4++d9vAO1rcKH0+EltVzm5mHuszmwzMTNSASAdTb6QVKJJGeACLkdBsD156dV4yeYfj0kykUMBkTgoHs6AQN5APnx0AG6EfAiPXfYdhnWNmpGvRVDAJ+uz+/yPY/vj0HuN5HyPkfIiIB7e+gqMFeOIgKrkB7Afd+6PYj10HQmN0P59+0Pjx58hu/yqzOIGUOcxu++w9vnwAdiAgJR6ACh2ACIh4Hvsc/H+038PXHe0fHX9psNw7B0OJ1hQFRmOrh1M91kLXhrA9mZokAXADjcix9GjxSnTpCgS7K2wI3Byz0A1tNoleOKCCgFEpR8F69oF7HoA8fn2PQ/YPP3Ec2exMREQIcPaI/BQ7DvwAj0XyPj5AA7+RDPfJ11mmHtAT9e/3D7vYYTeBD5EgiHz3+77e+h+PvyKQbUwh7fqFAOgEP3RAQ8AHQiAmD+Rvv8B9vpqfwF4/Uw9J2JdwhmIDWd5To0w5ucZASHFrQJGn0XAeJtaXZG1ImZLhf8o0ItYHXaIiF4FJMoiBxL1+g+0BKHkB7/XwHX2DrrrPqFEVPAGH7B0BfnrvoewDr7eOvPYCID31nsgr7UPAmUEPPgDAAf6F+/wCvf8s5E4RiX4TMbx8mUHsex6EQ6Eoh/p+Wevwv4J8WwzTSxI4e2m4ND+7e5hJ8BJllO5M30A3lcZ4gDBh2gt55TuNrg25xYrxAthL5MJfaHgQEDiYB6/Mfd0HfwAj9hDz9/oBuUCgAj0AAHffXjsew8CXr7/H69/fPbfsll2H/ACC+ADyJj9j/AC9wgIh5+f8AYRzX9lNBETfSKBvt0Y38PPkfkA/j5H4859RhPg4MMXEDAuOVuXP3jyAC0ub+XUjSPJcRxriQSTt//J28r6aHcheKOkh7C+83uEB8CICPz39gHoO/Hx8efnPgXSQABAoiPfXYAAlD5DsfHz0A+O+xH7j98qEMQxMXygUw9/IGP3/HsTF66Hv48/lnGaFjgL0LYogI/HuN5ER89iJgH7B+fxnmcd+DWO4nh30sPT4HTqFpy1alB+bNDACSGEkgEXBEnyJXLRx+RzSS82gi0R4ek7eWsRKpfFR5Xsy2P7gMkQwCUBKYQ/cARMI+R/d7EvYD0HwA/IBlZkw6KAB8B4D5+wB+f/bsO+/4B1zOMZMTGFsgRMxh9w9eTd9iPQCJh6DsP+kOgD8gAOw7T/T9P78Z9f8ABr4Y/wDlpwPG4StVoYjiPE8c/GY6th2vFMy1opU294A4tY29xqSNhPXxuLdi6ocZDWNDWA6xAJ6XN7QmMYz9jXSTGMYRMYxhExjGETGMYRMYxhExjGETGMYRMYxhExjGETGMYRMYxhExjGETGMYRMYxhExjGETGMYRMYxhExjGETGMYRMYxhExjGETGMYRMYxhExjGETGMYRMYxhEzqpCOF57RKYpDF9we4S+4TFN8B8h48j/wC3jvtcZ08bgMNxHD1MLi6YqUKzctRkxIGlxcEKglpDgYINvNeVLXOwEFHIgHjr2F6+3nrz2IdCIAH5CICI/IfSSvNgKUBUVMID2JhN0I/kHQB0XoA8+0A7H57+A9DjPncN2G7L4UAUuFULNyy/M8kWPizEgmRN1yur1XavN45bADl0C6UYNoPjtToQ8/v/AKf/AOP5/f8A0zcWEZAAh7Tj2PY9nMI9+A77D2j30AgHnx2P553GM9NvZzgbCHN4bhQWgAf7TbQWmdNfCJPKdysF7zYuK680Y1MAAKYiBQ6L/wAw4eP168iP3Hsc4BhWIm7MmY3fXZRUP0HX3AQN32H28/652+M56nBeFVsvfYDC1C0ANz0WHSCP5dsvUxvyB7xo5w00PKP2C6g0LH+RFuUfPwJ1PjwHns4B/T/b45Ai2n/7BMBEPPYiP/kPH6dd/fvOzxmGcA4LTJLOF4BpdEluFpCYjXw3+t1C9x1cT6+X/wDkey+JJg1RHsiRAH5Hvsex/Tv46+w/7ZyHatzD7jpJm/MRKUR/r7REf07/AK+fH05tMPtATD59oCboBAO+vPyYSgH5diYC+f3hAPOdtvD8E1oY3C4drBHgFFgbbpltpz91mTzPuen7C64AaokDoqKfnyPRCh5Dvr7f6j3/AAD5DcCCQfKZB6767KA9d+fAe0AAf1Dz3/LqGfZvrZ6Mjt2bG0Bxd46cvvUDu+lxRb7tm+GGsqrsHWup5wv49d9RrHsS27BotflNhto+MeqIVaoLWJN1NIK008syuLSWhY69/iBzl4/83KtYZrTUvbI22UBxBRW39N7Votn1Tu7SlnsMWaVY1bZ+tbnHRk3CPVCt5Nkwm40JqmWN3BToVK1WJtEvHafIMHh2AN/D0WmARFKmI00GXoNpiFTmEST0k7D6aW8ld2VMhR8EABD8g8fz8AHj7ff5zUwAHQAAfAj5EQ8B12PfuD47D+Hf2+9jnPfnrqjgLpxtsa9RVmv95utpi9ZaH0TrxmaZ2tv/AHHZVfwVW1lruvtk3Ui+kZB6q3PLSKEe+Thow5nKLSUl1YuDk44I/hR6rfN5pA7f5c8+tken3JISkbdNe8SeBy9dRjNXu2IOV4NhvfdFjQn3u/5tIrpJC/0Zs3S0pJSDM6cOhNRgs3pNtoUmiG02tGpDRAmwkREf3M6plOWdhabbRb5jbyWQEBPIdgHnyPXfXx4ABEe+vv8Ab5+/2AUPuAfIh8fcDePt+ff8Q6+3xTFm02ZTdQJNFZNluLbla12mgWUfptNdR+z9hw9cKl+NeN49Ccj6Gyudjbgs6IyRmY+rIyShm7Z+2ZEQUhPt/Jr19+MrKU2xvPhRwb5a6aizun1h15wL3FuyJ5F02pMWjyWlrLHRHICqsYPcMhGxLM5GNCosewudomlGbCFapovFF2NZQDnFrQ0RAExLrCYPpv8Asp6n7j02Cn/AoB10Bf6dffvwHX6/oI/fN3Qfr/Uf/OY7uuvXYnubl4p1a9KDh/c+addgabQr9ylvN42FWeMsLx8G9KyizDTZB2K0cNtjb1BnXp4rmJq0gbXce6bsTtr/AGKJVsUpUch9ITCmUTgAGEBExQN7/abseyib4EQHsBAP3Sj+6XsAAc0aQYcpblPLoI/SPT0KLd7S/l/qP/nAFAPz/wBP+wB3/PN2Py/v+H/3/wDOQMaIgaaaHYDWJ2+widAHwABmnQfkH9MtM5nc19A8DdKSW8eQFkfx0L+02VWpNLq0YazbP2/saZI4/wAr6r1HSGy6L66bAtKzZZOMiWyrZhHtEX9gs0rAVWHnJ6N7ziPu7ZHInSFb23tHjpsjivYbU7mHUfp7bsjXHmx4qplknJahN2+Orb16lUJ20V39nTsrQ5kyVkpEi9d1uaIq4jiu3OoHIff+B7JtPUj2/wAq5cQDoegL3147Dx39u/A+P5ZHbsDng30Pzf17xS5Ba/e6+15yRjI1lxK5IpP0ZDXWy9yso964ufG26FTIZ3rvbSrdojZdVnnBQrm2Yx2/q9dkSXmDbwNlkTyyf1BeFNF5+cV9mccbq9Urj6xNY+x6y2NHoqHsmoty092nOay2tVXLdVq/ZTFQsjVou5CJfxj2brzidqriRRiZ6QSUQOQ+/wDA9kGo2kgTyvr6aq9YhinKUxfgwAIeOvA+Q/QfzDrsB77ARAQEd2RSejrzN2BzD4kihvmMXguV/GHZt64lct4dUrIUjb40q4YxlhsrI8aVFkDO8Q8jAW5VNoyYRbCdlZ+BhE3kTCtJJ5K19x8/l/IP1/X5/Lx1/HKhBaSJ0ttyEacxfyPktcYxhExjGETGMYRMYxhExjGETGMYRMYxhExjGETGMYRMYxhExjGETGMYRMYxhExjGETGMYRMYxhExjGETGMYRMYxhExjGETGMYRMYxhExjGETGMYRMYxhExjGETGMYRMYxhExjGETGMYRMYxhExjGETGMYRMYxhExjGETGMYRMYxhExjGETGMYRMYxhE/v8Av+/OYx3+Jg5m8sNEao4rcReISzCF2J6j+05zjS5t7IZBLY0E0lZHXVdbRms5JGYjYyvTdxcX81XkLFIN3ryKjpAziAXg5wjCfjcnEf49DkY3Mv0265zO5hentyWvGxZav1ngNcNlbTg9dQkLHLr7C2bZpHU8hRnsvYZQXqERXac71u4fSLBlCKzMypJIN2M3BJpuXRtMjMC4wBcWm4u35wml+X3urhOEXDXS3ArjVrPjJomutoamUCHTQfSP4VFKZu1scpIms99tjshfqSNltUmkaRkXCpzJt0/wsVHpNIqMjmLW7IxSl7OBS+4AD94egEQ7+BN7TG+4+OhEe+g8jmpAApQKHXQB0AAHtAAD4AA7HwAdB8/bNTB7g6H+/wCX3yEkmSbnXS6G5J3ME7HkJjy8vNY6nAmJceoh6m/Nn1BtsmayFJ4G722x6cnCXWqz5lOR+v5fWf7CT5Gb5KZKKbNTWnbklKwpKrNtHKj+Mo8lIVCUUkiQUBKJ5FZSgXwAAAdB8B12IB12P8gAA/QOvgAzF01ld9oehjy25j1Pbuh91bX9NzmTyKuXMjW3JjROsrPtpbjPsrbK0OhuKhcgqjR4GSs8PSWUkxhyUexRreXcK1+OiFWLe5WKw3Nlrq8px68nGy/mbwfEDjxzn5q3+RkTQrGrah4l7eo0JGyKhRKzd3jYu/K7qal0itGXOh+0p+RkXQxLJQ751HikiJD6c3do8MC4mAYEiSBufuCqYtGgj3gT81OCId9eAHrz5DvofsIfw/l/HLb+WvKjTHCrj9szknvuytqvrbWVceTcmqZVsWUnpISilBU6rtHSrVGXuFwmVGsDV4YHKS0nNP2yAGTTFVZOPihcfvUF5nTKls9QO6xPFnj29jDljuAHFW9S7+zWdOSjGZAa8quYkKnW7XbE2Dh1Ymkpq/jqlrGgzyakKharbeoVnJRdm8Br30ndobu5KQHJP1ONw0Hf0Doeabk4Z8NdM0uQpPDfQ7OG/akZDbAsNDta0vK7R20WHPDrQ8nZXAxVBcFl4uLNZ4klPNUMiJE6SorEf8Ii8ZrcGeVRpYrCI2dLeoHuWz7Gojlo7jLnrp5Na50+1jqxaomUi4iWZlTWhpdxF+5mSO+qtLNW4kk42fZs8sFQ4JEMcSiIFD/pKAdiHfQAHfQB+QdiBQ77MIFATBEpyZ9KtnfN3z3L3h1yZ2XwB5iWauxtXvW1tW1embD1fuiJivotIlXkVx5vjb/Im3p+swhpKJp9tXfVu0wZZBBw8mZkkDXm0XafzF5ec3OKVQa8M4DeupuZHqX8vmDGi8Sa3pjjm80HI6RhlmEzDX7lhyCZTW8uRFfJr6gCoW0xr5et1evSNkrj+KLATtb/AM2q02uAcQc5kkTIu02EzGXKNDN9TpKKZ/i9yh0lzL0Vr/knx0uI3/TezmUy+p1t/Ys9XTSJK5ZZmnT7dxC2aLiJ2NexFor01CvGklGtFgdxzgyRVG/0l1K/j8fzD+fn48iAef1yzP08+INc4FcLuPHEqsSak4001r1jCTM+oRwiFku0u9f2nYlmbNHSzhzGx9kvk9Y5uNhl3LpSFYPm8UZ25/CAsa80f+/j+/4d/wD2zPrPXY9eV9Qix2uNcJC88vWu547q24VxcqX6XR9P8buG9KsCCZ6xr7ZuzqQvc+SO4AqztR2kfYzmxwsPVajd0/wR1KOg0IVqo9h4J9FXp+rf6oeoPS44s3Ha1ploaV3VPVi1MOOenjkXk5vZGw2EQdRk6dQMW8ZSyWt6W5XY2DZ1nB1GsISsoLNG0mNolqzEyluXIz04OWND5NcoeY/BT1EqrwpjOVVP15JcqYra/HeibvqkBZtF1Y9bgt1a9krjZK7FUtdrrtorHWyIs7SYrrpU81Z5d+5OnXWdPxS7zotzzq5cad4ZaLf7C5CTXO9NnaOUHqW8p3bu28s7Pw81VaYB9aNk8dNfEgz0DhJw92XZ4G5M+O1dlIqUvu4UHtQhJmQr+pZSoG2AVcZNtAAB5QPnz6ysyb0JY/czX0l+FUvv/Zto3BtDYGtJTb8pf7pap+7WiZr26bzbNsa/Qm7RaSjPSkhD6+uVXhnX4xw/asV49SNhJF/XmcS5UlqUADFEB76Hrvr7h2HYfwEPA50VUq1eo9agKbUoeOrtUqkNF1ysV2GZN42Gr1dgo9vFQkHDx7RNJswiomMaNmEezbpkRatUEkESESIUpbIudvqO8cuA1ZhD7Rf2S8bd2AZZhpXjTp+BebC5B7vsBSuPoRGv9cQgKSjhmZ02Mg/s8yaIqccYpmryaCSXYxr9uOpA9zE+mqmu8dfv75XUbvBqVgtRevx6xmgI9aUO33xqLhxy2r0TH9vapWZGsUg+s9rml3Kah04K5XSxXapWJtGOkyO5qEbrySJhYxqCZMh/ISfSM4xckIS48vPUH5sUiG1nyk5836nT4agYSSE+80Hx91XW1qvpHU8vON/psVba0gXqi96PEM4xKbdsa5I2KNYWtnJxMRNtlcIJEzpfrAn5yqbmZnS97wAN/JMYxkUTGMYRMYxhExjGETGMYRMYxhExjGETGMYRMYxhExjGETGMYRMYxhExjGETGMYRMYxhExjGETGMYRMYxhExjGETGMYRMYxhExjGETGMYRMYxhExjGETGMYRMYxhExjGETGMYRMYxhExjGETGMYRMYxhExjGETGMYRMYxhExjGETGMYRMYxhExjGETGMYRMYxhFtOQqhTEOUDFMAlEBABAQEOh7AQEB/mA5oBCh/D2gTrooB14AfAFKAd9fYOv8A6eg6AN+MImMYwi2nKByiUe+h6+PkBAQEB8gID0IAPQgJR+DAICIDaZpHg1xg49bm3vyI1hrVNjvLkpZ3lp2/tazWO1329WBV26K8JWouyXmasMpUtfRqyTYkJreouISiQjWOh2UVX2jKEhkGF2uMImMYwij+9UzixtDm1wE5KcVNM32I1lsXdlMjqjDXGwjMFrzNh/m+tytoiZ48CwlJUIi1VOOnKpIAzjnqgt5o4mbLpFVSNQD0mvST196a1DsM5YrxL8gOWO1o2sR+6+RNtRVK9ewFLio2CoepdYxL1Z6vQtM64goaJhaxWGjwpn6cXHrvUmVfhKJUKRMBjHPr+4P6IthyichyAcyZjEMUFCAQTEEwdAcoKkUTExB8lBRM5BEA9xDFESjaHx/4N8feO9ts+1q/XpK/cg9gFcF2Xyb29IpX/kBsFJ0DEFYiX2A+ZNlK/Rm37MjggdS69jqXp6nJMWzala/rjVMEMu/xhFtKUCFAoCIgH3Eex/mP3H9R8j8iIj2ObsYwiYxjCJjNnvIACImDoA7HsfIB7QH+PfQgIgPnowCPyHZM5FCFOQeyGADFHoQ7AQ7AehABDsBAfIB2A9/fCLfjNBECgIiPQB8+BH+QAHkREegAAAREfAB2ObSqFN8CPyYB7KYogJewHsDAAgH3DsPICUwdlMAiRb8ZtMYpQ7EQDvoAH7dm+Ox8dAI+AERABHoO+xDOMrhA5lSFVIc6IlBYgCBjpioUDkKcgfvFFQhgFMBDs4CHt9w4+/JFzYx/f9/njCJjGMImMYwiYyBtH1DPWLs9l3DE0H0Oyng9W3e11CEsey+festYl2ulASH4eLl9dsJfTzwsjG2WPVayMZOrvy04xlHLE1q/HMnbZDnhvUB9alUfrWH0CJRiyKqUpxhPU54gzb8UROIKKoMzx7BFdRIod/SM9Q+qPYJmMJgEta0uMCJPMho9yQPmkb29xN/mp3cZBAf1wn2rlXDbl56Xnqf8a20Qizf27Y7DjiG/tBU+IdGbIry0xt/Stjsrc7aMcGdmfJMq2s9BmigsmzM/epRZJGuHvP7h5z4qU9c+JO9qpuOKqkm2iLcwjWdhrVvqD6QSduIslu1/doWs3urITKMfImhHtgrcazmhjJROMXdLRkgk2kEWME8wQR8pCK8XGeL2RsSmai17edrbHnmtW19rWoWO+XiyvU3SzSv1KpRDuesMy5RYoOnq6MbEsHbtRBk2cu1ioik2brLGImanHHTlJx35cayh9x8aNxUXdOtpsUkW1nok2hLoMJE7Zo8VgbFHl+nL1O0MUH7QZaqWmPh7LDKLFQlopkuB0ykVe8ZoUxTABiiBimABAQHsBAQ7AQ/QQEBD9M1wiYxgRAAERHoA8iI/AB+Y4RMZx/UJ2BRMAGE3tAB8CJhKYwAH59kKYew/+kweBAQDkwiYxjCJjGMImMYwiYxjCJjoOxH8/n+WWacz5PnLGUSsvuCTriOnfUrMKd1bcwEtrtKOenKMHfTuvTWqJVrLsbG2lkmaJGUlEyEbKMnbhQH0SowL+OjyibR/iSiu2ppnVvo1Po5FX2PyxGxeY8Y5kEjh2VaMWf1WQLGC269p0XzJ6Z2c37h2iYe82svhDpEGYE3sY0W2sLhMtAMRmcBOl+oM28ieSnYx57/Tof6+Ov8AvkKL7bXr8QMqo4Nw89OO+15q4clCPrPKbctUsss1IqoRqsg6tOoXkLErrIkTWVbr/tMiZlwSBcRSUUNc1w95Ic99uXOz1Xl36cbriJCQ7Fw6r2yYblXpXkHTba5QdFbljUIyop1m/Qjl4icJBgvJ08WQtU3CEk4jXxG7d1lRzS0TLTpo7y/f12UimMtS5mKcyGej5mZ4Km0W737AS0VOxlX5Dx9rX13e6zHA5UsdIGXp05BytUss43MkFas7hR7DMpJum0mmraPfLS8Zbt6cfqVU/nlXNi1qz68sHG7lXx+sn+RuTfFbYjv6t41Pa1DuBiJBlJKMIlK5UC3MUBkahco6NaNJRAqxDN0zERVc2DE7BSOoPPppr7hSbYxjIomMYwiYxjCJjGMImMYwiYxjCJjGMImMYwiYxjCJjGMImMYwiYxjCJjGMImMYwiYxjCJjGMImMYwiYxjCJjGMImMYwiYxjCJjGaCIAHYj0AfIiPQAAeREfIB0AB2P6d4Ra4y1yn81eKd7hORVnrW9aCvWuJOwrrqzknY5aVGr1/Tt51wxbyF5ibjNWlGFi2bWsNnIhJzyDp1Xk3bSUj0pVV/DyrZlGix9UblZzCfTTT0r+Da+4NSlNOVyG5ycstjuuOfF93aGx3rFpaNf0ZjUrVvLkJrOOkG6jeVmKTEU38W9aPo1jKIik3lHBFOjjI1uM+jPUtR2Iw23zN5ya1mI40IwBbiZxS45VSkaGirCEc+jJUZXcW5z7T5FbAiTiqwnYxSHm9OOm9iZqmeIPK04GsFuz5IcmdFcQ9R2be/JDY8HqnU1QKz/wAwXGfI/cNGziSdox8XHM46IZSU1MzEu/XRYQ8JCxsjLyrxQjZiycLG9uDEgAgyJMTbSxkDntKKu2MhDsHq1b/vtTtVz4helXy72hTKaZeUltscrLFqz0/dNSNGbRj+UWvlVmd2zkztuegUkGRlljf8D2X4aOEz96u1AzJJ7KVxl23Yd98d9I7stmsrJpez7Y1fStgz+pbgoKtn1xLWuAYzL6mzS52cYs4ewDh2pHncu4iEfuCoFXkIGCeqOIhlS0gAmIPUE6AiQNPX/BVyxjGRExjH9/y+/wDL88ItpjAQpjm79pSiY3QCYeigIj0UoCYR6DwAAIj8AAjlkPLb1IuEHBtswDk7yLouuLFNfgv8va6QNLXbbtnTkHAtGrqr6eoEVatn2GNM46SXl4mpu4hiYyZ5B80SOVQaMesMbnclwV2u59O2TlWHIBq4qzh4jUoeAmdpyOrCTJC7RZ6RTs7pvAttuhVjrvq0vIJu3yzFhMR1Kal2I+qUjGxKem/yU/w9XFeVk5ytXl/qLl66FRbcuzfUdrux61zQfXF3GFYWhS77K3hXmsfHT8omo4TuUNqSbj6a5e/ixNHqIFKoPI1hcJAc47NaLnSDNvDNjutBpOlzOkwdr9Rf3hSKaX9SrmVyU3HQ2WnvSX5IVviLZLLHRFn5S8ldoar44W+vV9z7wc3qu8X7YExsu71QyIFlYddnJxkvMxR0RGHjH7kGaMzaY+5MhuxHshR7HrsewAex66Dz8+PH5eOsonpLkbx35KwT60ced46e3vXYtdJjKT2ntkU3ZcRFPHJVVEmMnIU2Zmmka8WK3WEGbxVu4U/DrAKQ/ROBK3D0AB/EAD+Y9f1HvMEyT4chEAtvYgAXm+oN94UIg7+ogrXLaeX3K7UfCTjxsrkvu6TkI+ga0hCyDplCMglLPap2QetIWqUWmxJlEE5a53ayyUXWqzHuHbBgpKSKK8vJxEK3kpZhctmO9tWHP6hnrfx/Hu5zSFi4r+ljqTXG/rpqVJQSRti5p7qJKu9PyWwGh0lkLLB07T7x1aqvFdNiRU6V4jMGfwtrkYd3WhpcA4w3c39BbmbI0ZiRYRuTA0H7rylG4Lc9vVUrCXID1GuTvIrhfrq8pOJXTXp+8Ndgq6edatpMiu4NBveS21F4WSsm2tnTESSCmntcfQFaj6K+TclbR1cfzs9Qq7Pxo7WjjTOn9aalc3i67MU1rR6xRg2HsiVQndg3dOrQrKFTtN2mm7KPSlrVNkZFkJ6SBokZ9JruXanuUWOYaoplKQoAUADsAEfzERAOxH8zD15H5EfIiOb8he52sNaJhrRba5OpNpv/AGUVLN4asjt46c2lpmWsdyp8dtSg2ugPLdruwuanfqqha4V5CnstLszQp1oO0wIPP2rBSQoukW0k0bKOWT1uCrRaD65+m56jnDfXKlw9N31KeRW7rhRnatnJxg9ROdonIDWW7mxDpOHuume316rRdnamXkU0nAQkgytqUSaQO3i3UtS2UtK2qNyFMj29Qf1GdGen7rVtM3Yz/YW8dgLf5a44cXqELiW3VyM2a/USj67S6FVohlMTp451NvI1hYbcEK9h64i9SIckjOPIavy4GDOs7G/Ixfy67qgwQYBAIkHcTpO06SoR9Y+pHtn139iaa4p8UrfubhNrWq6gkNweplf6Q/Wq3IfVN2bWWwawgOIWqb87ghTq07Z7hDTd1fbFTr8fYJLWcbGu2RKTZ4y20CQnE4a+mbxI4F2Padz44027wVz3iFfV3FbLvubb215zY8rWnM09ip+yuNmXW1Iqz6TyzWRweWZIMXBjTsomBSoOzpDjp/4YnQO9uMnNb1kNYcskK625OP1eEe2tmI1lZNxDNp3fVU3nuufimLhozbRDpavyN+ZQNgWri0jWyT7B21gJSXiUWUq+zKO/P8Q7/p1/5yl2wkNI05xEk+vtotVIzWGUQ2B5gcvPVbTm9hRMIGEClMJvaUxzD0Hf7pCFMc4/YCkKYREegAR6DIfvSv8AUB5e8/Xu+7xvTgNsLhPpCrzdVhePz/bD+QRv20/cNkNeJGXr09B1OVZM45oFIWj30TW3NVLKSVkrTS42STrkiq09f6y3OTaXp98H7NvPRNfods3rL7M07qbUFV2dFz0vQ7Bbdl7Cg4R8ysDStWilzBSIU0LXIxy7ayR6aUsxYi5K6bCq1VlGjwcGaNjvityvfoJC5I1OdRsm5EhRcJt1DkTOogmuByInOkkqZMpfrE+oBjGyswQAYsbg7H7lffj+X8/y/wDvmg9/Yev6fmH6D9vt9/zD5CI/f1E9bjYm4toV7RO+vT4438ZXSceTUl/X1Nund/KeP+nHQhZRS3Vy0z1U0Wi4cTA2JdkqyaT7drFhCMl2Lt4Z/IhQJIExJAnYSdT059FNf7qXEP7+O/59eM0+4j3/AAD8vz/j/fWQMyXAb1v5dAQ//Hxia+dZMv1kIf0teNbpNBUgpmH8M/d7IQemTMYhuzHKkoRM4pfvmEy5q18f+C3qRUG1ozO9/Wj3Vu+ukdxD51U6rw+4dalSkzRx1VXsa6l5nXm3pBjCzJzIN3SMB+xpVBim5I2miSDlpJxlLWgWqNf/ANOY8tyB8+XMrRaALOaeQAPIWMjqb/3i8Xmxx32Tyi0JNal1FyX2bxGvshY6RY4TeGpUzL26vmp1uh7K5ifwATEAWThrK0jVoOdiXEmlHykY9cspdrKRKz2Jfx68MuVvMHSfLV16afqR2ah7K2ZY9fTm2eIXMCjVdtriE5Xa8prxNLYdRuevEDqQFM31rZk9Z2CegaiorBvqaK0oVEibBGz2icDyIeBDv79eev5f/b/tmFj/AIwLcbqgRHpzQWodgzOteT8jtvcn+RrlT7YFRt9S1vd9eR+qdikLPsXrKTrcfdBucPCKSgv45k9ZR06iLwQZLnb5tvpIJ9DK1Tgwx0BsyTAMepGm1+al8destNbP5RV/TXCPhLufmZoSu7vr+jORHNOkzQV7RGo517ZK5DW13RVUqfcH27ENaMpoZe8nhHFXiUW7ErqAmrDDnCdRmRreqtX1a43HZFX1tQ63sPYpYgmwb5A1GvQ90vRIBsdrAJ3K0Rse3m7OSDaKqNYck0+fFjGyh0GQJJnMBvFcZuPGsOKeg9T8c9PV9pX9c6epcJSK0yQbskXLpGIZEQez82oxZsEH9os8iZ9YbXMi1TdTtjlpSYe+52+cHGu4dB4D7YsA0ARAucxJPnOmm3PTdZJafytIgm5Mki2wtqJW0xSmDowAIfcB+B8/A/mAj8lHsB+4ZAVzr4GWXizsr/8AFM9MvVLGL5J6yF7N8neMGvF3NJpPPvRiSMo/u9NlqrWo99Fqciogjp7aNS39nWJewSVwJ+GmYO/SDqIgjz75tMUpg6MUDB2A9CHYdgIGKPXx2BgAQH7CHfjCyrfeKfJ3UfMzj1qvk3oqdcWHVu3aw3stZdv2gR8wy6XcR0vA2CNKs6LGWStzjGSgLBHJu3iLSWjXaTd68bAi6WuEyBD0dV0tScr/AFoOFEaKSNR0Rzegt70KEbgQjCo1Tmprhrt4KjBtUzgnH1+Kn4mdeR8ag2btma8o+TQA4CYCT3fr58d/3+f8Osy1wdMbR8xKrhFjawOvMTr5FfJIyDKKYPpOSeNI6Pjmbl++kH7hJmxYs2aJ3Dp49duDEQatGyCZ13Lhc5EkESHVUMUhDGCAE/LLnj6qk1eIP0x7jTeI3DGryM1TyeottTV59tXbetwhni8TMhxM0dOyVXrq+v6vNx8jDS+2tiSR2E9JEO2p0Uk9hJI6tUvX62ja6vwHDQGt7Gao7V5+b30jwG13ZDsnT5hEveRltJFXVzKJM0VV0WJ9Vw1+Yncp/RcpLP0SsFiyCjYBl01RrGl6W1nr/UOu4NnWqFrGn1yhU2CYh7GsXWarDNIWGZJh0BhFFgyQIqooJ1VlSqLKqKKqHObRA6yIIE21BvYzpay23KxgeYLnlwYInLAuXA7zpI+YUe3pt+n3vPg//wAW5PeXqD8judVh286rMy9W3m4chX6JZIg1kGef6ygZC03Nenw1qLNsW69XjpdGHjGNdhmzZExWpPo+h9Rb1RtE+mw00gTa1L3Xta27+vUxTqFrDjzSYrY2znjCsV89gud2/wAoP7LW3j2pU5orEJzriHVkpVBzOxgIxLpuZ0s1kqN115DsP0/vx/HIDub+xKLxi9ZT07+R/IaTQqvH+/cceUHFep7UtbhhGax1DyKss1r3ZEAvcLZNmawVFkNq6/qtno9ZklpJCTn3TJ1GFRCFQmHiFB3dGu0RaABtvI9guNrS5xFvykidSRFhrqbibza1lPCWVYjEpzKzkjWPMwTkjuXXvaEQaGbg6Mu4B2m3UbkSQEVFgcpInRKU31k0zEMUvLHyDCVZNZGMdt37B83RdsnrVQi7V40cEBVs7bLpiKbhq5SMVZs4SMdFwiciyJzpHIccSz19vWC0beeOsp6dnB3dVP3LyV5d3zX3Gq3T+r5E11o2paDt6ULCWAtg2JX0ZKjHs17anDXjenM7ErZEISyWSdcN49WFaFeZRei9R1bQGldRaKo7cWtL0zrGh6rqTcwqCdCt6+q8XU4RI5l1nC5jpxkS1IYy7hwuYS9qrrKCZQ0mfv1/VUgiJ3ExuPPz2VVcZYL6lW5OX2jOK9iu3BXS0TvvkmrddZVum0Gww81O1k0bYbzCx9tm7Oyr9kqEqhCRFWUl1nEojYo5CHXO2lX6v7PZuwy+uMVeqsm55Bum1eigiLpui5B6gi4MmUVk27z6DUztuRUTFQcqM2Sq6QFVUZtjH+iUkWnqR7R+6+/OMTEKYQEQATeAAe/I+ewD7CP36Dz12IeAHN4/39u/6f8AuH6flE1yd9Kdbk3uO17ecepD6qWiGlmUgDoam40ctWupdP1j9h1yKrixaxU0dbTT2PJOniv29OEWm3YPLFJSsiiLYjordKgSdYj/AB+s+iASYmOp8x/n0UsYnKUAER8CPyHYh18CPgB6AB+RHwAdiI5oVQhxECm8kMJTF6EogPQeBAwAPkBAxfsYpimL2UQEYUQ9BfhzLwyUTsjbXPjci5kQSkZbZvPvlFIvppU/1fxD+Ta17YlZhfxTr67kV02US0YiZZQyTNIDiQsqWhtE6x4zaioeidMV9er6v1nAoVumQDqdn7M6jIhuuu4SbLz9qlJqwyolWcLHBxKyrtwQDAiRT6BEUkZ5fenlqNPK+0w25anST+m6x/apwt1H6unNz1L7Bz0jJnc+mOLe8KtxJ43aCeXm8VqkatNXdQU29bG2uzjaRZq+0fbB2RKbHZgztL5NWfrkNFBBtZAWZkkWeR/U60wp9agKpFi8PF1mFiYCLGQeuZF+aPhY9tGMjPZF2ss7kHZm7RMXD14qo6cq+5Zwc6pznNjnXbfBfR+9UDkls7kk1s1f9PD1LXeqrzB8g2kS8ntd8d+XevKMGvbZUNqoQSD6dqMPu+tQlXmIy4SCLiK/a0RGR7NmMNEbEn6jfhsL1w/SxpDNoSF5k6o3VappkK9X1txulv8A4hdlW14ciot4OCp+o07ZJjOujJmISOkixircwCd8ZoiVRUlyGG5WOcDeQJAkNuSBuYnpBWnEvdAAIytEDmLaHYnQ2jTmrt+T3MHU/E17x4itm/5meS/J/kVrjjDqmEp8Q2nZh9sXZKsiZjJSzReRYGjqRWo6LezNvsiQPBhY1uAkYvn7uOj3t1SZgMX/AKgOIdgJugDyAiAh47DwICHgevy/McSL009h7l9Xb1f9/c2+Q+qr9prSfpvwDfSHE7jztKGWYT1H25uSKXXvV8tjZVqkxb7cTo0KLy5whUhfU9lsDWVfTfvv8oJTc3lvFKUoAUodAAAAAHx158B/D/vlcA2G7gQ7z113MG5KOZkMEQQAYGxI36gGI8lqJQN8h3+X2EP1AQ8gP5CHkB8h5zHK9aHVrrhrsfTXri6IjXEdsXinYKfrrmRV6+5dxpuR/CjZtsiaLa65LRkW1WbWW56xnp+t2ypSFlVjomDioxayyshIra5pkMlkbZDb6/W2qXqv0leZDa2OiDJba1uvobXcAmUi8rbdmbget6ZUoOCjvao4lH7dZ86sbxsyRcO28FATMmkiYI5T2ZRn5m2mSAR0Nj7C/wC+imAh5WNnYqMm4Z62koeYj2cpFSLJYjhnIRz9uR0zfNF0xFNdq7bKprt1yGMRZI5FCGEpgEeyyjHHKjTGr+PmidaWJRBaw6803rCjTqzZdVy2WmalSYSBlFG7hdJBddE71gudJVZBFZRMxTqJJmEShWfCz5abTy69fvdMYxhExjGETGMYRMYxhExjGETGMYRMYxhExjGETGMYRMYxhExjGETGMYRMYxhExjGETGMYRMYxhExjGETGMYRMYxhExjGETPmeOEGjVw7cqpINmqKjhwuuoCKKLdAgqrLLLGEpUk00iGOdU4gVMpRMYfaA59OUG5TUu57I4y8iNd64dCy2HfdG7ZplCeBIDE/hLraKFPwdWc/tUDE/Zv0J18wVCQ95RZiQHBTFOmUwEWDt6BWnNnerjtLl7trfsVFxfp3o+oDuzmNY9ENGxnEFyP5W7ek63a6lQ9wywqsXextNcboWNgbtCUKQi2NXn7hamhrdF2CLcLQ8fn9NmyDRFBu3SSSRbIkQRTSSTRTSSSIVMhE00SESSIUhSlKmmQhClACkKUpQKEVXopcCbB6bnp1aM4wX3/JDrbEGN5t+2pygHO5g5273y9T9l94y60XDPLC5rdWeViikmX7Eq6jGpsmrZU8a1YjkruWoczhBADYgAC8CDebzB9PJEy3zkttjj7prXKdz5Ivqo3pTa01RGuxtkgkrdJWTZQy6LnXte13S0o+Xn7rtGQsjRmNCrVNhpa4vp9JoavsVHqRTp3B5Ch6hXpTbv5qcuePXJrWPP/YXFFjovVt71m0qNM1LVNgzjI2zFZSO2BfdT2642ZOO0/tC0U2TZU4+yIaly9xr0fX4deuS7JQVUSZgTO+59v2RSObb5Y8fuP1CrF+5I7Hp2g4u3ni2kHDbWsdehbJIz8oVA7WpRMI3k5Fez29NRdButX6cNje/iQU/Bg7bJfijV6rk7HWmAhLNDi7NE2KJjpyMM/jZOGfGj5Voi/Zmew80zj5eJeC3cJi6jJVgykmDj6jR81bukVUiRz8T/SW4ccS7+fecPWrrvflQ/YMGdj5ecqr9Y+QfJGwKx8S/r6Ughfb46etaO9cV2RWrckGr4Sis5ivosomYZv2jFoRKTHBLZAEzEk6agSI3/tcaImMYyomMYwi2HAvQmMUDCUoiH7omHx0YQAClMYexKHgpRERAOgEegyAbmn6isFuDc+zuAnBThtWfUL5X0xohU91S2za5Bs+HHGUk+VycrTkTs6yMXSVidNV0jvnmoKWgrKWcIy0VprZoW9wLuFLP4PkB/v8A26H+ghkS3KP0MPSs5m7UlN28huItPtm055o1aWS51i4bV1PKWwzRdVdOTuKWoL9RI64WUwKEZrW6zsZe1uItpHxS8yoxjI5FrpjgxwJuBc67EctYjTdJi6p96c/BDRPpP0ve+3dz7S0HWd88nrBCbA5F22owlC408damypDebaUbW+mtXtT1qs07XGt4+zzSBrLMInvGwp6YmLpe5VWSk2kZD1W2D63PpU65kEIZzzY07fZtzLw8C2g9GPpvkVLqS07JoQzFkLDQsLslyRT9pum7R37kg/BLroN3IJuXLVFei9T/AMOJ6LNLssba4Tg1UFZaJeRj9qlYNob8t8EZzEO2jxmDyqW7bE5VZJsdRmVGQZSkK9aS7FxIRkqi9jJSVZvJTdQ8aeOnH4kijojQmldKJTBGZZZLUmq6PrgkoWOTVRjwki06DhyvwYIqqosgdAqDZNRQiPsKcwDovpvJe41HvOshrQPyxfxGIGnLSYkWQddYgGbag6ftbpuq3FH3FA3wBgAQ77AehAB8gIAID+g5jucFJFLWvr3+tjre8gWHt+9qRwP3rpts/OLd7sHVFG05J62ulgrKCpink4emXd9H1CaWapD+Bkg+l9H6SCixciT5D/3/AO4ZHFze9KziBz7sWvth7prNzrW7NSt/werOQGl9gWfUu6KGxGYazijCGuFVeoFeMivkXZ45vYY6a/y4ebsTuqGgpOelH7rjsTcw2RtJF7bib+Slhrp939Fc3yD5VcbuJ9RUvXJLd2sNJVX6DtVpJbIukDVzzarFL6zmOrMXJPUpe1TXsEhG0FW2EpMvnC7dqxYOXC6SRqEccOYt55bW1vYtS8dth0ji8z/aBFd8chGcnqOzbRWIi5LCL6O0JKxDjY7+lvnH0nMhsLb6GnUjMxaDTKzfUHTt7DUs4u+jL6eXE6/KbmpOjUti8gnbhOSlORPIS0Wjfm6JGwlduXri3o23aErY06zcZJw7XNLWSkR1XkZJI4NHChmCSLVOUsvgOugD9A66DyP5fnlOXQSf+Wk6fyweu6sggQL6zOsxt0vfrfYLoLXCubJV7HXWU/OVN3PQUtCtbTWF45tZq04lGDhilP15zLxc7EozsOdcsjEqykLLxycg2bmexr5sCrZSPPiP6VHF7iVsF7vUjja/JPlRKxJICY5e8vNlSe/OR7uvoDMIsa9E3GcaRsBQ4NjEzC8ADDWdRpJJaDRZx9iGZKxbKBJZjIooquYfpK6i5a76gOUEJyI5icPt+xmvQ1NZNn8Lt1tdN2LZmuGs8nY4SpbH/aVPubGcj65KqSTiHVZNIp8JpIE5Z3LNYivNof2PG/00adx8moq0TXLj1GuSNpg5COkoqV5Ic8OQVsh0HDAHImJKazo1p1xpm2s3ouCA+jLjrWejFytWv02SBiujPJJMYdLhBNoj6aHW0Isdb1v7M4tfLD0MeLbem3G5tdk+pDVuQViYVZitIMW9W4ttIU8k+tSKKZe63BvtwxNumjvHSccjB1iWcuWb9ZBoknkTlIUgAUhSlAOvBQAoeAAPgP0AA/gABgSEExTiUonIBgIYSgJigbr3AUwh2UDe0Pd0Id9B38Bm7HkqTIA5T8zKYxjCiZp9w8fn0P5f3/fz51x57Dx/EfywmqsQ5pcqt58fkKJV+OHC/cHL/a+zF5trAMaxLQGutOUsYNSIIvIbp3TZBfstcxr8koqrAClV7A4nf2TLJJEZfTaOHMZEN6HbXl3rjklsf1Wbyx3dzK5b6/ZURzZ9Yqy8BrrhZRq/Ym951rrTiWxkVVHzNjr+9Moi4TNltX7TebJmotSPuiU/FTt5c3nImEAH5AB/jjsB+BAcs2iBznc/fT95siIAg3kzqOUbKIbi7wa9RbWttgnfKf1gdn8nda1YseMbq+o8T+OnHo1pNCOGCkWXZW0IONvm1J2PVKx+tOs6naqNM2N4qqjO2iUhHcrDScuxAECgAm9w+fPz9x+/5fYAHsQ+BEfnN/X3/P8A7YyIXEwCRYQLAH5R68/RMpNuveeoeOWtbZuPeuw6rqvV9HjFpa0Xe5SzeHhIxqkPsTS+ssb6z2TfuRTj4eGjUXkvOSzlnDw7J9KPmzNWqqpBOXopgKYBESmEomABEpi9+0DEEfBh6/e+fzyDnSfoQ6FrdzrWxeXfI7l/6llros1I2PXEPzo3ZObh1HrafevVFAsNM1DIdVZKcNF/hIp4exmskMqVmk8j4SKcJthbFA1riMxho1A30tqF5P0Napb9ryHPT1PL1WrNSl/Uo5Ex9z1JULdCkrthjuLOjoWR11x3lZ+GIUE2s9Za8/nJZ0s3VeMpONUh5hrJyxZA0i4n2/Xz8fH9/fNiZQIUpAAAApSlDoAAB6KAeClAAKHj4AAD8gDN+FXGTOggCJmwAAv9dLqBX/EDRElW+OPFflalDPbDVOA3qE8T+YW1IeHiX85PK6lolmm6dd5KFiI4orSD2tx9+LZxI6XjotlHQ0lJv36aLIUlJwaRdajsmnVbYVAscLcaNd6/DWynW2uSLWXr9nrFhj20rB2CElGSizSRiZaMdtn8e9bKnRdNF0lkjCRQo528zDxVgiJSBnI1hMws1HPoiXiZVk1kYyUi5JsqykI6Rj3qSzN8wetF1mzxm7RVbOm6qiC6SiShyDCK69Avi/V350eMnJ31G+DVBXkZGZfaX4dc2tp6s065mZd6tISUg1pU2e6oV8z90uqqs0qrqDjkhAhGbNokT6RkTvHXWENwLflm/mfkphrXt3V9HtdHodwvtRrt32ZJOYrXdNlp6Na2u8Po9opIyidVrajgJqdTh45FaRmnUaxctYaPRWfyi7RmiosXq92a40ztfWFqpvICka42BqF8y/ad1rW2a7WbPQFo2AUJOElbFF29m/gARgHEa3nW0jIIF/ZLyObSJFmqrUqqdv8AxS9PHidwylbZbdJ63WDaew0WiezN6bHtdu27vvY5mrGJZGC37h2XOWe8PIxweDj5E9YYy0dUEJci8owr7R45WVNDX63O4rHyR5k+nt6ItEtTutQ3Na2Ott8wXETIuoabk+Jepgn7pK61jphmQ7mNS2w31bswj51HnYSKy9FiK88eK1WzWONkpIJIBmLHbYH5SBrF1Jgg9R8zEeuijU5Wc4eGW8eSPpz8JfRz4ftt7RmhuekHzRtsDxz15SeP+k77Jcc6nPRn16Zd5aGrlHtIxT21i6sOxnySMC2SqMPERVkmnFmhHTbMY0FsndWxoucX3VxxmOO8rGKRhYphIbQ11tFnZEHqTw7tVjJUJ+uLFaHO3bpP0pWPZJrnftxjHD8iLsW0Fnpka/1/yT9VDm/zR1XVa9UuLvDTXtY9K3h9FUaDqdf16/Wok2jszk1OVyuwbFsSKb1/YDyFr1Lna8CNastQtEwkIPlWJCscjuwTCVehJebWYykijDxUhKrMYRgvLTDtKOaLOztIqKaFO8k5FyVIyLCPapnXdujpN0S+9QuVclTVrY8QAm+5jy0+fTQRnwnOTYl39Xm8+n/SaxRZfSmluFVf3vuvYaAzLu91De2wtmtYnXmr3TlCYJXYhhLasKpegipCAXnZhpItpRjKsI5gKEnKQBQKHRSgUPyAAAPy+A/QA/l1kIfohaM2ky1HvfnXydpdmo/Lb1G95WffOzKheYaZhbdqnVVbkJSjcb9ErtJ07WQGG1xrGPSk4FZ9BQEwgwuhIOXauzQTd2rN7hYdAMC4Gp6xe3nb0mUxjGFExjGEXVy0JDT0c7iJ2JjJmJfpC3fxcswaSMc9bj12g7ZPEVmzlD90vaayRydlL2H7odQr87ufPph+jbR7NLrU7SNH5C3eBlZ/W+g9Ka0qEbtza9qXarx8A5loWjQ7GQg4GVlwGOdXO3KxUYdFrLNYp3JyrT9mLXuepNyrkOEXBPlHyphIFGz2XTGo7HaahBO2zl5Fv7oqDeGpoT6DJ0xeGrDe0ykQ5s4tXrRyECjIfhlyORR7wtP8PjwDmvU45Rx3qpcqSW68V/TVyJeH142exbPZPk/zLknEhKrScUoYjUIDS/FeH/yBAVGow7Mao7vUO3/YarOFZ2OkQ+26OlxaRGmhBI6zb9PJaABaXAwRFuYP94Poso70MOIHIfiZw4sUpyysLCY5J8s9+7F5m7phWUMjGK0C8bwhqX+0aFKP0nS4WCdhSVhB1PPkyoMomVknVPiBfwtXYTEvM0c5SFEwgI/foADsR8dfIgAeevJhAA+READsNSl9odd9/mI+RH7B2PfffgPI9iPXnsexykG8tF6+5F66nNT7Wb2SToFmFAljhK1e73rtxOx6QGBaClZ3Xdlqs89rcl39Ocri8keFn2gqR02xkI9Y7Ycdd+ajiSSXG5gfIAafcqxnlJ6t3FTjvdEtG1Be7cruV0gKyUPxR4m13/jHuIjlAxEjnvSMG8JWdSQzRy4aqS8ts2erYs4xReQaMJEjZUCWqcd+EfKzmXyVo3Pb1Uo2tUw2mnx5vhj6fNNtJ7trfjrYvrLiz3Vu6wIKf5d2tySZNVRawMrGIrVijim2n6+VhZUotrUphdJ8a+PXGyFeVvj1o3UOjK/JOCO5OF1Dram64jJV4mmVEj6VZVCGiEJJ+VIpSGfvSLvFADtVc4iYRrYAdeP9f/sAB4DoP4fP6lWuDJDWiXCC4ySNLCbDcepiQgB0AB89AAd+PP8AQAD+PQAH5AHwGuMYWUxjGETGMYRMYxhExjGETGMYRMYxhExjGETGMYRMYxhExjGETGMYRMYxhExjGETGMYRMYxhExjGETGMYRMYxhExjGETGMYRMYxhExjGETGMYRMYxhExjGETGMYRMYxhExjGQEHT70/cImMYyomMdh8d+R+A/Pr5zTsPjsO/y7DJI5j3Ra4x2A/AgOMSOY90TGMYBB0MwiYxjKiYxjCJjGMImMCIB8iAfxx2A/AgOETGMYRMYxhExjGETGMYRMxNvXA9Oz1DLL6hfET1MPTWhK3et01bVFz4hTdcnVmsQbViWx6pvaqw/IFSTfSEYydw1Wh94Wc0gq4divWLDXaQ5JAXOHm56OicsnGaY8sMiDaDPIorMvT74ZUTgFxD0rxXoS6so01rVgTs9odfUGQvOw7C8c2TYt5kjLGOuZ3arlKTEsmiuoqaPYLsolJQWse2KS83GMz5mdfmfu6JjGMImMYwiYxjCKl269M625Eal2JozcNab3HVu16jOUW+Vdy6kI9ObrViYrR8myJJRDthLxjgzdYxmsnEv2MnHuSpPGDxs7RRXT4NGaN1Pxq1NRtGaNo8LrjVOtoJvXabToBJVOPiY1AyiyhjrOVXD+Sk5F6s6lZublXb6Znpp9ITUy/fSr947WqxjIQSCJIBMkbEjfzsiYxjKiYxjCJjGMImMYwiYxjCJjGMImMYwiYxjCJjGMImMYwiYxjCJjGMImMYwiYxjCJjGMImMYwiYxjCJjGMImMYwiYxjCJjGMImMYwiYxjCJjGMImMYwiYxjCJjGMImMYwiYxjCKyfm1srmzqGoUm/cL+OtG5ZSUXbVGm1dDWHY0Xpq62WjyEFLFaz+str2iTNSK7OVSyIxDuYgbRU7KNxgXbuLg3FflkUpE0doetFv2Bh3C+xPRK9V+FnY1ADS0dQNR6/2vEg4OdYqSMBMQewYt9Y0DkTTMq5aQDb8KqqVJyRAh0FlZ6s4wSTA3u9oCPYm8iJgAw9h7gAREAN0Ih7gDsAEQAehEBoc0EZmBwmZlwNiDFrQY3B08wighH1w7QEQ3kf8A8Gz1qjLqyTKLUYk4eVRVyRR4R8YrtJP/AIzprrsUhYiVy7O3bNmqjlmR2s2F8wB13Dn1rbMwSnHD/wBHj1pgSr67Nu8CP4ja4lFnP4tQERXim7LkEspPoorewDmrwyZCNlTPljpMyFcDOKKKZuhEnQlD2gIGEogUO/3eymAfb2Pft7EvgBEOwL1v9ofHXYD48iI9AAddeRH7h5/XyPnsc0KlEgRh4sL5zY+Ek3AgwNhF5HJFA+l65Uq/MdNl6OPrgAdMrlQBecJqeySUBqDcxypqOt7EE4nKuUyYEIJ1vasiiU6ySoodgz9bSyOWLl8X0c/WqAiD5FiZI/ECgtnH1DgU5lkmbvfLaRdMATER/aDRk5YmV/5H4tNZVNMJzgTIHn2j37SlEREwiIF8F7MIj2YvY9GERN5N0IiI5qJSD12Hfu7Hoe+h8eew+BD79D478gHfnJnpCAaF7eLObQWjW5toNZ8pVm0QPOL+6g6S9ZDbjuUJHMvRn9W4wC4XTO6lNDa5iW5U01VkEVCrm246jxOqoRNT2qSBEgbKgum5XAolHoH3q6cyUUSkjvRG59yMqvLrMWqShqIwijsExb/SfOJRVyodi4UBZciiD5kjGlWanBCacNVCPAnk9hP3v3Q/eH3GH/6jAHt8j8iIAAAHfwAAAfAda+wvXXQdfPX9P6fAd/n9/kczLZ8LMthuSBYaEm86b/KTQW5SCxriTIJzSNNBMc9t7qB1L1VfUGepuFo/0OeWCaaLs7dEJzbmu4dw4S+oJSuQbhXHyiJQTD6inZFUQP0miuskP1h7J/6h3q8Gk3zau+hDb5NhGNQdvXM36g3GuuOlEVh/+U/ZzclZmo2SfKFKoq8imE47fRxCFTcplcLs27ydD2F/Ifv0AmEeu/kQAR8D56AQ8gA9AIAPWae0nQlAoAAD8AHQeQEfAB18+ewDrsBN34Ee1tmgHmJn5lZHv5/2hQTOOf3rTOEmL6D9BQjuPkk0VG5Zj1PuOlel2pVSJqmNMRDnVrg8WCZROkCartV0C3tBVqQgnUT7Blzp9bR4CKo+hDWmBF2ajn2SXqr8d01GyyaiJEmDtJlpt8cr52msdcoomXZIg2Mks7SUOQq05QFL+v8A6h/6hHyIgIiPkexAQAAHyJQ/dKIAIhm77j/f/wBv/f8AqblAALQYJMmQdo/KRpAuVSZ2A8vIc/JQi/8Axr+teVGUOf0PKEdRg3cKskUPVQ0gY84qn9AyDZgdXRiKLdVcFjJlUlTxrYTtXR1VWpBaFdfMvze9bVMkcdL0LqQud6Up3KKfqsaFIMT7lRIKciZbR5CKrJJgCqgRKkij7T+1JZZQvtycPGbzCwFOmI5Z5OkTLyJEcrhRQsJ8xvWjEGf4j0V9ZAVwm5VcfhvVL1MqowBMFTJNXJFuPDYirtcSpJoCyWdNBE4mdOm4AYM3u+YfrRNRL9H0XdWSQg2ZLGFn6pWrkimWdIgdZn7pHjgyMVWOU9yT9T6YtxOBP2YvIpKHWRmkxkzD+hv/AO36uPL7lWQAQGi+9520vGw28olQjG5tetcDV04D0NqMZVs6KkkxJ6q2izO5FuYFhFy1MpolJikUgETKKb181WFRYnSZkyKnL8p+cHrWkctSK+hfUyNVkSqrumnqnaDeqM1j9FI1O0PpZmdZb3gBFDpKHZFA/wBQ75ugQy5Jw82j0IgA9+fjrsPjofPX8Pv4EBEo9gPQ4I6n09P2+ZhSYIMA3FjMfK6g4H1A/V0j/wAS9nvQwsBIpj+Haui1T1BOPlrsCkkowi3jhFjBlpkQm9jma716zVmW8odBReLWTQQVOu2Kp5hn6rHqMILLN7L6FfKdmdOROzRWrG79XWtuukiBzqKmVUgoIU+yFKVNcUzRayxzJJyf/L+oM9oEIXsSlAB93uHr7m69vfz8iHjz9+vvmnsKIB+6I9dde4R7D29dfvCIm89AI+R93XY9j2OaYWsAljXxF3SSbjcEExEfpstFwIjI0dQXTtzJGx997kwXs/WM341ZRx7N6LfqnNJKRYouvwNT1TQLc0ZKGbkVXbvJFxfa0DRRI31SpJP27Nyt7CFO2bOVPwifWm9cizsWqTmb9Gf1rWwKIkcqBEcPqnOAkn+JbtTkAie6GbpRb6zgolQBqC5m4HciiVukooWeT2gICAh4N5H7dj4DseuvyDNBIURARKUTAUxQ7+PaYQ7Dz2H73Qd+PPXXxjPTk5qMz4vzublALZBkkG3PksqClL13KqydqNrj6W/rO0BIsclIJP7LwYK/YOQV9wi0RVpm0rWsk7TEBIcj5BmmU/RPqCcQAfqW9fvizHtHT6f4z+ozV28acE5kJ7hVsputDGEVAOaQI1Ve/TSRFu4Kqol9YhjpimiZRbpM05nsL337fI+BH9PnoR7ARDvyHYD9/Adjj2F6EOh6Hvsfcbse/uJu/cIh9h77L0Ht66DqAsgxTIMWEx/TNy28abSb7IoBJT/EvelpW1FW91tvIiiP0XJGi0XauJfIJm9buFUwUSKqLSjPGg/XKI/RRI4MuoBDrJlMgZJQ/uIz/EeejtJooKf/ABT2ePMs1K8MSV4tcvGJUEDIpuPeq6V0R+zhKCShTgdB6ukokP10VlUAFbJwVEUli+1VJNQvYD7TlA4dh8D+8A+Q8CA9dgIdh56EPjPExanhSOYn9w99HaIG7EBEQN2JBH3F9xuh77DseuuxDKCARmaSN8rgCNOYI57b6KiNwT5EC3qP1UVynrk+lI2jIqbk+ZdBgYmaQZuIyQs9a2XVmrgsixJJsEjqWKkRZW7p3Gqov2zF19B6qzWRdEbiiukc3oIz1q/SZmG5HTH1B+LZkjgj0DjaUEwcFM4//JpKNX6zZ0gsIgJVW6yKa6KhDprEIdM5SyGvtca+k2bmOkaPUH8e9TMm8j31ahnjJ6QUCtjFdNXLJRBcDNikbnBVM/vQIVE3aZAKFJnPDviQ9mZCyPuLnHV5YZZt+Elp51pLWjmZk2n026f4WQk1qwd89bfTatSfQcLqJexsgX2dJEAo5A/whwp2FyC4mwmYiLR5mdArLCLNe09SL2BO25nrc+QtpbesV6U7s6aafqI8Ok1FFwbEI739rhgYFhN7TAf8dPt/pET67XVUEiSBf31zpkEDD6xD1VPTDc9fR9Rbgz7jpgqAKcsNDomAgd+7si18TMBye04KpGD6iQlN9Qhehz3a/p9cC3LczVzwm4kuWpgZFFq5446ecNhCNVKvHB9BanKIgDBcpVmfRP8A5ZYPqo+xT97PJr+l96bDpZ04cen9wsVXemId6sfi9pIVXZk3H4sn4pT/ACR7nAFddufasY5friZUQE5hMI5bQHT1iIty3nqddNUbk/mzTzBEexEru0PUc9PV0mos1528N3SKItQWWb8nNKLooi9MYjIF1UrsZNEzw5DlaAqYguTEOVADiQwF9G252cInyaazHmLxYeoqin9NVpyC1M5SP9Xv6XtUQtihRBUQH6YgPRzAAFEREAGny3peemyucVVOAfDUVDFakFQnGfTaZ/YwbvWrIgGSppDFTaN5F+k2IUQKiV44BMCiscTeelPSU9MKZRBB7wB4ilIVVNYikfoXXMO6TFJVoqCKT2IgGLtJqcWLZNdmmsRo5bJmaOUFmqyySjwgOkmY8IAsTaxM77QPdXwQfzTtp98/vW4WL5d8UJwr08Lyd49TBI1MqsieK3PrmRIwSOJwKq9OzsixWqZhIf2nX+mQfYfo37oiFSGG2dWSorfsvZVAkvw/X1/wFxrzz6Hf0uhW/DyKn0wN+IbgX3+3sV0QARFUgDHaHog+kp+2ZGeHgDxwF/KM0mTlMaOgMWRFJEzcqrODFcYSNfGSMYVZGOj2sgsuZR0s6O5VUWPQKe/w1/opWI0kZ9wjhWoy006nnn7D3RyQrfT170CzZiWu7hiixcKToPwtejStIBgJSmYxjYxCmDNiGzmBgEiLA2tIPObRpqsmJtMddfuVOKi+ZuEyLN3SC6KgEMmqgqmsmoVToSGTOmJgOQwGKYDlESiUQMA+3sc5veT/AKvd4/PoRDoPP2/IAHoe+ux+Ox6GCJf/AA0fouKnKKfD90yImRIE0Y7kVymYtyqIgoRNdRuhuwqC5wIsoCiblNdBco+xZJQpQAbA+Wv+Fh4+7Gla9TeG0dXeJdHVr6RbjueW3Vyh25s9nNjPqPFWVM0w/v1c14umWGZt2h7PbdkSaag2B4k0o0arWGMlYdgNgS6+9iOWnudJ0VAb/VB3sY8vO+36LLGhZ+EsTT9oQEvHTTD8S+Zg+iniD9mLuMeuI2SaldNjqIGcx8i1dR75ApxVZvWzho4Km4RUTL2/9/3/AH98jv8ATG9NvTHpY8Z2vGXSNgvlxhHlxndk3G6bHnUZWyWm/wBljoCHlZNNhGsI2BrkKlE1mEiYeBhGSCLNjFIOJNzOWF7NWGTkQzKhibGeuiYxjCiYxjCJjGMImMYwiYxjCJjGMImMYwiYxjCJjGMImMYwiYxjCJjGMImMYwiYxjCJjGMImMYwiYxjCJjGMImMYwiYxjCJjGMImMYwiYxjCJjGMImMYwiYxjCJjGMImMYwiYxjCJjGMImMYwiZxrKpoJnVVORNNMpjnOocpCFKQonMJjHEClAClERERAAABEegARDkzGOSpQer96qPPzjXy8s1wQ4h+nBJceq7r/hhCTclTKdvm0bSqMzeJLdXItOGkms3sqDbyUOyHWNc/FtakxhP2M5VjmsmraVb1RE3mN41RZEert2ab3hH2SW0vtnWm3Iqm22WoFuk9YXurX6Oq17gCNlJ6k2N9VJWWbQlugyPWRpitySraZjCvGpnrNErhET1Oyh+leNHHjjezmY/j/orTmj2NjLDhYmmotaU7XKVhUr7VdlDLT5anERX7bXi2jlw3jlpL8SsyRcOSIqFBwt764ZPfbWJ0vMW1nRExjGETONRQpA7EDGAPn2h2BQAPcJjCPQFApQEexEO+vaXs4lKPJ/f9/lkCPJW4bc9Rbn7s/009TbbseiuMnE7X2rr16gF61zPzdW3btCx72h3lm1Fxr13ZmAR7yhVCRpMaF62ZfYF/IuZ+Ofo65UaNWTixN5qiJEmBNzyCobmm8ACSdbAjle+iux276zXpk6K5HVbiZszlxrqI33arPCU1OmxLa0W5hWLPYZlSvRsFsa7VCAnaFrGW/bAIN5KL2BZ65IwTR4znJ5rGV5f9rFk7KYDB2A+BAB/kIdh5+B/iHj/AHy0bWHAvhpp/RQ8aNf8Z9KQ+il0GycxrJzryuTtVtLts3YtyTV2YWFjKGvFkWJGRhndltys1POzxrAzmQVMzbClcdDXqnWCftNSg7VW5i00VWKRudajJ2Nf2CpHnmij+BLZYdsupIwYzkeiq+iP2m2bBJs0lXTEXDchlchiYbMf8o6cidTOvzQ5SBlBFrz6dBG+vNetxjGFExjGETGMYRMYxhExjGETGMYRMYxhExjGETGMYRMYxhExjGETGMYRMYxhExjGETGMYRMYxhExjGETGMYRMYxhExjGETGMYRMYxhExjGETGMYRMYxhExjGETGMYRMYxhExjGETGMYRMYxhExjGETGMYRMYxhExjGETGMYRMYxhExjGETGMYRMYxhExjGETGMYRMYxhEx0HYD+Xx/PGMIg/3/fQ5EF6kHpoH5FSCXLbibf7Bxm9SXUVPctNKb7pEmrGRmw2cI4NZIzRfIevAcYDZWnbfLNUYl2jaI6WUqf4xOTbtpeCbTFOsV9vLnUu295cd9j6x0Rv2x8X9wWBpBO9f7zq9fhrXJUew1q0wdpbGdVmfIeKn69YSQqtVtkQ5FMZCrzkw2SVTWUIYIdm/DH16t0UtXUnIf1QOO2pKNKxslDXPYvFXjW7HflwgJr2MpWKjrVbnNPrusJcIb8WlX77r+vsLDWZORGRTaybmMamNWgE3IEQbmCZtb5/NUCb5gIiW2k3E9dD97yP+l9zPW9QXgfx05av6oWkWDalUmm9zrLcxTxcZsLXd2tGq9iFrxgkphYaq8u9In5KpBISbqYLWHsSWaFOWK+RSt+5yeoJzX4b3mdn6z6WGyuUPEanxNem7hv/AEdyAostteNYPmzg1qCG4pr01S92JWmO0SKSC7e1tIZWBVPPOJeMRZSDRrf1xY4y6j4cce9V8ZdFQCtb1ZqGsJVusR7t0L6TcmVeO5ecn52Q+miElZbXY5KXtFnkyoNiSNgmJN8Rs2I4BAlsPPXnLaeM9fJrjQXH/cfJ3lzsitvB0dqvXms7hKUT9rvJJKsMbXuDcIRqOsNW67rk47Rf2p7aLhGyf7HauFWbMWwqSLUYkxYbA/v9+iRmd4YAJtNgLDe/KxPuo7Zv1gNi+owvT9DeiMypt62NdNSRW1N1cqt4R8sx0twirdoXdxdfq18rLOKmHV05ITshH2JlVNXtP2pDMnUMFskk7TQmVoewk2vF6J5CwOg9ZwnK6x6/uPIaHrxYnaNw1cwexVHt05GO3TBtaYeKfsYtWLXsUO3jZiajm8ZGxjKeeyjeHj2MSmyapQc/4Xqka31h6bKdM/aES15QtN/b8LzNqD1xHobCpW94vaFhqpape4YAJKRT2NokBTTsEFvqMHQPHMlFLKN5A5QyQvz/ANf6BmdwOh+UfuhEEg7ckzH65+uJL01+dGv/AFX4pJc/FbdEFr/iZ6lkPFRBXi9MgiT6sfxy5eqJsGn7Rel1hZbGlrTZC4uJOVJreZhmlXrcrKokOyyBcx1PU20F6lll5f2m96N0TCc3uGW7/T+2RwxufFqxcpkeOdeod+2tcP2ncN1zMfLw7+HtKq9NiK9V4+QhBPdkkHUq2ZS1TSiYx9I6Fz/eFpgk6gCPFJiWyJE/P0WQM6sUUjU1bci9aO4VGCNY05GPeoPWDuKSYGkSvGj8pvoPGThmX6rd2Qxk10jprpj0JTBAV/ht9Fx8XwR/+OK6t15HlH6j92u3I7kdeXL+QdBYnKm0Nmo63h4hk6eOG0RXIGrSzmRjo5uU6yT2zzArO12osGrCSz04eP8At/jjwF4wcauRlkg7xtDUml67rG4y8A4dP4BywrzZWGgYBm8kY+PVkWsFTkYWrqOzx6APBiVlyGXTWI5VjO0R6eHqucNaxJ8QOInNLi1U+C8bYLhI6Tv24dDXvavMTjvS7lZ3VpLq+qtFr5B6X2REUl+/ftatadnEmZA6Us5QfV9KFZV2Chgg+Evawm/ikgwb6ciRHyWY1ANtPMTz+ci/pMSC+qfz4o3p1cMNs8grBKQpryjBvqloykv35kZTZe67EydMqHToNg2RdSkksMqJJqcCPZODxlXiJuYdfSaMFlAqb6d9O3xQuD3Fyr8obxcdi8iWmmaS/wB02i/ni17aOxp+IQsForku/h0UWEuNHkpRakMpsPxLyajq80k5aSlpd0/lXuMHsf05db7W9cz0+9F27em7+Ym7OOGt7Nzr5p7f3xsNa1QjKtQ0/UIPQGpdaarjJ5Cgafr01u2Pf7JsWpoSotwjKvfouUYP39OUTimGaOQoFAevuIj57+/j4H47678AAd9iAYIAMBwcIBzAETYc/lvz6ae1rSA0l0iSSCAZAiAbjfXpC3YxjIsJjGMImMYwiYxjCJjGMImMYwiYxjCJjGMImMYwiYxjCJjGMImMYwiYxjCJjGMImMYwiYzaYxS9e4QDseg/Uf4fI/ywU5Dh2QwGD8yj2HyIfIePkBD+ICGEW7GMYRMYxhExjGETGM0EegEfy/v7+MIgiAddj85rnWSMzDxKSDiVlY6NQcu2bBsvIPWzNFw/kXCbSPZIKuFEyKvHztZFqzbJmMs5cKpookOocpTff9ZISfVBRMUx7/fA5RKIgPt8GAfaPRg9oh3/ANXj58CT0PmdD5eW/VcmM2JqEVIVRM5VCHKU5DkEDEOQ5QMU5DAIgYpgEDFMURASiAgIh5HfhExgfgft+v5ZxlVSOJgIomYSHBM4FOURIoKZVQTMACIgcUjkVAhuhFM5VAD2iURIuTGMYRMZoIgHyIB3312IB30AiPz+QAIj+gCPwA4Aew7AewH4EBAQ/kIfIYRa4xjCJjGMImMYwiYxjCJjGMImMYwiYxjCJjGMImMYwiYxjCJjGMImMYwiYxjCJjGMImMYwiYxjCJjGMImMYwiYxjCJ+WcQIk6AB7EQ6/eH2iIgA/A/u+0CmD3FEpSlD2nOAAHuHOXGEVDXHGTjk73PF8jXWhNMuOQkIycRcVvVbV1GU3HHxTmMkoZeKabOPBGuzeMWiZeSj1GCU4RsqzeuG6qZ0llSnrlmglARARDyXvr9O+u/wDbNcfpb3RMYxkIBsUTMbz/ABJ3qr7C9OHi7ragaCli1Pkryysdtq2vdjvkYw8Tqmia5ZV+Q2psMv7Ybv415ZWaVwqFdq8U8j1UwVs0jZWyqkhVmERM5IeRn+oX6TfEP1PJTj9IcrIK42Ftxzsdqn6fD1i1DV4ybb3hSnKWyt247eNdSr+uzhaLX0XbWGlK/IFIgoo2lW7grdVGgRYKtIBBcJE3H3Ci/wD8MPwVkdM8LkObO+2ExZOYfOdd9tG67O2Gd5YtnL6elZUX+t4qQuVhlLBMSTbYTJqx3BOSTd5FrWdSx1RGxsnj6lxT0mTeHfY/l46D8s62GhIeuRUbBV+KjoKDho9jEw8LDsm0ZERMVGNUmMbGRcayTRZR8fHskEGbJm0QRbtWiCDZBMiCKSZOz8/fr+nX/ccKEkmTcwBO8Db5BMYxhExjGETGMYRMYxhExjGETGMYRMYxhExjGETGMYRMYxhExjGETGMYRMYxhExjGETKV7x3Przjpp3Zu99szg1vWmoqRZNg3ibKzdyS0fW6rFuZeUVaRkekvISj4zVqdJhGR6C76QeKIM2iKi6xCjVTLBPVH4dyfPvgLyW4lQFib1S0bZpLFOmTz5RwhFMr3SbVXtjUQk6u0RdPEK0+uNQg4+zqs2jx4SvO5MzVk7cAk3UhBIMWKoyyMxIbIzEagE3jrGnVWRaytfqp+pBEVjctWvcb6WPEy0s460a3rzTXVF3jzg2vVH6ou4mx33/ijGzeleP8JaYFaOmoersqhsq7xhlASnJEqDr6LeTzino/ZPHvXk1rvYvIzZnJ0pL1Y7DStg7la1xTacXULILOVCl3CzVWPg4e6KQFmXsikBOoVerljanIQVPQhyMas0eOrNfT59RtDfVpkuH3JHUdv4qc/tMa7jZ/aOg7dD/Tp9zqcO+a1OQ3ZxuvccvJV3ZejJSynTZR8kylBka49X/YbxB63aIT8pdxzK1ryc2jpWSg+IvI5HjDuyMkkbHXb2+1lR9rQNgCJjJUyevLPXrzHyDWPrFrlVYok3Y4FJK1QzJmopCqioqqkoAMAG509zZVziSQAGt1Ai+ggnYabaz73WCPnr56EBH90euh93wPwI+Pt5Afn5DNQMBu+hAeh6H8wHoB6EPt2AgIfmUQMHYCAjiS8YPVc5betWtx447cTr0HCmdT4uut8c7OQ0Jr6uXuwU67M79YdLxmoePtbvcjYIOPTvFzqdivbW0z5puXgderx7FKTa2+El20hlRaxrtrqGuKHVb3eXez7vWqdW4C37KfwkXWpDYVkh4dpHzV2f12DAsJAvbTIt3E47hoUiURGOHyjOMRRYooJE05paSHCCIn2kfVQiI6iV7nNB+3fX8/z+3X+ua5GlzL5AepLpnaVIYcQ/T/AKPzO09Yaosa3TrnlbROPd3oN7bTC6Jm72J2JXHsXMU51BKxbuNf11xPTTmTLYmspHV9CMhD2iIASQAJJ0Fv1hSVmMUolATAAmESlDz2I9d9B1+QAIiPXgPPYZwg4TMUDkUTOQxQOBiG94GKICYpi+3v3AYoCJfb7vd0Ih3kI0/t71uNrMp+kSXpu8L6TSrbX52uThbr6gN4kTnjZyPVjF25pvWHHtvYGfuavVyrOIWLTekAihmEgycig5SirjfQI5oCzg2mj3nCX0srE1lGaS+4uB+0Ofll20yqrOUSmF4mRUtm2NZUjZv7VeItiSqV7roHdtm5PoOmijOPO0LQptmH1A2NgAZMidSImYm+vvmJlMUfBfgAAQHrwID38D9/ID358ePz82/cs96teL/FzkZySeQa9nbaD0ftPca1bbOCM158mtqTN28YZN4oRUjMZL9kfgxeHSVI1KsZwdJUqYkNH16NvLHf3IvVvJnU/J+x1DZ26uEHLPZfES17617GsISnb6S13H16RjNh/wCX4hu1hqnclWs5+ybxUoVL9kxMrHIumn4YZRWLjpR9sa6pe4dY7D1BsaIJYKBtej2zW92glRckRmqldoF/WrHFKrNDEXQJIQ8m8amWSVRVSKoZVJQh0/cUsxldBvBGn6aH6KA7QvpK6+9RLUOvOWnq22q5cwdt71odd2nVtVMNm7J1rxs4s1zZMDG2aNoWgqFqu9VwqMqxg5CHiLXsydm7JZ7bIQqMghKpJf8Azcjed62XIyvcUfSl5q3p1KKMpV7oC16jo6f7bBrOK3HcbNHT1TesXjxdR+7dQUtdGVhfLgdZ5+AinrtRYDEOsEGOsvUY35xD9PSa9Nuh2qvq84NA+odRPRj0RuiytUpKjQlS2Ys+f8deR9xQXjhrka3qGloedqrakprXR7FWnXkA/usIrFzysKtYV6of+Hq1dp6z8Ltp7a5gcneWu0Oanqe8V+LGwdlbQskI5lmmmN0NX0TKNmEg5a2B8/tcY7rjpet2o8mzr0bX3DCuoUgicWMm8LmDMz2ipmEOGUfywAHRIMCBqbzzsVmz8Dq9X9bcH+G+t427wF0aa94pceqS1t8PPRE/F2hnU9QVGERskbNQ7t3FS8fNoRn7WZysa6cR79ouR40XWbKJqDXfZG39Y6f1/b9rbQv1Somt6DFOJu53WzzrGHrlcjG4lSM4lJV4um1aio4URat0TnFd08Xbs2qKzpygmfHYpn+E69GCjlePrTrLbN+QKioosN+37dYxiyKP01CqmUojugmArf6Kv7y6x25ymWBdNUCFIlaJvf0qeCHEzkR6dWwuO3Fzee0fTfmbTtnZPI+F4zQe6+cNT27umpVtifiHM7roUNddh2Ge1nRZac2fIU6ywdNvECjY5BWiWOLUi9hunZAkwIuZ3H3ooGU3xLqlzaWtvBaYzZheJ9vRTT1T1xuC9sGhzRP/AIlqzqPalsqlJ1pySvvELklReM91n71OI1ymEjd1WbW7CnsYmzzDhBnF2KedxFfH3nVdSTVFu6UQtZ9DaSnd/civWb50PbHJTVV3tz9caK1iQ7ZBlBPdYcOKsrQKRbK+Vqikg/bTsBcI2HeSQfWO7cU8CuHCkkjIGzxHPvbXMP1TOIvIvi9xi9OPdutqRc9dzzWy7r53MP8AgB+FeVhFleqiz0vouBmLHuS/7El5uFhTUybmoqm1aoWYjEluM6dN3tcNfb6DNL1lQfSD4GV/VM4lPwiujIiyW1wWTayrmM3NdZaXue/qtJrtSJ/hZilbusGwKhLQzshZKvyEG4gpMAfx7gAyDOkRzvJNtdvZR7GNFgQ7QiZ5GZ5nU2i/kpdMo/tvkLoTQMU1nN7bt1JpaEfEdqMZjbGx6drqLfEjyJKPzMpC4TMO0dgxTXQO8/DqqC2I4QMsBAWTE3W8nLdtCgcbuQN80hUA2Fuek6S2rb9RUIWjmQC8bQrVFnZqgVAWLJdq9ehZbYyiYUWjNy2dOPxv0Wy6KxyKFxVuE+5vSMNqKn725ehbfUI9UTZ0Kk/5AUzYXFrZXJLlPRtzxTEJm4aIo/HlDVktH6FousrYrJUinHj61QqA7fMRX/zUIukjteQNJaXCLECNzpJ6AT5dVljGuu4nWA1oEk6iS6AALmeY0upSfVl9Smj1L0ut2bm4Lci9U7L2vsW6Ubitx9uOltk1HYBVN87estdgFYGpz1OkLDHE2VVNczVl2LFxJFiyrVGEbPwSRKogoaQ7kRybonAbiM+3nyMtlgtzLVdPpcFOSUJBJSN72zsWTNDU6EiKtV4xNk2e3PZd1fs2kZGNyxsS0fS5nT5xFQTJ48Z4oMT6S+yHHqBcLvUdsnGqycR+PNh9QijyEF6e2l6mtdm2iYyO07NG15yu3JB6lB/rXVdlve4NWarabgY16CGB1rEzsGNzuruTjpcW0t/+JL1VedicFNP3OqWHYVTpfHnmtxw5B74uWqoU1ovlC0TTXVphLttCu1RP6ytke6od2yD2YWPLHyrdqSpmmpNojDxMjJMMNa5zhcXsNTEx0HL033WyxocxnNxm4J/lkW5e150K9yn6xe6NYbW0dWOaPpo8gOIWm+Rm0qvpPWW+7Bs3T21oFjtK+ulW1DrezaprackZvXRbEqiLYzqSXdmjX4OEV2qrONlZBhONMS0bBRclOTMgyiIiGjnktKykk4SaR8bGx7ZV2+fyDtcyaLRiyaorOHTpdRNFBEh1FDlKURzGIT49aY5kBo6J5Xev5XOaGjnOxNYbR17o2A/+CTSSWz7pSJ5qaktpKc1PHx+xpz32QDR7yAgnkHLLy5jRyyzaZb+5KX/1a1p9t6XHqLLVgpDS5ODvKgU/qKuEhSZ/8EboEq5bGaFO4/aLWK/GrRhESD9WSK1SMZMD/VJd43EyOX397Tl4aHADQGCQTBFriRqBeJi+vKuvEflDSeZmgKPyS1pXdgVzXOyjWJ9Qw2XVHVLsVlqEVZpiCrl/ZQLtdd4nUNixMW0vNDfPPw7yVplggpN4xjnTtZi3ZCdxe9bL07OOnC3gtpqD2HceQGya5w043N7FqvifrK5ci7draPgNS1KsyJdlJa6YSkLQJGCnI9OuS9VtE5G3ONlnDdB1WypC4ct2LfY/v5/enE/MHENALZtJIMW1EHruZ16HJIxjGFUxjGETGMYRMYxhExjGETGMYRMYxhExjGETGMYRMYxhExjGETGMYRMYxhExjGETGMYRMYxhExjGETGMYRMYxhExjGETGMYRMYxhExjGETGMYRMYxhExjGETGMYRMYxhExjGETGMYRMYxhExjGETGMYRMYxhExjGETGMYRMty5GUbkvfKo1huNe/qLx5s5nTwJW53LRht8Lnjl2KiLMkBAONm60h4eSYPlCvBeTBbYzdkRSbqxhC/VFW43GEUV/Hb0uazrPkTAcy+QXIPdnMXl9W6PPa+rm3NrPaxUavrur2xZdzZ4HVOoNXwFVpdUhpZw7fFInNBa5hgyeLMUZtRE5vd5bm4v6nfIC9y/E7iHSYPi1pmfhYdHZnqK3y9U6y2ZjXp5k0/wA1Vri9oinz0hdzbIYNJFeNabB2opr+vxclGT560ZR6hVbY+l4ApQ76AA7+egDz/HNOi+A6D/8AR8fl0Pz+nQY5QAYIN+l/lqqSXGTcwNgLAQLAACAOQWNM89Mzc/pWchdJ8lPSY46U/e+t47i5HcTOSnFCe2rVdObB2alCXl/falyPrm3LnHI06b20WwTc4XZAW5aLaSMAmyianBgtLJOajNXx239urcchKNtn8Ld68XY+PiUXrSZ27euMdpazsoZVsi4hIhlonfG25pI7f3unBJGeiYFi5atiiQxXi/4NK68SgPyAf08/n8/x7HAAAd9AAdj2PQddj+Y/mP65pzy6JAJAguJJcdNZPL7val0gCLjfp96+Xtr/AH/f8uv/AGzb7CCYTe0PcIdCP5h2A9fwEQARD79B38ZuxmVlaAAB8fH5f6f7df0y0DmXoDd/JegQmqtS8obbxQrM5NnDcN91VXGLzeUzRCtRA9T1FfJd+aJ1FPSrsQCQ2ANVt01HRyZm8AyjnzgZFK8DGEVvXFrizo3hlpOocfOOtEjNfaxpaCwR8SyUcvZCUlHyn4iZs1nm5BZzL2W12B4Jn85YZl47kpB0p/zFQQRbopdjyP0LA8l9R2bTlnuW0qBC2hzWHbi2aX2LYtU7Jil6rbIS4MjV2+VZdvNwQuZCAZMpIWKpRkYZzJxLkDNJBco10z4ZOSjoaOfy8u+ZxcVFMnUlJyUi6QZR8dHsUTuXj588cnTbtGbRumo4cul1E0W6KZ1VTlIQxgIoqZj0SvTmsXFFDhlYNHuZ3Sp90I8iJwslf72rfrZuw3128nsq27NSnUbxZbXPQjpzVZqSkps53dXVLEEKgg2Z/h7hOY3APR/NTQNS4+3t3dtZQms79rXZ+nbrpCfZ0nYWm79qJ99bX9s11MPoWfiImVhGBncQj+Or8o2Rj5B4DRFq/TYyTKjvHT1d+I3K7lC24vaKPtq6PJfWmwtn1DeI6rsMFx02LF6quVco19itZbMsP7LNsN5X5q0RQuLBUoKV16uioKLO7OJJZnHOZQeu/kAHx/fz9sLTi8OGYukEG9/Ln7+6iBgfRc40S9lY2nkztzlxzncxT6Plour8weRdw2bqyOmY1yg6ayyWmIMlM1I8WUVbIfi2UpSn8Q4KUxDx/sMcDy3RkPEwsbHQsNGMIiHiGbaOiYuMZt4+OjI9mgVqzYxzJomi2ZM2jYhG7Zs2SSRbokIkimQhCgHY9AHwABjChcXRJkcthzgAAa/5XGKSYj37Sgbz5Dwb467AQ6EB8h5+Q6Dz2ACHwxUNEQbdRnCRUdDtFnj6RWaxbJswbqyEm7VfyT9VFqkkmo9kXzhd6+dnKK7x2sq4cKKLKHOPZYwogh34zhI3QTE5iJFAyvtFU3XZlRIT6ZBUMPYqCUgAQBOI9FAA+wZzYwi2CQgiI9eREOxARAeyj0HXXQh+Q9ddgAAPYZtOikqUCHTAxSgYAKID7QASGTMHQ+BASHMXoQEBKIh8Zy4wpA5aR9CBfeyt9oPE3ixqm5yex9XcbNCa32FNC6GYvNC1Br+oXCWF6cVHgyVkr9ej5l8LpQRUcC5eK/XOYxlPeJhEa9uGzd0io3dIIuW6yaqKyDhIiqKqS5DJKpKpKAZNRNVM501CHKYDkOYhgEpjAPPjG8789/daJJ1JPmZXhaVq/Wmtok0BrvXtIoUEdYHJ4WmVSCrESdwBRIDg8dCsGTMy/sExfrGRFToxg937w9s91jCiYxjCJjGMImMYwiYxjCJjGMImMYwiYxjCJjGMImMYwiYxjCJjGMImMYwiYxjCJjGMImMYwiYxjCJjGMImMYwiYxjCJjGMImMYwiYxjCJjGMImMYwiYxjCJjGMImMYwiYxjCJjGMImMYwiYxjCJjGMImMYwiYxjCJjGMImMYwiYxjCJjGMImMYwiYxjCJm0w9dD2AddiPf5AHkQ+3Yf347Ad2aCAGASiHYCAgIfmAh0If0wihuq/O/mny9bvbv6evE7VU7xxMaZRo/JnlxvGf1FXN2K1u0v69KPdS6k1vq7aWyzU6XGLff5Yv2wz0BCXanRm4+tSMQdg4k4s/We5O81uVHLLVXo3cStHM9mR8xpnXvKbn1X6lvWI1dOWXTKt+Cp2Hjq52baIWNNSNaS799SH2wrfTGdg2JdazbouAiYGIgkLhFW2+/j1oL1YeAdGJxB44VHiHyb4x0c8/EcXdvb53Ns7UO1dRa8dqPZOr6/wB41Co6g2JHbTLQXMkFXrlg17JUhezVaDj1ZtnU3rk/4a3/ANJrV9vrPq/+rjZuY1v11sTnYnR+HqMVcaZWpbX9XPoC56nhp21ROiadZJ6ZnVdV1rYVfpuv7XY13sk/lLJQa3L25xGWKwrMl62T4gJygOjciQP1WxkAJbGVoBbJ8brtFzEzqTOw3sqEennzFi+PHLTkXX+enHbk5TucVDq1U03Q9J8aeG+z9v8AGHjNwchJZ8Gp69xgfaDgdlz8rrPZc1Dp2jYOy7TDVta13KBgKcWKjE9XFjGeTJpPktrjfpXI0WG3JDi0YEk1CbX48750eKjRVYrdMWZ9x64o6Mg4E5uzsWCzh+kiAOVGpWhirmj3ktr1LZXrcazoOmpOvz1m488F9/seYsnFQJZg1UjtubT46TfGvWliu0d/yK/eHUhT9n36Go0y+O/LTHU7PFrxUZ1jMozEh8fPffx46/Px1+nn+X8M0+LSL5QRsBMHTpceqtQRlM3cwEjkSZuDfnAsrHOTvBGl8qrjCXC5b55d64NWqlIViBrnHvktsrQtXaP5F2/cKXZ5Ga2lIM9guiCDxOPayNlcy8c0ZsmZEIpI5VjLQYb35v8AKT0IN+aS0PurYu7PU/4zct425VfjCxniViU53673NRFYNtH63nLHHxcCz5B1PY0veqdGtbjPIt79FSMs+RYNHDetQtcu+SzvPbjDQ+qLptqUpO0tkM6bHIPhoultfzm0doWZw7fs4pjE1Gj11JWTmH7p++bFXWOZnEQzD8XO2KUh69GSksyw8N07U2BGetXw29Tv1YOMux+GvDOt6cvGqeJ8tYZWKv8AA6h3CaYfhTrXzRNTXlogNTT1/YbLsbiusItc4w0/E62Xl5NRlrTZc7CYUYCbEiBJAIBuS3qCPS3qsjngFNeqFcn+1dj+odUeNmpqzemlAkNCaC0lPWS2XfSiLdzd1LtB7pu8lFjWrtbpKPkKAh+2KVOOa2V9By/7LiIdJ6oiWTDKM6W5EaC5HVl1cOPm7tRbyqjB6jFv7Np/Y9P2TAx8ku2ReIRj+Vp8xMMmMmdo5bOP2c7WReFSXTU+l7FCHNWUBAfIf3/f9/bCx7DoLAeS1xjGETGMYRMYxhExjGETGMYRMYxhExjGETGMYRMYxhExjGETGMYRMYxhExjGETGMYRMYxhExjGETGMYRMYxhExjGETGMYRMYxhExjGETGMYRMYxhExjGETGMYRMYxhExjGETGMYRMYxhExjGETGMYRMYxhExjGETGMYRMYxhExjGETGMYRMYxhExjGETGMYRMYxhExjGETGMYRMYxhFoIAYBAQ7AfA/z8D/p4yxnlZ6cPETmba6BsfeGt5VfbGq2b6M15uLW+wth6X2/VoWScGdvYBjsrUlpplucV87pV25bwclKvouPdyUu8jWrN5LyTh1fPjKCWkFpgjQj2PyQWIPJW2cY+InHHhvR32uuNmqoLWFamJ+QtdlFgvKzdjudslehkLXe7xaZGcu98szohSoKT9wsM1LfhU0GQOys2rVBC5PHYdiH5fP88YJkySSbC5k6dfdJJuSSeZ1+wLLQQ7Drz8gPgRAfA/mH+3wPwPjPkfMGkk1XYSDdF6xdt1Wrtm6RRcNXbdcn0l0HSCyZ010FkhOisgoUyKySihFUzlEAD7MZEVNqRpzUmsnsvIa21frvXr+wpsEp95R6VWam5nUYlSRVi0ZheCjGCsknGqy8oqwK8MsDNSTkDNvpfjXQK1JxjCJjGMImMYwiYxjCJjGMImMYwiYxjCJjGMImMYwiYxjCJjGMImMYwiYxjCJjGMImMYwiYxjCJjGMImMYwiYxjCJjGMImMYwiYxjCJjGMImMYwiYxjCJjGMImMYwiYxjCJjGMImMYwiYxjCJjGMImMYwiYxjCJjAj1+Y/w+c2+4PuPXx4EBD/ANh/lkLh53iwnly80W7GbQOA/Yf1HrwH8evOPcH69fn14H+f6ffvrMh7TzGtyCNI5jr8k3jflv7LdjNAEB76+36h/f8AXNc1IOhB9QiYxjKiYxjCJjGMImMYwif3/f8Af+2WKcvPUR42cMZGmUzY8vcrnu7aaEqtqDjfpKiWLbvIHbJocDfjQpet6k2cvfwKJk1ynsFleVuqpixkQXn0jMHf0L68x6uRzmL9PX1eanzj2xTmNr4+c/6bpPhC73c4LHHsvEfe8HYp4deRr11IHamr2gN+tn7VC4T7FyLGEvVPYv7adqyewiMwWmAE+ITFwOZkWv7+ikP4rcqOVHILY9rYbR9Pza3E3SDOnNLDr/Z+59s6cltgXSxHlGjR3T7BpDXE5cJLXqqcU7PNN5aRuUoRYjB7FPGUTIHa++QMhyn7EoiPwIj0YA89h8iAeQ9ogIfICHkA7DuP/wBTHlVeOHnEu0bN1FV4G5bzt9t1po3QFRsrgzStzG8d63uv6v1wrZQQdsn72s16ZsRLNYoiJcIS8xDQryNj30UuuWUaW001+j6K3A3eXIjnjzK31y4mUJxbcWzrffJFhKuFNjXFvX64jqHjRQ3C8ZHUWiTdv/DNKPr806jW4B3LvZRy9rVfLInjqRYHYkx5jX6oRm8QbGYwGjplBIN+pN/raZnGU71Js6rbq1VrPcdGWfOKTtmg0zZVOXk49xEyS1VvlcjbVXlpGKdlK7jXykRLMzu49yUrhm4Mo3XKVVM4ZUMf9Oh/v8v6/wCuRZNtdvXpstcZs95exDz2UfPwPQiHfQ+fA9D8fPQgPwICOwVUxEA7H3fl8ddgAj2P/T114EQEQ77DvvrFt7IASJgx0B+mq5sZA1yS2h6gXDe1bw5l695HVL1AuJ2s7nb5PktwzJS9WUbbnGvWkWQ1tdK6Av8AQVWSlmu2pNXzVWsdt1nv50tL7Hr8atNQs/Upq5MTN5ndPbb1/vvVOud2apn0rVrTbFJrOw6HY0WztkSZqdviGs3BvzsZBBrIxrlaPeIC8ipNqzlYp19aPlGTN+3XbJk2HWf3Plrv9VUjPJ3e90vWtWn7xsO112i0qqxbibs1vt0zH12sV6IalMdzJzc7LOGcZFsG5CiZV2+dIIEDwZQBEAH1n8Mx/PV/q8dsjmx6NGn+QiAzHAjaXI/dcBvGmTh2aGsti8lo3Uidj4TULZRDqIvrLHz95hr6MBQlfxtOuEwz/AXWIlChX0ClRE303/t1Oyr1Fet3xAut21lX9P0zltvCi7NvsPr9vv8A1nxI3e6441R3Ny41xpYrRuKz1Ws1tWmI2H6ca/s9T/zRHMgXCQXVTiWj1+jctzo5y1/hKw4rLTdJl7y95U8z+P8Aw7rjKGnI6HVrkxu6Zkmq11eGfR0mpLRdWioSRerQbJkm9mHR2canJQoOhk2XsOXW0+QXH3SLKw8Q+IR+Xuw2c/BV6O0nCbXoWhmcXU1Gb8HllLbLy3Xr7aOgAYsI9tAMGism+PJoAyQI0aP3KGMDyp2b6ufNH1NPTf4zSHHzhxxd29oWq3L1FY2pXval45LVGuxjdGR1BVXe50qLXNcqN5ms2N5YIKttqLJSce7tj9CYa3NuxrrxNwjfnb2/ytDI4yGuaBrJBsILiCI59bdVmepmEUyGN17jFKI+wTGL2IB30IlKIh330IlKIh8gA+A3+4PHz58fA9fn58dfb5zGr5zcm/Va9OvS7La165b8Gd6bc2Bc6zQdI8SoPhhuuItu8Nj2GQZxbDWmmZSncnJ68Sk8qq+bOSvpumzUUVQ7VtMrQ6MqzQX9Nv3nf6vHDzTCXOTlFoLhcx41R0zqpO68Q9XWncFk5o1yP2zM1fXzGvV7br52w0dsfalcvdwjV5Klw+vomFnItlMR1at6jxrHzD8tdw85SC2HRlMm4kfykCCZM35KSvjfzujeSHMjnfxXrFAcMq/wdecf6xL7dGeO7jr7sLcVUt1tttRj6+MC0JEG1c3gIeJlXf7fl15CWmFUVmEQi1arycggfHj7+f65AN/hvYyctfp5zfLa6g4JsTn5yp5Ocvb41dKunH7KmLbs+U12wiGC7wiax4VvX9ZQ72IAiSKANpEToJJkU9hZ+OvjvyId9fb/AE/hhYeAHEDQR7wJEnrIWuUD5C8ndG8VqtU7nvm+x9Ar152nrzS1SdvmcnIqz2y9pzqFeplZj2MOykH6zh87VWfPXJWws4eCjpiell2cRFPnjewfnNzQ5BQ3JzSvp3cGoHXz7llufX0lva7bN282kZbVnGXjLWrg0pM7tqfp0LKwM5si12OxKvqprWlR03Fxzi0MfxNrftIMhgdwI81Ud+6g9Yb0auOXqPeo/KcqdIXHkOpyKrlLacWqPxuruut/66iZqp8V34WTVDaakrq1tu9Z2LrS8ZZ7E7Z1KKcv3FtO0rNmNKpaa3NPQT8wP1+9FtlLMRJAlpd1gDyjprPRZr5B9wAYBHoex6MAd/l0PQB7RAfAh5+PPnvN+W6cqeUuleFnH7YHJjkJaj0rUesGEa9s84lFyUy7BednIyq12KYRUS2cvHcnYrROw0DGpCkk1I/k26sg5YMk3Dxvi98dfXx5achORPDqxU+X4JXDSPMfkrB6dj+EesbNbtlc8NCaYmk7Gye793tO1+0oUalmqDiEY3O2wEjUVkEqlMIxLJNu+I6sbTPmstYXNLwPCNDzPT0/Y6rMPxlG+QW7aZxt0btzf+xXSrSjaY1rc9nWtVEyBXakHSq+/sL9qwK5WQSXlX6MeZhFtROCjuSctWqQCosUh44OLnOm3a29LmseoN6keztb0gdnU6T5JNGVaiAioWgay2ymreND6PrjNysyndj39nRZKsQDVsVoS3Wu2vVoMCTD5saflCzBiYtzUweMsz9PjbfJHfHD3SW4eW2pYbRe+dh15/aLdquENNEb1SLlZ+Wc0Zu+j7I9krBAzz6hHrMrY61Nvl5auTr6QhZErZ4yWZtmFFeZjGMImMYwiYxjCJjGMImMYwiYxjCJjGbe/wB7r9O/n8+/gPv8f39xt/eyLdjNnvL2Ie4vYdeO/PwI/HXj+/v0Ga+8PzAfnsAEO/H6D0Pn++84hXonSrT1j87deWuvMbbpB5ff2R7rdjOP6hfHQl8gPXnx4/kH/j8xDNPql8fH/wC8A/6/+fn7CPnqmrSbY1GCT/U0anz6qTNxpafWI23kLlxnH9QvXYiUAABEezh8AHYj+QfzEPuP2zjI6QUKRQiyJ01ClUTORQhyHTOUDEOU5REpynKPuIYgiUwCHQ9eR434rDUxL69JoMAFz2gSdBcxMGYO14hUX0k+hX0Yzi+ul/8AtCB+XZg8/wBBHxm0XCIB2Kif6/vh8h9vP5//AG89Zxu4hgG/mxmFbab16Y5f8hzFtVcrv6Ty0P7LnxnwjIsw69zhIPd7gAQVIIeP1767/T7eMftFkPkHCA+ev/yqfyHwAdGEREex6/8AfOr/AK7waS3/AFTAZgQCBiqMiQNRnJGoN9Abq93UIsx//a79l92M60ZaP8h+Lb99iX/8qQfPfQd9CIAPz+6PnPJ3PZNQoFStF3tMy1iqzTa/M2iwSSonOkwhIGPcykk8UIgmsscrdm0XWEiKSqpwL7Uk1DiBB6r+1XZumQKnHOFMJcGQ7HYdpznLDR/uC99Dr5KmlUAJ7t8NEk5TAAgEm1gJE+car32Mt648clte8ltMa83lR21hhqxseuNrHFxFvYM42zxCDg6iR46daRcjNxSEi2WRUTcFjpmTZGEpTtXrlExFRq+e2QhDewzwnu6AQACKHHoeux/dAew+PPfX6j855eI+InYfCEfie1fAKFy2KnFMIwlwIBaA6qCXNd4SNjrEwtU8PWqgOp0nvDhILWkyLX05Ea/ovTY6DsB/L4/nnnC2mIMACCxhDz5BI/nyHx4Hx/7fHxmxS0x5A7L9RTyACBSdCHYh5H3GAPv2PnOJ3xJ7CNpd7/4q4K6mIJLMfReIgbtcdJBvPvpr8LiAYNGoD1afv7PIr02M8ga4MQHoEnA9D12BSeR766Ds4/Obf84NBHwguI/l7SCHjv4H6n5B2PwH3D58+a74wfDgOyjtXwtxkAZKufXKYloNzNtiuT8DixrQqe3OP3H3E+xxnki21mYBH6CwdfPf0wDz115BTrse/HkO84D24vXuTaGN56ABUIAD8iHY/vAAiHXYB2IfmOR/xe+HrWl7O0mCrAAkil3lR2VsZjkp0y4xeLRM9QIMFijH+y+/MRrHPTX7kT7Tz2Hj+I/lmgmDvrx4+ex6/wC3nPFJ2tQ4gUGfRjB8GWKHXYdiACIeQDwA/wDT5Dr585qayOClD/5QvuDr90VPcAD8+TF8CHQj14677EAEBzNL4udiK1E16PFHVaYbmL24TFG3hBEGk107+nIWfg8RmyuZB5FzRrG4JgkG3ODE7+1Hv7dfzHr/ALDm33B12Px5Hx2Px8/bPEpWN8cRKLVPsf8A1e84AH28+R/l2P8AL5z6RmZEPhul4Dvyc/nyP37H/QB+PjOzgvib2Y4lTD8DWxdeHZTlwGKlp8Jh0stPU3ssvw1Zg8TQOmYTeOvX6r1wD3+fXX3Doe/9v6f+M2ifoRDr4/v+/wDt9/IqTEkAB/ykQAeh/wDWYQ67Ew+R6N4Aeg9pR8D2IZ8p5SYN0BfpFEPnonfYd+BDswh1119xH4+POTG/EvguEsMJxauQASKOAqGxj+sNvJ0lQYd5glzGzFy4RcttbcA35Ruvc+7v4Af08f8AjvACIj8B9/8A1fkPX5ff+H88p+eSmw//ADhS9lAR6SL4HoOx+Dfx8D1+o/biCRnPn8QUe/If8tP4/gBQ7+3kfj+eeDX+MPDKRaG9n+0dQaEt4ezwghuv+6Y1+Z5Llbgy4AmtSHUugGzdJsbOmLn0iKiiI+PgP0Efn/T7fpgTB8dh57HvsPt1/v8Az/hlODPps4AYHJgDsew6T8AAh+RAAegAR7H7gI+Qz4jOZU/YGdKgPvAOymEvYCAAIdl667Hv79j32ID9vMxXxxweHDSzst2heXuhofQo0w8+HT/ccdDoACAN9VtnD3O0r0stpJJgA5Tr0nef0VUhEPHwA+euhEevz+C9ef16H+A5qJwD5Ev/AO9/4L19hynTRvLOQOCbhx7g67AVjAAB7g6ATHH58D9/uPkR667IkXLfuidcQEe+wFcwiHnx0IGMHn8ux+/jPd4b8ROL8SoUq9DsXxkMqiWGqWsECAATEGR4rA2PtxvwzGOI/EUzGpEwPy9DNjYj+59n7y/mH6eR8/n9vt+nf69ZtBQoCPfjz9+gD+ogX/v9s8aaDkQ8gv2PffsFUwfA+PIh0I/bvoOuuvPfjQzJ0UoCc5v3QDr3n9wd9fHRg+OgEfgeg+3x16tPtdx05jiOymNwrWSZfiKTw5jcpJAYwu2gzA6zC4zSpiB3wJJAsDEnLoTtc+kWXswWT89nKHX37D+f3Hr+ubBctw8/UTHv5H3F+w9eR7+32/0zxhGphOXsvtAAEe+/y6EPuI9ePI/n+QZqdgBiiImJ0AdiIgIiAffoOwEfH5D/ANs2e1nGKlB9WjwUZmkw2pVcLjKQD4JnX8oJ5C1sFtNr2tdVaCSAZ65eXmT5L2H4xuA/vLJB358qk7AB+OwEQ6/T8/1HvOI8kzJ/1LpgHyI+4B/2AQ8/xD/vlv2oYHcURVTtd3W6iW+4mlpFwlJ6/qMxTIAsKosB4pkMVNWe1vV3jZD3gs9NIIkVA6aYtSqoqOHFVfoF/wCk4EEAEPcfowAPfQ+3wPXXYB/6vjz4EfPQods+OYmk57uE0sG4OLAK7y8EtLRm8MQNSCdhpy09tFrgA91QQCcoggWk3F4nTXovUBKMOgMLgvjv4AfkR/QP7H56++w0zH9e4V/jv4Kf/wD58/0/TyGdERJMRDoOw6+/kOuuw8ePHjx+nx34zVVuQxOvaACJvkOw8j3467EBDyIAAAA+fnO3/r3aOrhH1cNT4aazGmA5tUsc7wwBD5N+ugg3Kzmw+Zod3rQYJJDdIHqJM6+cLsT2ONIYC/VEwn+fakfoBEA6AewDyb7d/wAxAPjQLG0N/wBCahwEA+Pph33/ABU89AHkAEeu+h8/EdUBysmNg+oZeeG+vqtEvaPojREdsbfmzXah1HFc2bsGbgD6r1jDN2j8qCTqXo5rDbpxeTZKC6Z/g0WCrB3FSRJKQZNskmHQFKIB5ERAPcb46ETAIfAeA78Z8twvj/xExuJrsx3+lcPoMqkUqjMNVc+oxgaDAfWcbukFzg2dpK5q34WmG5BVc4gGDH/GLTrraPSIK+pSyoE76bLD0P5FDofuPQm89efgfPnPlPayCBvptTiPQde4RJ5AR8CIFN0HXQ9h3+XXXY50lgkYqCjJGbmn8fDw0QxeScvNS7tBhExMWwQVdv5CTfu1EWrGPYNUlnTx66VTbtGySq6qhEkzGCk+iN26o5L6wr+5dK29netbWlWebwNoYMpaOZyitXsctUZsWiE4wjX6jZrYIOUaIvBakaySLcshHLOmDps7W+e452l+IVLiLcFgeMYNocHOY4cPbOVpYXEOe5wmHQJM7gWXLRZhzTD6jCJ5uj+nYRrvIG+91Wv/ADSqID20KH26E5zAPjsAEfaHkR+3Xj8/IiHzltTofhiQvXf/AFKD30PfjoCdh34H46EPy7DOA6Ih4N+8HfQiIh0Hf3EPIj14D+nfQeM2GbF6EAABAfkQHwID5Hx2AB/HoB/PyOfKY7i3xVxAa+h2mdQdTkOYzA4dprRAEZqbouDeYAGq7VMYFuXNRLg6+pkAFt7dZt5+nKa0vwMJfwyAffoRMIgHfgB8gPYf/UIdCICPj4Di/wAyyZjCPSBSh149hhHyP5iYAAPt8fPWcX4Egf8Ap6KHz8D7Q/r2P2D9f65zFQTHz117RAe/6/r4+Pt+X6Z8ucZ8WqtQDFdrcVRDX5sobTpZm5mZgSxgkxMASBGoC5x+Ay+HDibC8mLMO9jEHr6wB9aMxJKGAwql9vXu6KQPsYB8j118dlHsRH5EAz2Me4UctyqqlApxHyAAIdh0HQiA9/1ARAf49jnjIxsmMmmHsAxQ95hAQAf3igHt+f1H+I+fkO+vfJgAFAAAAAA+A/iP2/gGf0H8KanHcbg8RjuK8TrYvLVfhTSquNSalMUz3uYi0i0AwPNeZje6DqbaTQBlJkCARYRHMc/1lb8Yxn7AukmMYwiYxjCJjGMIuqnHr+Oh5N9FxZ5uSaMHjmOhk3jWOUln6KCijOLTfPjEZM1JFwVNmk5dnI2RUXIouomkUxy463M/WXqe+rXo+38NLVwx11wH0LsG4a8W2Xu3dPI2n7r3AhX9dbHqezGMjpzVWhGM3WP268m6VEsUlr9sqJYOYt3KtXDBA5mro2R8IAPyAD/HHQB8AAYWg6AYF9jOmkW0kbFR9+pJwukOc3FZ/piq7DV1Nt2r3fWW6dEbbUYBLK673bpi2RdzolpdsEhKZZmd8wXhJhRp25bRs29dx5FXiDVFXEo9cjjxvLbJuK2q/Ur5tMdichuQvI/UmudOcReDmuNiv9SaH1USYlEt18onukkEdj765B7EUpv1K3TChBMHsZN2yXr9TRm4oj4sXkAf4hX1KdnemTwVYbM0tGsE9r7o2vB6CpF9m49OZgNSyNlq1xtklsRxCKort7DNRFdpcylVYJ4mrGLz7lnJzDKZiYh9X5ewn/DX+mVf6Chtv1Q+YKlzvnJjle8BXTFq3cdWZ3JB6DepJPEr/cF3crKjX7zuwoxK7ivnWfSNOoNYrkMzmyNLTYYRKySI2HTn130+q7FKWUnVC5oaDlAIBJJIO4JsBc7zrNllcQDVmxiWDCPQM1YMWbRoyamZix/DNEWyKbduDUyDYyQIpFIkZMyCRkjkMiokkqkomTsXCaqrddJBX8MsdI5ElhJ9QUVDFECqgQTFA4pmEDAX3AAiAAI9Dn0fx6/+/j/2zQO/v/Tx4/n9+8i6vXrN73nrO/NQ2svRwrNxkn1l5Qc6vUa5P2OxtUUrfETHLG+aL1BJHAh/xTWD0txmV1DTK3AOVTJHGCIEimBW6P1nblUq6znpGf8Ah2/RwbPjSr3hbW7HKqqnWcSF12nve9vHyp3R3p1JFe5bQnlJL3uTmUMV6LgBIYyJgFE5khmuzTvz0Pj8vv3+f8Mha06gH0HmuQVajRlD3AcgSOVvKw/XVQF3d5ymlqrfuBXpO8EoXhJpysyN31bYeXu7qRDaF01Q115ROMvNy4ycda0glsne9kl2UvMWKl7Un4Oj6mt1rjTyzq13GKckkXMtfEnjRQ+HHGrSvF/WS8q8o+kdfQFBgpKdOzPOTRIdt0/sE0aPasY8JawSir6akU49kzj0Xb5ZFg0as00G6Vw4AYQ793Xfz0Afy8hm4Ovj8uv78/8Akcv2FgmQBAETJuSZiZJPMTy2ha5A16/VN5a7u4rxXHDiNxbvO59m7EtFCv2vd3064a6rjXjRunSW+9F3fX9isaF8mYN0zjrPUx2h9K5Vld+4r7islhpyMNDWtWSjZ5cYUXWRZHv7LYllRarSQNUP2kdoCgMzvjED8b+DBwossRoLgVQbJqKnMmgJEhOYSjmP/vmn8tdAetpPc3KJw33Jyw01e/TirPGWuO9NWzQkE+qmy2G+ZjY76GtCW4Nua1UjIA0fGtZF5ZipumRRsTNswJKOo6RZs8hHsfuHX8wEf06D+v28/wC/itibHoGoqXZNkbRulV13r+nRS81arpdZ6MrFXrsQ1KJl5GbnZhw0joxml0BTLOnCZBUMRInvVOmmbTXZSTGaW5YO19R159Oq0x5a4eEPaRESdXQNjOmlt+SxWNx8fPWS5M+pHwh9TK0cG9a0bXvEyt3+j1jhTZub9RPem9lvkLsmAl90WHZFL1dOa/imEuhYaEL+rwUrcJN1E6/YREgzK3m5QreU/VvBjlByC5A695SeppsfWVnU0Ha17xxa4a8f/wDMjnjhpu/FQmYuF3PsOzXSOibJvjfNZgZQWNMtcrWqpVtbP15icodRiZeYUet75uIfNXjLzx1e93RxP2lG7f1jHXCdoT20x0Hb62m1t1dbRT2UhlYq712szhFUI+ciJAjoYwGLtnJNHLBy8bLkWy6jsB7D8vnM/r93+Xsqaj5gt7stGUC8ttsXAkGDrKsu4JcU5PhZp6f4+tbpH3PVtd25ta1aIIEA+h7LStU7Qukrs9vre5SbmcmGdvlKPdLfdIaAtEUzrLNxQkqfGOK43lIqQk5W9Lz/AOP4/wB9ZoIgHyIdj30AiAd9fl3/AK/lmoD3/Tv8/nC4/wBvoBrzJuSRaVEjyo9PHe2wOdFB9QLifyhqmgtzQnGaX4lXeF2fpJxvCg2nVT7YL7Z8ZJRkNG7K1fJQlxg7e+F8i8UmH8a/TZRaDtkVq2ftpa0i1+k3y6neavp/8zd3croDnbaOLu1djrW+m7V11r7jlr+h692fWWcQzuWg6pqzXV1kpG/6ssDGLt0fEbSvE6pa3MLDt4u5USTjDzElkS489j5/gH5ZoPIECBroBJm5k6nQLkFR7Yg6AtFgbG0XE7Kwv1IuIkzzq4bbG45Vq0VmnWazTmqbnW5O+Vxzb6I7n9Q7do+3oiu3ust3se7maZbH1HRrdkat3P10oiVcO0G707YjJzUHi/VNz1mIdtN0aX4u6qlAj2n4YeNlmss9Ey0j+OfjLKPGNk1DrJWKZKELHSbNMrudcouZB4wdLrGZJy0rdnjrz39/If167/2DMrOY5MgPh1HXTceQKsa9SXhs99QHhVvPiCw2k80srumJqkOtshhWk7e5gmNe2FUbrJtArisxXySTeyRtZd1d4UJpgo2aTK7xI6qiBUFLM9R+jRGOtzao5Fc5+Vu4ud+ztFP2ktpWj3CGqWouKun56IXP/lyza64x64aI06OtFbZJx7WLnZ6Tsjz68TFSToXElEQjuKmwARH5AQ89dD/fxmvYdiH5fP8APCSdP26fsP0WgAAd9AAAIiI9fcRERHvr79/f5/PGa4womMYwiYxjCJjGMImMYwiYxjCJjGMImfK5A/0lPpdAoCYgmI/Hu9pxL0Pz4Hr7h0Hfx859WbRDsQHvrrv+ffjr+/OcGJpd/Qq0cxZ3lN7M7TDmZmluZp2c2cwPMKgwQeRH109VQ9RWcQeOHIyTgBKkokKPvU+iU4Cf29pnMYhVe/Z2YpSD8B8dBlofF3lFLckahK7FgW7uKhkLzdak1bnmwnEpEKZPPq4lLtFQaNEmbOWIxF8dmRNRNu4UUTSdPm5G793fLNtkG8wUx+/priQTkD9wv737gj2HX7v7vuMHkwm76HrwMVvpZRzZrwk1o9QYqRxJq8cg5Rdu4eoPnJXCnIXaLf6Lh8mIi5Uj0G6MUVRUE3IpR6QuUEVxMmX/ACf+MfZvtp2Ww3Gcdwvtx2nwh4J2rFKuzD8axYecPih3rH1WGplFKsalPKAPDkAbrf6bD1GV8ZgaQo0m0X4V76gLLvc3u8sE7DxTqfqr+LLslrVWbV/bbbEVhk8ko2JbPJmSaxDRxLTDpNjFxSTh8uikq/kX6qTFg1Kf6zx2um2bgddRJNT1baRklSEOEkoIrh/yzfiQATgAdgKYAYBHwPY+BHoOx8dBmNv6uHIcB5i8K+OkHqyf5CKVZS57utejIx44hI+63B21NVtAGmJdFu8UPEQVlZXGVs0UaOcoOYYxm0gVRm+Vam9BveM5f6D1jR/UK2dv/cSmydX7D1q72jo6sO1qpxridKW/YMLULdr1rqtNoKM69iIqdZlQvdilX82uaOCVduUXiEG8j/B7PYTthX4dwXjnHPiLxp+I7SOcOHcNfxHGiuGUy1rHVHGsxrBVdEvcAA1wcM0Liq8Yw1LHYjB0sAypTw4HeYhjBlaQW5pMG7Tb36FXjetdv+f0dwH2kZnLyraT2i+gdQsHMdILMXLdC4LOn1n7XQEq5SuqRAWhkUUlEhR/GC6FcCImTNHV6aO/NZ6w47aWr2zuTcLX36zBZvW6dP7ZZnlIWuOHhmVXgIesi/cOoqPZRaDdnHwoFMk3OKrVm2aJJKoGqh6k+9NK8yeQHCnhRX3ql1pX/H2t3vdtgizsk46Ikl6fOR1EocNYFVwjJGzW+v2O9LO2jR0oaM9sGdYrt27I1aS8XseKnDTUFk2pI6f13rOqVFg3crtKhQKVETc3MEMkhBwFeas0WC0/dJqS/CxNcjUHKjyVmF2yDZc6hgcB+idoux2MxnYvD9muN9oeP0sdxPi54wcZQx2LxVZtGm2nSpYT8U11RrWst3lPMwODnEgEyfHxWKp4vHuxGHqUWYbD0hYthhLmtL/CIkg6XmeZICs75L+prpfjPSqTM1N7O8hLltVZ0bWlA1tY203M2hsxXWbzMmZUgSB4iKjXTc8Y5OEW9ft5oDxDWMkXTaQSZXKcROW1f5h6Uq25KTXbTFMpokg1k4qTQSVdw85DrmZy8OLlIxE3QJOwL+GfFRbA6bHBT8Ml2JC4vnBPUfOOk8ueQOqVt0661nuGa1rA3aZ5DbZjXMjs+v6c2hbZDYVjtWs628dGrMLfJO0WVeD2SlYhdta1OHnYuAlW53MXZslaX5u6H9PzjiGguA9DuHLGY1lGypH01BLJyutoOffO0yOpa8bOhIlCLtljfy0ojIlp2to2Wfrx7J6R4pU4lqadL8/xH4RcC4HS4Xw6j2s4/V4hj3B2K4jU4hXdQoYdzaUNNOvVFCk0OEZgW1HEkEyWhcdPi+JqMdUDqLKVOGNAptzPnLlcP5iS6AbEADcAq5Ff1VtDRe5+QGqra4kKxHcfiQbWeu0kuiuwk7dKkWF3RYaHjf2jNvLMxUKg3CNZtnkksulLlLH+yIA76uXH7lZvTdknOzanEHaFE0yeORf0nZlxsUBCzNwKmRQ6xj6zk02Fsg45wQzc0PLLFeN5RkopIKgxD2MzRjelF6aNghJZzzM5as2Fs3vtyzSm3GsVZmpFTVWw2189mn9re11RsjCsbdKuZR2+SErM7muoOSpt02D8VGTDI5cgi5ZumruQJ9Ndu4buRKUxU1El0+lDGAokMcv0x9olAxQ9gmKHXyHhVewvYXhOOxWFwfHuOY19B1Cji+Jf6uzue/PcHEPw7a1SHizmuu5kOeGxDSO3w+vxjFNzmu6nTY4ltMUWA1BqGkkCxPKDoCVD8x5Lc8eYdUWvHBrWOnaHq9hZpiGjNocjJ6yuVNpIQr1WNfyOv65RY6QJHwDWSauGZJmbdSYz4fXIxSgFmShlqQ+ofv3kzrf0sd1SHIGoUXWu1rb+C0HIM4mXJYKtd0rpONq7YbFSCJP3kgyaWHX5rVJxUXYzMJuNcNF1njUWzdFZ193FLfmzfTl1mrwq3Txj5K7RDTFluLDR229BawPfaXvfW1rtdjudReKvSysVDUPYTNKcLD2apzcwsk1XbovAm34uF3Q2P80KD6g/qb7/AOPWqdm6ylePfGlxPyN9Y0g6K81NVJnWlRhf+Im4LEyaKV9HYsvFSksWk69hJVynWWb6Sj3jiUfmCxvf0TgfZTsTwXG4Ti2I4tg+H8J4IKGOxOPr47D1X8QeKbXZS9tY1aveP8PdmmYcWk2aF18RjcRWp/hxVxT8TVJpGg1mUNJLImQQGtiLOE28ze/rHlHNcaNA1rS+hdBbT5MWrj5qiLabZea0NHBrSnWWrV8zm31Ke2HJqtmRbbHOGcoJ67XImxTYLIGjlIlF/wDTbKXyR/N/RbHirROX+xLtFal1ZfKbAW6J/wA4ySakwqpPxpZJtVotlHkcvbRazJpuiN4WsM5WUkDtT/gI9wGXSat1HrfUmp4PTFAgQrlAhYJ1XGUWyEp3SyL5NUshISL84KOJKakHbl1IyUxIrunz2Teun71ws6WVXyGs/oWaZa8XbVqOV2tfdvbqZa/lKZovaG1JKTUqWlnCb001AtqNrtjIvoarQziVQaFsjtv+2pZ2go+VYFbJuF4xf4ziXZr4T9pMUMVX41xDhrqvF31alepi3EVsPWd3kUWEZKTWuLYJEuaTMQJ7uEw/GuHspsZU77/aJfTygCmQGiAQZJaNDaTYgL2/HH1mKFvXllVOMTzQ249SpbRr3+YtO3jarRpXAvkYeLlZWNmQrShVTx1Zs6UDNNapPtZiaJMSTVBgq0jnC6pGcvGzto640tUHV+25fahrWlsXcdHvbZeLHGVmvtn8s8TYRbJWTl3TVmRaRdrEQbkMuBjKCUfaZH6yqMHs56Ve9diJS/IbaG89fhz0pjbTzXjVP0SJt8foXUELoyWJJwdNPCvTll38BsRNWURtgKQ7tlWns7LSkHBzqT2UjJOnvLL0p+aPN2t0ud5Gcl6pKbLa3uDdNKRTT2OsaE07R2teXb2CXptYcMJiduWxpqRj2KZZWbdx7pqlZJeOPOrwcTEhGfU0eC/CLCY44bB9qauH4Y2g8Yh1SrVxEVaVFucUTBM13NGUOs1xgC5I7bcVxhtFj34R9WqT4Q2DElsFwsAJgxcjpvMVsTnDxW1juumceLfu+lx25b3YY6pQNHZGlbDIJ2icOmjXoKxPa8wk4ilyk64XQShWd0f19xNHOQkWm5OsiU14aSRhKUT/AEhU9vkCmARD5+B8d/uCHuMIef3v0yCvlNwNtGvOPXFLXHDPVCGwZPU/NDUu/wDabGUuEDU7dthOnNbrLTNmvew7OYDO5R/ZpaPcyDs6snIIA4FtExchGNAYDYl6lmr/AFXbJTtcObDt3bT2bvlrdNQ0Vwxj7DBU6l0lpEulJ1vc7bXgirRsSwyjt7WYSIi7LIjCvXaUw9g4oUyuG7Tvdl+zPYfiPFsI/gXaihXwvE392cLxKqRVw5zeEBgoXdkaLueA5wMmDbgxnGcbh6eXFYGqXgNOejSJaJDS1rql4JNiRveYusssG5PA/TKJfaAj7R9wCX477ARARA37vYD17gEPn4olsfkXo7T921TrjY2xa3U7zu60OarqyryCy6kra5Zk3TWcpNUWjdyVm1TXXYxZ5aXGMiU5uZhIMr1WWmIhpI4uXps82OcN20JWeIGi1CS1/wBftrVCWvcmw2JJ9HSVeXmJBOEBMJhTu5XVJZxIpU+AllVYJihAos5FFxDMiNW9aYPX+veC/qRU3Z+9Lpb5+dv3Fp4lC795B2g9hC07ZXvj097atrXMnTgK7IQ9MJXIyLqzN/HJQNdnGkTDNupVuCn13H8N2f7K8Rx/CzieGf61h8NUxOGwbHUqmJxLKbWOGVoA7vO0E5HQahPhvK8//Wqr6La7MPiRTJb3riSWMByAkReIHQ20uFlLFMkIAfwHZfcAfugYPHuD3e3x8iHYB47/AE8haJzC5n6X4T1TW143g9sMbU9m7iqmlmM/Cx7SSaVidtsbYZhvZLam4lI5dnSoWMq8s6sUtHBJvo5IiCiUU6IscUrR33qr6IjXMtX6jMO96Xxs2Q/YevtHxEtf7DLvl1yIFjxWYMC1tgoiY5TrftWyR/tRTXMQTrpkQVjbnuHXLX1Jd6Qu/OdlKc691bQFF09HcY28wydQdYYPhbPHkjcTshISwzM8m1j2tleuzx7l+RizasG0HDsWzM/yVHtlwerwHFcU7T4ev2e4XQA73IAMfi8RWBZQoYWk0lxzuZLnhpYxjpLgTC7Zx7HsL8E1+KqhsNZkN/ymSXC+sSIIB95o9ceptwO2VdozX9P5QaylbZNTUfW4COXmFohGwzEouDWNjoSQmEGEdKO5J6dNhHIMHbk7+QWbR7T8Q8dItxknTaHBMAN9MwgUB8nKBg6APnwboBN35HoBDx0A9iOKb6uutj6Y9P6wwTWpa9r8O2vGsG1DfQ1VjGMlC2lC/RU+iFW/ConFhIDDw86Ll01BFRaNWkm66xGiy5VZAtSLc2PUJpVb2JuGy3LhjxwmYoq8DpbUtlXiORG2Y1wzRFGybQ3KhFQ0xrSHcumDeTr1Y1jF12QnIO0TkdbJaRj2tckFP1j4J9vOzOF4LWxWLOKNPHYkswDK9Wi/ECnSDA99VrCXAHM28HYQvOqV8Vjqgp1MM+jUpNALACBMNuZsBMBp13U1CyH0xKJwKX3iIFMBiiA9F8gUevJgEOxDoOgAREB6zaUhA6EA7+3n4H/bv4/8Zhaejdxx5McY/VDQjtvVG569t2wuMm0LvtiKs17aWmTv0IXaA16uXuZi2jt27jI9O0RsRD155PqyErLOWE/Lx00rGzDiPb5nib3wUvQD0Xs3nz589/8AV8d9+Oh68eR692fu9TtDwM8Sdg6dRgd3FDEAOBjLXAcwSQASBciYnWDZU4WtTY19xIkAwQIDQf6r6Xt52X1mKACPZeuxHrsP1/hmgAAfYv8AMAH7D+g/385xHcEL2YTGEBABHrswdeRDwAj4D7dgHXfQB4HOAHyA/HvH/wDU6/7+P65w4riHC6b4fiaFMug5XlkkHKASDYfIWi6yynVItTJ0N43i4kxt7dZA5TkAC/ukHsAN5AfjoPH5d+euvgR6/PItOXu1tgUj1APST19WLFYYGjbj2Xy6h9oMIuUctIa0M6TxYtd3qMJY4r6Zo2YSTsMYWTjQfmKvHvGQu4gpn4AqhKQLtEQHyb7/AGAPt+uRo+pXo3ce06Hoja3G+ETtG++JvJvWPIah0xSYj64XY8JGkmKHszVq1klFEo6Cjbpry7z/AO0HzsR+mMU2M3FN6Rr7/JrYvh1OtSqtGFxPeU6tOnmYKjWVnNBpVPACQGOaJLQDBgLmpte4OzB7IIkxlDgIkC++0Tf1V6W9eSGtONeorxufbFgj6xQqFCnlpZ67OAPHy6qxGsPX4NikYXc1aLRKuGkDVIBgkrIT8/IR8UxTUcuiFyILR+9eX0uw1PxxrSDqJ5r8nqNOcwOV+3NhurNbqNws0rf7tLx2uKRS9e2t80aG2YygVmlE1Rqc7aJgWk7T7BsDZkVLMizy0nVnU3DDeW/NxV3k/wCovK1ycl6NPK2fj1w8pb9WY0VxzfnSXbxtotL0oNGe696R0S7UjF77LNHdbrkirYnuu42GiLBDRNR9NedHcwtUcz96ckuL1Y0ttCD5O6b1FQbRFbq2Da6IfVOwdNK3VhXrawTq9MtqtuocjDW8rycpkeetTUhNs3IsrLAonSWcdDh3bfiwe7DV6larXw2agDTwVYUA97g2MO1jC/uwA1nePA1eRoCeR1ENaKlmskENJaXWiC7UjcxrBuVXx5S6jxHp1s5G7W5a8mrNWNQ1u67Av77a2yoCSp0zX2deXXcRLqjxlPg6uySaro/iqu3q0XDWNSacIRiMq+brt2A0Mr/MnYu1fSJmuXm64Ntx/wBi33ixsC5N4+hWddVSOmLHD2aH1DYaDPi4UfRsvsIHNJstKglnj2dr81bIutu5WTkmAyL3pp704rlyUh7BL8+dzq73tsrVbLE0fWVIgXFA4x6MnLVWXMEa2UbWxn7+W2HeKm4kZV1Udi7knrVPxYvF1YqPglRZlYUq4u8COV81E8WqtzXuuuUtP8KYCiQWmuPel3Flk61s67apiUIGg7q3tZ55tFOpuSrBI1jYqdQo1n/lqOnUouafAhJRTmIle8O2vFq+AqUquFx7cbRLycOzA1m08SHZQGDOL2uHSDM2ggquw4DmPBa5rspBJADDLSQRaY2EXEcl5G5683PwRg/Tz2a85ecm9g7U2zyU4ncXOQmutz7ed7Q1XsFxtyPeQ2x3dTrtqjHjypWasvmspbaxPVaTj13bKunaWI82godYs9bl+3QQcLLLoopN0DruFnShE2qCBCCY6rkxzEIREpSiZQ5zFL7QN2bsByNf1HeOO8911fi7ddD1OvXnYfGHmHqLkijr21WkKVGXqApbSzw87XULM9YS0bCS5krK3kGE09in4xqce9XZM5B+dtGPvDocP+YvLpz+0OfWzq5StK/tOSetOFnGd7Pw1PtkUu7WWgYnkhuV+ujdNnIx8S7cRVupVGNT9aW2ZZxlgNGlYJHr6+hxTj2JwtPGYfgeMo1XgOxOF7mrmc1rQ0OY18tGYtEwJk2WH92XFhc1xBBa8hoG1pERbnOnW9T+BnL7YPNCc5I7ZY1yqRPE2A2grq3jDa45Vw9te1ENfKzMPs/Z8rKFlHkG8pFisRIguvP2VGRbokc2kCy6zyRQUVJVvlLzQ1HxgRrFenHTu8bo2S4/ZGnOPNC/Cy24dtTy65GrRCt1wzlEWNdaOxMFivE6eOqVdbgYX0sEiLSMf2Zaj9NzlXpGhN+OeoObzvTHFmv7B2PZKxXNb6GqDneDWi7LtM/bJHWH/GG82a2RMM3gpOyyi1evNb1vG3FJ7+GkF3pSNysT0rtvoubBqu/tVbx4m8m5TS14g6LYqltrem1K+bkvyK2VLWhVJtNXNae2ZKL0lrZnFXatqnHumFZg4+AaP5heKiiNFGkYnysbxStTDafDuKfhq5aawdTeKzajywPbTsMjWXh0mwhcRIkFmUOYPzGMrgC21zBnmYNrEHSsfFzmdy6uHqAXniPyToHHKmNGnFWM5JsKnpq62jYOwNNyEtsCtVFhqvcd1kFI6qWm2uoieNZ3LmpU6sxjSKVrL+OUmo+wg7Qrvz+9SHRXADWr6ybBkmNn2fLQzp3rLSMRONmttvL9Jf8ACJP5VYreTNSNbMn/AEna9jycc7ZwrcjhnBxNst60HUZy3dx6OQ6ytNV2rwz5PbJ44cgnMdd65vrkFdq/A8ldhciYO/SMLYpiX2Ahs1dGul2CwsdZiXcHZ4qKZxMc1dP2n+XHTQEWCPheWvpYV2kaLiZzSGvbdyc2cbktx623ygmdvXANjb95RaU1Zem89ddZOrPdnbOvviPoZtFto+gNEa1Tn8dXmLBnFhJsIFuT6jB8D4hRLu6o16GEyMcG1KgqOc8tZ4jJz5pHjBAAdPIRT3dV7Mwa15A8Q/LNpsTAgzJI67rtuA1x1VxZCCrvK7bWv616hvqNWlXkrsOiSDh3E2Ny/tbZ0TX2r2DKTcSC1ajKHWmClRqlTnJoRNamtwrtMWsaiCSeTPqyjds2VcOVk26DdFVdZysomigigiQyiyyyqpippJJJlFQ6hzETIQpjGMBSiIYSG1tec7eU0jzFqFG9MfdUrvHd3OIN5R/Jzd8dFaxtupdPa7PEtuO+tdczFkcMKxCz1RqEIo3ez6d0loGMbzso0ZQFimZeMnYvJKiOHvJDlcpFzPqD22pQGqmbpOXQ4V6Ak7Alr2zOEEDfswvI7bL500tG3UI124UkV9dVhvTtUPJaKrzybjrgmwkAlfKxPZztZW4vh6mDrD/S8Q1ord+SKuHDHAuc0h0kv1AiAdzIjYq0iHNqNJe0iC02iG3OoiBaDaLBWV7g2zNesftKX4j8abO7geB+s5uP/wDjF5GR6K6Dvd63vB1FaN0Y5WKKTuuyK7N44slzeNU4yVBBlPxqkhToiBjN4Ti16C1zo/WsVWK0yrWudX6vqaMfHtRMwgqvTKXVo395dw5cGbso+LiIpoq6evniySYESXePXIHMs4yI/wBO/kNxT0DrjmDF7s3Bp7j1d4HnZyMc7RquxNi0vXoM58FqxGw7itQUzJQ6QVd1T4avRFVTrMeEHJ/spynCpOXqKwJ2feq9z4j+VPGNvqTibHbkZ8ctlbj1jQOSHOCe1ZfaxxvquopWbep3CFb2N3EsNhWGLUlmMPG7Gl65V06V/k9abqru1OXNqYMXntVey/G62Ja0HC0sMGhveszOxAa0ACC4auvOwm/JZzMYCCHPvmE2BPhg9QI+o5K+3Q3qyE5W8uatonj1xr2BZtCylRvN0l+VFznmtAhXVdqkjYa5EXLX+tXtek5i662t1zjompwFqlbFTJt9KPZ46FLVYVCTfOL0OYHMbT3B3SMxvreL+Wb1VhLwlZiIStNGUpcLfbLE5MjEVipQb+Uhk5eYct20hJroFfopsIWKl5x6slExL52jEFrbnZwJ9P8AqNc11xgeXH1Ht9bPk4phsiY46sYi13+4zMDDtYettmMHAsS1CoasokECdc15rejSCVZ1lV2jSKj45dRzLTD6qBNFcmPVY5D8ctsco+Ndj4g8PeK9l/4tVHUF/uDGy7X5C7WUdRDurur1UWLJkwoFSpv7HRM7jZ1pMSr6NkrHWmThdK6yDyi+fW+H+Or8S748Ufh8K5jW93RbNZjg1rM4NQOaHGMzhBaDoJMrbMS0Ma1zA5wJDiZ/LaALiYGk7j2nYKdT6ZDKpHTMchTe0xRAxfcAGEpiiIiByj0Ah+ffgB772lUKJg95REPIAIFEA7Dr8w6Hx5/kPz5DPc/g25w/fRSHv94AMQpuhH5H2iAgHyPXQ+O+vuOchWyIB19FMA/L2F/gHfj7fmHz/vz/APl3i3vpk8SpmmxoDe8pZ3ujLd5AYPFBJygX20UGJgRlIJNr22OhAMwD815aKQ/+fIoUglACKCJvaPQd+0PA9deRN3135+fkM9gAdeA+P/v/AD/vx982gmQOvaUCgAgPQAAeQ/l34/X+X6bg6DsA/Tv+gAH+gZ91wDgdLgWEOFpPFQVKr673AZQajw0GBMRAI9AuB7zUdmOwgdI1A9bnr5LXGMZ7ywmMYwiYxjCJjGMImMYwipbtnR+mt8wkPWd3ap13t6t1+xtLhCV7ZlNr15gou1MI+UiWNjZQ9lj5KOQmmUZNzDBrIkbg7btZR+ikqQjpUDVMRQTbkAiRQKUAKAgUpSgPsKBAEQKAB2BClKHQdAUpQAAAM5sYRMYxhExjGETGMYRaCPQD+fQ9d/n1kc3qM84JziJQ9e0zTNFj9y8x+TdwLqbiXo188es2lzvR027uzXW2rRpBfsNTaaq6znYG1JwjiLaMYRkyhXVhrbqzRcw3kZHyAh+fjLA+bvp26l5yTGiLtatib40ft/jZYrpPab3nxs2I21ttimtdk1gKlsSssLBJV61x5K7eIlrDJWNJKFRl3JINg0azDWNcTMfLBqP8/LdaYQHAkSAZg6dJ9VAFyQ5depJ6TvPPhDLcqeVc7zH448lKbsFxyY1Zq/QlBUktX2KrHm3NguOnKBQ4ENwxen9cRFj1+9ZSstI2+WscbUthuLW/JNSdcgW1q2yN585PXy5DR25+OnGCmT/pVcdZSaHUD7mfeE9Tccthb7qcc2Tld5cjtaQCFn2Bvmh69dvZotX1ZXzRlTaki0077YYqQmLtSHcvnqKaA41+lD6XHqHchNIUqckd8bE0jLa2sG/tm7At20eQlws263sBpmFfy24tgyFluZmcJNXBhcGdQiX0ZTEpqK/Es4KPVWWchKjxU406m4V8HdOcaHxKjGay0ZoiHp96kJtvBQ1RliRNbFzte6W9Nwm1rpULlPr2u7Xt8/ImwdvpydkX/sScrgG6gljXMEXLSTHiIDSSReLG95nRcoqDwwwZhHiFpuD+Ucr30sNVar6NlP4ZcfeMkJxb4vcstG8q7XWXFk25uC76hsWtzntF02rZ30xN3JxQtcz89FUKBVefRrVZrqDlVGGgIGJjDuFl0TLLy/eQAR8eAHr+HQCAiI/Px56+f5ZDr6CGsWusPSl4mM2lKb0Znb4DYu1K9EAzbt5A2vtv7i2Bs3VTyUXTAXDt8+1Zaqa4FV+qd+kgZBo9Iis2FIkxQlAQAv2EB8fmA9fA9+PPX59/l+WPNcbyHPcQ7MJ/Nz08r9Fjg6oX5meq7yw3Hu+qcur/AMSOCXC7l2po3SuqdFItULdyrvvHC+V0d3bC3fcFk/ozWlLuq3nNd0ihsXbyDkY92E1Zq4we0qRDZc4eyuTWkdRbY0Lo7YN8i4HanJqetla0fSRayshOXmToVSkrzdlmiETHvk4qGrNbjvxUrYJ1SLg27x/ERB5EJaaiWTyE7cXEHkP6dOr+X22dO+rDV+GvDSxbc2NyomovZPDutb+t2hpLZ8zHT16p2rrjZ9vxkE+gbdfH0iNNpjvUk5IN5u0oxcOnNWKScPJa3j0HOEO49vbg2J6y/MvZu39y7D3K0sFO4PhvdrXYu8UrizLvlBjdmzFPqgf5I17ZdpQX0UIGma/Zx9brdQe2CSZvp9LZRlIvRbLc4jKIA5gwJ2Gp8vLc7LA5gcXhrGeFrWt8U2s47ib7iNIWVr/f9/64x8f7/wBcZlcP37JjGMImMYwiYxjCJjGMImMYwiYxjCJjGMImMYwiYxjCJm0euwEfjyH8x6/06777zdjIf2PtdFTK8EUBaOWIJewV7UIPQAZMomAfI+AH2nEO/sAiAB5yJfhQXbGioG2cW7Zx9s1YrOs9r7vktWbHjrBVZOhXbWV+2zbNk0tdgoE2FlazSbW5OIyZh3cF9eFdRhSu3BgcJlyaR8wbv0/Y4TAxe+y/ZQBHwIgP9PHx0AeM82akwfv95m5jh0UOjiJw9pREfgwCIiIj0YR7McBADCYOgz+H/jp8AfiJ244j2od2M4vwjCYPtW7hL8U7iRrPq4Crw80g6rhabWuoh72Mv3jKjSQJAN17GExtGmMK57qjKuFLgDTYw95TeRmY7MHHxc2wRHtZFWNB6jgtz3HkRHa1YN90X1lDRNjvUrLS0vKjFQcKzg2MZCspGRexdWZEj2ZW71tWWMUjKrGdPJErpw/dqLVcu1Kqu0KPatc3yvR9kpV3rktU7VX3bl4kzla/NsV4+SYLHYqN3LcXDRwskV00XbvmpjFXaOEF00VCXGpVSETERKyJ2I+4R89iPfYD19xEfv8AYPHx3n1p12JJ8M0g777ASB5+3nwHnr4HvsQ/QM/K+z38HXxVwv4V/F/iBgMVUoNpsoudTc80W0u6FMUcuHptYG5WCBEBrYsF3v8AVuHMDxTwQAqkuqwA0Pc8+MuDYmbkkySTuonNl+nJx4sOh6npPVcY84/jrLZUDuvV111s4ELLVNt1xm/jo+4SLiWO8WtLlxEyT2GlkJdwZdzECyZMH8YpEQjqM6+oen2WYu9d2XyW39tblDdac+Sk6SW6HjK/r6oyKDc7FtKwGqq+kFKjJ8rA5UFrG1j0plwol+KWdGcqu1nUvP7Bix6AzJuIB14+kUfj9RD/ALf1DPpSjWCP7qbZEnXfgEyAPnyP/p/Xvx+v65+s4f8Ahn7eYjusLxL4gUzwyk0A4fD4ao17nS1zvFmpw19ycp1vcroHF8NBBbw9oIiIcQ2xEEtAjWSdo9lHHuDgdxU37YaraNwaerl5nKWyfxsHISZHzRckZIgAOYqQGMdsSzsR9UBeIRc4WSYsZBVw+YNmzl07XWrpVdOa0ocIyr1NoNWrNdjUyIx0FXoFhCxDJMEyI/TaRsa2asWxRImQTCggn9U4Cop2oIny6/8ADIAPhIg+fIgQnYD9v/T8+fnv9c3CgkP/AKCePsJQEO/n46+fv4EPtnrN/hWa5+ar2uxNQNcHUw+hVqd0PCMrBVxL2Nab2a0SjeJUGNDW4GgAIjwttdptbofPpIy0Eb1yORIUiEf9FMnuAiRTOAIl7/8ArBMn1BKn7u+zez2gboBEAEA67AYYpkxIRksJBH3diRT3e4evPu7MYQAOgAPd0HkAAAAQytn0U/n2B/DoBD/bv+Pn/TNQTJ9ih18/H59/l4/p/r3nZp/wl9njTe2txqo41WgPezA0WHVpyjxEQZIO/JVvF6jHAsosAGgvH8vXoffraiYV4faP0WDkex7MUCKgUTAPuATAIiTvvoRH2j7ui99+0oZtLW3H1PcePcKj7jGKc4KGEvvKICHkQKJevAABfaAiIgAdiI1v9hfsUPv1+Qf69+f0wBSh0AgAD58B31/LOT/4Q+xZDBU4rjyxoGZjaOHaxx8OrTTcIJG4N4PNU8ar5swpUw6QcwAmwHTzFyPnApInDPhL7P2er7QMAAAj7PaXwI+PcUR8/PfgQ78D0Ocv7AkRN+6zL33+6YPZ35789CbwHx2Hz0Px4yqwgUvXgfPjwAj9hEe/kADoB8j0H277EAHjTUTUH90BAejD0ICAh7Te3sQ6EC9j/wBAG6E4AJiAJSiIe9R/hc7E06XdVMdxKo3M0j/5duWC2A2KNhAj20WTxrFbBmsmxm8Te5i2mhVLwrsoI9fhiF8de4faPQefAdG7+PA9AHYeA85tGsSxhN/y0wDr90RUKI+e+/8A0d/16DyPQB85VjoB+wD5H7B/P7fnmglKP2D/AG/2zlP8Lfw6dS7uq7ixbIJLcWxtwWmTFK5kSRBu0RrIn+tYyZlk2vkE/wAup3Hh069L0qTqskQOwSSAR8j/AMwodj0IfvABfPyPf8R6/PIn/VJ52SXD+v6/0dp+PZ3Pl9ybfK1XTNRRFZ2aqMHiwV91s6aYNiCdykzmpGPhKjBuV47/ADNYF3bpBZ3DVG2lYzaiHuAeh67AQ768/l9/y+3f36+3gbLX/BfUFh5pt+clzPKXLasDrWI1jryJnyRris62iYh3NPyytUbkZJvEpx09tFrcKvHbpwUFLC5WIkVwwiFY/wBXg38OPw94LWo4jB0ce6rh3NfS77FS1rgGyS1rGZoBMecGJC4q/FcXWpmmSwNMB0NvltMdbWEaq1j04/TnHhdoyIpz8rB5frI4Xs2yZ0XJHj13YpBJmU0YD1NM6biKg0maTaMQRUK1RXPIvkCCvJOVVL9Lfomn7FhFK5sek0a/wC3/AOUg7tWoi1QqoikKBhVjZ1g+YqG+kookBztzn9qiodh9VT33CAQodFAR6L49oiI/bx8j3/D7deAzcIAIj5H7ffrr7h8dfx89/wCuOIfw3fDrinHcd2ixdDiL+JY6o19aq3H1GgFrKbA1gDRkYGsENk76riw+OrYeh+HYKZp6uzMBzExJMzyty6qhNH0RQNdsDxVDpNHoEcocyh4+k1SDrTIVDiJlFBawzGPQ+qc4iYVvpe8TiJu/cADntjUlM/RjvBN46L7UilAoAA99FKPXkB8iAB9hHsPA++6L9x+/XkR+QDz/AKB3/APyzX2lH4Dv+Y/x/P8AIQHPYd8AfhjVotoYzgDcYxsE/iMXjH5suUNLga2QuAFjAvFrIMfimQKbm028msYOVtDA1tyi8qj1g0xSbc1ZMbjBQdtYxsk0mo5pYoSKmkY+YjvqixlWCcg1clZyTP664NXrYEnSALrFRUKCqgGtw5Hct9NcZ30Nr1qjPba5E3VgZbVPGjWbdWf2jfHipnRWL14xbIuG9CpAKs368lsK7LQ1VYxsLPHYuZSRhzQy194FAA8+fkO/P3/QO/tlKteaI0nqOVuM5qzUetdczew5t3Zb5MUek1yrSt0sD+QeyzyZtUhCxzJ3PyTiTkX787yUVcri6eOVgU96pxH3OA/B/wCHfZ2oKvDOy/D6FRghj3CpVc2YmDVe4i9/CYmNbrjqYvE1Q8vquzOAEiBIEWJAFtREb7FWk8OOMGyqtN7H5K8p5GGsHKfeztsWaZ1186kqjpHVUMP/APQ+gNfPXJ0UXEBWQMtM2eXjYuIa2y7ScrOP203KFVt9gv2CEZh/6TfHQj7vP6dD13/Lvx/IM7YpQKHtL0BQ8AAB0BQ+QAA+OgAQ6APj4Dx4DXz3+QB/r/46/wBc+u/8N8EL+8dw3COqBoaajqTXPLWlpILi2SI5mZJK4xVqAQHuiIibQYm2g0C64kSwKAB9AhhAfd2bswiI/wDq8iPn8vy+3WbwjGICI/hUPPkR+mXsR/MewH/cc+/Gd1vCOFgCMBhDAAE0KZgCIAlulvsLGY8ztvyiPoPZfEEcyKPYNkQ//wBZP9f3eh/pnIDRsAj0imHjoQ9gfA/y7/1+f4ePpxnMzh+Bp3ZhMO0ghwikwQREHTp73MoSTqSbzc78/NcX0EfH/LJ4Dr4D48ePj48fy6DNxUkyh0UoFD8gAA6+/jroQ7HyOb8ZzNw+HaSW0aQJNyGNkmwMmNbD16ypJ5rb7C/l/vj2F+es3YzfdU9e7ZPPK2fp0CSea09ofl/Tx/T8v5ZoJQHr8g+3Y/8Anxm7GayttYCNIA2/whE2K0ApQ+AzT2h58fPX9/n/AO3QfbN2Mha07A6jT3+g9kWgFAPHY/1H/t1/f8+9BKAiAiHfXfXYiPXYCHYd9/YRD+Ajm7GWANAPYItgJkAewDz5+49D3+YAPQ9eRDsB6ETCHkxhHcIAIdfbx/pmuMsDSLckP7ddP7CFQ2xcZON1uvAbPtugNK2jZJUWrYNhWPVtInbwDZkim2ZNv83SkE6sAt2aCSSDRH9ofSbIJJJIkTTSTKWtAs2hmwsxbIGaGS/Di1FIgtxQAop/R+j0Kf0/YIl9ol9vQ9CHgAz6sZIHIeySdJMDQbDoBtp97dTFwMHCJmRhYaKh0VFDrHRio9pHJHVUETKKnTZpIkOocwiJlDFE4iYREezD32oAAB0AAH6B8fy/v9c1xlRMYxhExjGETGMYRMYxhExjGETGMYRMYxhExjGETGMYRMYxhExjGETGMYRWqc2uIusedfFvc3FLb4SadG3HWEoR9JwjhNvO1yXipeMs1TtkEs4ScNP2tU7bCQdkYNnzV1FP3MWkwmGT6LcO2i0bD/0meTvISDrWs/UJ9TrbfJ7j5XYqDYzujNP6YpXEKE3kvEyTpw8T5JW+j2m63fZtasUYq2iLDS61M63rcgaPZTQMyTn4t+7nSxlzOy5bZZJI3BOW4/7QDotte5ohpi8zF9t/RdfFxcdCx0dERLFnGRcSwaRkbHR7VBixYR7Buk0ZMmTNqRJs0aNGyCTds2bppoIIJppIkKmQpQ7D/vjGRYXxvo9lJtlGUi0bvmawAVZq6SIu3VADFOX3oqAZMwkOQhyGMURIcoHIJTAAhzoopN0ypIpkSSTKUiaaZQIRMhA9pSEKXopSlKAAUoAHQB18ddcuMImMYwiYxjCJjGMImMYwiYxjCJjGMImMYwiYxjCJjGMImMYwiYxjCJj+f9+P7/n/AAxmKSz/AMQNubl3yH5G+nbwV4tuWvMKk8mth6Fpe3LPaV75oWkaQ13b5mo3bmBs4U6hUH8CeD/ZSKtc1H+GtDWVnZ+CZ/5qsjluSs2nQpueCWtzBsF2lgTrfy+SLI93jyk418Y4OOsvJDfmnNBwUwuo0iJTcWy6ZrpnLPEkFnJmMQvapqMTlnwoN1lCM4wztyoVMfYkYegz3esNqa03XRa/s/T9+p+0NcWxp+Pq97oNkiLbUbCyBQ6CjmHsEE8fRb9JB0kuzcC3cnM3eN3DVcqa6CiZYwdH+ilwop3d85L0WN5+8mbGyZq7M5K8zIaM3bbrNPEdOpN0Wl1O6ozVF0/SWEjIyCFUouvIGLZV+D/Z8Q9kJxxHqSTu6Hh3wH0jwTc7vjeO7271fVu7Nmq7cS0M4mIpzpvTdwlWINbeXRlebQTKbotYurxNrMTFKdWSfqULIM26NFhqhEfWi1cEA67IrsrxdqhrWm2rYewLJC06i0avTFsuFtsci1iICs1mvsF5SbnZqUeqotI+Lio5s4evnjhVNFu2RUVOcClEcgihvUc9S7nNG2K/+lpww0tHcbY+RcN9b8oee2zbpQI/kS2jnARcu61ToDWlcdbMrsCnJJLvYO47KmYZjPw5Tt1oaCtjKYqsV33+IUk5eycTuNvFmLUOgx57+ohw44c2l+C5kEYupXS8v9mzjt0KRTLrR75vqYkBLNEzF/GREw9arAoxVdN3E4VMqVYoVRq9FpUHG1inU2vxFVqlbh2aUfEQFcr7BCJhYWLYIkTRZR0ZGtWzJk0STTTbt0E0SEKQgFDlhrWNeYe7M7wEWAaGkEkHUzAHrdF4HQ1x2letPa7t+7dRLaI23PVZk+2Bps95rmyzUK0in7JOvNL9VFT1q4MkF0hVYTseZqRyycNjPWbB6LpqhUKBttWtC843rVjgbAvWpZaBsKUJMR0qpBzjYoHcwswmwcuDxks1KchnEe9Kg7SKoQx0gAwZEH6yW3NpRNd4VcV9TbDn9OOOeHNjWvGXZ+2qs7LCXKqaNkqzdLZtFhrW2ADheo7Qt0fXmFWp9ibxr5xGkkZpdkaOkSMJRrd7wl9Ojh56dteulU4gajLqOA2M/hJi4xqN52VckJuWr7WQZRcooGw7lbf2e+IykXDd2tDBGFkg+iL9Nx+DYg14xlgnMAZjJFto8VrawLobfL5mFfDjIWeJnMHeG+vWC9T/AI8/55iZXi3w911xXqFXq7OIq31I7c+0qtKXO3SpLOzjy2eQdFOxstWnYeYlH0dFP640Rj2TNylIEPNGYf3TCA/BR+PkPA/n8fp2H9crgWmDY2PvBH1HuhtboD7gH9VvxkO3qIXj1WOPcraOU3El3xj3bxz0/r1vYdgcOb5S7tW9wX2u1lU1o2jatf7ug7BKtmez0a7EuofXkA+pbqog0lJJzJ1a72xlBRz+h3qXeofcbR6OVV5EcF1ZhLbXqBM9E6N4s/tZw+q95r905dTUVU2zVpIVufbnq22aXXpO1pQE3GWsIqu7FgmMu0kpllHt20giLy0zyNxYaiLa/JFObfa0+udIt9SjLTOUeSs1ZnYCOutZJEqWSnv5iLdRzO0V9OejJqDUm6+4cpy8SSYiJOLPIM25ZCPeNBWbqQC+nJP7Y9PXnrsv0iN/chNich9Y3TTEfyn4Abj3rYG8xtaUq7OwSNc3px/s9pdLNVr9cKZMpFv1WjoiNO7itdNLJOLpRdbPEwVdmp4r6btPHrjppvSF23HeOQds1hQ4SoT+6dkqArd9iyEUh9Jaw2BQzqQcncrgJUEDSMrNzAsm7YZuenpf8bMPoZ/UXVbJ+uX/AIfssMCCls/E+pgEui3I1F6NMccaKoUysmoX3yBGJHCciaGIdL8Gq8JLnRWQWbuAcxFkKh3+XXgPkex/gP6h/Ee/zzXNA/7B8fH8s1wiYxjCJjGMImMYwiYxjCJjGMImMYwiYxjCJjGMImMYwiYxjCJjGMImMYwiYxjCJjGMImMYwiYxjCJjGMImMYwiYxjCJjGMImMYwiYxjCJjGMImMYwiYxjCJjGMImMYwiYxjCJjGMImMYwiYxm0wCYOgHoewEB678gPYeOw7DsA7DvyHYYRbsZ1sawXYNxRcSj+WUFd8t+LkCsCOPpvHzh4i16jmMe3/DxqS5Y9iItxcfgmyBnq7x6Zy9cdlhExjGETGMYRMYxhExjGETGMYRMYxhExjGETGMYRMYxhF1sw5FjGPnwJul/wTRy7FBizXkHjgrZBRUUGrBr07euVQJ7G7VqIOXCwppIdqmKA43v+Gs4B7a4q8b93b65WaokNccueWm7bHsq9Fs0LDRNsaUaRbx07AwjiNYqKv6ygtaZq4zD+ryhIiRjpBwm3ewbcrBi5c5KmM0HlrXMBgPjMOeU2+oRMYxmUUFnr9VPYbTi5x15T68gndpD08uefGfnZsSpxjFeRmbLqTTqt0rexm8S2bqFUKeCruwnVvlnJk1QZVyuTrhFMy5QELwUfVs9MH/IEXsofUD4ep1CWi28tHu3HITV7WXXQctPxxWJqqvZS2lvPoIgqR9V14dOxxrpu4YyEW2eNnSDeQ9QhVCiQ5fcQ3XuKPwIAICID+YD10IfAh2A+By06s8CODVLvKez6fw04q1XZiVgVtiWxa3x51FBXpG0rPTSSllStsXT2s+nPmkDnfftkkgEiDsxl/wAV9UfdgEZcjs3hALSIgutMyZ25DeN0Vs3JbUWpfV44mNWer7vtDVstUtlUvePFXku51JfKHP643zqZ+E5rLdev6juCrU53f6MdR48il5MkcNR2Rr+xTRqPZu5KJtkZYNyZ2p68FY43bKa7Vs/pvcN4TXsRK2faHqDUnYGx7s3itbVZJeRfOdVcbtlUR00htl2NFBtGtU7zfJiGMLmYiIRi1sD2sTDLJFAOgAA+wAAdiIj4DryI9iP6j5HPzxfWQl+V/rOeurWvR7qM66o3HDjvYa7IWNkzcyjmstGDvXFZ2JtrkPf4hiZsynLZXavbHFB1Mwl128XGy75lAx05WJHaVuknemEB7SYgGbiRbmEUz/8AhL9XOq/6fmwN92+G2nI7a5Xbxt+3Ng7e2rFGQk9npNJOXq0AtGWiUmJKzXtq0ViZ64TFplUEWDiz7Gm0I2QmniE28JPEXmNr8/OlfgISuW9TaiHE9vy8WtqTeHPr9tQnG3numka29e/tYLAhcndiZqycazLXloh5BNJZwaYbO2KLN/VCZrUvpjQT+n8adeVaRm9ZamcVrRWrZmeeVSkuJClVAYrWdDkrMmxnXlZqx146Hg3UuWOlFYuM+q6Bq6VJ7T2K+mrwP2TxtPu/knyy2JG7l54cwJ2vWbkJe68V+hr2jVyoMnsfrbQGlo6UH8XF6v1bESTuNbSbhFvPXOQOMxY1nRmcOmwryHlzzY+Hwj0BgE7AHfyESEVqHq7c9ZKztLH6U3BQ8fuP1CuUFdeaysVfrD9V3E8UtOXmHKx2LujeFnhiOia3dw9CnzvqTHu1P8zhIzdctzODlWf7FhrXWbkl6TKtw9N/jZwr4vbrf6X2RwlsnHXafFnc1wrsTfEWG4uMzoj+mWfY9adMAiJ1Cxv1JF/PIoQysKwmn6MknUJmEjj02SlDoWhdJ6stmxb5rbUesaDeNvTLex7XuVK1/T6natmWBqLwW05sCwV6FjZa5y6AyD8yMlZHcm9SM+dmTXKLhUTVa6+/9/3+uZkRAEXk9TzVm0dZUaPITnfC+nvxj13b+a1nqN/5K3BFhTajpvjHULUW0cid0yjpqyjddcctT2633q+zrhSRk4eHGTnbC8atzrpTM86rqUqhFI24enPwy31auQOyfVN9QqBiK/zF3TT2ettMaGiJhSzVThHxlbrElI7VMLJqlBlL7YuL5X/MG3rs1Icp5pzKxNYCvxU5aoV7JIz4dca2vJSd5hL6qg5zkxOV+GqSG4Lg7mbzbKXU4OJkYRrVdSq3SSnmek6xIsZuePZ67p9nRoa5StgnrBb2M5YZZ9KLXLkKBCgQOxAgAUBEexEAAADsfkR667EfI/PnIotQDoAD8gAO/IiPX6iIiP8AMRH8xEc1xjCJjGMImMYwiYxjCJjGMImMYwiYxjCJjGMImMYwiYxjCJjGMImMYwiYxjCJjGMImMYwiYxjCJjGMImMYwiYxjCJjGMImMYwiYxjCJjGMImMYwiYxjCJjGMImMYwiYxjCJjGMImMYwiYxjCJjGMImMYwiYxjCJjGMImMYwiYxjCJjGMImMYwiYxjCJjGMImMYwiYxjCJjGMImMYwiZROrcb9DUnceyuQ1T1JRIDem4msPH7Q25HV2OR2Fd4yvw1dr0JETtrFE0y4hoyIqVbaM4YjtOLSGGZuQafiynXUrZjCIHj+/wDxjA/n+X8f+3z/AA6HLVVucXEJpo6y8ln/ACM1NF6Ap9ksVOse35e3RkRQYy1VWzKUuarh7FJLNWDmaQtqRq4zjmarh3LzAkYRCT5womQwAmwEnkEV1WMj00J6snpr8nZyKqekea3H24XWcWUbQ1AdX2Np+xpV0kHuUax+vLwNaurt2QgCoZqjAncFSIoqKYJpqGLISQwHL7gAwB2YP3imIPZTCUf3TAA9dgPtN17TF6MURKICNII1BB5EEH1RbsYxkRMYxhExjGETGMYRMZsOcpOuxHsw9FACibsf5APQfmI9AH3EMttZ8xOMspyUd8PofcdTnuSsVSZTYth1LXVH9hsNPqES6rDJaTvbiEYv4ahrvVrlWzQURcpODmrK3kgeV6Ok2jV6u2IrlcYxhExjPKXe90nWdTsV92Lbq1Q6NUIh7YLZc7jORtZqlYgo1EXEjM2GwzLllEQ0UxQKZZ3ISLxs1bpFMoqqUpRECL1eMhOsfq7XnasvGq+m7wN5B+oTrFlMi3vXICCl6zxr0ElX4+zSFVs77Ruyd+s6+y5OWSBkYl6ZtGasaL0WbQFJwz2cDZT6qM1yRjGTTMchkzmIUx0z+z3pmMUBMQ/0lFU/cQREpvpqqJ9gPsUOXowkW/GbDKFIJQN2HuAev3TCHgSh12ACHf7wCBe/cIAYwAJSHEoihVPd7e/3DiQ3ZRKIGDoRDowAPXkBAeuhAQEOyiAiRb8ZoYwFKJjCBSlAREREAAADyIiIiAAAB8iIgAffNhFUzj+6byYAHoQMURD2gPgDAAj0Ah7ug/dHwboQEAKSJib8lyYxjCqYxjCJjGMImbTGAvkR6D4+O/kQAPgBH5EP6/03Z1U0/ZRka7kpF62jo2PQcPJKReuGzRmwYtkFVnTp04egDRFsikQxnCrlRFBJAFFlVk00zGBroh/UC3UwuwE5PaB+wEoiAAIB2AgbrofAD4AB9wiHj2gJhECgIhu9xS/PQfP2EPgfv48dffsQ68d+BDIOtL+mdSd60avbYtXqveo1zBq14jEJuAt9F5lONT6fnUDLvSDL0eM4qMNZxZoxyqdw1Mk6sdkTQFsDdq5QRRAmVJU9D3gs89wTbnlzYir+9V3+3PUA5vPgeOT+4/4pwQN+Igqum4N+KKoAF9zgpVDgYBUIrQAdTHod9dJ0+a1lYDBeQJj/ANM2/L1HM/4Cl6+qQTgQDdmHsegKP2HoQEwh7QEew9oD0YwAYxeygYS8n3/MPP8A2EP+/wDLI5uK/pua04f7mte0dR7u5cyFStdCQpLnQO1+SWxN0aSi5os9FTq2zoKH2q7tdwj9hKNY0K6Mq3vCkH+wJCVYpwKLh4d0nI156+fP59f9sGLQcwIBmCNRyKjgAbHMBvlI26/X0WnwHY/YPPX/AGzX79fw/wBe/wDxkO2+5/1geN237zunWMToznlxNkJdKad8YYqKHQ/KrVVPboxzFeO0ncHC05rvdktEoDMXGfZbIk61P3hdm1qOv4+sv3jYq97fEPmpx85v64c7F0Jb3UsFfll6rsah2qGf07a+oL6wD2zOvNta7nEWlhpFxhnAKt3LCRa/gpAiQyVfkJmFXaSbiKlpABsRAMi8TseR091ddjH9/f5/oPQfr/5yg3IzlBx74j60k9w8ltvUfTOuIlUWy1mu8yjGIvpIWb1+hBQLAv1paz2V80jn6sXWK4wlbDLC0XSjIx2umKeFkAmwEnkFXnGWHcGPUt4ZepDX9iWbh1ttTakPquww9Zuyruj7BoTuKkLBHupOCWCK2JVqrLOI+XZsX52TxJkYgqsHjdcrddAUhvx/v+/6YSDoQQRqCII8wbjUa80xj+/7/vznyrPmbddu2XdIIuHZjkaoLKkTVdnTTFVQjVM4lM4OmkAqKFRBQSEKYxgAAEQIvqxmgD2HYeQHyA+Ouh/L/f8An/INcImMY89h5/iH54RMZSHfUhu2N05sd7xwgaHZN7oVV+OqYXaMjLRWuH10VL9GJLdpCBEs0hWmyxwdywRB05Ndoio3YqJuVUzhHm0p/rkydeYPJbfXpdVG1EOxdvq3AcYuUlwr51kyiL2LG6zPKasSLmLXOAf/ADbehRMocp/+WoyEnZy0GzN2jzMH7/upasZCvMp/4iOLmGowDr0ZbxAJCUXoSsfzb1ZMPABMfqFamaS+4GTATqiBiGVSfgQpfaYqnuHK4aG5c81HXIWM458uvT/n9TJ2WvTktSuTegNtNuRvF+bdVBmZ5Yo+82CQoGpb7pGWlQWYt6BD3WnSZro+cOWDF+1Vi3ZxKFttWnTed1JxjPkcvGrFqo8euUWzZugq5cunCpEW6DdukZZdwsuoJEUUUUinVVVUMmmRMpjmEpSj1bfxn5m8VeZNZmrhxb33rXelfrcsMFZHWvbG0mnVblRVeJN2tiiUxJMQP7SBg7cwq0sxaNp2PQNJwyz6OEroxIMEwYGp2CubxjGFExjGETGMYRMYxhExjGETGMYRMYxhExjGETGMYRMYxhExjGETGMYRMYxhExjGETGMYRMYxhExjGETGMYRMYxhExjGETGMYRMYxhF1M8/PFwczJpkKdSOipF+Qhi+8pztGizgpTE96fvAwpgAl+oT3APXvJ37gwMP8LPqW589K7Q9jclWJ5njn6a8zdI/jHrNzCoLa1u/J/f8AsXY+29k72uIyMjLGumzdUwFtgqtVmspHNouhxk9S7LVStLa7ss1PZtnKfZjbS/GXkVuF5CTFmaao0Vt3ZbutV4Q/zBYmtEoE/Z14OCD6ao/teWJGiwjR+mYAeuEOw89DDR/hhuKcnxX9JLT7O3Ua4a92Puq9bK3jsSr3yIk4GxspqYm06DWnKsHMtWUlEMZLWuu6PKRbddm3MuxfJSA/iBfGeOdtdlDrwSABbW97zaPn9Slq5BcIOHnKxqVDkhxf0Ru5duxcx0fK7J1fT7RYoho8Ep3CUFZ5OIcWGA+qoQiplIeSZqAqmmsAioQvVQNA6H1/xn1TVtKapTtbXXVKJItapGXLYN72hLwkW/k3kqnBIXDZditdydwcQo9UY16Nk59+jAQqLGCi/wANExzFohWbH9/3+X8cxJ5ovFbJJsJTXl7T1IvT2u1VKdZyazcbDQm3ev0NgHhHxaYteWtZdMLI6p6VjGNVszavP2M2vCkepRbxs9OiqWLPXvAHnRanFDvPLL1beTU9fqffW2xGtF4nUDjxxt0A1TI7YyJ9YWKtSum9nbE3FRUlGxodZzsrYKikpC/UMNfiZOReu8qJ6p9C5+7N0jSKjwBnYKJsbzb9c/49MnO1nGjrjbOPh4CyIXCka43Cyo97ldWWqfmXNZA+waoyir/VopB2+pMzHTJ01T0yhm3rxzzyBbLOfSc0hWCKmRkWThvzF5QW5hAiRmnGgV8rP8Y4+VsEYkR2SSWWffg5t2KaqL9oVNUypFMUHfQdj2PXkeuux/Prz1/DvGUf0nC76gqm7Zcidi6l2deBmnKrGx6Z07cNH1MtcOzYAxYOqVd948hJo042fhKfjJkmwRYSDI8cCMFGOEHZ3lYMImMYwiZ87pUEUTKG93RQERAhTGObophApCl8mMYQAAD79/JR6MX6M0EAHwId4T+2iwt7T6v9K51bSvWrOdvLXZHow8fdfzMhDveJqdX3Dq3mVvlmydMFP2juPkpMaja03VNDmkPfGf8ACXQkq62DLRzm2N7Ne3EMnASxpxfTg216LtBZMuPXpv7i4fFmrGl+1T0PVmz6xZdz7DdRUc+fv5+2up2wyu3tnzsZFM3z6VmbO8sEzExTZZxIOWrMgmCWqbWg46Pdys8MY2i4ts5kn7+UM0bsI1kybmXeSDx49FNq0atWyIquXbhVJBu3SMoqoQiYjmMu2umpPVc5p6R5lR1b1/rb0zPTFut+2hXuXmw4+H11IcpuRNZQdwZXuqL88Ui7FD8U9GvIVa43q4SFkhqdtK9VqKrlkrFkgao8eVzUuyx/LPK021PoFtpblcCCINjNiTFiI/dZQQeQAfzxkWFv9av0yK3aYfX1S5T1TkLsqxFlAruteIVevPMO9TSkLGftiRRb1/jLWNqLsRRjiqOfxEyeMYiRu7AzspmD8Gty3G7ly15KO5Ekfxz5XaXi2cCysDCc5HaWe6bbzraQnpWAbMYyGsMwa2oTIqw7mTXh5uuw8iwhF4mUkmzJvPwAymVhXarG9iYj0YfgOi/9Q9j8F8h5N/0gICAh32AgId5jn8d9Zw/rh7EmebnJVULv6devdqXancAeJq4nT1ZudLU9pcUaz8yeSMCWVWcbMn7TsCtW6uai1XsaAiKzrugRLhZ/SZmXuMvZJnIvWKJkxABEB7AQ67+xgEA+B+fAD4Hx2AAb4HGU9HzlBo70zNHh6TvOvZNF4r764mXfcLWhz28bdG6119yg0dsbc902Nrfe+mbxc3ETRZaKsZLm7rb+iRlsmbdV5ysybSxMIqbTnIGBLQuDFzY22Frj1ssmCPi46JYMYuNYs4+PjWaDBgxYNW7NkyZNkSN0GjNo2TSbtWyKCaaSLdukmikkmRNMhSEIUPvAAAAAPgAAAAPAAAfHQB4Dx8dB8ddeOstra8zeIT+qt7yy5UccndKdjIfhbg03drN1VnX7IjXkzKfh7CjZzxCv7Ph4+Qlnvtdj+Ei2D1+4BNq1XWTpHL+qX6Z8C3O6l/UL4QsUiN13QJqcq9FmdLItk/rLi2ZEvR3boyaYlMZNsgqoAGAfb0YgmLMEagib3EbDn0hWvettuzceuOOGi9J6OtrjWFv578x9D8A5Pdse3O6m9FUrkaNrZ3LadXRJIQ3VvioCtPIKqugmoh1HTtiZSMNJMbG0hXaN+/DjirrThHxn1LxY0/I3WX19p6vrwMDM7GtSt1vEuaQl5GwykrZLEo0jm7p7IS8w/dJMomKha5CMlWsHVoGBrcbEwzGhW7ddcVfV54g33WEJsZ3btQ3V9CKVnc2opZ/FytXv1MkoC+0TZmn9gEZ/suRlafYW8HKx8/X152tvHLeUq00LxMtigwt7pXHn1t6W0LQXfqIcL9i1Zsks0Q3dsXgpfld5u0V45JJKRlaZQuVFA06rMxTntu2PHsI+LkxaJzcpGmeSL6PKVMQI1vP6fqrzef8AzEpHAnh7v7ldeQYPWen9ezE7Xa1ISysEnethO0gidaa7SmG8XOLxC9/vj+v1Ek0SFlUIIJc00/aGj2DoxbXvRA1nyE1z6aPG91yovt82HvzacRZt77Dmtk2Kastrj3W77bNbJg64+WnlVnsO5hatYIBtM1xMEWsJZCzLFBEpEhMfHL9TfjVWpn1CuAuh/UV9Sa373htfsnnNbl5LcgFdb6O4rR2iNeXQ8BrLT+o+LevAhaxL7J5AXJO2aykXLx/f9yTFPaqPYWUsRYh3Bq5X1D5J7u3DO1x9q7ihdK7pt7MsAkdocl7eTj/Ny1NWdN031p17o1Cp7L3QtJA1XcqRFM3/AFLjlJSLxgok/dQMa4YTLorAyxEknQjbWw/X9ir0ZFyo0Yu3aLdd2q2brrptGxSmcOjopHUK2QIoZMhllzFBJIp1USmUMUorJ9gYLYOFnJxTmDx4pG/HOnNucf5K2K2iMnNPbyrK1T2TRrDTLhPUqcjZiJVE5FmDiSry8hXplscic7X3cZKLx8K/cPIhpaNormVuXcfq5c4OJUNE1h5xj4j8cuM6lumlHSJ7hE8ldzqWjYMWnGCkQqj2rW3Ur0GU0wdqrErc5reLcRqTQ1umCryyABQ76APPkRDrz9gEevnwHQfoHQeAwsxFojpotc8bsaXuFf17e57XtQQ2FfoSm2iXo9BdWZlSm14uEbCPntap7i5STCVjqkhZZpBlCrWZ/FyTKBTfGlXTB4g0O3U9lmhigYBKYAMUwCBiiHYCA+BAQHwICHgQHwIeB8YRQRa9kv8AERb2azs1cYb04OB1bf2V+lVKROwG2eVe8q3V2ZxIwNaLXTdw1PS9hfSI9HB9EsIo6zUPxDqCgHRxjk6jT0D/AIgOvt4wlN2Z6RWyzNHoJSYXTTnMHVD2XiEREQXLKVvdO0o+JmngE9q30aq7jGii5lUm7lNoVq6mXD+HX99f7AHX6fl1mvj/AHH+nz/vgGDsZ539vb6rbXxAyMcB/U2Z0/ZWF8X9geozMX6RpnMTjVxiodSiaUjJo7s4/cnbxsmKtl0XfNUk6xDalvugNdWmvx7ZgMg7lZmdtroGayEa0jf8yFkHTiF9Z6hemrryG4JcxtE63bovNibg4yb011QmLmXNAM5K7W7WVlhqlFv5gz6OaR8ZK2F1HR8otKuwhP2c6dJTaTyLUdtF7xwAodiAAAj5EQAPP6iIfOB/Prvr4D9fj5+3jvLNwRAIIIjSyxoQRYggiNNRboLCw5bqO70odz6m3r6ePEe76ahoKp1JpozXlHkNf10iyLHV1317XWNLv2rl2j1RSVZvqFboSXry5Jk5pJ0k0byThRf8aDpxZN62/qrUjiToq48YtA7Hjp71HuR0bBac41adpr13I36CuO4Z6Ho0VepdeESdttevoSLsUlaNdK3JzDmuFoho9nBNpVm2m1o2rnIb0keLUhsTZPJysciuXvBEtqn3e5+S6/EjllceNGp9svq7Ft3Fkve5oFss4p0WsaBinrq43CsFokrIEcT9pn5xxPv5Wbc2WTPD/iXTPUV9On0++KOl9cVjWPHaW2B6q3KaQ+vcpjYsvbaXA2LS/Dues+7JaRnrZsa5S22tv3u5Grux7bIyKlM1wzOwcEpkenXZWLbQxxOYmwkgaxaTMzE23ncqeri7qid0Vxy0bpi03ae2XaNWam17QLNsW0TUlYrDfLHU6lEQk7cJiZmTqSz57ZJVk7mFVJBQ65PxgIgJUU0kyV4zQAAA6AOgDwAB110HgPjNcLC2mD3B0PXX3Eft/wC/9P45AV6qlPLwM2rQfWl02iwrf/CZ1U9P+ohTYaJVM+5GcPNj3Cp0ktmSaR8c6LKbk43Wp/W77QJRw4rbqSqTCw1mduK1bjmVPm59jD7Q767/AKZCX63PINgXjTOenxqqIZ7P5l+orXLDxv0Xp5sums7ja3sCKlIDaG97ym2Ou/rGsNQ0ALfa3lrVj3bX9vwbJqKRItrYZqALTWucQBeT+oncdPLVTRRUmwmoqLl4l81koyXj2clGyTFdNyxkY982I6ZvmblETJOGrtsqm5brpGMmsiqRRMximAcgP1hTqn6hPrL8n9pbPr0detL+lVVtZcb+O1enmcfZdfL8qNtRpdv8hdyMY2QaAMZs7WMI21lqBBJwEuwjyNCWOFcsJkEV0JwNUUZpq7VettZx71zIstdUCoUVlIPTKC9ftKjXY+vtnroVV3iwuXSUcmu4FR06UFU5/euuftQ8MX+H4Uj5zjNy22W5ljSWy9xeprzl2Ju2PUQeNHFX2WfaBKgFecMXyyi0cKdDqVGlkY8E2hWreXSTM0IsCyy5RmZpqOHIA30MgEt2IiBtuVNNXNZ69qNqu95rFJq9euWyj1xTYNohoWPjpy6KVCLPB1Y9lkmqCTqYNXoZQ8XDGfKLGj2Bhatvpo9ECNrea3rSU7kBe7lx5jfT03RxSZNqm+puldnzO9dScjpptFVX3XaAa7bhYq96ugrNYbcLsa3P2Kmzla/ZIRDWUjK0q3lph9K8I+OxAQ66/wB/0Ef/AHzyl4u1T1zUbTfb7YYSn0ik1yYt1vt1lk2kNXKxWK6wcys9YJ6XfqosYqGhYto6kZSQeLJNmbFu4cqqFTRUMBQHSIN/MfL789FDRO+slBSXCbfu2atqWf11zW01sWj8XZfhjuJ3Dt7dVOYe6JmsU7SVMmZCNm4pjb9P3Ww3OFtkJtOtSbCMt+rGNkn4ZSLloaUiIfs9J+i9q8dham5Z80dxb25fc9de2GA2Cx35Z9xX+iVHW9oaDHSExQtH6Y1lK0fWFN0cpMknRRoszUZ5xMRtgmmFmkJJhJfs5pBvtzW9o2zpXkH66L6AuVQ1dfvVR9N3m5WNWv4l26nrdwI4GzjDS9X2hPQa8WznK6/2RWb5ceQEozlTyMdF6vrNYdR6x410pIq5sMFLxFhhoqegZKPmYOaj2srDS8S9bSUXKxcgiV0xk42QZKrMn8e/arIumbxqqq2dN1UlkVDpnIYS2JZDmmDoSNohwH6ambzqrXuUHODjXwzeaMiuQN4f1ST5GbegtFahjIenXG8S9q2NY0z/ALLjUYWkwlimW8eo4/Bx7qbXZBFsJCViWz92gZ8mbLtwEDABg76EAEOwEB6HyHYCACAj+QgAh8dAPeUS21vvj9pSU12z3dtXVmsJTZNwQourU9k2+rVJ1cry9RFZtV6aNifsjzFjeJFTK3i4oVX7ldzHs0UVHcgxQXraUewAQ+BABD9AEMLCtL5m83+OnATVMZujk3a56pUWbusTrqFc1qhXnY0vK3Odip2aioRrX9f1+xzJDO42tTS4SDtm2iUTtCNXD9J49YN3Vh9d9ePhZaYZhPxOtueLiHkmIP2kk29PzlrJx6zY4GMidKSg9WSscsRykX6yDhu8WaikYhzLlEwFyaFRNNUPaomRQvn905CnDz+hgEPIdgObvaX49pfz66APv5/38/n9/nITGgJJ32FxqLTad/RFaNxB5v8AH7nTSLteuPUzdJGK11sWR1NeI+/av2HqW01m/RlbrVtdwMlVdm1qrzpFk67cK7Jg4SYqtPZIpoHWK5ScIJR3bj2V6uvBd/ceQl6V1F6inFpWyWO0bC0tpHUchpTlJx21urLprxy+jiqXS1VvknC0Orqv3Fnrl1UqmyrQ6j45WBsLVBeWUaTkESSTFQxE00zKnBVUxCFKKihUk0QUUEAATnKikkiBzdmBJNNMB9hCgHiNlbIoGoKHb9obQtUBRtf0SvSdquNws0g3jIOv12EaKvZOTknzkxU0UGbYih/aIidQTAmgVRY4JjoGLQDNr63M2Os2gcgTC0CdAGkmwkSQbRHqoyd0etTwg1poLRm8tf2S+coJPlHFrSnGnRPGOiyuzOQ+628aq9Qsx61qoxoOchmtDXjZptsN1cArY1OQgZmuPCf5wbt4Je/PjFvRlyZ0RrXejPWW1dOo7JgDzxtZbupy1D2nTVySL2NcxFyqq6zk0XIg5YrrodOV0X8cu1foKnbO0xzFm/w2GtuGtX19zz9Wxy2o2kaluHlXyApeoHexrHTqdV+MvEttfG2wq5rRFy6lEqprokjO3FE9pYNpcIhy1rFKPEqfgBO7k8s3Uu2df7y15U9sasmlLLr29xX7ep1mNCzsC3sUCs4Oiyn4plZIuIlHMFMpJEk4GbKwCLsME5jbDCO5CDlIyQdV7criNN/kPfkskEWII3uI1VRzkIcpinKUxTAYBKYoCXoxRKICHXQlEoiUew8lESj2A9ZAV6ofHt3w8sLT1jOHdKShN7cdmsePLjWVHZMYWG5icPTycWz2jWbzGtRjYt1snUleKGzNabKlFF30OnTVoSZaWKORq8fAT8B/HvPFbIqtavOvrxTLkwYSlRttQs1ZtMbKt0XUZIVyfhX0ROsZBs5AW67F5FvHTZ4iuAorNlVU1QFMxgGASQDuQPcgfqtscWuGkEgGRNpXJry91PaVEpuy6DPx1qomwqtXrxSbRDukX0RZKhbIdlPVueinyCiyL2NmIaQZyLJ4kqom6buU10zew5QD2OQvf4eO93/Ynoz8Ep3ZR1FbFF6zsmv41VWPUjDKa/1PtC96s1IoRBXoy7c+qKZSjNJQCgnNtBRmUTKov01lJoQAA8BkNiRyWSMpI5H7k72TGMYUTGMYRMYxhExjGETGMYRMYxhExjGETGMYRMYxhExjGETGMYRMYxhExjGETGMYRMYxhExjGETGMYRMYxhExjGETGMYRMYxhExjGETGMYRMYxhExjGETGMYRMYxhFTnb+qKRvbVOzNJ7NilJ7W+4Ne3TVuwYFKQkolSco+wq3I1K2Q6crDu2EtFnkoGWfsySMW9ZyTE6xXTB22dJJLFiQ1B/hz/AEYtKTadiq/BbWtllk0FG5x2/YNk7yhViqOk3f1FqbuG73ejisU6SSRXAVorkrcgolWKVZwK02uMKyYibclTTUumtRaFpbHW+j9Wa301ryKcvnkXQtUUasa5pUY6lHSr+TcR1VqEZEQbNeRkF3D58s3YpqvHi6zlydVwoooapeMYUTKQbl4/6L5F1ZOi8gdNap3lR0pZrPoU3cWu6jsyrN55ig5as5pvX7pETcQjLtGzx4g1k02YPmyLtyRu5TIsoU1X8YTS4JB5gwfko/h9J30uDAJR9NrgL0PffXDnjwUex8CICGvPA9CPkOhDvsBDrLkdKcZ+OfG2Pl4fjxoPSmhomeWZuZyK0xqmi6tjJdyxK7KxcSbGjwUG2frtAfPvwyjtJYzf8a7FESC6cCpXDNOgDsfz+cJJ3cT5mTsP2WvwA/zH8sg69Xb1anHBxzSOOPHep0bbXNrcdJvmyK3VthWZKu6p0Vo/Wtesdk2NyT5BSDd8xlGOs6lB1O1SbKKau4l3b0KdcSRcukvXzspKcQe+h6ARHoegDrsR68AHYlDsf1MAfqHzmG/yx9GzmJyy9eXe+wp471n6e3I/R/H+G3js9Kflmssy03Sk6Ypa+IVAQdWSDmYiW3Jsvjy0m9gy+v4x5G1DXuw3EhJTkfJ3ZzV7XWgEmTAAJ8zaAiuT9APhzdt/U+N9Zn1Dvq7u5y8n0jTGmrNsqow7Qug+PUV+Mgddf8HqeMOzg9bONjRAydxZWSltGacvrq2wy0W4SVuF5krdk5WJSYbV6aXrzRrIWBvFyDiEYPXB2bJ/MJNllY1m8dESXUatXb0EUXK6aKyiKKiiiaRzFKUeaCgoesw8XXq/GMIWChI9jEQsNFNEI+LiImMaosY2LjI9omk0YR7Bm3RasmTRFFq1bpJoN0UkiEIXtsiaKMb0n+Gdy4e8ZF1d2uG8zy25JbCuXJ7mPbG8qaZbTvITbD8knYY6GcIvHMOxrFIhkISjQEZWE2ldFtXzy7JuLqXfu3cnAAAdj+fz/f8Afea4wqSSSTcnUpjGMKJjGMImB/v+/wC/zxnGoBhAvtEQEDlEQD/1AHyX5D5+w9/IAIiBexAixnfUT9TnQ8tyA3VpC+2Ekjwh9POtUvZfPZtWYta3znJDklsCbM04oentUIhlKxpJz/NVti3ewNwRBlJOnWIKITTe2Xda1uTdzI8hXpb8cNx06u7v5ictoFhW+Z/PO8V7ae56gwVaummmde0WBNTePXG5k7ZJIN3yemte+9KwSZiuXUtsGzXd+7kZQqzd2aM301fQL2JoPlXvTkhzd3ZE7+rqPMjbXKfjHqaPXdvID/i1bJ523hOWG+2jit1uIsO/YmuERPrmus0bFUtNTM9aLdUZVK2z31ITKN8B2P8AP+n9/p3/AK4mdojeZnnuf0VkCwvIgu5jwmItF2zYX3WuaD314+f7/PNQ8gA/njCij65kUj1GNnT0Br/hzujjlxp1pPV/2bH33d9f2vcfIWmTZJYyxCac1fIfsjSLwjmHboN1Z3ZU5LmZrO5AGlSFdCPlk/l4S+mxobhbKW3ZsZLbB3xyj2hHoxu5eXvIayuNj8hdkskRiASrLm4yiZRquvIsK7X2sJrqntoWqsmFZrBHjSWfwLGTLIcAgIiAD2IfP6d5rlkxE25ITbfbSZ23F4EWA09EyGOV9K/dOq90by2vwJ9QXZfDmsck9mSu7dv6IkdHah5Eabe7ls7JBnd9jUiK2GhGWmgTF7cNUJ+1t4e1rMJSwmWXWQCEawNfg5mxEA+R6zXsPzD/AO/x/uH9ciNduOmo10ProLqPSp8Jdvv4xNpyE9Qrl/vEHIFVmIOsOdNcW6odwIKlXLX5Li9qjWG7YFgumsYgt3W8Z14mbpZOSBYiZyUr2f6a1j5Xbekpnm3yNnd58VKza4mX1JwXqtSc6y0E+Y1iVhrDU3PKlZa53S5ctp2FsNfgZ48VfZ+M1I+sUISTc6rO2kH0OErwCA99CA9fkPf9fy8gP9M1wrJmTEkRYAbRYemy83KVGtztVlKROQULM1Cch5CuzVYk4to+r0tXZZmtHSkBIwroi0e8hpCOcOI55GOEFGThiso0WQOgcxDW28W+F2oOHEfK1fRcxt+K1q6asmVb1Fct0bL2hrLWTFiBSJRep6/smyWpbXUCCZSppVetSLOsMSe8sXDMQWW+pdtj+/7/AL/hhSSBG06c/fXn6LHWr1er/N//ABCe+z7NZDMUn0iuN+jq7pqhWJBGYrzfkby3jjbhnuQUCzXjVmLSwwmuGlaoLUz52d4wlYKGscM3RfRqbtlkTkD2gBfkSlKAm6AvYgHXwUAAPjvoOgDvoAAOs4k26KKiqqSKZFHBxUcKFKUp1lAIQhTqnAPeoYqaZEiCYTCRIhEy9JpkKXnwqSCRAiwETMkASdLEkEwExjGFF0Np/wAx/wCWbCNOLDKW0sJKmqydjUepV5WxFYrmhEp5WMSXkkoVWTBqSVUjkVH5GBnB2RDuQSKMKTH0q928vLPUNjervyViOScNVpuHuVe4M6EqEpqbghWbhFAwXRXusHPy05s3lClFS8eaRgHW5pZnBEayk3DPaK4g5l/HrTl5oBQD4Drv/t/98aLQcW6GPQfXb75qNSY9Hb0wrJvux8m7Lwi4/Wbctuk38/ZrBZaM0n4CctUm9SlJW6yGt5ZV5rBW9ykwkaZk70FMJbpGYcvpR9NOH8jILu5KiF9pSl/+kpS/0Dr4DwH8s3YyklxkmTESdY81CSdST5mfqn5f6f0H/t3kKfObkNceYjq9emtwRk2Nn2HsONsur+X3JiISQteoOD+qZsj6p7HjLRPxskhDznLCxw6spXtYcfI6WC8Vx+8DZOxmlNpkG3fzMyVjr8daoGYrUwD0Ymei38NJljZSUg5A7CTaqs3ZWU1CPI6ZiXRm6yhEZCKfs5BoY31mbpu4ImqTzGsdU6x0pTIfW+oNfUvV+v4ArosHSaBWIao1aKF67cSMgqwg4FmwjWy8jIu3UjIuCNgXfyLp0+dqLO3Cyx4DBB3BBHmDI+aNOUgxPSSPWxGn2Cuo0Vpii8dNNas0LrCOUiNc6b19UNZUeMXcLPXbSrUiAYVyDJISLk6jqUkzR8cgpJyrs53cm/O5fO1DuF1DjVjAAAeAxiZ111/fTz8kJJMm5KYxjCiYxjCJjGMImMYwiYxjCJjGMImMYwiYxjCJjGMImMYwiYxjCJjGMImMYwiYxjCJjGMImMYwiYxjCJjGMImMYwiYxjCJjGMImMYwiYxjCJjGMImMYwiYxjCJjGMImUk1ZvfTm7U7irqXZlL2H/w8vtw1be0KrOMZV5TNiUGaWr1wplpYtl1HkDYYOXbKIu4yUQauRQUaP0CLR71m7c1byLDkV6J3pdcqNgyW2NwcSacrsyclZKesl51tbNm6Lslun5hVJeSn7rI6Ou+ulLpPO3KQO1Jq1hMSoPVF3qbsjpw4WVCJvIG8a/NURImQJvAkqUz3l6/6g8D12I9B39gEfsI+P49+A+2BOUvfkvgA/wDUH59eRH48/mP5/kOQmwfoEcGqPNyk3qG7c4dGfthq0ZSMZqTnxyurjF43ZH+qim8dO9oSs4/SFx25/CyMw8aoriJmqKBeih1Y/wCHg9NuZl5yd2XGcpdzytj96ku/2hza5WSz1+5XMoZ28fPYXbFekJNw9+ocHppd3IFX9xjHIKiipzj0vprb1301QZZgkgSLgAmJ3EjUKb5w/ZNEwVdO2zZITewFHC6aSYnH3CBfqKGAnuECmECgbvopug/dHqnFp3jpWjHRTu239YU9RwY5UE7RfqrXzrmTECqAiSWlWhlRTEelAIBhII9G+2RKxX+HH9GSKn4yyG4ZtZ59EvRkGrC7b35O36rLOxTXS90nR7vumfpcwiBHCoEZy1fes0jGKdJAhkkhJXWJ9Ev0kYV2s9Z+nhxRXWXUWUOWY1FWbC2KZwdI6pUmU+1kmTdL/kkKmig3SRRSFRFFMiSyxFNDJeS4HoARtf8AMOvI6XtfQFPcv6+Ft9ORP0/Y1ctHqhemvSlHCFq9QHhdBumj5SLdtH3JzTBHzSRRMoRZk7ZEuZ3TZyidJUiyK6KZ0jpnIcpTAIZTeU9Z30mohsLt16jHDlVMFBSEkZvzXk25AxfcImFlDTr94CQAQ3a/4f6P/T2p5L372A9Kz0xqs+ipSvenbwdiZeDkGktDTLTinosk3FyjB0k+YSTGZNRTSjV+xeIIOmbxF2Rw1XQQVQUTOimYtzIaA0SHQhpbUwAUOg71zT+wDwIh7v2P2AdlKI+R9w9iIj33mfsfuf2CyMs3BI8wJt5Hf73UaN4/xAfo3UCJCZl+f2kZdp7wTFvQj2/ac2JjHSTAS1rWVXt1iOkX6v1FXBYoW6KSaqi6ySZDnLScn+Jf9GFydkhDcsbHZXki6TZsWNf4tcvH7124VOKaSLZA2iURcKqKB9NJNAVFFVQ+kQhlBAMm1jaBRYZNNGIplVikUgEqKMbX4liiiURETFSSbNEk0gOJh95UylA4+TAP29Mm1bopAiggkgkUBAiaKZU0yAYRMYCEIBSl7ETCPtAPJhH7j3IEzuEBaLuBPk6NxrYqG6F9eTgBb1Em+vz8tdjP1iqnbxNI4Cc1ZySeJopmVXUaol0agRQjYgFO49pzCQihDmKBB9werX9ZDQ4pKBFcXfU0n5EyY/s+HjPTa5etn0s6MH/y8eycTmroaIQcuzewiK0pKR0eQxyi5fNyAYxZavpJD32Uo+7rvvz30IiXoB76ABERDroO+xzd7Q78AX9f+/x9+uvy6/nlVBYP5XE2/n10BOnr523UEpvXHlxXOmh6NnrlLJfUAiTg/Bmst0DgBjFBQp1t7lMCaogQSGXSbCiU4nWIAlEgegX9Ze+lQS/C+jZ6yS71w0/EN0XfGjUUe1+sZNQxEXjseRToWHZ0/Yp9RBVZIqgHK3XEDJhN0BAD58j+v/jNv0idlHryXvoezd+fnse+x93ybvv3D0JuxAMIS2ZDL2mXGNG7AchrrpzKhmqnqdcxr03Rf1j0UeeqTB0JQbjeLxxH1jIgIuStDC6i75v2FeMylWMIlM4IQTNiGeqESZD9cvjpfn16zxnzgtT9A6QfRJFXpWzu4ep5xNqsqqglIOUmKqsTCVy8tEVHkYRm9cIJzTkGbxw5jiLvEmici7nN6D9f6m/84HwA9CPf9R8fkAjg+3kpmH9DbH+px9CLfpYqDuL5w+to9QMo+9CumQypROUEH3qr6FXUMJSkMBxPF6PkkCpKdnTIP1zrfVKT6iKaShlUvfN9w+uTZrBIxMZwj9P7V8ZGR7J43sew+am27nA2ZxIJtnh4mIPr7jClZ4mRgE3SkTMHnachEPpONkHkLLu41WMM/mH/APAePuH8f7/PNogAiAD+vXkf+3/frE62n6+iuf8A/Gw9TmHLkel9vmoO5V7/AIk1xJOlIau+iBERBziZixk7nzxsEggmJzCVN3LNKFWmztQiYkTFVGEaFUUAyoN0yCCZd8U3/wASO8+r+2pX0RYACqdJGi69zvtRlEhAoiJ03NmppUzkMBwApFViqFOAiZE6R01JwgAADr7Zp7C/l/f+/wDT+eQE2kCw1EybDWfKTp7ypmPJms/lE7WmbzG+kqC2d1J/iH7gsiU/Lv0zdTt1ZZI7xbWvGndtqWaxP4dBsqDNvs7Ycwk+VMdZ5IHZruGairpk1bknG0dJOEGftWvFD1rlzLEkPV40DHJgn/yHEf6ZtYlFzHEwgInbOeS0ckj7SABimBw59xhEopfu+40z3jwH5/Hz9v1zaBC/A+R/n/t3lWg8xGWmNNGDYAb+WusfKF93w79Z9wq4Oj6z+qGgKFRFIrb0sNaim1OiYgmBAXvJp4sYrgCmByVwqqIAcDNBRH3CToVuEfrYH9/0fXMoqQnVIoHXpT6MOVMCFADIp/V3uYRSUHoTiYVVAD3CRUpgAozf+wv5f6j/AOc3ZDO0RvP6KFxOzP8Asb0/Y36qDl1wg9bRwmmVH1z6M0OXyJm/pSaJ9yv7oiUqxne9n6fz0AiikiAdif2m6AmfGTgx62//ADAN67tTExuyFMb0oOPQFL+8mPvKBdz+R9pVegMKhBBQn/rIbqdIQ78Zt9hfy/1H/wA4IkEAx1GyZjazbf8AETqI9IGnI7FQbJcHvWyQWIob10qa8KQp/c3celLoNNFVT90CiYzbdzJUSgUwnTIV0n0uRMyih0wVTL6N1xH9a6PipA0R6xGjbFMFbrqxrWxemDSoNi6dlRUO2ZvZOE5JvV2DNdf2JLvUYKTcNkhOqmzcnKDdSab2F/L/AFH/AM49hfy/1H/zhoIEEl3U6oXHYNH/ALBANv2VtPE6qcqafqZtE8xdr6t3HuQZp+7dW3UGuZPWNPSgXLZgaOg0q/LWCxOnTyIehKInnAXjiSrIzBU8OwckcArcxmgAAfAZrlWfuwj5JjGMImMZoI9AI/lhFrjGMImMYwiYxjCJjGMImMYwiYxjCJjGMImMYwiYxjCJjGMImMYwiYxjCJjGMImMYwiYxjCJjGMImMYwiYxjCJjGMImMYwiYxjCJjGMImMYwiYxjCJjGMImMYwiYxjCJjGMImMYwiYxjCJjGMImMYwiYxjCJjGMImMYwiYxjCJjGaCPQCPnwAj48j4/IPuP5YRa4zhKukYwEAehHwXsPb7h6MIlABEDe4pSmESiAD0U4AHZDgXmwiYxjCJjGWu7d5vcMePttaUDffLbjLpC+SEc3mGFK27vrVOtra+iHjxaOYyzOuXK2w0u6jn75usyZPEGiiDl2is1SOZduummRXRYzaUwG7EPjvwP5+AHsPPf368gA9gPjroR3YRMYxhExjGETGMYRMYxhExjGETGMYRMYxhExjGETGMYRMYxhExjGETGMYRMYxhExjGETGMYRMYxhExjGETGMYRMYxhExjGETGMYRMYxhExjGETGMYRMYxhExjGETGMYRMYxhExjGETGMYRMYxhExjGETGMYRMYxhExjGETGMYRMYxhExjGETGMYRMYxhExjGETGMYRMYxhExjGET4/h9xyBT1Zee3LGq7h056afpnVOBn+fHJmkPdlL7GvTiOY634v8AHxnY3FUmd42UJto/YTcknKsJttCxTaEt7pqEHILoUq32B7U6fZp6h/n/AC/2/n+f2/MMhf8AUz4UciLbufj76i3Ah3U0+bXEyEtdVX1tfJBSHo3K7j3aPrSds47WCdEFWlVsTuRB4/1la3xWsRC2yaVdTj+MbJM7HWCTF+V12fpi+krFcFJ+4cgtucjd28uuae46mzrG5t87Vu9meQj+OSkGc1/lai0R7OyjKIrEU+YsEol1YnVgsLMGj0kA9q9alz1NrKyGyNfm2B/woLeKgbZ/+WF7uOugssKN7CmNpBjEL24aiL0LANXRl5JhErWAscaJSk3zNgo8I6dIIni1096i0/zq9M/kxyA4na8ttK5h6p1ZyC17K8Z75B/itj6b5vax17NKsNK2qvzsdAlnXjfYYV5vEnkoiAGwRUizRm4WqzoTlZgrC/Rdp3pY0XQVH9S9DfNOsHMW+aJThucPJbd/I6WTvUfs3YLiqW7cdG2zWb7cYep67SrWwtbFhKOzc0utgyp1QbOIB7IxsrKTs+W4LySTcztyAt8/RZOeBAB8DmJ3v31+5zdPNv09eP3p5QFzsGgNyc3avqTbnKua18yU1juip18sKXbOtePpbMwc2CyxVSjbb+3dlbYjYeAa1R7XaoSCk3tfsLqae5YJAApCFD/pKQoB2PnoA6Dv+QB57HCwoY/Vf3vvE+zuCnp18b9kyOhdn+ovsXb8BYuRUMoiladR6C476+Y7L3opq9w4Scox26rhXpaLrWtZ47N4euLuJmcZljZNiwsMJc1xi9NPg1wk19cILV2l6WgFwbuJjdO1NqgXZWzNuOUVV5masm4tnbBVmZ+0GcySslYXTWQeoViJfvX7qJhYtFVRIbW/XO0TcLfxFJy90hYY6lco/TYm5bmtoy3yJXJ412x1XWZGX3HrCyoslG7uRqG0dWMbBEy8Am7Yoz8pG12NknqMQtIAeRTiDv2O5acT+PHJNnBp1xpv/SOttqr1YHy00jWHWwKdFWGTqozDuIgjToVx9JOoM0uMJFIywMBfIxjNBwRsm+/f91YtPWPkDPzj09vT6c5KceuRDN/I6A3npzeEZEBHmmJDUOz6RslpDBLoLuIsZZanTkwSN/aSLdY7H8WZL8YQoqNfrplVMnVl9NxEY7i2MlJxsc8nHqkdCNn79o1czD5JkvIrNIpBdYiz90kxaPHarZqRRcjZqu4MmDdM6pcXH11+GHHTgxxknvVX4T65rXFDmdxP2Fqmz1S18e6/WtYwe4mu2t3az1Xftfbwptfh21c2bVLLXLfKP3rZ/Goz7iTaJkPNqQclZoaerZxiig9VX1NNm80diQ0XIcWfTLutm4s8M6VKsWcg1sHLFOPrcpye5HOl03rttKONfSrev651RKAi6hnrciNyim9QvdOkwl6RABBtobRBtA+q0GgiZsNTGhtbrr8isjYoiIdmL7R8+O+/uPXnx566EevACPQCYA7EAAAiIfI9d/y7/wDOaEL7CgX8ux7/AFEREeuxEQAPgA+ADoCgAAABuyLCYxjCJjGMImMYwiYxjCJjGMImMYwiYxjCJjGMImMYwiYxjCJjGMImMYwiYxjCJjGMImMYwiYxjCJjGMImMYwiYxjCJjGMImMYwiYxjCJjGMImMYwiYxjCJjGMImMYwiYxjCJjGMImMYwiYxjCJjGMImMYwiYxjCJjGMImMYwiYxjCJjGMImMYwiYxjCJjGMImMYwiYxjCJke/qHuOdFepGmtlcCKZGbg2JqzeUNatm8d5zYNQ1RF8gtLyNC2LTbJQ0tj3SDmIeqTUNZrRTr/FPnSrBsI1JwAllJAsZGLyEYwihz9KrilyZ1PbebfKvlxV9baj3Dz13dVduSXGzUc8W5UnRtapmvY+lVyHm7wWOZNblt+eTScvdwWeuuZGlWOxs2s/VP2WjKSUW3oH6s3Gj0u9CV9hyo2T6d/HXkHyx3tunXHH3QFPldbwbM2/+Um5pZ8y1/A7Cfto8ldet3gsJmw3O43ljLvwq1ZesmJ5aZGCr8hkD9+QD8/+2Y/X+I0oHIWS4h8buQPGugyG07/wb9QrinzJU13BQFoudltkVrZ9caYhHwNKqKB560C3tGyKzJ2WKYPIcqdFY2qXXl2JIwVyBcgcyBfS53/fbVUTIuQJEjbz++Ss74yca5G6f4gSmPrZcy7buvpx8BCSW97vUIBzTNPaw5K8oXcrW9dcdNNazIq2hNZ6gq/G6Xss/rmJg0bA+liknpjZ9jsm1Ju2T62WMUPamUOhL0QA9vkfgoePuYRDrr7mHz8jkNforcZtrau0LsnlPyirM/WuZPqBbVneTO+oa3nOez68r8s4csNGaKWQcRELJ16I1Bq0ItmjR5lopIUm0WK4QIKM2iDeHjJl+vIj+fXf8s08NDiGmQIE8zAmOk2R0TaNvU842/sseDktq31uObkjyZ4Sz8DxU4pcQ9gXXZVKV5l1eUltj7U2Hw5vgKR0HrekaQlJ2TGD3c+pDl9TtyX+7yNPrZVZmWd6ohYteIh7FMzd6R0xUeOOhtY6C1MyVY0nSurqlq3XrSXcKPXRICh1dhWa4My+QTbryD9ZpGNVZh+RNJw+eqOnQFIdUOqyiHeMhJIDZsDPzn7/AMLTnlwaIaA2dG3Mxqddv0WOIx4Neo56kG69P7A9VgmjNE8deKGxKtsrVnETjvKP9msN9chaLByUcy3ztq92RNFSJ1exsDuQsOuNQqIvJN7XLAvVNjkbSEY9mbtel6O3G7dfCfiRSeHW39SxNceaXebBH/jHVdgxNxqG8JW47WvVyf3thEuTtb3Vn9jaz8fNPoS0RCacI6dPK7Hv3LCIj13stOMFxNpsNANBt72ULnEBpNhoE/v+/wCP9/qxjIspjGMImMYwiYxjCJjGMImMYwiYxjCJjGMImMYwiYxjCJjGMImMYwiYxjCJjGMImMYwiYxjCJjGMImMYwiYxjCJjGMImMYwiYxjCJjGMImMYwiYxjCJjGMImMYwiYxjCJjGMImMYwiYxjCJjGMImMYwiYxjCJjGMImMYwiYxjCJjGMImMYwiYxjCJjGMImMYwiYxjCJjGMImMYwiZoYAMAgIAID4EB/IfA/6ZrjCLQCgUAAodAHgAD7AHwAfoAeAD7B0AeAzXGMImMYwiYxjCJjGMImMYwiYxjCJjGMImMYwiYxjCJjGMImMYwiYxjCJjGMImMYwiYxjCJjGMImMYwiYxjCJjGMImMYwiYxjCJjGMImMYwiYxjCJjGMImMYwiYxjCJjGMImMYwiYxjCJjGMImMYwiYxjCJjGMImMYwiYxjCJjGMImMYwiYxjCJjGMImMYwiYxjCJjGMImMYwiYxjCJjGMImMYwiYxjCJjGMImMYwiYxjCJjGMImMYwiYxjCJjGMImMYwiYxjCJjGMImMYwiYxjCJjGMImMYwiYxjCJjGMImMYwiYxjCJjGMImMYwiYxjCJjGMImMYwiYxjCJjGMImMYwiYxjCJjGMImMYwiYxjCJjGMImMYwiYxjCJjGMImMYwiYxjCJjGMImMYwiYxjCJjGMImMYwiYxjCJjGMImMYwiYxjCJjGMImMYwiYxjCJjGMImMYwiYxjCJjGMImMYwiYxjCJjGMImMYwiYxjCJjGMImMYwiYxjCJjGMImMYwiYxjCJjGMImMYwiYxjCJjGMImMYwiYxjCJjGMImMYwiYxjCJjGMImMYwiYxjCJjGMImMYwiYxjCJjGMImMYwiYxjCJjGMImMYwiYxjCJjGMImMYwiYxjCJjGMImMYwiYxjCJjGMImM2GOUogBh6Efb189iJhEADx8/mP5AAmH90BEN+ETGMYRMYxhExjGETGMYRMYxhExjGETGMYRMYxhExjGETGMYRMYxhExjGETGMYRMYxhExjGETGMYRMYxhExjGETGMYRMYxhExjGETGMYRMYxhExjGETGMYRMYxhExjGETGMYRMYxhExjGETGMYRMYxhExjGETGMYRMYxhExjGETGMYRMYxhExjGETGMYRMYxhExgfgf4f3+f+w5QjklyT0zxJ05d99b+u0dr7V1AiiyM7Y5MFlRUcOlyMYiBhI1qRWTsdpsMos0h65WYNu+nJ2Xeso6NZLOHKZRIq74yACvQPq3epQSJ2ZIbrsPpEcUJ12s6o2mqprWnX3nZtHXrtqX8LY9wXu9BL0rjPZZhAW81BUin1qzW+nA4fw1yXlH7FN4lfH6feheavGdLdOoeUvJlvy61bDW+BkuKe57i4dE5Gn1vKwi5LBQuQTVtWYitzM7SZ6PRTruw4+wWqa2Kzl5SXn0KYDGNqjFIve9rXvJA+Wv8AlFI5j+/0xkGHIrlhyT5h8wLj6c3p17LY6XbaJi4ef52c4CVCC2QropzYCuJGmcfdL1a0O06rPb0u7Zi6/wA1T84wm65rSrnlVEkV73DKREWRTkfiE+xKHuExRL7ih0JgAxjFAwl9wmKAiUwAAgBjGAUyFMoAkDnyKnhd6TOq+E/IC+8kqzyK5g7u2Ts3TVP09en/ACV3zP7iLaCVGd/byF6mXE83I/d3FRUiMZGGK7RgKrCqzUZVYSHb2awBISGbg2QOotYbD2aWhbG2gbXtJsl1/wCHWoq2W37RvJa3EvJY1U11VVX0SjaLvOgzGOrVdCUZKS0s4as/xDf65VcIqlYyxDhH6k3EP1BaQpaeOW0GEpaoRmgbZWkLWVKq7+0xN/VWZSNa2xqd64UsdYfRU00kYE023Sk6VPScY/PT7VZI1NOQWtXe+qzbt47YmNdemvxOn+eVS1rdC0bfPJBHc1J0Pxd17YQYBIvqnSNp2qItT7e17rrRRgvcYPV1Sl4SpJTtbGTtRTSzgGJoLiYGm/oDHnfoNFQJkDYe+n7qZfGcaQ+5MhuxH3FAezAID/MogAlH8wEAEPgQDrrKb7o25SNBaj2ZvDZckeG13qKh23ZN5l00gXUi6nSoF/Y556k2+omo7XRjY1x+GZoe5w7cii3SIJlOwKKpmMofxq37S+U+gdOcjtdR9piqJvDXFS2jUI27wwV63Ma9c4dtMxjaxQxHcg3ZSaLdyCa4x8lLQ7oSA8hZeVi12r9eqalmr6M+0qq85DIWeQi3k4wrasozTn3sLHOmTGQmGkOdUsg5iWLyTjGbyRRbnaNXkgyaLqpuHTdNQisi9QzjlyC3zpok5xG5A2/jpyt02tKbA0Jao6ddf8MrZbkohyzcay3zr56SRpV/1jsCOUWgHDuz1qwP9aza8VsaqtHchAOoGf8Ah9MnnRHeoFxQqe7XlTf622rCWS06g5E6ik27tvK6d5D63clj9na7kWz46z9mjGvlWkvBpyhiSRa1OQBZZFpLKOmKEg5vgfH28eevPkfn4D+I/fMf3hIjA8e/XM9VnjXCqPIqB5Jaj41c96nTGDUG1UjrW5Sm9SciLk3SIQwJT2yL45plhnXixzuJaUTfmM5ORgVskRZAeMYwiYxjCJjGMImMYwiYy1HnHyvoHBvidvPldstcC1fTNHkLISMKoZJ3bLS5URhaFQ4w5UVgLMX+9SlcpcQqsCbVtITrdy+cNWKLlwnAnpn1IfUioWsdVcN5+EpfNr1kt8xTvfdi1uxqLjTGk/T/ANFbJi4adrTTmZYIsrJZjJayczB2qFIjYyB2ZZGbqApwLPbFJa/tm4Rs0uOgjbmQPlN1WjMJG55comYsLdfQrKXOYC9dgI99h4DsR6KJhAA+REQAfAfYBEfACOCmA5ewASiPyAgAiHXQ+faJi/Ah/wCoeu+vnsMgKZeilZuUUM9mfVf5t8keY1tsUUEXO6Z1rsKw8ZOHlUTRkXEzEN6rpjULqsvbNLVp45RKhe9gTklM2gIuGdzcUVFgwYNam8VODvMPgfyrp1e1/wAueQ/LfgRs+r35C/0Xlle4XZexuNF7gIqGeaznNcbPmHMXcp3X9mTj3VEca6jIlWOrK6iVoeNZReVlZ2HKw3Z0u5QQNpuY0nldTV/3/f8AXGM0MIAHn8w+/X3+364WCQASTA3KfIeB/gPX/n+mbQMHY/IdiPyHXkOuwAP+ow/fvoQ68gPQ9jCh6hHqA7tS3hXvTZ9OCJrV7547GrJLZsPYs+Kcrqngppx+7imKe6t0tgau2UpbplvJqqat1aqZaRlHv7FsNgg5SHnqTWdifdpr0b0KVsfX+89veol6lHITcdQvcJs6WdW/k9O1TUk/Zo6URnHtdb6PpsfF0+A1LKSCR2ymr0FHkSlXllKwLxaEMLMS1lAaCXATBaBckSOWgvqfZTR+B7D+vz/HNc8TsLY9B1LT5/Ye0bpVNc0CqRriZtN4vNih6nUK1ENPYLmVsFjnnjCIh45D3l+s+fu0G6QGD3qF7DKPcVOYfGjm7raR2/xW29WNz66ibpYtdytlq/7TSQjbnVBZnmYJ+xmo6JlWbgrKUiZuMVcsE2k7WJuv2mDXkK9PRMk8KX5W5+39/ZXL4xjCJjGMImMZoP8AHrwP8vjz/L++sIfv7+vzsgiAfI/P/kA/3EA/nmuRO89+E3KjZlxYcquD3M/b+geTms6UhCVbT9qszm5cLdzsIeVmLCtUdu6TkiKsYyWuSr9OtuNrVZdnZqxGJR7tk0ePI5s4bVf9NrnTEc9+OTXZchUJDVO6df3S16O5N6MnfrhP6Q5E6weEhtj68kVlyFB+0QdmbTtckUlFjvK3NxZZIjGfbTcTGlottmBkAweh/brzspA8Y/v4/j/L+/1DGFlMYxhExjGETGMYRMYxhExjGETGMYRMYxhExjGETGMYRMYxhExjGETGMYRMYxhExjGETGMYRMYxhExjGETGMYRMYxhExjGETGMYRMYxhExjGETGMYRMYxhExjGETNB68AP3/wDYR/8AOa4wi41PaCanuH2FAhxEwD7RKHtHswCAh7RAOx77Dr57zCg/w6ociPVHZQXIrmZs687k4+8FdvX1hxTr2y5V1YrBft6XWwy1/c7w3LJy7xyW5XTTVQs0TTdZrkbEZU1OcdN6c0raDOwpWTJX9V7lO64WenTy+5IxbtNhY9f6YsLSiP1UH7lCO2bfF2WttXPXreMTO9Vj22xLhWVn/wBBRp7GiaxlX0c3+tJMqP8AoZ8WGPEL0tuJGryIxoWCd1tGbbur6NKUSSNs26QL68M4XIUoPF4iOmoutkeD7hcNIRqp9RXv6p+RvhpvdDZdlY0kSQ4OBsdRa3WZ2K22wLpE/lAMb6n6KWopfaHXf3EQ8dAHYiPQB+Qd9f7dB0AbsYzjWFbZzJ3g44y8SeTfI1lEJWF/obQW3twxteXeKRyE/Ka4oFgt0bBOJFJq+NHoTL6JQjVnxmTojNN0Z0dBUqQkNYt6FPHhjoH0yOM0k/eubNtLkdR4vlpvTZE2DxzdtlbX5IM0NqTFhvs5KGUmrJaIqJsULT3U5NLuZJ82rbZZ25cODqrKX88tNGtuTvF3kXxvdygQKG/NHbX04NgNHpy3+XlNk0OeqCFgJGrLN0XykGvLpyiLVVy2Kuq0IkDhE5iKFse9F3kTXt1cDdW0M0ShRNn8Q0f/AIMd46ndARpOas2ZxxQQ1qpWpxgWSmG7R1IV2DgLCk3jpyxRjP8Aa6sM1s8+5iXr4xaEZHf9QPyaJH7+YUsmbTB7iiA+AEBD+Y+AHx5/oIdf6hr2A/r/AGICH+nQ/wD3ynW2NiI6n1vd9kuKtfLy1pFZlrIrTtWUqb2Nsey/slqs5GDpVIrpFpm1WSTOQjSKho9MF3Ls5SHUTTOZVHOZsAgggkC17kwFlYj3+LkouqNC8cNP80dVw09qXm5Pb3hNIw/ILSM9J6t2VO61tGp9hjfaxsOyVH8FI3itL1Wnx1aiWU08PJwib1JlCPka05tcJNZX3HTReqOM2jdYaF0dR4vW+qNX1KNrNLpkQChm8RHIFM5cHdPHCrh9MTUpJOXsxYrFKO38zZrBISdgmpGRlpN69cYw/N3TPqter7L6o3tSeLURxX48cH9s695M8eeK/Lt3BQnIbm5uHX9ljH8jF7RRgHtkhuM1PUpv+b6VUoWdl5ZWVn5AsrbHDquW2Ln9Qzj8UfU10NydtELp+Uq26ON/Jl5DvZKX4z8ldQbA1TsaOPDx/wC0Z0K/MWCBQoWyYxi0KeURmNe2uworwCrOXeIRpXAtk+zUaBSpQ4OJzF8GYnLlB5QCeismA3Yae0ff7QBI1kJX+IthpWc9Hbly2joWz2CNYG0VYbzFU9J8tOr6rq/JDUNj2yumSPD65I1hraLtMhPuFTEj2cC1k3cuonEoPVCyJ8zOW+oODfGzavJ3d00SMo2ra09mTxyDqPSn7hYDIKp1bX9PaSLxihK3O9Tosq1V4wzpBNzKyKCjtw0j0Xjxv9fHq7XHkvxg1tdeQvHwdH2bc+sWsvsTjvcJxlsRWmM7nGrFXolskHdXrLaYdq198kjZYmSqsUoxcPXlelY0HTN+iXgUn3k28jE+sr2g7h0rUdLx+4T3zXtZ0QxocZcovYbyxwdf1ox10aHbSERPJ2R84ZQUfW/2EdF41dGWRaJx5AMl/wAspe8V7gJyVi/VV/xGe9eYWn4uzrcWuF/B2L4+63vUi3mK8lepfZF+UsdeuLmtzDIjhlC7KRnNxy9FIuLCVmqFTKRZJVrGuni9ZYXfcp/Tb9Gz01uP9r5Rb4o9pt2o+PMjN7L0Rx63fyX2/eNGVrZJK85WrGp9G6Fvd6ltYO5u6WBCYcQUXOU65PWclZrA8UXb1CMbR8HcN6DvGbaWqeJ1p5L8lYlnE8rvUD2dJ8tNzxLeD/YKmvYK2xzJjpfSrVmsmjIRsDrbWrSMdsajIIN1KDN3C0UpJEW8QCq+gWta8kS4gNbfSSJMeg+asiCIvsfb7lTfj2AD0ACPXgBHoO/sAiAD0HfyIAPQeehzH1oMw7vH+J233IQrJV5A6S9HrW2obxLMAWcMYO6XrlCjuCpwthXApG8dNTNTk5GThmBzrqvomPdvmvtIg/BGV7mbzQ488DNB3DkVyUvTKma/rDVRBm1SWbLWy9Whdk8dQtB11BKu2bi03qyfgnKcPCs1UipooPJmVeRUBFS0sxjt9FHj5ueCpvJ3nfyn1841nyh9SXe7nfNn13JunK9o1BoquxA1jjdpG4mcM4khp3XtQVmHS5TREdMtiWttG2iOj7HFyzBlBv1H6j9Aopv8o3yCt+4aDpy+XLQWnYnkDt2uwwyVK0xM7QjdMNNiSCDtt+JrqOzJuuWqCqso5jRenhXU9ElgncwkxjJiXr0c9cz8bWTPGbGubHXNBumwZOMnZuOo1UsdwfQtWi1Zy0TDOswr6bdxdbhUDEWl59+3YqtYiLSORR+/VQaEOQyoGDJEiOcD5qjUWBvodD9FDNFcyvW9uSLtMno1aV0WLRNByM9un1M9Y2eJUS+oQXRP2fpzS9ofJGboEWUUWcvW6AImIqQVVSKtiXf+npzF3PzHq23bPtfjNBaEitf7INQqHcaHv6L5F6l3uwYRDVzYrpqvYbLXOrFpys1yxLO6a+mW9WcVx9ZImZjYSwyj2CnmkVA/pb1GuNvqHr1m28pNx7C5PTuzq1LXDXnpE8FtbbN21rrXmvplYr2DY80bFU602iNzbVTg1IyE2FB74veveMtdsL+YhW2o3r+AeXZDKf027O91rS1h1LYtEIJVyMYMdO2kmuEpvXUbFJnjIuru0NQW+/6zalj41o0K0ZU25WCHYsjNmaDtIUBaN9k7QLAQd5IEkxYyqTHhyhsC0aDQnnr1vrcjWp2MYzKymMYH+PXwP9MIsMb/ABUnLq/Ndt+mxwB0PSYTZ+5r9yKo3JVLX02y/abC1WCqWZ3rnj1R56KO7I0nKRediTdxdXKCkmrZF8zpMYilNsGjiQct8jT05OCFX4J6SUrjuaW2ZyH2o9b7H5YciJ8/7TvO+d4zAO5C0WWZsTliwk3NUhZKUkobW1dct0UqvUiN0lE3E9I2GXlbI9K+mFteX9bDlJ6pXJ+VqVhr9eolS0pwKqkPIrScjR6YvQmMRsW5TzJxAtSV2XVcSl1gYJFpYZVSSHYeznUnGxzE1VWczvkL7SlDsR6KACJvkRAPIj4DyPyPQAHfwAZokZWtBJiSZ5mJHWI1PNbeQWNYDpBnkYFvSFuxjGZWEyiHJrdsBxo44795GWqLkZys6D0xs/c9gg4dRmnMTcNrClTd1kYaIPIOWTAJWVaQirCNB47bNhfOECrLpJiY4Vvy2bmlo1/yd4fcp+N8VMt67K7948bl01FWF2zUkWsBKbM15YabGzjqPSdMVXzeIezKEiuzTeNTuUmxkSrpCcDgQaidN1F9/h+uP8nUOFx+ZG0/wM3yf9S61ynM/fF0b/h1xdMtmPpGc1BR4Z0DVKQj6fSteTLJ9HVV+7kk65abbdU4x6Zg8IihO1kD/oCcxNe7X4Naf4kWZ6z1vy64M0iI4v8AIjjjbViQe0KTO6WbpUWNsZ6xJrpS0nV7LBREXJkssY2dwSc44l6/+PB/DO25Jx5ywwFYiJGwWWaia7AxDZR7Kzc7Is4iIjWaQe5V5IST9ZuzZtUi9Co4crJpJh5McAyuu4kiCYOmgygD3EEnclU3Jgeg9vvqoFf8RE1WT458OLRfGwyPEKiepPxAt3PKKdwitkqbrizHXN6nYXGzK8RlIEsGsWN3cUdW1QirJ8R4qeKUGPfA2MgM3Wq22sI/XtWPptnRWWrncFGyVHLrNCAa0R1W3jMjiJe1UtZKlX1YZ2wM3Wj3EX7o5ZqZJZuuokYFMjg2Rz4oHKJHYvGzg1R6Xzquz1lLUHZdmOm1sfBjUbWwoKQssjyL28Kbqs34EIV6+fPdBacLf9nXEjctbmmNArc4tsKFtvcf4fv0lNcaumXuzaLaIOjQNQk7PuBVryd5C6V0hIkjIQJDYl8m9X03c1c1VQa6+IykrBOwkFFQ1Gr8cquyaMGkGxbIoRVo2cSATaLkgkSY+QBjpZdnvz1Qr7bfVg4R+nhwUkdT7fK4NsXbHqBWNIFL7Daa0lV4s0XFV+RtNCmJP/h7epCYcvToMbRGR4pX+U0FCSb5OrbJk28jPIHf3Dr+feYsn+Gt4haiioHlb6jWs9Mw+mKLy827MUjidR28WUr2j8MdHSzukUBQXEw2e2pjatrT8Q9sO1X76zTiF+kalUrmoud47/aTnJ/k7RWoWSr0PM2GDiJa3Sy0DU4uTlmDCRs842gpu0OYWvMna6Lmalm9ZrVjsS0dGpOniUFATUudEsfFP3Dcj2hroaS6wJJEQYFok/tPOZXk9x0B1tbU+yNZMb5edXPdgUiz05nsnWMwlXtjUF1Y4Z5EIXGiT67SQRhLbXFHZZaAllGLsI6TatngIKCiADAHqf1CORPpd7YdcTfWU2lX7/qiR1vftg8W/UjiKM4qUXt6F09UnV42Nqjd+u6gNmJWN51+osXknVE4cXzjZxGTSCiV7hfp1itNZIgiAB2IgBfHkR68iPXz9vIgAefkeg68d4Pf+LR5L6i5V8eKRw14vPkuSG/NI7Nk+Wu82+j0muzm3HnROo9XbErV1sO3J2pLSraiIuXuyK9IrR8qs2dM4qEVlrAhHN160pLaa0uMATYnkjQ0kBwBBtfUeR2Kl31RsX1hPUw1Y25C6O21o/0veOO1RY3Djeyt3HpPlZyrt+o5FsRaqX7Z7ezbMqul6O32VGLtrnDVSAgLNLQMJIR0etZpcE05yZlt4g1XlFRtNMKdy+2jRN47irlgskcpueg03/huz2fUAlnDmo2ix63bNwgaDcxinJYqx1qqSlgrRHEYlLR0wJpZeNje+0buzjZe9T0Wx6J2jq2y6lUplbNSZCmWquOa81qCMYg0gG7ZNg8BGLbs2KKLAsesi1Wj1G5o9Zs3WanQTqXUtm63vz6wRlF2BSbpJVJdm2tUdVLVBWJ9WXMiRwrHt7A0h37xeGXfJtHSjNKRTbKOiNnB0SqFRUEuYI1BHmIRwdGUggAjblGp30339F7c3wPwIdD2A/w/v/zmPvwcbpam9eD1mNTGhW8fF741nwe5UUYIJEEIdo2hdbSeqNmu5lAQaETtdv2M4VnVnDFq/Tftmzl9JyRH65WSE/7t42ZNV3bpy3atm6CzhZy6VIg3QRQTMoqssqoYhE0kkyGUUOY5ClIUxjGKUBMGOn6TVhLzb9R71OPVBrSEj/8AD9KvdacGuKNnA7FKJ2hSNBoO3u5djMSlbruJ6q2TZR4SX1rZmz1ogELITlclmRrBBSDKCKt/K+/8ojqc7dvKVkbf3/f+mMf3/fz/AH+WMLCYxjCJjGMImMYwiYxjCJjGMImMYwiYxjCJjGMImMYwiYxjCJjGMImMYwiYxjCJjGMImMYwiYxjCJjGMImMYwiYxjCJjGMImMYwiYxjCJjGMImMYwiYxjCJjGMImMYwip9tDVGs93Uaf1huOgU7aWt7W3atbTQdgVuIt9NsbZk/bSrNvN1ufZv4iVRaSbJnItk3rNYrd+zaPEfpumyKpPaR0cyiWTWNjWyLOPYt27RkzbpkSbtGjVBNs2at0iAUiTdu3SSRQSKAFSSIVMgAQpSh9uMImMYwiZEPyk9LyctW8JrmJwR5LW/ghzEuKcVHbbuteqEPtvSnIyvwbVuwhYvfmgrc7a1ewz0BFIrwtU2JWntat8AylpB2/Vsz9hW1YGXjGUGCDAMbESD5hBbr5qGWG3Z659EIrVL9wV4N8hptWSdoMdtaY5h3nQGvEYgWv1WD2b1xtXTG1r+1kCKmKg9Yw8/NN1HH102z1NoihJvZEeMsJyYi9cme8s7pq+07hsU0tPSkJpSrzFd1NriPVjYliz1/SntsfSN6ubKLWjnctI3q5LsJSxTs5KLR1Zp1ZQgajCXE4wSDADWtifyggHQyZJEjaP3VJGkNHlM7cyeX1WnXYdCP8w8f+Q/kPYD9w68Zx/TITs5E+xDsQIX2gIiPuERL7hKUDmExxEwmKJhMb3m85y4yKKLac9OR3vrl/FcpuZ23Xm96rpK7PLRw54sRlZaVLj3omWbEQZV/btziXD6bnt5chmDVs5koS82yQjKnrmUsEoFGoTWSi61ao6QzZexKZpvXN12rsWwM6tr7WNQsN5vFoljH/AV+o1GGdzthm3xkiHVMjHxMc7dqgkQ6hvp9EIYxikH3uUy3Tqaob61DtDR+wmrx/Qdwa/uOsLwxj5BeIfvajfK7JVaxtGcq1AXca6cRMq7TQfMzJumipiLoKAomAGIsE7iHRN+f4m/1Nf8A41uSFQs9V9LDh9b3TfSeoppD30jYkxDzLeQhNfPouUM9rlqsdzK3jbTyVnWEfKJ/5ZaQephkI6Mkae7jc/sqZCEAhSgUgFAoF6AAAoB0Beg6DoA8B/Uex77o3x44+6j4raV1zx80RTWGv9S6prLKp0qpxqrldCOjGh1nCzl07euHT6Um5iRdPpqxz8m6eTVjnpCRm5t++lHzp0rWfKTMdBCgmTytHtdWTyHp+8a7Vyee8vNp1qc3huSPdtFdSH3RZH9/oPG5i3gqDGu2PHbVsoAa+1lIzU9r9pfJq/sq8+2s+ts/ZAC/p1ZxE1iHvWIUCFApe/aUAAoCIiIAAAAdiIiIj47ERHsRHsfObsZFUziWSTWKBVA7AB7Dz0Idffv7B9h+xgESm7KYQHlxhL7EjqNV56IqdagCuiwUFEwpXy5nT0ImNZRv4x0ZMExdOxZIIC4dCQBAXCwnWH3D2ceigX0OMYTzJPmmMYwiYxjCJjGMImMYwiZtMUDAICJgAfuUfaID2AgPf8Q668gbvowCURDN2Ow7APz+P5YRRvcw/SP9PbnlcK9sfk3x1hrhsyqsjxsJsurWu/6l2ElHfVRWaMJS46jtVGnbOwiFERUr7G1PZxnXTO5Q0IgwPMS4vaA0T/D4+khRLTD3E/FJDZExAmejGNN67d3nv2oJpv40YlVJ5rnceyrtrmYKgzE37OUmapIOIpz9J7GLtHbZquhM/j+/78/+f4ZcziILiRyOgEiALaW/XdUEjQ/cj9lGRza5mah9MzUmmKBrPT0bdtt7qu9e4/8ADLiFq09U1gTZexZRaOioSsxbszNnUNY61rAycUteL5IsC1qjQzpgZ03WdSMUweY9O5o71FvVS5bvvTEsXNmOda6qRIqw+qkrwtplYo/FfRVDVEsez4ja32jdIG38htubz2a9irI1u6t4vlW17Cx6kiwl9FybaoXKpwU13qn+ldsbn9tPh1uTSnLW0cPtn8WHm+4pvsKp0xpd7IelciaLDUO+KUUJSeh21H2O2hIhdrU9hxpyzlTfTJrXDro2itVZ8wvi4Q8H+PPp9cfqlxv4200KtRqyq6lZSWfuCSl22Lc5YqZbFsTZloI3aObfdrGdBsMhJOW7aOjWDOIrVWiK7Tq5Wa5DRUOgSJDtzY7zvfTlHNVciWGneL2k2UYg4p2mNFaM181YNFpqWZVeha11nQK+izajITc69SYw9arFdikwWkZeRIkzYNDLPXRQIdQsKXGLaeyvVW9RClcz6XF2ulem1wXhdqVXixb5MZ6vH5scjtr1x9rHYu7o2py7QjaR0bqugrWqma1sSzCNl1bJY5iRibJKN5+9Ueiz3Wiq1i81udp91rkFb6jaYl/AWaq2iJYT9bsUFKt1GcpCzsJKt3cZLxMkzWWaSEbINXDN41VVbOUVEVDkHt2zRs0STQaoIt0ECCkgiiQE0kUhN7vpJJk6ImkBgD2pplKQhQKQpQKQoYUa6CbEm9zptF9zM/evX2CAhLXBzFZssTHT9csMY/hJ2CmGjeRiJqGlmqzCUiZWOdkWZyUZIsXC7R9HvEVmjxosq3coqpKHINE9H8SuL3GaNsERx0476R0TF2x0i8tEfqDVdF1u0sa7ZNdBqpOt6fAw6Msdq1cuGbdR+Rwoi1XXRTOUqp+7hcYU+/v79lHUPpD+lgZ6u/N6dHCY7hycVFyqcZNPHaqqCdVQ5zsDVEWAnUOsoZUwNgFQRL7xECEAt0dX1zqfi1qGXhNFaLr1Ko1JhJ6xRupNB6+qlWGVcMmbiVcxdRpkClWYF1Z7CugLZggoowCQlXSBXL1EFDqlrlj8v6h/t/3ykk6kmOc+X6IS4xLnQNp1018oWOxufQXqYerdJPdX76gl/Th9NeXdND3TVcVb63aecnKGpou3jlOobEsFInrfrTj/AESwkTiFLHU69NWm3nai/gLI/lmMi5i4SdXSmltX8dtVUbSWlqVCa51ZraBZ1ml0uutzt4iDiGRB6SRBVVd06dvXJ3EnLykg5eS05NPZGbmH8hKyDx64qiAAHx9x7/mP3/nmuRCZECIkG3Qifp7yn/fGMYRMYxhExjGETGMYRMYxhExjGETGMYRMYxhExjGETGMYRMYxhExjGETGMYRMYxhExjGETGMYRMYxhExjGETGMYRMYxhExjGETGMYRMYxhExjGETGMYRMYxhExjGETGMYRMYxhExjGETGMYRMYxhExjGETGMYRMYxhExjGETGM0Eeg8iAfqI9f75JvHL710Ra4z4XslHxyCrqRetWDVEvuVcvXCLZsQnQiJjrrHIkQB6MH75ij2UfAgAd223Tmzw911KHg7zyi4/1eeTBITwEvt6gtbAX6ygIpAMEM+Mv2qsIJJj+C9qig+0hjD4yi5gXOsb+2u6K6DGRZXn1q/TE17JIQ8zyprctIuWxniCFFpuzdjoHbgoBPqqyNCpVjimZTiPvIZ++alOl7ViiKSqB1fNNfWe4x3BBdXROo+ZfJxZFZJMrXQ/FnYk/9ZM4MvruiyNsRpUIg0ZGk41J6u+lGgILSDRHo6ixS5S1w1BHmCP08kg8vv7I91LlgQAfA5EA49TDkXa5RnEaY9KHnFYXr4rtRIN1x9I45sATYEVBcVbBZpuz1hic6yKibRCVnYtzJJHbLRzd4LpJI3Uu+Yvq7yKK7eK9HSMrbh03J+zJ2d5+8fLKwjFlSnEVZquxEfAu3SSI/QFRvHTwicRXKm69iZDq4zCS28jmCBtvEXnbrZFMp2P/ANI/6f8AnNf+/wDf8P6ZC8M96/c2yCUhqN6U9PF28ILes7AsXKR3ORLBRRM5ySEnRP8AMsDJyKLYx0jpMHTZr+MSWBJZVv8AhnC/eRfHj1k7kwVd3X1DNAaUm1FHTgsXqDirB7YgUFHbh2dFolIbQe1GW/Z0U3Bqi2Bw2cSL8HCgvJAiscVxKbLS1uYuY4/0tMu2/Ux9OS0GgiS9gPKSY0sYHWfu0wubBOACAGDoBAP3jCAF7MIgBfPybsA8fqGQ7MeBXqPWEqjXbvrD7Gno9Bw0dxJNQcVtQaJk26nscISjeVl4WxWVacYu2y5SMWyyLROLXQI+Arx99Jw2+GZ9IW1Wh0i7s3qoeqgYSqpqOGVX5JxFViFfpqqKACMe3oD8zYpyH+mt05MJvYmZMyZSfTNm8kbWg+07j9lcrd3t9nHloIFxNvLziZQFQE3XgOw8CIl6EexAADoRE/fgf3QEA7AO/d2GcajpukX3KmKmUQEwmOIEJ+732IqGEEyl8d+4xgIPuL+8ImDuJOF9G/STQBPauS3PPZjxQpiKyV/5X3V+/wDpHaOGypCKQTKuoG+souV0c6jYTJu2yCzUWyf1m63iv/4fn0yX79aVt2q9k36VXUcqrSNt5BbtUcri7L7XAOAg7zBIKHWHs67kECvHIiUrpysVBqCNMCcpm3leNP19VjwyBmJAAzEiCLCTc+e2o1KmNc2etsiGVe2CEZJEKY51HcqwbEIQv/WY5lnBAKUvkTGH90AAfcICGUGvnNDiBqyVawOzeVHHLXc4+Q/FMYS87v1lUph81/dAXTSLn7RHv12xDHKRRcjcUiHHo5y5ZxVvRA9LioG90VxRgnJgcpuvdY9ibjuJxVSQcty/v27Yk4YERK7XWVbpnK2cOQbunCKrhkxUbVeifSu9OiF+sVvwv49SBXAHBYbNrqFuBjkOmiiLYqlrQmjpMhTRADMEhKzMKi5/ogdw6M4jYy+IuzcgARtEmZmPW/RUxNpy8zAPyJ+4XrT+pB6fKciEQfnDxGLLCAGCKHkdp4JMSCb2gcsd/nH8adPsBETkQMmUoe4xgDOqlPU29PaHI4Ve8zOOYlbKkbr/AILatRlTpLKCYCJnTipJ6qBhEpw6EnYGTMUQA3RTenR9Prgii8Xfl4WcTxeunB3izs3HnUqi53ZypgdY6ytQOcBH6SQl9ogBDAYxQAxhHPdw/EjinX1mriC4yce4VxHuCOmK8RpfW8asyck9n03LRVnWkDt1yfTTEqyIkVL9MnRgEpQLPFm1GXlF9BvveeXrtp3d5RlDs25JGXbaJ0m82OxETaZI+sr6ZsXJFinHLGlrujCiUp4uubDnI4xl0klSE/bEJTZGJ95SrEBUn473IKCKawEOUxQpnJ+vh6TkQUTPuVhim9xAIi20XyTfOlQOs1QKZJow065crJ/UeNu1kkTpFSV+sY5USKKFlWS1/Q26bNFvSakijHfV/AJI1yGRSY/iD/UXFmRNmUjb6ynai30SkFRT94/Y+c7clfgkwAqcLEkKUDAUCRzQgFA5vccAAEgAAMb943XXuHyId/OlAWD8zSTzkARadvPf9xEgHr5elAZMqpOT8sdI5hIQ6fHXlKcFFAAB+kkUukzHWW6MURSSIooAGIJiACifu+Br/iBfSQdqrIocqn4KN/f9crjjxylaCmJCGUOT/wCb0kj7lCkTUU+kUTHBMhj+32AAhMUSPYkAgFZtAAggKYFbogBBAAABJ0T90eigAdfAAAB4AM3naNTlMQzZA5TgPuKdIhiG7EBEDFEolEBEoCPYeRAPuAdR0wcpAOxIkT1UGWTIdFhr1vFuVtNflDu59fz0nGqrVBxyemiKPvo/hil448qVPf8AXSKsn7jJaQUKiIpqo9lVMUxFFUklAIocCDo19f70lnj0GCXKd6m87R9qT/j7ygiuiuFitk1DKyelmaJEQWMUqzhRQqDYBE7lREhDmLMUVs2J4KggT3D2PtSTKAiHXQ+C+RDoOgH4+fIgGdDY6fVbfDy1fs1dhbBCzka8hpiLl45q+YyUVIoKNn0e8QcJKEXaO26yqK6ChTJKpnOQ5RAxsjc4HiIJ2gECY+krQNOfE1/SCD/T089Y8o0jDmfXJ9KaAr8hZZHmPQgYxwogsxZ13YsjZlRXFEqYM6dH0xzbHxfcsX6irSFWRbkI5VcqIos3aiEhOi96al5L6mpW89FXiJ2PqjYcYrLU+5wgO02Es1av3kTIJGbSLVjJR0lEzEdIws3DSrFjLwc3HSMNLsWUmwdtEbeob00fTtgBKMTwS4eszFVIuVQvG/UC6qayYKlBRJVxUFVE1PausUypDFUOU5gUE49GC8Gs1etUuCjavTq9B1OsQrYrKGrlaiWEFAxDQpzqA1jIiLbtY9g2BRRRQEGrdJMDnOb29mEc1sOcX5T0/wALJLT+WeskH6LvcYxhRMYxhExjGETGMYRMYxhExjGETGMYRMYxhExjGETGMYRMYxhExjGETGMYRMYxhExjGETGMYRMYxhExjGETGMYRMYxhExjGETGMYRMYxhExjGETGMYRMYxhExjGETGMYRMYxhExj+/45St3u/UrDbiOhn2wKyz3E5pDfZDXXruRTb2N3R3UlORCFkatFgIVzHnkazPtjCgqoukMS8WVRI3T+qLUwNYmIJtKKqmMtx2DzB4oalsA1LaPJrj5rm1giVx/le87m13U7MdI6P4lI6dfnbEwl1SrtxBduKTQ/10h96QHASgazax+tj6aFdly1tHknHW2zuF/wAJFwFDoezri8nnwqAikxgXsJS3MLKO3K4giyTbygldqCT6RvaomJtinUcJbTeRzykxprGmupsilXxkR6/qp2OwzDev6l9OH1Fb0/duStGsxa+PznUFHOdRJJdFZe3XyWbIMWZ0jnA7t+xaooOETtXBklzJEU2qb89XrZjlVlr3gjx/4+NVRWNH2fkfyUG/thRTXSK1Vkazo6ELNtHThL66y8YV4ui3IVMhpU6xiIrZcC0w4QbfMAj5EFWLTb3G/SZ9FLiPX36/njwPx0OREOdHesZsp81dW3nLxv40IMjAZxFcd+M6e3WM4mdIoHIu55APU3sQqkv7voqtHr8qpCg4XZoCr+BT5l/S62TcZJzZtreqJ6jUraJFwZxJoak21U9Ea9XACFSKiz11WaLLR8Q3+mHtXbxci1auDnUcHbg6UOsNytgHvGgzdoBJAsYNgBrsTosAkuNjGxtB00i+/NSsTligK0yWkrFNxEDHN0VnDh/NSbOKYoIN0jruF13b5ZBBJBugmdZwqY4FQRKZU4lIAmC0u5eopwToRFjWXlxx8SVbkWUXZRG06lZpVJJApDrKGh6zJzEqBEiHKY5vwYFAoGERD2iGWwwPocemjDy6FklNDTV3tCZyrvJ+77n3fOKzD32JkVfzMCXYjOnvnbgEimcqDWifiD+46xVDGHLw9f8ABrhjqmztLzrbifxyo17YxjiHaXyr6V1zD3lCKdppou44tyaV1KyHZuk00yu26smok8AgC6IsbyOdtL7ctRrvpMfON9CJGbNH/GOY5/cSrNI31wvT1uEo7g9RbD2BveeZAYVoXT2l9pWeTVKmuq3UFg3e1aG/apUlUTgoMWZ57Q9px/cN7g6k3qwbAsLZ8prb0tPUpnXDcqwsC3zR8Rq1hKEQM2A66ElK2qZK3QVBZYGqTluSTdHbj9OM+goVwWX5uzbNQFNsiigTooCVFFNEodd9dgmBCiAAPRQ9o+0Pv5HPsw0gEZgDzbJEm15EGBp630hUwYgERre5+sc7f2UP7Tl/6rtiMdGL9IyHp6TwqCMdPXbnfpd6gz/GD7SyUtV69UzS5mkcAA4fxib5tKLJiVu29qp1DI/W4Q9cS1uDNzvvTV1VXpFNuYjyEV5FXTYlY7TTOogf9twg0Wccgt701/a0btQTTFNu6OoqDxCXTsoff/Xv/wA/ngCgHwHx3/rms8RFNgIIIJkmZaTqTIsYHOCqXARDB7k8he+nTz2sojVOGvqb2X2R929Wk6NQkmaiFjgtd8L9X0e2e5cCmVTrW0Gd/Vlq+CChBTbyLSAJJfQOsJVG6qiJm29v6S6L+VK/vvqIeptsSKct1kZuizvJqMj6DLldGMdwiMbX9dRVkYsx94oooNbcCqTYARFyoJ3B15b/APpDyPx9x/jmuaNV5GWWgcmtY3XqGg/NSTEWiZ0EzGx1G2/O26iIN6F/pqyEqnPWnStwuc2V22fLyVj3/wAhBGRcNDkOkEvGQ20YiBlm4gmRFdtIRLhF40FRjIFeNFlUTXNQnpq+n1XxKeN4W8ZDKlBUpXErpag2B4UqyZkliFeWCDlHIFUTOZMQBXoCHUKXoFBy93Gccm5BMmATJBIHUQToIvCAkGQvGVPXWv6HHIxNIo1Op8W2MJ28bVazC16PbmFMqImQZRDJo2RH6JCIiJEyiKRCpiPsKAB7LoPPgPPz+vwH+wB/QPyx7gARARDsOuw78h3313/Hoev4DjvyAdh30I9ffr48B+XY+R/l98E8z6k/qVCZuU6D8g+Ov5efH+o/1x0H5B5+fHzm36hA7ATAAh8+Q7DwA+evHwJR/gIfmGPqE8j7g6Dvv9Og7Hv8ug8j+mS2t79SdUW8AAPAB0H5BjOuk5iJhWir+Yk4+KYIJqrLvZJ43YtUUkSidZVZw5USRSSSIAmVUOcpUyh2cQDLaH/ObhXGOl2L/l7xeZPmvl0zeb/1S1dNiimCpTLt1rWVZIBTMVT/AJhC9kMBi9+4gGA5hLfEOl94/VFdRjI8bp6snpwUJsq7n+Yuk3KCBFFFjVKz/wDEI5E0yiInMlQW1mUAogBjEMBRBQE1BTE4Jqe235L18/SvlnjaJpnJBxsWfevW8axrtH1LuSUnX8m7XTas45gxe0GMO9fu3KySDZq0Os5XUWQImkJ10yjqCIJBE6SCPrrrsimO68gP5d/69f8AjNciXmPV1oLREHFX4VepdstA7h02SWoPC++Pm6qrNZ00cAD2bkIFimKL9mqxcEWdJmaORAjz8N0cCfEy9SzkNbH60frv0pucj1RFFNcVNoxWv9NN1ElFU24Ak/stnfxB101lAMs1JJmcptyqOQROimcxcghwkX+XXe3zhUNJ0j3A6bnqPkpdcZECPNT1SJWQFCuejhItolRuZdCYvnPDQVZW+oAj7W68HB1i5PkVzD7faU6pUQHsVF0SF9w6G3j6zlhTaOobgzxa1+U4iLyKvXJt5a5BECgYR+m8pcGzYmUOPsKkUTGTEoiKqzYwfRDbG55hzBAmHPa09Rc6jcKRH+Qfopf8ZEggv65cwCLgI70t6Y2OCypot495T2yZQIZUE2zN26Ytq/Dpum6AGUdLsDvWi64kQbCLft1mqtJ9bCfKi0kt2+n/AK/bCqmZeToGsdyWOTKgKvR02zG9vXMaRUqXn6q4KkOb/wDMIiInLn1HoZT2Hnb7lS3Zt7N/9Pn+Ifp3/wBu8h9b8VvV3ny/XnvVUolBVK6EP2XR+EGpbgmszMmkJinnLjLxR01QUKcfpN4MOiAUTLqKgPXsEeGXPyUjyxl09WDZUkiomok4VqHFvj7rt4cVUDorHayddjv2kyMUFVBaD+NXO3UKiuCiy6YKY65m2m15Gmto536W3VAvEgX1Mnz0n9lKn3+fjx3+fx8/H9/pgfPx0P3D8v0/9v4ZDmb0lrtKrvXNo9VL1R11X31FVAp/I2Po7Zu5cruFnQMWbamSjRixSMqn+y2TZFM8eCCaZnTtr9NsmU9Hv6v4gR9Uj1hw/EfR8p82Po/SKmoQ6gIgjrRP6YuCEFBQweSJqGFH6antUDIJJMiBeDNiLX/b1QgAWcHG1gCJ0m5Ft/ZTGdh9xD+uOwEegHv+H8v/ADkRDX0knLf3Ar6n3q4vSikskUrnl9Ek+mZUvX1iKM9TtVvqpdqCiKihyEE4FEhk0WpEPTt/SqrhkzEnudPqZW45GrZJmrYuYVkKMc9bqAJplkhBV6DZftVwgBmiirtq7aoIqKLMWbN8YrwoZifEMoHk6dNuesaXiVxy7+iNP5h05cv08lKgAgId/brv/Tv/AGzQTB19h/TsP/fvIppn0hNCzgoOXu9eahpps+PIN7Gtyfu8pON1jrFWN+FdTycuizEwgZM67Rsg9Oioq3M6FucyQ8zT0kNMFjnkdOcjOctx+u1dMmLu2co7hJrwbJykdEW0M2QaM4xFNFNQCoGdRzxUopJmUUUMAibYDD/O46SCwDUA7OdzN7XEARc8gDTOZ0DymRv005qVH3gHwH8v+/x9/wDtm73B57EPH5D3/wBg/wBO8h0sPom8b7IVum/3vzYBJrAnryCYcj5d4RFo4aFYyKyAS0FJGbKSqJEzSLVsZGIXUTIIRaaQCmbvJP0kYtwdZGt+on6qNBhx+mmzr9N5dEQiopokoU6TGOUnddz8v+FSIX8OkL2VeOUW4iii5IX4pDf6jt/LbUbzNrxba40Wi2nNnkjmWwdp0JHOOsT0lx7AfgQHAiAfIgH8choa+ju7YpKpk9VH1gnxlDuzJGmOZqLn6AOil6TSPH60iXQkbmIU7cijo/0+hARMXxniJz0tObcHVbdUtO+sVyngWNqj1GAP9vV026rW0ImuVw1/Zt6ktgwM7V1yh72qstTArMooioBzquBRImfNhpp7LMCfz25Zd/b9VOd2A/AgOMsa9PrjRvTirot7rnkNymvfLnYUpepu5qbHv37XVfQMZNxcC1SokK9sVitFhf16IkYuTmGa8tLe5J5YZBnGx8RCtoyMaXy4QxNjPXRMYxhRMYxhExjGETGMYRMYxhExjGETGMYRMYxhExjGETGMYRMYxhExjGETGMYRMYxhExjGETGMYRMYxhExjGETGMYRMYxhExjGETGMYRMYxhExjGETGMYRMYxhEH+/78/OWub/AOFfFrlG8ZSm+NM1a/zcbGFhGFlcGlIK2NIIij9wSASttWkYOy/sEjuUk3ycKeWNGJv5B4+TakdLnVG6PGUEtOZpII3Bgj1seqKP+o+lX6ctLjv2VH8M9BTrMF3jkv8AxGoMTtlymvIOQeu1EXu00ri9QFV2UHHsSXImVUOyEKH7uXv12p1ioxTGCqVehKvBxjZJnGwteiY+GiI9ogIfSaso2Obt2bRBMOypotkU0iAI+0oCBRD0OMrnvd+Z7nbeJxNuVyifn/f9/wB/ydB2A/l8fzzQRAPnv+QCP9egHoP1Hx+vnNomAo9D9+x+/fRQ+/j9B/6h89eBH4DEDkPbqPv57IfKfvqt+M+Nw/Zs0Tru3KDVBIhlFVnKyaCSRCgYxzKKKmIQhSFIYxjGEAApRERAAEctqvPNrh3rSWWgL/yn4+U6fblTMvAWDcFAjp1Iqp/YmdSFcTxZMhTGAwe4WoB0UwiIAUwl0GOcZa1xJ5NJJBgXEeXl6lUNcYhpvfTn8vMyrocZFrOes/6bkTaBpMXyTjb7b1F0msdXtXUDaWznE46XIYW7aAkqNSpyvyx3ShBSQO0mFETrgKH1AV6LniXfqzzko/bwmvPTQ9Tq2S0m6SaQsjPcZTUChO1FVVCAtI3qetS7Gvs/akZT8dMsmjJLsib1yzMqmOXu6m7XDQ3IbGnMjnf16IQRqI+vtt6qYDNBEA+RAPkfIgHgPkfP5ffIkXXJX1bLtKGhKJ6a+vNMoquCIs7xv/ljrO31oEFhA5XszX9IuJq2xaTVEPY6RjGdkdneHFFsgo2QB65+4+uvWY2QwcNbXyN4RcalwOJGEhorS2xd6PwSclV+urKBuyyVCMcKx/0kSxoR8awTkDu1VJEjUjYqCzLG7RHIzy0idFFLB7i9gHYdiPt67Dv3e0TdAH3H2/vdfPt7N8ZtOommHuOchA8h2cxSh2ACIh2IgHgCiI/oAj8AORJP/Tm5PbGiWjDeHqscxZN6Y4nmpHj5E6j4xkenK3WSRNFtavUrWvDtAEW4OmKshKkeqIquFFQXUScI/U49F3hXal2L/cv/AMQfIKWjkDN0JjcXJbc8zIiArIuQOLitW2q+CKokAiJSFbj0Yx0DqGFTIcoEySejYjQXJdbUyRMDmivf2Ny44rags6NJ2tyX0BrS6OYc9gbU2/bi17Uba6gk3Bmqky0rU9YmE26jCuSma/jW7FVsLoPwxVRW/dyzPZnrYemNqia/y7aOVdSdTChUjMkavWdg26MlTKtDvvoxNrrdSlKXIOE2hPrroIWQVGwAKbgElxIkatNS9Mf0+KUybsYzh7oSWRaJkSaLXrX0Ls2QakIQyRStZTY6Fqk24ikc6RjIOyHOmochzGA3WXkVqoVSmRLSAp9agKpAsCJpsYStw8dBxLNJJIEUkmkdGNmrNsmmiUiJCoIkAqRCph0UADKO7gFweSCDDXBo1buQTs68crSiivU9X3Xc1Es7Bq3hx6iu7qxMiIV256p4jWyyUqcIAAUzpnYlJdiiVg3ce5F05VQKoQ6SwNmzv2F93czXM31B5Vi3eat9KDYck0l2zVzEyGzuT3H3Wjho2eMgdoubBU1JmcskU5SE6aLqBdJt5VqsCzZ8DFyl9IZVgTKXvoOuzCYfIj+8brv576+A6666AOi9B4zfmLyTFpMDUxaLmOsrQcBq1p85nbkenLc7KJt5P+tZcDtxgddenZqKLXTIDr/O9+35sS2sRUbJnU+gxp1Xh6qsdNwcUAFaedNziUxxbLJpEMvzLccfVft5U1LH6j2otUFATFWjdO8MqzZlFABByKKhJ/auw5kW4kcKIA4T/wAuOPxqCH/JPHLLe9OV7sOwD8/j+WM1mPhADQBMmASTaJmeXJC6bBrW9WzJ0NzPMaf3URLr02+Rt/aJt9yeq1zhfuE2otlHejT6o46KLnMdcyjg4VWlWIhlg6ZGaD7SFaqJPFE0/pSBUUO1mvSA0VfKw6p26uQfObf9YfN1Wz+B3Jyu2BZIV6iuYorkdw0WMFEroOATSKs2VYmaqJpJlUbiJTCMsAiAfI5rkmf8AfRM7pBmIsIgbRt0USEJ6FfpX19Zi4YcWklzR3tFshL7k5AzseIgYDgZxEze1n8W7EDeQB2zWKUP3SlAvjLioz0yfTvjIokIPCPi3NRhWZGCiNu0drq7rum5DAf/APmEhcK/OSUmqocAOu5kHjpw4UEyiyqih1DmvlxmWtDJDRlB1ykjrsVCSYBJMaT5beg2VFNXcbOPGjo5xD6W0RpvUMQ7eEkHcVq7WFI1/Gu5BJolHovnTCowcO0cPEWCCDFJyqidYjNBJAVBTTIBay/RTD3D7QAR6ABACgJOg8e0QDsOjeQN0Jvd1+Qdc2M17+pJ5DfyCi2EICYCAd+RERER7ERH5EfAB2PXY9AAd/Gb8YyQACNj+0ImMYxA5fcR9ETGMZVCAbFMYxhUCLBMYxhExjGETGMYRMYxhExjGETGMYRMYxhExjGETGMYRMYxhExjGETGMYRMYxhExjGETGMYRMYxhExjGETGMYRMYxhExjGETGMYRMYxhExjGETGMYRMYxhExjGETGMYRMYxhExjGETGMYRMYxhExjGETGMYRMsh3bprnBb9hP7HojmvTNK0ZzFsWjTXVu4p1ncjVhJNfoFcyrezf8Tdc2JU8mAO1XbV66ctW5lWiEeigVmuvIXvYEAH5AB/jlBggwDBmCARbmDYoopW/Ev1PpCXSXtHq1NW8CPZHkTrbgXoypSCqZigAixm7zctsmYOCmA4gqpHvkzEOmkCKZyHcn+wfTHnbBLOZbZ3qLeo7sBF+oieRq7He9U1VTHKZRMLhmlD6f1jRZJhHujGAy7dlPILGKH0/wASKftIWU7GXO8x+UR/QxreURAEaXAtJKKKlr6KvpzKTI2K1aRsuyJszk7xV5tLfPIPYrdd6cqxFHbmHtW0ZGvuFlhWUWOdWHOp+JUM5A/1gIclzVP4AcHKC5M/qPELjdCyZilIaXR0zQHM2ciZSkIU849gXMucAAoD7ReiAm7OYDKCY43eYxnf/U7/ALjznnzAPsrmd/Ufc/ew9l00LXYCtxjSFrsLFQMMwJ9NjEQzBpGRjJLsTfSaMGSSLVskJhMb2IpEL7jGEQ7Mbvt/YXyHXgfIh2IB9vsA9fb8vnv8xzdjM63OvNJJ1J90xjGFExjGETGMYRMYxhExjGETGMYRMYxhExjGETGMYRMYxhExjGETGMYRMYxhExjGETGMYRMYxhExjGETGMYRMYxhExjGETGMYRMYxhExjGETGMYRMYxhExjGETGMYRMYxhExjGETGMYRMYxhExjGETGMYRMYxhExjGETGMYRMYxhExjGETGMYRMYxhExjGETGMYRMYxhExjGETGMYRMYxhExjGETGMYRMYxhExjGETGMYRMYxhExjGETGMYRMYxhExjGETGMYRMYxhExjGETGMYRMYxhExjGETGMYRMYxhExjGETGMYRMYxhExjGETGMYRMYxhExjGETGMYRMYxhExjGETGMYRMYxhExjGETGMYRMYxhExjGETGMYRMYxhExjGETGMYRf//Z)"
      ]
    },
    {
      "cell_type": "markdown",
      "metadata": {
        "id": "QaySYZ_nKxYR"
      },
      "source": [
        "Generally the usual range we consider is<br>\n",
        "\n",
        "\n",
        "- 0 - 0.4 ->weak correlation <br>\n",
        "- 0.4 - 0.7 ->moderate correlation <br>\n",
        "- 0.7 - 1.0 ->strong correlation <br>\n",
        "\n",
        "Note that this is just the magnitude, it can either be \" + or - \"<br>"
      ]
    },
    {
      "cell_type": "markdown",
      "metadata": {
        "id": "Vfzw7tTEL90n"
      },
      "source": [
        "- Now is the correlation between temp and cnt variables a weak, moderate or strong correlation?<br>\n",
        "\n",
        "Ans: moderate"
      ]
    },
    {
      "cell_type": "code",
      "metadata": {
        "id": "_Isr2TLYFmXm"
      },
      "source": [
        "# to find the correlation of cnt with all the other four numerical variables all at once\n"
      ],
      "execution_count": null,
      "outputs": []
    },
    {
      "cell_type": "code",
      "metadata": {
        "colab": {
          "base_uri": "https://localhost:8080/"
        },
        "id": "082agR_-_qZN",
        "outputId": "d29b9c30-710f-4edd-e3fa-923166911018"
      },
      "source": [
        "data.columns"
      ],
      "execution_count": null,
      "outputs": [
        {
          "output_type": "execute_result",
          "data": {
            "text/plain": [
              "Index(['season', 'yr', 'mnth', 'holiday', 'weekday', 'workingday',\n",
              "       'weathersit', 'temp', 'atemp', 'hum', 'windspeed', 'cnt'],\n",
              "      dtype='object')"
            ]
          },
          "metadata": {
            "tags": []
          },
          "execution_count": 11
        }
      ]
    },
    {
      "cell_type": "code",
      "metadata": {
        "colab": {
          "base_uri": "https://localhost:8080/",
          "height": 195
        },
        "id": "SSK-0-4d_qVy",
        "outputId": "4afbe628-d288-4ab2-8ed5-c8e2bf9cd49d"
      },
      "source": [
        "#correlation of all numerical variables\n",
        "# use the correlation function specifying the dataframe you want to use it on\n",
        "data[['temp', 'atemp', 'hum', 'windspeed', 'cnt']].corr()"
      ],
      "execution_count": null,
      "outputs": [
        {
          "output_type": "execute_result",
          "data": {
            "text/html": [
              "<div>\n",
              "<style scoped>\n",
              "    .dataframe tbody tr th:only-of-type {\n",
              "        vertical-align: middle;\n",
              "    }\n",
              "\n",
              "    .dataframe tbody tr th {\n",
              "        vertical-align: top;\n",
              "    }\n",
              "\n",
              "    .dataframe thead th {\n",
              "        text-align: right;\n",
              "    }\n",
              "</style>\n",
              "<table border=\"1\" class=\"dataframe\">\n",
              "  <thead>\n",
              "    <tr style=\"text-align: right;\">\n",
              "      <th></th>\n",
              "      <th>temp</th>\n",
              "      <th>atemp</th>\n",
              "      <th>hum</th>\n",
              "      <th>windspeed</th>\n",
              "      <th>cnt</th>\n",
              "    </tr>\n",
              "  </thead>\n",
              "  <tbody>\n",
              "    <tr>\n",
              "      <th>temp</th>\n",
              "      <td>1.000000</td>\n",
              "      <td>0.991702</td>\n",
              "      <td>0.126963</td>\n",
              "      <td>-0.157944</td>\n",
              "      <td>0.627494</td>\n",
              "    </tr>\n",
              "    <tr>\n",
              "      <th>atemp</th>\n",
              "      <td>0.991702</td>\n",
              "      <td>1.000000</td>\n",
              "      <td>0.139988</td>\n",
              "      <td>-0.183643</td>\n",
              "      <td>0.631066</td>\n",
              "    </tr>\n",
              "    <tr>\n",
              "      <th>hum</th>\n",
              "      <td>0.126963</td>\n",
              "      <td>0.139988</td>\n",
              "      <td>1.000000</td>\n",
              "      <td>-0.248489</td>\n",
              "      <td>-0.100659</td>\n",
              "    </tr>\n",
              "    <tr>\n",
              "      <th>windspeed</th>\n",
              "      <td>-0.157944</td>\n",
              "      <td>-0.183643</td>\n",
              "      <td>-0.248489</td>\n",
              "      <td>1.000000</td>\n",
              "      <td>-0.234545</td>\n",
              "    </tr>\n",
              "    <tr>\n",
              "      <th>cnt</th>\n",
              "      <td>0.627494</td>\n",
              "      <td>0.631066</td>\n",
              "      <td>-0.100659</td>\n",
              "      <td>-0.234545</td>\n",
              "      <td>1.000000</td>\n",
              "    </tr>\n",
              "  </tbody>\n",
              "</table>\n",
              "</div>"
            ],
            "text/plain": [
              "               temp     atemp       hum  windspeed       cnt\n",
              "temp       1.000000  0.991702  0.126963  -0.157944  0.627494\n",
              "atemp      0.991702  1.000000  0.139988  -0.183643  0.631066\n",
              "hum        0.126963  0.139988  1.000000  -0.248489 -0.100659\n",
              "windspeed -0.157944 -0.183643 -0.248489   1.000000 -0.234545\n",
              "cnt        0.627494  0.631066 -0.100659  -0.234545  1.000000"
            ]
          },
          "metadata": {
            "tags": []
          },
          "execution_count": 12
        }
      ]
    },
    {
      "cell_type": "markdown",
      "metadata": {
        "id": "YwxkjyfDAmcX"
      },
      "source": [
        "Correlation between cnt and atemp<br>\n",
        "- There is a moderate and +ve correlation between cnt and atemp<br>\n",
        "\n",
        "Correlation between cnt and humidity<br>\n",
        "- There is a -ve and weak correlation between cnt and hum<br>\n",
        "\n",
        "Correlation between cnt and windspeed<br>\n",
        "- There is a -ve and weak correlation between cnt and windspeed<br>\n",
        "\n",
        "Note : Generally when we work with real world data, in very few cases we get strong correlation, usually we get moderate or weak correlations<br>\n",
        "\n",
        "Why correlation between temp and atemp so high i.e 0.991702, which is almost 1(which is a perfect coorelation)??<br>\n",
        "\n",
        "  - What is adjusted temp? Ans: Basically it is the real feel temperature which takes into account the humidity and the windspeed, so can we consider it as a transformation of the original temperature variable?\n",
        "\n",
        "  - so it is obvious that on a very hot day when the temperature is very high, humidity is also high, then the real feel should also be high<br>\n",
        "  - similarly on a cool day when the wind is blowing, the temperature will actually be low and due to the wind the adjusted temperature (atemp) will also be low.<br>\n",
        "  - Due to the fact that the adjusted temperature value is just a transformation of the original temperature value, we have this very high correlation value, otherwise while working with real world values, we hardly get such high correlation values, and in the event of such values, don't try to look for some relationship between the values, seeing such values we can understand that there is a very high correlation between them"
      ]
    },
    {
      "cell_type": "markdown",
      "metadata": {
        "id": "AnhvEY9oGZyW"
      },
      "source": [
        "If we have many variables like 10, 20 or even 30 variables, it gets difficult to understand which are the significant correlations in the above matrix form, so we represnt that information using a heatmap, which is a visualisation plot which displays information based on colours. We can create heatmaps using seaborn."
      ]
    },
    {
      "cell_type": "code",
      "metadata": {
        "colab": {
          "base_uri": "https://localhost:8080/",
          "height": 286
        },
        "id": "HtTKDsNvGiRv",
        "outputId": "23170c6b-f17b-4f52-ea9a-ba862407decd"
      },
      "source": [
        "#heatmap\n",
        "sns.heatmap(data[['temp', 'atemp', 'hum', 'windspeed', 'cnt']].corr())"
      ],
      "execution_count": null,
      "outputs": [
        {
          "output_type": "execute_result",
          "data": {
            "text/plain": [
              "<matplotlib.axes._subplots.AxesSubplot at 0x7fa6e5c167d0>"
            ]
          },
          "metadata": {
            "tags": []
          },
          "execution_count": 13
        },
        {
          "output_type": "display_data",
          "data": {
            "image/png": "[encoded data removed]",
            "text/plain": [
              "<Figure size 432x288 with 2 Axes>"
            ]
          },
          "metadata": {
            "tags": [],
            "needs_background": "light"
          }
        }
      ]
    },
    {
      "cell_type": "markdown",
      "metadata": {
        "id": "Q4-12y_WHIMo"
      },
      "source": [
        "- light shade-> high positive correlation\n",
        "- darker shade-> negative correlation"
      ]
    },
    {
      "cell_type": "code",
      "metadata": {
        "colab": {
          "base_uri": "https://localhost:8080/",
          "height": 286
        },
        "id": "3ZGQGZneGiHh",
        "outputId": "b747df1a-a778-406c-98fc-f2d82f65b165"
      },
      "source": [
        "#heatmap\n",
        "sns.heatmap(data[['temp','atemp','hum','windspeed','cnt']].corr(), annot=True)\n",
        "# annot=True gives correlation values in the squares"
      ],
      "execution_count": null,
      "outputs": [
        {
          "output_type": "execute_result",
          "data": {
            "text/plain": [
              "<matplotlib.axes._subplots.AxesSubplot at 0x7fa6ddb31650>"
            ]
          },
          "metadata": {
            "tags": []
          },
          "execution_count": 14
        },
        {
          "output_type": "display_data",
          "data": {
            "image/png": "[encoded data removed]",
            "text/plain": [
              "<Figure size 432x288 with 2 Axes>"
            ]
          },
          "metadata": {
            "tags": [],
            "needs_background": "light"
          }
        }
      ]
    },
    {
      "cell_type": "code",
      "metadata": {
        "colab": {
          "base_uri": "https://localhost:8080/"
        },
        "id": "WaUgzicwwPf4",
        "outputId": "6ec6f3f4-5d11-4e9d-e92f-7148073bcb30"
      },
      "source": [
        "data.columns"
      ],
      "execution_count": null,
      "outputs": [
        {
          "output_type": "execute_result",
          "data": {
            "text/plain": [
              "Index(['season', 'yr', 'mnth', 'holiday', 'weekday', 'workingday',\n",
              "       'weathersit', 'temp', 'atemp', 'hum', 'windspeed', 'cnt'],\n",
              "      dtype='object')"
            ]
          },
          "metadata": {
            "tags": []
          },
          "execution_count": 15
        }
      ]
    },
    {
      "cell_type": "markdown",
      "metadata": {
        "id": "njjq4c9ulhH2"
      },
      "source": [
        "# Preprocessing the dataset"
      ]
    },
    {
      "cell_type": "markdown",
      "metadata": {
        "id": "54EOC5-Extta"
      },
      "source": [
        "Note that:\n",
        "- cnt is our target variable\n",
        "- all other variables are our predictor variables\n",
        "- we have both numerical and categorical predictor cariables"
      ]
    },
    {
      "cell_type": "markdown",
      "metadata": {
        "id": "HrWfWDR3zqpa"
      },
      "source": [
        "###*Data* Encoding"
      ]
    },
    {
      "cell_type": "code",
      "metadata": {
        "colab": {
          "base_uri": "https://localhost:8080/"
        },
        "id": "oohR2b4_HjGs",
        "outputId": "fe8a53c6-1a67-475f-9e1f-a8f1325ba4e1"
      },
      "source": [
        "for uni in data.columns:\n",
        "  print(uni)\n",
        "  print(data[uni].unique())"
      ],
      "execution_count": null,
      "outputs": [
        {
          "output_type": "stream",
          "text": [
            "season\n",
            "[1 2 3 4]\n",
            "yr\n",
            "[0 1]\n",
            "mnth\n",
            "[ 1  2  3  4  5  6  7  8  9 10 11 12]\n",
            "holiday\n",
            "[0 1]\n",
            "weekday\n",
            "[6 0 1 2 3 4 5]\n",
            "workingday\n",
            "[0 1]\n",
            "weathersit\n",
            "[2 1 3]\n",
            "temp\n",
            "[0.344167  0.363478  0.196364  0.2       0.226957  0.204348  0.196522\n",
            " 0.165     0.138333  0.150833  0.169091  0.172727  0.16087   0.233333\n",
            " 0.231667  0.175833  0.216667  0.292174  0.261667  0.1775    0.0591304\n",
            " 0.0965217 0.0973913 0.223478  0.2175    0.195     0.203478  0.216522\n",
            " 0.180833  0.192174  0.26      0.186957  0.211304  0.285833  0.271667\n",
            " 0.220833  0.134783  0.144348  0.189091  0.2225    0.316522  0.415\n",
            " 0.266087  0.318261  0.435833  0.521667  0.399167  0.285217  0.303333\n",
            " 0.182222  0.221739  0.295652  0.364348  0.2825    0.343478  0.407273\n",
            " 0.266667  0.335     0.198333  0.384167  0.376522  0.261739  0.2925\n",
            " 0.295833  0.389091  0.329167  0.384348  0.325217  0.317391  0.365217\n",
            " 0.54      0.4725    0.3325    0.430435  0.441667  0.346957  0.285\n",
            " 0.264167  0.265833  0.253043  0.264348  0.3025    0.3       0.268333\n",
            " 0.315     0.378333  0.573333  0.414167  0.390833  0.4375    0.335833\n",
            " 0.3425    0.426667  0.595652  0.5025    0.4125    0.4675    0.446667\n",
            " 0.430833  0.456667  0.5125    0.505833  0.595     0.459167  0.336667\n",
            " 0.46      0.581667  0.606667  0.631667  0.62      0.6175    0.51\n",
            " 0.451667  0.549167  0.616667  0.479167  0.52      0.528333  0.5325\n",
            " 0.5425    0.535     0.520833  0.5625    0.5775    0.561667  0.55\n",
            " 0.530833  0.536667  0.6025    0.604167  0.66      0.660833  0.708333\n",
            " 0.681667  0.655833  0.6675    0.733333  0.775     0.764167  0.715\n",
            " 0.635     0.648333  0.678333  0.7075    0.775833  0.808333  0.755\n",
            " 0.725     0.6925    0.626667  0.628333  0.649167  0.696667  0.699167\n",
            " 0.680833  0.728333  0.724167  0.695     0.68      0.6825    0.744167\n",
            " 0.7225    0.738333  0.716667  0.726667  0.746667  0.72      0.75\n",
            " 0.709167  0.7475    0.7625    0.794167  0.663333  0.686667  0.719167\n",
            " 0.776667  0.768333  0.815     0.848333  0.849167  0.83      0.743333\n",
            " 0.771667  0.779167  0.838333  0.804167  0.805833  0.783333  0.731667\n",
            " 0.71      0.710833  0.7425    0.765     0.766667  0.7175    0.685833\n",
            " 0.676667  0.665833  0.700833  0.723333  0.711667  0.685     0.6975\n",
            " 0.691667  0.640833  0.673333  0.684167  0.7       0.707059  0.636667\n",
            " 0.639167  0.656667  0.655     0.643333  0.669167  0.599167  0.633913\n",
            " 0.65      0.653333  0.644348  0.650833  0.469167  0.491667  0.5075\n",
            " 0.609167  0.634167  0.564167  0.41      0.356667  0.484167  0.538333\n",
            " 0.494167  0.510833  0.540833  0.570833  0.566667  0.543333  0.589167\n",
            " 0.550833  0.506667  0.511667  0.534167  0.541739  0.475833  0.4275\n",
            " 0.4225    0.421667  0.463333  0.471667  0.47      0.330833  0.254167\n",
            " 0.319167  0.34      0.400833  0.3775    0.408333  0.403333  0.326667\n",
            " 0.348333  0.395     0.4       0.38      0.324167  0.440833  0.53\n",
            " 0.341667  0.274167  0.4475    0.416667  0.373333  0.375     0.375833\n",
            " 0.503478  0.458333  0.325     0.3125    0.314167  0.299167  0.385833\n",
            " 0.4625    0.290833  0.275     0.238333  0.3175    0.258333  0.276667\n",
            " 0.428333  0.423333  0.274783  0.321739  0.29913   0.248333  0.311667\n",
            " 0.37      0.273043  0.15      0.1075    0.334167  0.393333  0.3375\n",
            " 0.224167  0.308696  0.3825    0.18      0.166667  0.19      0.373043\n",
            " 0.173333  0.1625    0.218333  0.294167  0.425     0.315833  0.269167\n",
            " 0.39      0.313333  0.282609  0.354167  0.256667  0.265     0.280833\n",
            " 0.1275    0.316667  0.343333  0.346667  0.28      0.287826  0.395833\n",
            " 0.454167  0.4075    0.279167  0.366667  0.359167  0.344348  0.485833\n",
            " 0.353333  0.325833  0.243333  0.404167  0.5275    0.410833  0.2875\n",
            " 0.361739  0.466667  0.565     0.5725    0.5575    0.514167  0.545\n",
            " 0.560833  0.531667  0.554167  0.601667  0.445833  0.323333  0.424167\n",
            " 0.425833  0.433913  0.541667  0.435     0.5       0.489167  0.348696\n",
            " 0.3975    0.4425    0.495     0.664167  0.608333  0.498333  0.526667\n",
            " 0.57      0.396667  0.321667  0.413333  0.476667  0.4575    0.376667\n",
            " 0.464167  0.613333  0.56      0.6275    0.621667  0.5375    0.575\n",
            " 0.533333  0.6125    0.611667  0.593333  0.6       0.620833  0.598333\n",
            " 0.615     0.69      0.7125    0.654167  0.583333  0.5975    0.720833\n",
            " 0.5925    0.568333  0.688333  0.7825    0.7775    0.715833  0.630833\n",
            " 0.749167  0.834167  0.815833  0.781667  0.780833  0.789167  0.8275\n",
            " 0.828333  0.861667  0.8225    0.703333  0.745833  0.763333  0.818333\n",
            " 0.793333  0.77      0.595833  0.741667  0.750833  0.755833  0.721667\n",
            " 0.730833  0.713333  0.7525    0.765833  0.769167  0.735833  0.706667\n",
            " 0.635833  0.695833  0.7025    0.661667  0.753333  0.725833  0.736667\n",
            " 0.659167  0.61      0.633333  0.58      0.580833  0.623333  0.5525\n",
            " 0.546667  0.529167  0.619167  0.590833  0.6575    0.415833  0.383333\n",
            " 0.468333  0.455833  0.5225    0.563333  0.4875    0.544167  0.5875\n",
            " 0.545833  0.4775    0.44      0.318182  0.3575    0.365833  0.355\n",
            " 0.352174  0.361667  0.389167  0.420833  0.485     0.289167  0.345\n",
            " 0.380833  0.374167  0.368333  0.278333  0.245833  0.291667  0.296667\n",
            " 0.28087   0.298333  0.3475    0.4525    0.438333  0.255833  0.320833\n",
            " 0.381667  0.2975    0.281667  0.3625    0.33      0.231304  0.291304\n",
            " 0.253333  0.215833 ]\n",
            "atemp\n",
            "[0.363625  0.353739  0.189405  0.212122  0.22927   0.233209  0.208839\n",
            " 0.162254  0.116175  0.150888  0.191464  0.160473  0.150883  0.188413\n",
            " 0.248112  0.234217  0.176771  0.232333  0.298422  0.25505   0.157833\n",
            " 0.0790696 0.0988391 0.11793   0.234526  0.2036    0.2197    0.223317\n",
            " 0.212126  0.250322  0.18625   0.23453   0.254417  0.177878  0.228587\n",
            " 0.243058  0.291671  0.303658  0.198246  0.144283  0.149548  0.213509\n",
            " 0.232954  0.324113  0.39835   0.254274  0.3162    0.428658  0.511983\n",
            " 0.391404  0.27733   0.284075  0.186033  0.245717  0.289191  0.350461\n",
            " 0.282192  0.351109  0.400118  0.263879  0.320071  0.200133  0.255679\n",
            " 0.378779  0.366252  0.238461  0.3024    0.286608  0.385668  0.305\n",
            " 0.32575   0.380091  0.332     0.318178  0.36693   0.410333  0.527009\n",
            " 0.466525  0.409735  0.440642  0.337939  0.270833  0.256312  0.257571\n",
            " 0.250339  0.257574  0.292908  0.29735   0.257575  0.283454  0.315637\n",
            " 0.378767  0.542929  0.387608  0.433696  0.324479  0.341529  0.426737\n",
            " 0.565217  0.493054  0.417283  0.462742  0.441913  0.425492  0.445696\n",
            " 0.503146  0.489258  0.564392  0.453892  0.321954  0.450121  0.551763\n",
            " 0.5745    0.594083  0.575142  0.578929  0.497463  0.464021  0.448204\n",
            " 0.532833  0.582079  0.40465   0.441917  0.474117  0.512621  0.518933\n",
            " 0.525246  0.522721  0.5284    0.523363  0.4943    0.500629  0.536\n",
            " 0.550512  0.538529  0.527158  0.510742  0.529042  0.571975  0.590296\n",
            " 0.604813  0.615542  0.654688  0.637008  0.612379  0.61555   0.671092\n",
            " 0.725383  0.720967  0.643942  0.587133  0.594696  0.616804  0.621858\n",
            " 0.65595   0.727279  0.757579  0.703292  0.678038  0.643325  0.601654\n",
            " 0.591546  0.587754  0.595346  0.600383  0.643954  0.645846  0.637646\n",
            " 0.693829  0.693833  0.656583  0.643313  0.637629  0.637004  0.692558\n",
            " 0.652162  0.667308  0.668575  0.665417  0.696338  0.685633  0.686871\n",
            " 0.670483  0.664158  0.690025  0.729804  0.739275  0.689404  0.635104\n",
            " 0.624371  0.638263  0.669833  0.703925  0.747479  0.74685   0.826371\n",
            " 0.840896  0.804287  0.794829  0.720958  0.696979  0.690667  0.7399\n",
            " 0.785967  0.728537  0.729796  0.707071  0.679937  0.664788  0.656567\n",
            " 0.676154  0.715292  0.703283  0.724121  0.684983  0.651521  0.654042\n",
            " 0.645858  0.624388  0.616167  0.645837  0.666671  0.662258  0.633221\n",
            " 0.648996  0.675525  0.638254  0.606067  0.630692  0.645854  0.659733\n",
            " 0.635556  0.647959  0.607958  0.594704  0.611121  0.614921  0.604808\n",
            " 0.633213  0.665429  0.625646  0.5152    0.544229  0.555361  0.578946\n",
            " 0.607962  0.609229  0.60213   0.603554  0.6269    0.553671  0.461475\n",
            " 0.478512  0.490537  0.529675  0.532217  0.550533  0.554963  0.522125\n",
            " 0.564412  0.572637  0.589042  0.574525  0.575158  0.574512  0.544829\n",
            " 0.412863  0.345317  0.392046  0.472858  0.527138  0.480425  0.504404\n",
            " 0.513242  0.523983  0.542925  0.546096  0.517717  0.551804  0.498725\n",
            " 0.503154  0.510725  0.513848  0.423596  0.422333  0.457067  0.463375\n",
            " 0.472846  0.457046  0.318812  0.227913  0.321329  0.356063  0.397088\n",
            " 0.390133  0.405921  0.403392  0.323854  0.362358  0.400871  0.412246\n",
            " 0.409079  0.373721  0.306817  0.357942  0.43055   0.524612  0.507579\n",
            " 0.451988  0.323221  0.272721  0.324483  0.457058  0.445062  0.421696\n",
            " 0.430537  0.372471  0.380671  0.385087  0.4558    0.490122  0.451375\n",
            " 0.311221  0.305554  0.331433  0.310604  0.3491    0.393925  0.4564\n",
            " 0.400246  0.256938  0.317542  0.266412  0.253154  0.270196  0.301138\n",
            " 0.338362  0.412237  0.359825  0.249371  0.245579  0.280933  0.396454\n",
            " 0.428017  0.426121  0.377513  0.299242  0.279961  0.315535  0.327633\n",
            " 0.279974  0.263892  0.414121  0.375621  0.252304  0.126275  0.119337\n",
            " 0.278412  0.340267  0.390779  0.340258  0.247479  0.318826  0.282821\n",
            " 0.381938  0.249362  0.183087  0.161625  0.190663  0.364278  0.275254\n",
            " 0.190038  0.220958  0.174875  0.16225   0.349108  0.294821  0.35605\n",
            " 0.415383  0.326379  0.262625  0.381317  0.466538  0.398971  0.309346\n",
            " 0.272725  0.264521  0.296426  0.361104  0.266421  0.261988  0.293558\n",
            " 0.210867  0.101658  0.333946  0.351629  0.330162  0.355425  0.265788\n",
            " 0.273391  0.295113  0.392667  0.444446  0.410971  0.255675  0.268308\n",
            " 0.357954  0.353525  0.34847   0.475371  0.359842  0.413492  0.303021\n",
            " 0.241171  0.255042  0.3851    0.524604  0.397083  0.277767  0.35967\n",
            " 0.459592  0.548617  0.532825  0.436229  0.505046  0.464     0.532821\n",
            " 0.538533  0.513258  0.531567  0.570067  0.486733  0.437488  0.43875\n",
            " 0.315654  0.47095   0.482304  0.421708  0.417287  0.427513  0.461483\n",
            " 0.53345   0.431163  0.390767  0.426129  0.492425  0.476638  0.436233\n",
            " 0.337274  0.387604  0.431808  0.487996  0.573875  0.614925  0.598487\n",
            " 0.457038  0.493046  0.515775  0.542921  0.389504  0.301125  0.405283\n",
            " 0.470317  0.483583  0.452637  0.377504  0.457696  0.577021  0.537896\n",
            " 0.537242  0.590917  0.584608  0.546737  0.527142  0.557471  0.553025\n",
            " 0.491783  0.520833  0.544817  0.585238  0.5499    0.576404  0.595975\n",
            " 0.572613  0.551121  0.566908  0.583967  0.565667  0.580825  0.584612\n",
            " 0.6067    0.627529  0.642696  0.641425  0.6793    0.672992  0.611129\n",
            " 0.631329  0.566288  0.575133  0.578283  0.525892  0.542292  0.569442\n",
            " 0.597862  0.648367  0.663517  0.659721  0.597875  0.611117  0.624383\n",
            " 0.599754  0.594708  0.544842  0.654692  0.720975  0.752542  0.652792\n",
            " 0.674254  0.640792  0.675512  0.786613  0.687508  0.750629  0.702038\n",
            " 0.70265   0.732337  0.761367  0.752533  0.804913  0.790396  0.654054\n",
            " 0.664796  0.650271  0.654683  0.667933  0.666042  0.705196  0.724125\n",
            " 0.755683  0.745583  0.714642  0.613025  0.549912  0.623125  0.690017\n",
            " 0.70645   0.739263  0.734217  0.697604  0.684987  0.662896  0.707088\n",
            " 0.722867  0.751267  0.731079  0.710246  0.697621  0.707717  0.699508\n",
            " 0.667942  0.638267  0.644579  0.662254  0.676779  0.654037  0.2424\n",
            " 0.618071  0.595967  0.601025  0.621854  0.6471    0.618696  0.595996\n",
            " 0.66605   0.635733  0.652779  0.6894    0.702654  0.649     0.661629\n",
            " 0.686888  0.708983  0.655329  0.657204  0.578925  0.565654  0.554292\n",
            " 0.570075  0.579558  0.585867  0.563125  0.55305   0.565067  0.540404\n",
            " 0.532192  0.571971  0.610488  0.502513  0.544179  0.596613  0.607975\n",
            " 0.585863  0.530296  0.517663  0.512     0.542333  0.599133  0.580187\n",
            " 0.538521  0.419813  0.438112  0.503142  0.431167  0.433071  0.391396\n",
            " 0.508204  0.53915   0.460846  0.450108  0.512625  0.472842  0.456429\n",
            " 0.482942  0.530304  0.558721  0.529688  0.52275   0.515133  0.467771\n",
            " 0.4394    0.309909  0.3611    0.369942  0.356042  0.323846  0.329538\n",
            " 0.308075  0.281567  0.274621  0.341891  0.355413  0.393937  0.421713\n",
            " 0.475383  0.323225  0.281563  0.324492  0.347204  0.326383  0.337746\n",
            " 0.380667  0.364892  0.350371  0.248742  0.257583  0.339004  0.281558\n",
            " 0.289762  0.323867  0.316904  0.359208  0.455796  0.469054  0.428012\n",
            " 0.258204  0.321958  0.389508  0.390146  0.435575  0.338363  0.297338\n",
            " 0.294188  0.294192  0.338383  0.369938  0.4015    0.409708  0.342162\n",
            " 0.335217  0.301767  0.236113  0.259471  0.2589    0.294465  0.220333\n",
            " 0.226642  0.255046  0.2317    0.223487 ]\n",
            "hum\n",
            "[0.805833 0.696087 0.437273 0.590435 0.436957 0.518261 0.498696 0.535833\n",
            " 0.434167 0.482917 0.686364 0.599545 0.470417 0.537826 0.49875  0.48375\n",
            " 0.5375   0.861667 0.741739 0.538333 0.457083 0.4      0.436522 0.491739\n",
            " 0.616957 0.8625   0.6875   0.793043 0.651739 0.722174 0.60375  0.829565\n",
            " 0.775417 0.437826 0.585217 0.929167 0.568333 0.738333 0.537917 0.494783\n",
            " 0.437391 0.506364 0.544167 0.457391 0.375833 0.314348 0.423478 0.505\n",
            " 0.516667 0.187917 0.407826 0.605    0.577778 0.423043 0.697391 0.712174\n",
            " 0.68     0.876364 0.535    0.449583 0.318333 0.610417 0.789167 0.948261\n",
            " 0.551304 0.420833 0.       0.649565 0.594583 0.527391 0.496957 0.655652\n",
            " 0.776522 0.602917 0.525217 0.379167 0.47375  0.737391 0.624583 0.839565\n",
            " 0.495    0.394167 0.493913 0.302174 0.314167 0.646667 0.918333 0.68625\n",
            " 0.65375  0.48     0.42625  0.642083 0.470833 0.83625  0.8775   0.8575\n",
            " 0.716956 0.739167 0.819167 0.540417 0.67125  0.888333 0.479583 0.5425\n",
            " 0.665833 0.614167 0.407083 0.729583 0.887917 0.810833 0.776667 0.729167\n",
            " 0.835417 0.700833 0.503333 0.762083 0.73     0.697083 0.737083 0.444167\n",
            " 0.59     0.54125  0.631667 0.58875  0.489167 0.632917 0.7475   0.863333\n",
            " 0.9225   0.867083 0.787917 0.837917 0.87     0.829583 0.719583 0.626667\n",
            " 0.749583 0.81     0.740833 0.69625  0.6775   0.81875  0.685    0.636667\n",
            " 0.677083 0.305    0.354167 0.45625  0.6525   0.6      0.597917 0.622083\n",
            " 0.654583 0.747917 0.494583 0.507083 0.471667 0.688333 0.735833 0.670417\n",
            " 0.666667 0.74625  0.770417 0.7075   0.703333 0.573333 0.483333 0.513333\n",
            " 0.658333 0.634167 0.497917 0.39625  0.444583 0.6825   0.637917 0.590417\n",
            " 0.743333 0.65125  0.757917 0.609167 0.578333 0.635833 0.559167 0.47625\n",
            " 0.59125  0.585    0.604167 0.650417 0.707083 0.69125  0.580417 0.5\n",
            " 0.550833 0.757083 0.540833 0.402917 0.583333 0.465833 0.480833 0.49125\n",
            " 0.6575   0.7575   0.630833 0.755    0.752917 0.592083 0.570417 0.424167\n",
            " 0.42375  0.415    0.8175   0.712083 0.575417 0.722917 0.674167 0.77\n",
            " 0.47     0.455417 0.771667 0.76125  0.85     0.561765 0.554583 0.548333\n",
            " 0.639167 0.727083 0.716667 0.742083 0.790417 0.886957 0.917083 0.939565\n",
            " 0.897917 0.75375  0.71375  0.692174 0.7125   0.709167 0.718333 0.695\n",
            " 0.69     0.88125  0.9      0.902083 0.9725   0.845    0.848333 0.885417\n",
            " 0.84875  0.699167 0.6475   0.791667 0.760833 0.71     0.647917 0.620833\n",
            " 0.684167 0.70125  0.7275   0.73375  0.80875  0.90625  0.896667 0.71625\n",
            " 0.486667 0.579583 0.701667 0.895217 0.63625  0.574167 0.629167 0.74125\n",
            " 0.772083 0.622917 0.720417 0.812917 0.585833 0.8825   0.62375  0.68375\n",
            " 0.71875  0.702083 0.6225   0.519167 0.734583 0.75875  0.721667 0.758333\n",
            " 0.813333 0.44625  0.552917 0.458333 0.587083 0.68875  0.93     0.575833\n",
            " 0.41     0.502083 0.684583 0.91     0.9625   0.549167 0.64375  0.681667\n",
            " 0.698333 0.743043 0.830833 0.613333 0.524583 0.625833 0.612917 0.775833\n",
            " 0.827083 0.949583 0.970417 0.58     0.695833 0.5075   0.49     0.670833\n",
            " 0.66375  0.500417 0.560833 0.58625  0.6375   0.595417 0.858333 0.681304\n",
            " 0.506957 0.7625   0.503913 0.615833 0.6925   0.381304 0.44125  0.414583\n",
            " 0.524167 0.542083 0.531667 0.465    0.646522 0.8475   0.802917 0.4575\n",
            " 0.419167 0.5225   0.716087 0.443333 0.4975   0.45     0.83125  0.79625\n",
            " 0.91125  0.835833 0.769583 0.543333 0.31125  0.400833 0.416667 0.507917\n",
            " 0.672917 0.526667 0.779583 0.687917 0.622174 0.49625  0.562083 0.54\n",
            " 0.73125  0.464583 0.41125  0.50875  0.53125  0.634583 0.534583 0.515833\n",
            " 0.507826 0.594348 0.567917 0.7375   0.395833 0.490833 0.804783 0.615417\n",
            " 0.657083 0.62125  0.403333 0.50625  0.456667 0.5675   0.350417 0.476957\n",
            " 0.6175   0.842083 0.755833 0.72875  0.807917 0.82125  0.694167 0.880833\n",
            " 0.477917 0.29     0.48125  0.439167 0.580833 0.67625  0.504348 0.396667\n",
            " 0.469583 0.374167 0.377083 0.254167 0.275833 0.3175   0.435    0.469565\n",
            " 0.46625  0.408333 0.502917 0.561667 0.390417 0.569167 0.6125   0.694583\n",
            " 0.682917 0.766667 0.454167 0.427917 0.756667 0.489583 0.57     0.659583\n",
            " 0.797083 0.768333 0.735417 0.74     0.664167 0.685833 0.744167 0.552083\n",
            " 0.360417 0.480417 0.57625  0.789583 0.794583 0.697917 0.52     0.523333\n",
            " 0.530417 0.81125  0.765833 0.774583 0.747083 0.7325   0.67     0.492917\n",
            " 0.755417 0.493333 0.487083 0.61125  0.567083 0.467917 0.437083 0.587917\n",
            " 0.833333 0.582083 0.569583 0.589583 0.504167 0.59875  0.777917 0.57375\n",
            " 0.479167 0.373333 0.36     0.4225   0.48875  0.60125  0.51875  0.447083\n",
            " 0.492083 0.53875  0.457917 0.450833 0.683333 0.6675   0.633333 0.529583\n",
            " 0.485833 0.717917 0.645    0.505833 0.577083 0.600417 0.844167 0.865417\n",
            " 0.655    0.596667 0.66875  0.704167 0.6425   0.654167 0.70375  0.620417\n",
            " 0.715833 0.732917 0.545417 0.686667 0.619583 0.570833 0.603333 0.711667\n",
            " 0.734167 0.67375  0.615    0.712917 0.845833 0.730417 0.62     0.5875\n",
            " 0.638333 0.815    0.790833 0.810417 0.73625  0.799167 0.5475   0.50375\n",
            " 0.637083 0.6725   0.501667 0.8725   0.536667 0.618333 0.467083 0.690833\n",
            " 0.542917 0.649167 0.871667 0.79375  0.6275   0.708333 0.709583 0.761667\n",
            " 0.463333 0.539167 0.640417 0.558333 0.692917 0.728333 0.572917 0.51\n",
            " 0.641667 0.800417 0.807083 0.72     0.88     0.825455 0.581667 0.522083\n",
            " 0.532917 0.494167 0.333478 0.645417 0.659167 0.741667 0.662917 0.623333\n",
            " 0.61375  0.56875  0.404583 0.468333 0.535417 0.786667 0.555652 0.649583\n",
            " 0.806667 0.823333 0.7675   0.485    0.764167 0.905417 0.925    0.642917\n",
            " 0.83875  0.907083 0.66625  0.625417 0.667917 0.556667 0.515417 0.791304\n",
            " 0.734783 0.652917 0.5775  ]\n",
            "windspeed\n",
            "[0.160446  0.248539  0.248309  0.160296  0.1869    0.0895652 0.168726\n",
            " 0.266804  0.36195   0.223267  0.122132  0.304627  0.301     0.126548\n",
            " 0.157963  0.188433  0.194017  0.146775  0.208317  0.195904  0.353242\n",
            " 0.17197   0.2466    0.15833   0.129796  0.29385   0.113837  0.1233\n",
            " 0.145365  0.0739826 0.187192  0.053213  0.264308  0.277752  0.127839\n",
            " 0.161079  0.1418    0.0454083 0.188839  0.221935  0.10855   0.203367\n",
            " 0.260883  0.417908  0.291374  0.251791  0.230104  0.264925  0.507463\n",
            " 0.223235  0.307846  0.195683  0.094113  0.250496  0.346539  0.186571\n",
            " 0.125248  0.289686  0.216425  0.307833  0.225754  0.203346  0.251871\n",
            " 0.343287  0.341352  0.12065   0.22015   0.261877  0.23297   0.220775\n",
            " 0.270604  0.136926  0.184309  0.203117  0.209579  0.231017  0.368167\n",
            " 0.207721  0.288783  0.22575   0.234261  0.243787  0.230725  0.209571\n",
            " 0.1843    0.212204  0.226996  0.172888  0.217646  0.258708  0.197146\n",
            " 0.182213  0.385571  0.388067  0.263063  0.162312  0.226992  0.133083\n",
            " 0.146767  0.324474  0.274879  0.250617  0.1107    0.226375  0.340808\n",
            " 0.303496  0.163567  0.157971  0.241925  0.325258  0.219521  0.192175\n",
            " 0.185333  0.3265    0.3122    0.320908  0.240063  0.235075  0.106354\n",
            " 0.183454  0.342667  0.328996  0.295392  0.228246  0.16045   0.0746375\n",
            " 0.176     0.115671  0.120642  0.189667  0.179725  0.13495   0.152979\n",
            " 0.126871  0.277354  0.201492  0.108213  0.125013  0.148008  0.233842\n",
            " 0.207092  0.154233  0.199642  0.240679  0.230092  0.213938  0.131225\n",
            " 0.111329  0.292287  0.253121  0.123142  0.138692  0.121896  0.187808\n",
            " 0.136817  0.149883  0.140554  0.15485   0.30535   0.269283  0.167912\n",
            " 0.206471  0.143029  0.119408  0.102     0.155475  0.171025  0.172262\n",
            " 0.238804  0.222025  0.0945333 0.107588  0.144283  0.261821  0.185312\n",
            " 0.102608  0.115062  0.228858  0.0814792 0.126258  0.1592    0.225129\n",
            " 0.183471  0.282337  0.200254  0.146133  0.240667  0.182833  0.208342\n",
            " 0.245033  0.215804  0.1306    0.113817  0.222021  0.1331    0.131221\n",
            " 0.169171  0.0908083 0.200258  0.183463  0.178479  0.174138  0.168537\n",
            " 0.164813  0.156717  0.20585   0.135583  0.19715   0.184696  0.22825\n",
            " 0.201487  0.151121  0.164796  0.125621  0.211454  0.222633  0.208954\n",
            " 0.236329  0.143667  0.233208  0.139308  0.104467  0.248754  0.27675\n",
            " 0.146763  0.253108  0.210833  0.0839625 0.375617  0.304659  0.159825\n",
            " 0.125008  0.0833333 0.141796  0.139929  0.185325  0.206467  0.212696\n",
            " 0.343943  0.0970208 0.192748  0.124379  0.153608  0.115054  0.088913\n",
            " 0.141804  0.1673    0.271146  0.164183  0.189675  0.178483  0.151742\n",
            " 0.134954  0.0964042 0.128125  0.0783667 0.0783833 0.0503792 0.118171\n",
            " 0.148629  0.172883  0.206475  0.292296  0.222013  0.0833458 0.205854\n",
            " 0.17725   0.0223917 0.0454042 0.06345   0.0423042 0.143042  0.24815\n",
            " 0.141787  0.223883  0.258083  0.281717  0.175379  0.110087  0.243339\n",
            " 0.422275  0.221396  0.0926667 0.0995125 0.118792  0.166658  0.148642\n",
            " 0.197763  0.229479  0.351371  0.176617  0.10635   0.135571  0.0820917\n",
            " 0.271779  0.189062  0.0920542 0.057225  0.0690375 0.0621958 0.189067\n",
            " 0.314675  0.212062  0.281721  0.306596  0.199633  0.136829  0.305362\n",
            " 0.168533  0.224496  0.18595   0.138054  0.335825  0.167304  0.0988958\n",
            " 0.0684208 0.142122  0.258092  0.271158  0.220158  0.100754  0.0957833\n",
            " 0.0839583 0.0622083 0.232583  0.266175  0.240058  0.0827167 0.233221\n",
            " 0.0665417 0.14055   0.0609583 0.268042  0.260575  0.243167  0.169779\n",
            " 0.172896  0.0615708 0.2214    0.047275  0.274246  0.190304  0.155091\n",
            " 0.239465  0.18845   0.293961  0.119412  0.134337  0.220154  0.192167\n",
            " 0.329665  0.365671  0.1847    0.129987  0.167908  0.174758  0.191542\n",
            " 0.0989    0.187552  0.180967  0.378108  0.187183  0.251258  0.231358\n",
            " 0.34913   0.415429  0.20275   0.222642  0.199638  0.110708  0.123767\n",
            " 0.161071  0.0733958 0.210829  0.24005   0.215792  0.261817  0.187187\n",
            " 0.178496  0.175996  0.1538    0.147379  0.133721  0.194037  0.116929\n",
            " 0.289796  0.409212  0.167283  0.141179  0.1816    0.091425  0.205846\n",
            " 0.190929  0.253112  0.229083  0.205717  0.234471  0.190913  0.237567\n",
            " 0.421642  0.205229  0.268033  0.193417  0.179117  0.226987  0.144904\n",
            " 0.334571  0.200875  0.345779  0.441563  0.4148    0.222587  0.207713\n",
            " 0.23695   0.113192  0.110704  0.126883  0.162317  0.121271  0.0895583\n",
            " 0.117562  0.1163    0.192783  0.386821  0.291671  0.31965   0.138067\n",
            " 0.172267  0.312139  0.100133  0.180975  0.219529  0.300388  0.274871\n",
            " 0.232596  0.358196  0.249375  0.295274  0.290429  0.155471  0.190917\n",
            " 0.284829  0.273629  0.0659292 0.149871  0.283587  0.344546  0.249383\n",
            " 0.176625  0.347633  0.129975  0.116908  0.171638  0.156096  0.138058\n",
            " 0.133696  0.162938  0.152992  0.149879  0.230721  0.296029  0.216412\n",
            " 0.314063  0.236937  0.123133  0.225117  0.212692  0.147392  0.122512\n",
            " 0.229475  0.083975  0.254367  0.233204  0.118167  0.198992  0.215171\n",
            " 0.196521  0.2954    0.134329  0.195279  0.237563  0.186562  0.184087\n",
            " 0.284833  0.209575  0.077125  0.15735   0.175383  0.144287  0.214546\n",
            " 0.343279  0.253733  0.166667  0.174746  0.148017  0.113812  0.118787\n",
            " 0.182842  0.179721  0.145525  0.300383  0.347642  0.271775  0.17165\n",
            " 0.165417  0.168529  0.195267  0.126237  0.194029  0.146142  0.163554\n",
            " 0.125629  0.151737  0.151733  0.08085   0.143679  0.164187  0.114429\n",
            " 0.137442  0.165429  0.208967  0.2133    0.0939208 0.138683  0.1648\n",
            " 0.284813  0.170396  0.153617  0.165425  0.129354  0.257458  0.290421\n",
            " 0.1561    0.238813  0.206479  0.136212  0.169158  0.169771  0.231354\n",
            " 0.177867  0.08645   0.129979  0.0727708 0.0702833 0.0845958 0.0721458\n",
            " 0.244408  0.128733  0.190925  0.112562  0.0771167 0.113187  0.0640708\n",
            " 0.236321  0.142421  0.171646  0.281104  0.258713  0.131846  0.0827208\n",
            " 0.103863  0.247521  0.0901833 0.357587  0.215175  0.154229  0.283583\n",
            " 0.223258  0.142404  0.2444    0.134342  0.164179  0.227604  0.134958\n",
            " 0.0908042 0.104475  0.0665458 0.117546  0.268025  0.141162  0.189679\n",
            " 0.1903    0.187821  0.181596  0.235092  0.278612  0.296037  0.182221\n",
            " 0.101371  0.117537  0.166054  0.0814833 0.0945458 0.0727792 0.124375\n",
            " 0.132467  0.235692  0.398008  0.3582    0.213009  0.157346  0.270529\n",
            " 0.179108  0.236325  0.173513  0.304108  0.347835  0.214558  0.0578458\n",
            " 0.1275    0.173517  0.342046  0.199625  0.152987  0.179729  0.227612\n",
            " 0.235067  0.082725  0.103246  0.0528708 0.148021  0.376871  0.1505\n",
            " 0.04665   0.237562  0.210821  0.115522  0.0584708 0.0597042 0.174129\n",
            " 0.324021  0.174754  0.101379  0.157975  0.190308  0.162937  0.131229\n",
            " 0.100742  0.0982583 0.221404  0.184092  0.132463  0.374383  0.407346\n",
            " 0.0772304 0.316546  0.350133  0.124383  0.350754  0.154846 ]\n",
            "cnt\n",
            "[ 985  801 1349 1562 1600 1606 1510  959  822 1321 1263 1162 1406 1421\n",
            " 1248 1204 1000  683 1650 1927 1543  981  986 1416 1985  506  431 1167\n",
            " 1098 1096 1501 1360 1526 1550 1708 1005 1623 1712 1530 1605 1538 1746\n",
            " 1472 1589 1913 1815 2115 2475 2927 1635 1812 1107 1450 1917 1807 1461\n",
            " 1969 2402 1446 1851 2134 1685 1944 2077  605 1872 2133 1891  623 1977\n",
            " 2132 2417 2046 2056 2192 2744 3239 3117 2471 2703 2121 1865 2210 2496\n",
            " 1693 2028 2425 1536 2227 2252 3249 3115 1795 2808 3141 1471 2455 2895\n",
            " 3348 2034 2162 3267 3126  795 3744 3429 3204 3944 4189 1683 4036 4191\n",
            " 4073 4400 3872 4058 4595 5312 3351 4401 4451 2633 4433 4608 4714 4333\n",
            " 4362 4803 4182 4864 4105 3409 4553 3958 4123 3855 4575 4917 5805 4660\n",
            " 4274 4492 4978 4677 4679 4758 4788 4098 3982 3974 4968 5342 4906 4548\n",
            " 4833 3915 4586 4966 4460 5020 4891 5180 3767 4844 5119 4744 4010 4835\n",
            " 4507 4790 4991 5202 5305 4708 4648 5225 5515 5362 4649 6043 4665 4629\n",
            " 4592 4040 5336 4881 4086 4258 4342 5084 5538 5923 5302 4458 4541 4332\n",
            " 3784 3387 3285 3606 3840 4590 4656 4390 3846 4475 4302 4266 4845 3574\n",
            " 4576 4866 4294 3785 4326 4602 4780 4792 4905 4150 3820 4338 4725 4694\n",
            " 3805 4153 5191 3873 5895 5130 3542 4661 1115 4334 4634 5204 5058 5115\n",
            " 4727 4484 4940 2710 1996 1842 3544 5345 5046 4713 4763 4785 3659 4760\n",
            " 4511 4539 3641 4352 4795 2395 5423 5010 4630 4120 3907 4839 2429 2918\n",
            " 3570 4456 4826 4765 4985 5409 5511 5117 4563 2416 2913 3644 5217 5041\n",
            " 4570 4748 2424 4195 4304 4308 4381 4187 4687 3894 2659 3747  627 3331\n",
            " 3669 4068 4186 4046 3926 3649 4035 4205 4109 2933 3368 4067 3717 4486\n",
            " 1817 3053 3392 3663 3520 2765 1607 2566 1495 2792 3068 3071 3867 2914\n",
            " 3613 3727 3940 3614 3485 3811 2594  705 3322 3620 3190 2743 3310 3523\n",
            " 3740 3709 3577 2739 2431 3403 3750 2660 2209 1011  754 1317 2302 2423\n",
            " 2999 2485 2294 1951 2236 2368 3272 4521 3425 2376 3598 2177 4097 3214\n",
            " 2493 2311 2298 2935 3376 3292 3163 1301 2432 4339 4270 4075 3456 4023\n",
            " 3243 3624 4509 4579 3761 4151 2832 2947 4375 2802 3830 3831 2169 1529\n",
            " 3422 3922 4169 3005 4154 4318 2689 3129 3777 4773 5062 3487 2732 3389\n",
            " 4322 4363 1834 4990 3194 4066 3423 3333 3956 4916 5382 4569 4118 4911\n",
            " 5298 5847 6312 6192 4378 7836 5892 6153 6093 6230 6871 8362 3372 4996\n",
            " 5558 5102 5698 6133 5459 6235 6041 5936 6772 6436 6457 6460 6857 5169\n",
            " 5585 5918 4862 6398 7460 7132 6370 6691 4367 6565 7290 6624 1027 5633\n",
            " 6196 5026 6233 4220 6304 5572 5740 6169 6421 6296 6883 6359 6273 5728\n",
            " 4717 6572 7030 7429 6118 2843 7424 7384 7639 8294 7129 4359 6073 5260\n",
            " 6770 6734 6536 6591 5743 6855 7338 4127 8120 7641 6998 7001 7055 7494\n",
            " 7736 7498 6598 6664 4972 7421 7363 7665 7702 6978 5099 6825 6211 5905\n",
            " 5823 7458 6891 6779 7442 7335 6879 5463 5687 5531 6227 6660 7403 6241\n",
            " 6207 4840 4672 6569 6290 7264 7446 7499 6969 6031 6830 6786 5713 5870\n",
            " 4459 7410 6966 7592 8173 6861 6904 6685 6597 7105 7216 7580 7261 7175\n",
            " 6824 5464 7013 7273 7534 7286 5786 6299 6544 6784 7347 7605 7148 7865\n",
            " 4549 6530 7006 7375 7765 7582 6053 5255 6917 7040 7697 7713 7350 6140\n",
            " 5810 6034 6864 7112 6203 7504 5976 8227 7525 7767 7870 7804 8009 8714\n",
            " 7333 6869 7591 7720 8167 8395 7907 7436 7538 7733 7393 7415 8555 6889\n",
            " 6778 4639 7572 7328 8156 7965 3510 5478 6392 7691 7570 7282 7109 6639\n",
            " 5875 7461 7509 5424 8090 7058 7466 7693 7359 7444 7852   22 5566 5986\n",
            " 5138 5107 5259 5686 5035 5315 5992 6852 6269 4094 5495 5445 5629 4669\n",
            " 5499 5634 5146 3910 2277 5087 3959 5323 5668 6234 6606 5729 5375 5008\n",
            " 5582 3228 5170 5501 5319 5532 5611 5047 3786 4585 5557 5267 4128 3623\n",
            " 1749 1787  920 1013  441 2114 3095 1341 1796 2729]\n"
          ],
          "name": "stdout"
        }
      ]
    },
    {
      "cell_type": "code",
      "metadata": {
        "colab": {
          "base_uri": "https://localhost:8080/",
          "height": 215
        },
        "id": "qaQsf8xoHjDy",
        "outputId": "f8d9dea2-055b-411b-edcc-284b5a714769"
      },
      "source": [
        "data = pd.get_dummies(data, columns=['season', 'mnth', 'weekday', 'weathersit'])\n",
        "data.head()"
      ],
      "execution_count": null,
      "outputs": [
        {
          "output_type": "execute_result",
          "data": {
            "text/html": [
              "<div>\n",
              "<style scoped>\n",
              "    .dataframe tbody tr th:only-of-type {\n",
              "        vertical-align: middle;\n",
              "    }\n",
              "\n",
              "    .dataframe tbody tr th {\n",
              "        vertical-align: top;\n",
              "    }\n",
              "\n",
              "    .dataframe thead th {\n",
              "        text-align: right;\n",
              "    }\n",
              "</style>\n",
              "<table border=\"1\" class=\"dataframe\">\n",
              "  <thead>\n",
              "    <tr style=\"text-align: right;\">\n",
              "      <th></th>\n",
              "      <th>yr</th>\n",
              "      <th>holiday</th>\n",
              "      <th>workingday</th>\n",
              "      <th>temp</th>\n",
              "      <th>atemp</th>\n",
              "      <th>hum</th>\n",
              "      <th>windspeed</th>\n",
              "      <th>cnt</th>\n",
              "      <th>season_1</th>\n",
              "      <th>season_2</th>\n",
              "      <th>season_3</th>\n",
              "      <th>season_4</th>\n",
              "      <th>mnth_1</th>\n",
              "      <th>mnth_2</th>\n",
              "      <th>mnth_3</th>\n",
              "      <th>mnth_4</th>\n",
              "      <th>mnth_5</th>\n",
              "      <th>mnth_6</th>\n",
              "      <th>mnth_7</th>\n",
              "      <th>mnth_8</th>\n",
              "      <th>mnth_9</th>\n",
              "      <th>mnth_10</th>\n",
              "      <th>mnth_11</th>\n",
              "      <th>mnth_12</th>\n",
              "      <th>weekday_0</th>\n",
              "      <th>weekday_1</th>\n",
              "      <th>weekday_2</th>\n",
              "      <th>weekday_3</th>\n",
              "      <th>weekday_4</th>\n",
              "      <th>weekday_5</th>\n",
              "      <th>weekday_6</th>\n",
              "      <th>weathersit_1</th>\n",
              "      <th>weathersit_2</th>\n",
              "      <th>weathersit_3</th>\n",
              "    </tr>\n",
              "  </thead>\n",
              "  <tbody>\n",
              "    <tr>\n",
              "      <th>0</th>\n",
              "      <td>0</td>\n",
              "      <td>0</td>\n",
              "      <td>0</td>\n",
              "      <td>0.344167</td>\n",
              "      <td>0.363625</td>\n",
              "      <td>0.805833</td>\n",
              "      <td>0.160446</td>\n",
              "      <td>985</td>\n",
              "      <td>1</td>\n",
              "      <td>0</td>\n",
              "      <td>0</td>\n",
              "      <td>0</td>\n",
              "      <td>1</td>\n",
              "      <td>0</td>\n",
              "      <td>0</td>\n",
              "      <td>0</td>\n",
              "      <td>0</td>\n",
              "      <td>0</td>\n",
              "      <td>0</td>\n",
              "      <td>0</td>\n",
              "      <td>0</td>\n",
              "      <td>0</td>\n",
              "      <td>0</td>\n",
              "      <td>0</td>\n",
              "      <td>0</td>\n",
              "      <td>0</td>\n",
              "      <td>0</td>\n",
              "      <td>0</td>\n",
              "      <td>0</td>\n",
              "      <td>0</td>\n",
              "      <td>1</td>\n",
              "      <td>0</td>\n",
              "      <td>1</td>\n",
              "      <td>0</td>\n",
              "    </tr>\n",
              "    <tr>\n",
              "      <th>1</th>\n",
              "      <td>0</td>\n",
              "      <td>0</td>\n",
              "      <td>0</td>\n",
              "      <td>0.363478</td>\n",
              "      <td>0.353739</td>\n",
              "      <td>0.696087</td>\n",
              "      <td>0.248539</td>\n",
              "      <td>801</td>\n",
              "      <td>1</td>\n",
              "      <td>0</td>\n",
              "      <td>0</td>\n",
              "      <td>0</td>\n",
              "      <td>1</td>\n",
              "      <td>0</td>\n",
              "      <td>0</td>\n",
              "      <td>0</td>\n",
              "      <td>0</td>\n",
              "      <td>0</td>\n",
              "      <td>0</td>\n",
              "      <td>0</td>\n",
              "      <td>0</td>\n",
              "      <td>0</td>\n",
              "      <td>0</td>\n",
              "      <td>0</td>\n",
              "      <td>1</td>\n",
              "      <td>0</td>\n",
              "      <td>0</td>\n",
              "      <td>0</td>\n",
              "      <td>0</td>\n",
              "      <td>0</td>\n",
              "      <td>0</td>\n",
              "      <td>0</td>\n",
              "      <td>1</td>\n",
              "      <td>0</td>\n",
              "    </tr>\n",
              "    <tr>\n",
              "      <th>2</th>\n",
              "      <td>0</td>\n",
              "      <td>0</td>\n",
              "      <td>1</td>\n",
              "      <td>0.196364</td>\n",
              "      <td>0.189405</td>\n",
              "      <td>0.437273</td>\n",
              "      <td>0.248309</td>\n",
              "      <td>1349</td>\n",
              "      <td>1</td>\n",
              "      <td>0</td>\n",
              "      <td>0</td>\n",
              "      <td>0</td>\n",
              "      <td>1</td>\n",
              "      <td>0</td>\n",
              "      <td>0</td>\n",
              "      <td>0</td>\n",
              "      <td>0</td>\n",
              "      <td>0</td>\n",
              "      <td>0</td>\n",
              "      <td>0</td>\n",
              "      <td>0</td>\n",
              "      <td>0</td>\n",
              "      <td>0</td>\n",
              "      <td>0</td>\n",
              "      <td>0</td>\n",
              "      <td>1</td>\n",
              "      <td>0</td>\n",
              "      <td>0</td>\n",
              "      <td>0</td>\n",
              "      <td>0</td>\n",
              "      <td>0</td>\n",
              "      <td>1</td>\n",
              "      <td>0</td>\n",
              "      <td>0</td>\n",
              "    </tr>\n",
              "    <tr>\n",
              "      <th>3</th>\n",
              "      <td>0</td>\n",
              "      <td>0</td>\n",
              "      <td>1</td>\n",
              "      <td>0.200000</td>\n",
              "      <td>0.212122</td>\n",
              "      <td>0.590435</td>\n",
              "      <td>0.160296</td>\n",
              "      <td>1562</td>\n",
              "      <td>1</td>\n",
              "      <td>0</td>\n",
              "      <td>0</td>\n",
              "      <td>0</td>\n",
              "      <td>1</td>\n",
              "      <td>0</td>\n",
              "      <td>0</td>\n",
              "      <td>0</td>\n",
              "      <td>0</td>\n",
              "      <td>0</td>\n",
              "      <td>0</td>\n",
              "      <td>0</td>\n",
              "      <td>0</td>\n",
              "      <td>0</td>\n",
              "      <td>0</td>\n",
              "      <td>0</td>\n",
              "      <td>0</td>\n",
              "      <td>0</td>\n",
              "      <td>1</td>\n",
              "      <td>0</td>\n",
              "      <td>0</td>\n",
              "      <td>0</td>\n",
              "      <td>0</td>\n",
              "      <td>1</td>\n",
              "      <td>0</td>\n",
              "      <td>0</td>\n",
              "    </tr>\n",
              "    <tr>\n",
              "      <th>4</th>\n",
              "      <td>0</td>\n",
              "      <td>0</td>\n",
              "      <td>1</td>\n",
              "      <td>0.226957</td>\n",
              "      <td>0.229270</td>\n",
              "      <td>0.436957</td>\n",
              "      <td>0.186900</td>\n",
              "      <td>1600</td>\n",
              "      <td>1</td>\n",
              "      <td>0</td>\n",
              "      <td>0</td>\n",
              "      <td>0</td>\n",
              "      <td>1</td>\n",
              "      <td>0</td>\n",
              "      <td>0</td>\n",
              "      <td>0</td>\n",
              "      <td>0</td>\n",
              "      <td>0</td>\n",
              "      <td>0</td>\n",
              "      <td>0</td>\n",
              "      <td>0</td>\n",
              "      <td>0</td>\n",
              "      <td>0</td>\n",
              "      <td>0</td>\n",
              "      <td>0</td>\n",
              "      <td>0</td>\n",
              "      <td>0</td>\n",
              "      <td>1</td>\n",
              "      <td>0</td>\n",
              "      <td>0</td>\n",
              "      <td>0</td>\n",
              "      <td>1</td>\n",
              "      <td>0</td>\n",
              "      <td>0</td>\n",
              "    </tr>\n",
              "  </tbody>\n",
              "</table>\n",
              "</div>"
            ],
            "text/plain": [
              "   yr  holiday  workingday  ...  weathersit_1  weathersit_2  weathersit_3\n",
              "0   0        0           0  ...             0             1             0\n",
              "1   0        0           0  ...             0             1             0\n",
              "2   0        0           1  ...             1             0             0\n",
              "3   0        0           1  ...             1             0             0\n",
              "4   0        0           1  ...             1             0             0\n",
              "\n",
              "[5 rows x 34 columns]"
            ]
          },
          "metadata": {
            "tags": []
          },
          "execution_count": 17
        }
      ]
    },
    {
      "cell_type": "code",
      "metadata": {
        "id": "AeeudU6mHjA6",
        "colab": {
          "base_uri": "https://localhost:8080/"
        },
        "outputId": "e68fc327-8d30-4b97-8743-b0b6d1b20a98"
      },
      "source": [
        "data.columns"
      ],
      "execution_count": null,
      "outputs": [
        {
          "output_type": "execute_result",
          "data": {
            "text/plain": [
              "Index(['yr', 'holiday', 'workingday', 'temp', 'atemp', 'hum', 'windspeed',\n",
              "       'cnt', 'season_1', 'season_2', 'season_3', 'season_4', 'mnth_1',\n",
              "       'mnth_2', 'mnth_3', 'mnth_4', 'mnth_5', 'mnth_6', 'mnth_7', 'mnth_8',\n",
              "       'mnth_9', 'mnth_10', 'mnth_11', 'mnth_12', 'weekday_0', 'weekday_1',\n",
              "       'weekday_2', 'weekday_3', 'weekday_4', 'weekday_5', 'weekday_6',\n",
              "       'weathersit_1', 'weathersit_2', 'weathersit_3'],\n",
              "      dtype='object')"
            ]
          },
          "metadata": {
            "tags": []
          },
          "execution_count": 18
        }
      ]
    },
    {
      "cell_type": "code",
      "metadata": {
        "id": "s8vhETIxHi3U",
        "colab": {
          "base_uri": "https://localhost:8080/"
        },
        "outputId": "69ff4b8a-efc9-4152-ae48-6658a2350c19"
      },
      "source": [
        "data.shape"
      ],
      "execution_count": null,
      "outputs": [
        {
          "output_type": "execute_result",
          "data": {
            "text/plain": [
              "(731, 34)"
            ]
          },
          "metadata": {
            "tags": []
          },
          "execution_count": 19
        }
      ]
    },
    {
      "cell_type": "markdown",
      "metadata": {
        "id": "u85fxCR7prO2"
      },
      "source": [
        "###  Creating target and predictor variables"
      ]
    },
    {
      "cell_type": "code",
      "metadata": {
        "id": "Rx_M4Y8424_k",
        "colab": {
          "base_uri": "https://localhost:8080/"
        },
        "outputId": "cf393a45-820e-420c-a58c-f3e2cdfd7a9c"
      },
      "source": [
        "# usually the target variable is represented by y and the predictor variable by x\n",
        "#we can create x (predictor) variables by dropping the target variables from the dataframe  \n",
        "\n",
        "\n",
        "x = data.drop(['cnt'], axis = 1)        # predictor variable\n",
        "y=data['cnt']                           # target variable\n",
        "\n",
        "print(x.shape)a\n",
        "print(y.shape)"
      ],
      "execution_count": null,
      "outputs": [
        {
          "output_type": "stream",
          "text": [
            "(731, 33)\n",
            "(731,)\n"
          ],
          "name": "stdout"
        }
      ]
    },
    {
      "cell_type": "markdown",
      "metadata": {
        "id": "2bGsDZQisKqC"
      },
      "source": [
        "- Predictor variable has 33 columns and 731 rows<br>\n",
        "- Target variable is a 1D array of values"
      ]
    },
    {
      "cell_type": "markdown",
      "metadata": {
        "id": "shjDI21mvQrb"
      },
      "source": [
        "###*Data* Scaling"
      ]
    },
    {
      "cell_type": "code",
      "metadata": {
        "id": "k46BcLhm2486"
      },
      "source": [
        "scaler = StandardScaler()"
      ],
      "execution_count": null,
      "outputs": []
    },
    {
      "cell_type": "code",
      "metadata": {
        "id": "84F5hzi8246B"
      },
      "source": [
        "scale_x=scaler.fit(x)\n",
        "x_scaled= scale_x.transform(x)\n",
        "# while doing the same for y, we need to reshape it since it is a 1D array\n",
        "\n"
      ],
      "execution_count": null,
      "outputs": []
    },
    {
      "cell_type": "code",
      "metadata": {
        "colab": {
          "base_uri": "https://localhost:8080/"
        },
        "id": "2DvZtedqUrxR",
        "outputId": "489ecefc-ecdc-4b2c-b25f-4edfc3e52478"
      },
      "source": [
        "x.shape"
      ],
      "execution_count": null,
      "outputs": [
        {
          "output_type": "execute_result",
          "data": {
            "text/plain": [
              "(731, 33)"
            ]
          },
          "metadata": {
            "tags": []
          },
          "execution_count": 23
        }
      ]
    },
    {
      "cell_type": "code",
      "metadata": {
        "id": "enROAlE9vhEO"
      },
      "source": [
        "# we need to save the scaler functions also\n",
        "dump(scale_x, open('scaler_x_reg.pkl','wb'))"
      ],
      "execution_count": null,
      "outputs": []
    },
    {
      "cell_type": "code",
      "metadata": {
        "id": "KtmjsAZGeduf",
        "colab": {
          "base_uri": "https://localhost:8080/"
        },
        "outputId": "aff89caa-72af-4123-cd15-afd808a160eb"
      },
      "source": [
        "scale_y=scaler.fit(np.array(y).reshape(-1,1))\n",
        "scale_y"
      ],
      "execution_count": null,
      "outputs": [
        {
          "output_type": "execute_result",
          "data": {
            "text/plain": [
              "StandardScaler(copy=True, with_mean=True, with_std=True)"
            ]
          },
          "metadata": {
            "tags": []
          },
          "execution_count": 25
        }
      ]
    },
    {
      "cell_type": "code",
      "metadata": {
        "id": "EAGZTb7ees2V"
      },
      "source": [
        "# transforming y values\n",
        "y_scaled=scaler.transform(np.array(y).reshape(-1,1))"
      ],
      "execution_count": null,
      "outputs": []
    },
    {
      "cell_type": "code",
      "metadata": {
        "id": "N85-vkrFwmMh"
      },
      "source": [
        "dump(scale_y, open('scaler_y_reg.pkl','wb'))"
      ],
      "execution_count": null,
      "outputs": []
    },
    {
      "cell_type": "markdown",
      "metadata": {
        "id": "9hzAmoj0wli3"
      },
      "source": [
        ""
      ]
    },
    {
      "cell_type": "code",
      "metadata": {
        "id": "JAfN3zru2Jxk",
        "colab": {
          "base_uri": "https://localhost:8080/"
        },
        "outputId": "15ff67fb-e4ea-4fec-962b-1df76a536643"
      },
      "source": [
        "x_scaled[0]"
      ],
      "execution_count": null,
      "outputs": [
        {
          "output_type": "execute_result",
          "data": {
            "text/plain": [
              "array([-1.00136893, -0.171981  , -1.47122472, -0.82666213, -0.67994602,\n",
              "        1.25017133, -0.38789169,  1.74317929, -0.57998298, -0.5884086 ,\n",
              "       -0.56734527,  3.28486264, -0.29080876, -0.30442673, -0.29902973,\n",
              "       -0.30442673, -0.29902973, -0.30442673, -0.30442673, -0.29902973,\n",
              "       -0.30442673, -0.29902973, -0.30442673, -0.40955052, -0.40955052,\n",
              "       -0.40727045, -0.40727045, -0.40727045, -0.40727045,  2.4417012 ,\n",
              "       -1.31438653,  1.39982648, -0.171981  ])"
            ]
          },
          "metadata": {
            "tags": []
          },
          "execution_count": 28
        }
      ]
    },
    {
      "cell_type": "code",
      "metadata": {
        "id": "eX4T5fQg2Ju6",
        "colab": {
          "base_uri": "https://localhost:8080/"
        },
        "outputId": "b11795eb-6c0a-4a0b-9fc7-056ec464a938"
      },
      "source": [
        "y_scaled[0]"
      ],
      "execution_count": null,
      "outputs": [
        {
          "output_type": "execute_result",
          "data": {
            "text/plain": [
              "array([-1.81795256])"
            ]
          },
          "metadata": {
            "tags": []
          },
          "execution_count": 29
        }
      ]
    },
    {
      "cell_type": "code",
      "metadata": {
        "id": "Aiu4tmv12Jsk",
        "colab": {
          "base_uri": "https://localhost:8080/"
        },
        "outputId": "393c194a-17ca-48ed-8778-34809401837d"
      },
      "source": [
        "x_scaled.shape"
      ],
      "execution_count": null,
      "outputs": [
        {
          "output_type": "execute_result",
          "data": {
            "text/plain": [
              "(731, 33)"
            ]
          },
          "metadata": {
            "tags": []
          },
          "execution_count": 30
        }
      ]
    },
    {
      "cell_type": "code",
      "metadata": {
        "id": "0X6bIjx62a2M",
        "colab": {
          "base_uri": "https://localhost:8080/"
        },
        "outputId": "613b1996-32f7-4638-9e94-27bcbb92eaa3"
      },
      "source": [
        "y_scaled.shape"
      ],
      "execution_count": null,
      "outputs": [
        {
          "output_type": "execute_result",
          "data": {
            "text/plain": [
              "(731, 1)"
            ]
          },
          "metadata": {
            "tags": []
          },
          "execution_count": 31
        }
      ]
    },
    {
      "cell_type": "markdown",
      "metadata": {
        "id": "folZKZXT2_4m"
      },
      "source": [
        "#Splitting the dataset"
      ]
    },
    {
      "cell_type": "code",
      "metadata": {
        "colab": {
          "base_uri": "https://localhost:8080/"
        },
        "id": "va0Qw4P32aw6",
        "outputId": "ac682f19-317f-4413-999d-6626f16db961"
      },
      "source": [
        "#Another advantage of python is that we can declare multiple variables at once\n",
        "#for eg:\n",
        "a, b = 10,15\n",
        "print(a)\n",
        "print(b)"
      ],
      "execution_count": null,
      "outputs": [
        {
          "output_type": "stream",
          "text": [
            "10\n",
            "15\n"
          ],
          "name": "stdout"
        }
      ]
    },
    {
      "cell_type": "code",
      "metadata": {
        "colab": {
          "base_uri": "https://localhost:8080/"
        },
        "id": "qGKB0ZYj2at0",
        "outputId": "908bb368-71af-45ea-a5ce-e99c8f334844"
      },
      "source": [
        "# we are going to use the same feature here\n",
        "x_train, x_test, y_train, y_test = train_test_split(x_scaled, y_scaled, test_size=0.30, random_state=0)\n",
        "# test_size=0.30 : we are allocating 30% of the data as the test set\n",
        "# random_state can be any integer, its like setting the seat\n",
        "print(x_train.shape)\n",
        "print(x_test.shape)"
      ],
      "execution_count": null,
      "outputs": [
        {
          "output_type": "stream",
          "text": [
            "(511, 33)\n",
            "(220, 33)\n"
          ],
          "name": "stdout"
        }
      ]
    },
    {
      "cell_type": "markdown",
      "metadata": {
        "id": "o1eduhygpWcO"
      },
      "source": [
        "Setting the seat means whenever we are generating the data, if the seat is set to a specific value, the data will be generated in the exact same way or the time. Everytime we run the cell, or when we run the code, the exact same data will be generated<br>\n",
        "\n",
        " How does it work here?<br>\n",
        "- When we are splitting the dataset, lets say we want to split the dataset of 100 rows into train and test set, where the test set should contain 30 rows. <br>\n",
        "  How many ways can this be done in?<br>\n",
        "  - We can take the first 70 as the training set and the last 30 as the test set.<br>\n",
        "  OR\n",
        "  -  We can take the first 30 as the test set and the last 70 as the training set.<br>\n",
        "  OR\n",
        "  -We can take alternately in a way that the first rowgoes to the test set, second to training set, third to test set, fourth to training set, .... till we get 30 rows in test set and after that all the left over rows do to the training set\n",
        "  OR\n",
        "  - We take the middle 30 rows as the test set and everything else as the training set\n",
        "  etc......<br>\n",
        "  There are multiple ways of creating the train and test sets<br>\n",
        "\n",
        "So, setting the random_state=0 ensures that whenever we run this code, the exact same test and train sets are created, So everytime we run this cell or anyone else runs this notebook, the same test and training sets are generated<br>\n",
        "\n",
        "How this helps?<br>\n",
        "- It helps maintain cohersion over multiple users.<br>\n",
        "\n",
        "If random_state is not set-<br> \n",
        "Suppose one person gets 60% accuracy and then he/she asks another person to improve it, since ransom_state is not set, so it is obvious that when a different person runs the code, a different training and test set will be generated, so it is possible that for that specific test and training sets the accuracy will be different. \n",
        "\n",
        "\n",
        "\n"
      ]
    },
    {
      "cell_type": "markdown",
      "metadata": {
        "id": "KSbUEijGwQDf"
      },
      "source": [
        "In the above case 511 rows have gone to the train set, and 220 rows have gone to the test set"
      ]
    },
    {
      "cell_type": "markdown",
      "metadata": {
        "id": "irnG1DvjwvQ1"
      },
      "source": [
        "#Baseline Model"
      ]
    },
    {
      "cell_type": "markdown",
      "metadata": {
        "id": "H4yAFmOkxfGl"
      },
      "source": [
        "- Baseline model is one which can be built without excessive computational need. Every other model that we create should be better than the baseline model\n",
        "-In linear regression Baseline prediction - is the average value of dependent variable.\n"
      ]
    },
    {
      "cell_type": "code",
      "metadata": {
        "colab": {
          "base_uri": "https://localhost:8080/"
        },
        "id": "fZMvy57hwiA9",
        "outputId": "0b7308c2-413c-45cf-e2f7-1954ceae91bd"
      },
      "source": [
        "#predictions of baseline model\n",
        "\n",
        "# What can serve as a baseline model for a linear regression model?\n",
        "# The mean of the observed y values\n",
        "\n",
        "y_pred_bl = np.repeat(np.mean(y_train), len(y_test))# we are repeating the same value(mean(y_train)) 220 times(i.e the length of y_test)\n",
        "# y_pred_bl : prediction of baseline model\n",
        "\n",
        "y_pred_bl.shape"
      ],
      "execution_count": null,
      "outputs": [
        {
          "output_type": "execute_result",
          "data": {
            "text/plain": [
              "(220,)"
            ]
          },
          "metadata": {
            "tags": []
          },
          "execution_count": 34
        }
      ]
    },
    {
      "cell_type": "code",
      "metadata": {
        "colab": {
          "base_uri": "https://localhost:8080/"
        },
        "id": "JETmASJgwhym",
        "outputId": "14395b28-4489-4bd5-9318-7daf983291a0"
      },
      "source": [
        "y_pred_bl\n",
        "#all these values are equal to the mean of the training set(y_train)"
      ],
      "execution_count": null,
      "outputs": [
        {
          "output_type": "execute_result",
          "data": {
            "text/plain": [
              "array([-0.00847648, -0.00847648, -0.00847648, -0.00847648, -0.00847648,\n",
              "       -0.00847648, -0.00847648, -0.00847648, -0.00847648, -0.00847648,\n",
              "       -0.00847648, -0.00847648, -0.00847648, -0.00847648, -0.00847648,\n",
              "       -0.00847648, -0.00847648, -0.00847648, -0.00847648, -0.00847648,\n",
              "       -0.00847648, -0.00847648, -0.00847648, -0.00847648, -0.00847648,\n",
              "       -0.00847648, -0.00847648, -0.00847648, -0.00847648, -0.00847648,\n",
              "       -0.00847648, -0.00847648, -0.00847648, -0.00847648, -0.00847648,\n",
              "       -0.00847648, -0.00847648, -0.00847648, -0.00847648, -0.00847648,\n",
              "       -0.00847648, -0.00847648, -0.00847648, -0.00847648, -0.00847648,\n",
              "       -0.00847648, -0.00847648, -0.00847648, -0.00847648, -0.00847648,\n",
              "       -0.00847648, -0.00847648, -0.00847648, -0.00847648, -0.00847648,\n",
              "       -0.00847648, -0.00847648, -0.00847648, -0.00847648, -0.00847648,\n",
              "       -0.00847648, -0.00847648, -0.00847648, -0.00847648, -0.00847648,\n",
              "       -0.00847648, -0.00847648, -0.00847648, -0.00847648, -0.00847648,\n",
              "       -0.00847648, -0.00847648, -0.00847648, -0.00847648, -0.00847648,\n",
              "       -0.00847648, -0.00847648, -0.00847648, -0.00847648, -0.00847648,\n",
              "       -0.00847648, -0.00847648, -0.00847648, -0.00847648, -0.00847648,\n",
              "       -0.00847648, -0.00847648, -0.00847648, -0.00847648, -0.00847648,\n",
              "       -0.00847648, -0.00847648, -0.00847648, -0.00847648, -0.00847648,\n",
              "       -0.00847648, -0.00847648, -0.00847648, -0.00847648, -0.00847648,\n",
              "       -0.00847648, -0.00847648, -0.00847648, -0.00847648, -0.00847648,\n",
              "       -0.00847648, -0.00847648, -0.00847648, -0.00847648, -0.00847648,\n",
              "       -0.00847648, -0.00847648, -0.00847648, -0.00847648, -0.00847648,\n",
              "       -0.00847648, -0.00847648, -0.00847648, -0.00847648, -0.00847648,\n",
              "       -0.00847648, -0.00847648, -0.00847648, -0.00847648, -0.00847648,\n",
              "       -0.00847648, -0.00847648, -0.00847648, -0.00847648, -0.00847648,\n",
              "       -0.00847648, -0.00847648, -0.00847648, -0.00847648, -0.00847648,\n",
              "       -0.00847648, -0.00847648, -0.00847648, -0.00847648, -0.00847648,\n",
              "       -0.00847648, -0.00847648, -0.00847648, -0.00847648, -0.00847648,\n",
              "       -0.00847648, -0.00847648, -0.00847648, -0.00847648, -0.00847648,\n",
              "       -0.00847648, -0.00847648, -0.00847648, -0.00847648, -0.00847648,\n",
              "       -0.00847648, -0.00847648, -0.00847648, -0.00847648, -0.00847648,\n",
              "       -0.00847648, -0.00847648, -0.00847648, -0.00847648, -0.00847648,\n",
              "       -0.00847648, -0.00847648, -0.00847648, -0.00847648, -0.00847648,\n",
              "       -0.00847648, -0.00847648, -0.00847648, -0.00847648, -0.00847648,\n",
              "       -0.00847648, -0.00847648, -0.00847648, -0.00847648, -0.00847648,\n",
              "       -0.00847648, -0.00847648, -0.00847648, -0.00847648, -0.00847648,\n",
              "       -0.00847648, -0.00847648, -0.00847648, -0.00847648, -0.00847648,\n",
              "       -0.00847648, -0.00847648, -0.00847648, -0.00847648, -0.00847648,\n",
              "       -0.00847648, -0.00847648, -0.00847648, -0.00847648, -0.00847648,\n",
              "       -0.00847648, -0.00847648, -0.00847648, -0.00847648, -0.00847648,\n",
              "       -0.00847648, -0.00847648, -0.00847648, -0.00847648, -0.00847648,\n",
              "       -0.00847648, -0.00847648, -0.00847648, -0.00847648, -0.00847648,\n",
              "       -0.00847648, -0.00847648, -0.00847648, -0.00847648, -0.00847648])"
            ]
          },
          "metadata": {
            "tags": []
          },
          "execution_count": 35
        }
      ]
    },
    {
      "cell_type": "markdown",
      "metadata": {
        "id": "F8GTzgAKOGs1"
      },
      "source": [
        "Now that we have predictions and we also have observed values, we can calculate the accuracy<br>\n",
        "\n",
        "- We'll be using two measures<br>\n",
        "    - r2_score - threshold every other model has to cross\n",
        "    - Mean squared error - basically the term that we minimised in linear regression\n"
      ]
    },
    {
      "cell_type": "code",
      "metadata": {
        "colab": {
          "base_uri": "https://localhost:8080/"
        },
        "id": "aIUi_jSlwhwA",
        "outputId": "e3bdeb35-6c3c-4ab5-bc46-6f42c86cf500"
      },
      "source": [
        "mean_squared_error(y_test, y_pred_bl) "
      ],
      "execution_count": null,
      "outputs": [
        {
          "output_type": "execute_result",
          "data": {
            "text/plain": [
              "1.1020449461162247"
            ]
          },
          "metadata": {
            "tags": []
          },
          "execution_count": 36
        }
      ]
    },
    {
      "cell_type": "markdown",
      "metadata": {
        "id": "B15Fd7RLURzS"
      },
      "source": [
        "In order to measure the accuracy, we need to test the model. \n",
        "y_test in the observed/true value which has to be passed as a parameter.\n",
        "y_pred_bl is the estimated or predicted value"
      ]
    },
    {
      "cell_type": "code",
      "metadata": {
        "colab": {
          "base_uri": "https://localhost:8080/"
        },
        "id": "blF28tB7whs4",
        "outputId": "2f98699f-6ccf-4216-803f-d52edad86c72"
      },
      "source": [
        "r2_score(y_test, y_pred_bl)"
      ],
      "execution_count": null,
      "outputs": [
        {
          "output_type": "execute_result",
          "data": {
            "text/plain": [
              "-0.0007203343144406293"
            ]
          },
          "metadata": {
            "tags": []
          },
          "execution_count": 37
        }
      ]
    },
    {
      "cell_type": "markdown",
      "metadata": {
        "id": "c8unI2rDUhWv"
      },
      "source": [
        "Here, we are getting an r2_score(measure of accuracy) as -0.0007203343144406293 which is almost equivalent to zero, so the baseline model is useless here. This value (-0.0007203343144406293) is the threshold that every other model has to cross."
      ]
    },
    {
      "cell_type": "markdown",
      "metadata": {
        "id": "dN0AQg3XV42D"
      },
      "source": [
        "Next Step : Apply algorithm to create a model"
      ]
    },
    {
      "cell_type": "markdown",
      "metadata": {
        "id": "uX2Kl1i2WGDP"
      },
      "source": [
        "- The algorithm we're using here is linear regression(as mentioned in the dataset source)\n",
        "- We usually make the first model with all the variables that we have "
      ]
    },
    {
      "cell_type": "markdown",
      "metadata": {
        "id": "Z46ltNUtW5QF"
      },
      "source": [
        "# Linear regression with all the variables"
      ]
    },
    {
      "cell_type": "code",
      "metadata": {
        "id": "mBrJpbZj2alp"
      },
      "source": [
        "model1 = LinearRegression()"
      ],
      "execution_count": null,
      "outputs": []
    },
    {
      "cell_type": "code",
      "metadata": {
        "colab": {
          "base_uri": "https://localhost:8080/"
        },
        "id": "aElgoPSh2aVW",
        "outputId": "6a8f8fe5-05de-4890-f439-0bcc657c04ee"
      },
      "source": [
        "model1.fit(x_train, y_train)"
      ],
      "execution_count": null,
      "outputs": [
        {
          "output_type": "execute_result",
          "data": {
            "text/plain": [
              "LinearRegression(copy_X=True, fit_intercept=True, n_jobs=None, normalize=False)"
            ]
          },
          "metadata": {
            "tags": []
          },
          "execution_count": 39
        }
      ]
    },
    {
      "cell_type": "code",
      "metadata": {
        "colab": {
          "base_uri": "https://localhost:8080/"
        },
        "id": "lguV09U0XQUb",
        "outputId": "c9a6d8fb-d2ad-42a4-d807-249a73cd9447"
      },
      "source": [
        "#trying out the different parameters \n",
        "model1.intercept_#intercept is basically the constant term"
      ],
      "execution_count": null,
      "outputs": [
        {
          "output_type": "execute_result",
          "data": {
            "text/plain": [
              "array([-0.01755467])"
            ]
          },
          "metadata": {
            "tags": []
          },
          "execution_count": 40
        }
      ]
    },
    {
      "cell_type": "code",
      "metadata": {
        "colab": {
          "base_uri": "https://localhost:8080/"
        },
        "id": "BJaCBh5ZXQRK",
        "outputId": "426b242f-4a60-43eb-b680-a8cad0c284ec"
      },
      "source": [
        "model1.coef_"
      ],
      "execution_count": null,
      "outputs": [
        {
          "output_type": "execute_result",
          "data": {
            "text/plain": [
              "array([[ 4.94893370e-01, -4.25547322e+12, -1.18440446e+13,\n",
              "        -2.78806568e-01,  6.75813687e-01, -1.27508023e-01,\n",
              "        -1.74629097e-01, -2.49021589e+12, -2.50391132e+12,\n",
              "        -2.52171039e+12, -2.47621834e+12,  3.96468579e+12,\n",
              "         3.81563872e+12,  3.96468579e+12,  3.90604063e+12,\n",
              "         3.96468579e+12,  3.90604063e+12,  3.96468579e+12,\n",
              "         3.96468579e+12,  3.90604063e+12,  3.96468579e+12,\n",
              "         3.90604063e+12,  3.96468579e+12, -3.15932300e+12,\n",
              "         5.77560087e+12,  5.75262146e+12,  5.75262146e+12,\n",
              "         5.75262146e+12,  5.75262146e+12, -3.15932300e+12,\n",
              "        -3.68674007e+12, -3.61872670e+12, -1.27797821e+12]])"
            ]
          },
          "metadata": {
            "tags": []
          },
          "execution_count": 41
        }
      ]
    },
    {
      "cell_type": "code",
      "metadata": {
        "id": "_bg3DGnRXQOe"
      },
      "source": [
        "y_pred1 = model1.predict(x_test)"
      ],
      "execution_count": null,
      "outputs": []
    },
    {
      "cell_type": "code",
      "metadata": {
        "colab": {
          "base_uri": "https://localhost:8080/"
        },
        "id": "1k114Ym0XQMk",
        "outputId": "ee9d98b6-a92e-42d4-be90-7dedf9aad828"
      },
      "source": [
        "y_pred1\n"
      ],
      "execution_count": null,
      "outputs": [
        {
          "output_type": "execute_result",
          "data": {
            "text/plain": [
              "array([[-1.04317743e-01],\n",
              "       [ 2.84354132e-01],\n",
              "       [-1.50470837e+00],\n",
              "       [-1.63654431e+00],\n",
              "       [-4.96302427e-02],\n",
              "       [-1.45644045e+00],\n",
              "       [ 8.02525698e-02],\n",
              "       [ 5.09940070e-01],\n",
              "       [ 8.83963507e-01],\n",
              "       [-1.70685681e+00],\n",
              "       [-1.48517712e+00],\n",
              "       [-2.06818493e+00],\n",
              "       [-1.90900524e+00],\n",
              "       [-4.01192743e-01],\n",
              "       [ 1.53494757e-01],\n",
              "       [-8.69942743e-01],\n",
              "       [ 1.04216663e+00],\n",
              "       [ 7.31131476e-01],\n",
              "       [-7.97677118e-01],\n",
              "       [-1.03791149e+00],\n",
              "       [ 1.73650257e+00],\n",
              "       [-1.15705212e+00],\n",
              "       [ 1.32010382e-01],\n",
              "       [-4.55880243e-01],\n",
              "       [-1.08869274e+00],\n",
              "       [ 1.10466663e+00],\n",
              "       [ 7.04276007e-01],\n",
              "       [ 4.33768195e-01],\n",
              "       [ 1.28240101e+00],\n",
              "       [ 4.75760382e-01],\n",
              "       [-2.07502087e+00],\n",
              "       [ 6.08572882e-01],\n",
              "       [ 8.30252570e-01],\n",
              "       [-8.28333677e-02],\n",
              "       [-1.78986462e+00],\n",
              "       [-2.69356805e-01],\n",
              "       [ 1.22185413e+00],\n",
              "       [ 1.49529163e+00],\n",
              "       [-6.68770868e-01],\n",
              "       [-9.65645868e-01],\n",
              "       [ 7.62869757e-01],\n",
              "       [-1.61017712e+00],\n",
              "       [ 4.95291632e-01],\n",
              "       [-5.10567743e-01],\n",
              "       [ 1.36150257e+00],\n",
              "       [ 1.27849476e+00],\n",
              "       [-1.25080212e+00],\n",
              "       [-7.19552118e-01],\n",
              "       [-6.84395868e-01],\n",
              "       [-8.58223993e-01],\n",
              "       [ 6.26151007e-01],\n",
              "       [ 9.90408820e-01],\n",
              "       [ 6.39822882e-01],\n",
              "       [ 2.04764289e-01],\n",
              "       [ 1.70096320e-01],\n",
              "       [-4.62716180e-01],\n",
              "       [-9.12911493e-01],\n",
              "       [ 1.39665882e+00],\n",
              "       [ 9.72830695e-01],\n",
              "       [ 3.82603823e-02],\n",
              "       [ 1.05388538e+00],\n",
              "       [-2.00020868e-01],\n",
              "       [ 2.88260382e-01],\n",
              "       [ 1.20134632e+00],\n",
              "       [ 7.41385382e-01],\n",
              "       [-8.84174824e-01],\n",
              "       [ 2.33572882e-01],\n",
              "       [ 1.32010382e-01],\n",
              "       [ 1.05779163e+00],\n",
              "       [ 8.46854132e-01],\n",
              "       [ 8.50760382e-01],\n",
              "       [ 1.01286976e+00],\n",
              "       [ 1.98416632e-01],\n",
              "       [ 1.04119007e+00],\n",
              "       [ 3.50760382e-01],\n",
              "       [ 4.19119757e-01],\n",
              "       [ 3.11697882e-01],\n",
              "       [ 1.34197132e+00],\n",
              "       [-9.44161493e-01],\n",
              "       [-1.22541149e+00],\n",
              "       [ 2.87772101e-01],\n",
              "       [ 4.19119757e-01],\n",
              "       [ 3.46854132e-01],\n",
              "       [-1.34845837e+00],\n",
              "       [ 2.02322882e-01],\n",
              "       [ 5.56326789e-01],\n",
              "       [ 6.77908820e-01],\n",
              "       [ 9.40604132e-01],\n",
              "       [-5.50190449e-01],\n",
              "       [-4.89571649e-01],\n",
              "       [-1.75275524e+00],\n",
              "       [-1.25331545e+00],\n",
              "       [ 1.29509632e+00],\n",
              "       [ 1.18083851e+00],\n",
              "       [ 4.85526007e-01],\n",
              "       [-1.63361462e+00],\n",
              "       [-1.92909670e+00],\n",
              "       [ 1.71306507e+00],\n",
              "       [ 2.29666632e-01],\n",
              "       [-2.60567743e-01],\n",
              "       [-9.65052427e-02],\n",
              "       [ 7.14041632e-01],\n",
              "       [-1.35567743e-01],\n",
              "       [ 1.38640491e+00],\n",
              "       [-7.70333368e-01],\n",
              "       [ 3.18533820e-01],\n",
              "       [ 1.76042835e+00],\n",
              "       [ 1.16081898e+00],\n",
              "       [ 5.42166632e-01],\n",
              "       [-1.90705212e+00],\n",
              "       [-2.93770868e-01],\n",
              "       [ 8.51353823e-02],\n",
              "       [-1.17989618e-01],\n",
              "       [-1.52423962e+00],\n",
              "       [-1.95644045e+00],\n",
              "       [-4.16817743e-01],\n",
              "       [ 2.49197882e-01],\n",
              "       [-5.82833368e-01],\n",
              "       [ 1.42400257e+00],\n",
              "       [ 5.05545539e-01],\n",
              "       [-1.23127087e+00],\n",
              "       [-4.70836767e-03],\n",
              "       [-9.18770868e-01],\n",
              "       [-2.09786493e-01],\n",
              "       [-5.82833368e-01],\n",
              "       [-1.25208677e-02],\n",
              "       [-1.67951306e+00],\n",
              "       [ 3.82603823e-02],\n",
              "       [-1.11408337e+00],\n",
              "       [-5.45723993e-01],\n",
              "       [-1.80353649e+00],\n",
              "       [ 1.22966663e+00],\n",
              "       [-1.71271618e+00],\n",
              "       [ 1.75955695e-01],\n",
              "       [-3.08419305e-01],\n",
              "       [ 3.05838507e-01],\n",
              "       [ 1.15349476e+00],\n",
              "       [-1.74630243e-01],\n",
              "       [ 7.36014289e-01],\n",
              "       [ 2.13065070e-01],\n",
              "       [ 6.82791632e-01],\n",
              "       [ 2.21471011e-02],\n",
              "       [ 4.17166632e-01],\n",
              "       [ 1.74444830e-04],\n",
              "       [ 9.49010073e-02],\n",
              "       [ 1.39568226e+00],\n",
              "       [ 3.43541323e-02],\n",
              "       [-9.46114618e-01],\n",
              "       [ 1.24724476e+00],\n",
              "       [ 1.67009632e+00],\n",
              "       [ 1.05876819e+00],\n",
              "       [ 4.90025698e-02],\n",
              "       [ 9.79666632e-01],\n",
              "       [-9.33002949e-01],\n",
              "       [-1.86798962e+00],\n",
              "       [ 1.16326038e+00],\n",
              "       [ 1.91580695e-01],\n",
              "       [ 1.33708851e+00],\n",
              "       [-1.57362795e+00],\n",
              "       [ 3.41971320e-01],\n",
              "       [-3.40052427e-02],\n",
              "       [ 1.17497913e+00],\n",
              "       [ 3.43541323e-02],\n",
              "       [ 4.71854132e-01],\n",
              "       [-1.53693493e+00],\n",
              "       [ 1.07048694e+00],\n",
              "       [-1.46369274e+00],\n",
              "       [ 6.80838507e-01],\n",
              "       [-7.42989618e-01],\n",
              "       [ 8.39041632e-01],\n",
              "       [ 1.86697882e-01],\n",
              "       [ 3.87869757e-01],\n",
              "       [ 2.48709601e-01],\n",
              "       [ 2.14041632e-01],\n",
              "       [ 4.80643195e-01],\n",
              "       [-1.02375134e+00],\n",
              "       [-1.78400524e+00],\n",
              "       [ 1.78885382e-01],\n",
              "       [-4.22677118e-01],\n",
              "       [-1.68048962e+00],\n",
              "       [ 1.18865101e+00],\n",
              "       [-6.06270868e-01],\n",
              "       [-1.97345837e+00],\n",
              "       [ 6.71072882e-01],\n",
              "       [-6.29708368e-01],\n",
              "       [ 1.27263538e+00],\n",
              "       [-9.13888055e-01],\n",
              "       [ 6.16385382e-01],\n",
              "       [ 3.76151007e-01],\n",
              "       [-3.95333368e-01],\n",
              "       [ 2.16588198e-02],\n",
              "       [-2.95723993e-01],\n",
              "       [-5.83809930e-01],\n",
              "       [ 1.06560413e+00],\n",
              "       [ 1.49138538e+00],\n",
              "       [ 4.60728823e-02],\n",
              "       [-4.37708677e-02],\n",
              "       [ 6.55447882e-01],\n",
              "       [ 1.07634632e+00],\n",
              "       [-5.22286493e-01],\n",
              "       [-5.67208368e-01],\n",
              "       [-1.36213024e+00],\n",
              "       [-1.45333368e-01],\n",
              "       [ 1.01579944e+00],\n",
              "       [-3.42110711e-01],\n",
              "       [-3.58223993e-01],\n",
              "       [-4.88106805e-01],\n",
              "       [-1.57697399e+00],\n",
              "       [ 6.02713507e-01],\n",
              "       [ 1.64275257e+00],\n",
              "       [-9.81270868e-01],\n",
              "       [-6.62911493e-01],\n",
              "       [ 7.68729132e-01],\n",
              "       [ 1.01091663e+00],\n",
              "       [-5.59395868e-01],\n",
              "       [-7.04415399e-01],\n",
              "       [ 1.15154163e+00],\n",
              "       [-2.27364618e-01],\n",
              "       [ 3.63455695e-01],\n",
              "       [ 1.00760382e-01]])"
            ]
          },
          "metadata": {
            "tags": []
          },
          "execution_count": 43
        }
      ]
    },
    {
      "cell_type": "code",
      "metadata": {
        "colab": {
          "base_uri": "https://localhost:8080/"
        },
        "id": "IGn3CtmNXQJT",
        "outputId": "e692dbb8-72fc-4535-efcf-816af559ad5d"
      },
      "source": [
        "mean_squared_error(y_test, y_pred1) ⁸"
      ],
      "execution_count": null,
      "outputs": [
        {
          "output_type": "execute_result",
          "data": {
            "text/plain": [
              "0.22794176114888096"
            ]
          },
          "metadata": {
            "tags": []
          },
          "execution_count": 44
        }
      ]
    },
    {
      "cell_type": "code",
      "metadata": {
        "id": "GcrMbED4XQGp"
      },
      "source": [
        "#Regression Model is better than the baseline model since the valuw of mean_squared_error is lesser in the linear regression model"
      ],
      "execution_count": null,
      "outputs": []
    },
    {
      "cell_type": "code",
      "metadata": {
        "colab": {
          "base_uri": "https://localhost:8080/"
        },
        "id": "gDPRHhjBXQCF",
        "outputId": "6a5ab228-54ea-4ada-a143-4849c621f2a5"
      },
      "source": [
        "r2_score(y_test, y_pred1)\n",
        "\n",
        "#r2_score of 1 means a perfect model\n",
        "#r2_score of 0 basically means a useless model\n",
        "#r2_score as it increases towards 1, the model gets better and better.\n"
      ],
      "execution_count": null,
      "outputs": [
        {
          "output_type": "execute_result",
          "data": {
            "text/plain": [
              "0.7930157420302948"
            ]
          },
          "metadata": {
            "tags": []
          },
          "execution_count": 46
        }
      ]
    },
    {
      "cell_type": "markdown",
      "metadata": {
        "id": "wum9k1zLbZdz"
      },
      "source": [
        "This regression model with all the variables is 80% percent accurate, the baseline model was 0% accurate."
      ]
    },
    {
      "cell_type": "markdown",
      "metadata": {
        "id": "eaxhHr8Fbzzw"
      },
      "source": [
        "## Descaling the predictions for the user (To make the values understandable to the user/ it has some meaning for the user)"
      ]
    },
    {
      "cell_type": "markdown",
      "metadata": {
        "id": "c_hJyFAdd1hV"
      },
      "source": [
        "- Before descaling, we need to ensure that the y_scaled variable needs to be fit and then transformed separately in two steps, and fit_transform shouldn't be used at once"
      ]
    },
    {
      "cell_type": "code",
      "metadata": {
        "colab": {
          "base_uri": "https://localhost:8080/"
        },
        "id": "2vK1zX1cXP_V",
        "outputId": "c8caaafe-18fc-464c-fb6b-af65f6c87bc9"
      },
      "source": [
        "# use inverse_transform on the fitted scaler\n",
        "\n",
        "scale_y.inverse_transform(y_pred1) \n"
      ],
      "execution_count": null,
      "outputs": [
        {
          "output_type": "execute_result",
          "data": {
            "text/plain": [
              "array([[4302.4015842 ],\n",
              "       [5054.82600855],\n",
              "       [1591.40504019],\n",
              "       [1336.18570027],\n",
              "       [4408.27034743],\n",
              "       [1684.84622581],\n",
              "       [4659.70866008],\n",
              "       [5491.53465685],\n",
              "       [6215.60137677],\n",
              "       [1200.06871898],\n",
              "       [1629.21531277],\n",
              "       [ 500.57867624],\n",
              "       [ 808.73239777],\n",
              "       [3727.68544098],\n",
              "       [4801.49718226],\n",
              "       [2820.23889905],\n",
              "       [6521.86458467],\n",
              "       [5919.73599383],\n",
              "       [2960.1369076 ],\n",
              "       [2495.07055486],\n",
              "       [7866.0197749 ],\n",
              "       [2264.42789212],\n",
              "       [4759.90588242],\n",
              "       [3621.81667775],\n",
              "       [2396.76384615],\n",
              "       [6642.85745693],\n",
              "       [5867.74686903],\n",
              "       [5344.07459379],\n",
              "       [6986.93093741],\n",
              "       [5425.36667984],\n",
              "       [ 487.34508084],\n",
              "       [5682.47653338],\n",
              "       [6111.62312717],\n",
              "       [4343.99288404],\n",
              "       [1039.37506051],\n",
              "       [3982.9047809 ],\n",
              "       [6869.71909241],\n",
              "       [7399.06290853],\n",
              "       [3209.68470663],\n",
              "       [2634.96856341],\n",
              "       [5981.17768677],\n",
              "       [1387.22956825],\n",
              "       [5463.17695242],\n",
              "       [3515.94791453],\n",
              "       [7140.06254136],\n",
              "       [6979.36888289],\n",
              "       [2082.93858373],\n",
              "       [3111.37799792],\n",
              "       [3179.43648856],\n",
              "       [2842.9250626 ],\n",
              "       [5716.50577871],\n",
              "       [6421.66736233],\n",
              "       [5742.97296951],\n",
              "       [4900.74914778],\n",
              "       [4833.63591395],\n",
              "       [3608.58308235],\n",
              "       [2737.05629937],\n",
              "       [7208.121032  ],\n",
              "       [6387.63811701],\n",
              "       [4578.41657404],\n",
              "       [6544.55074822],\n",
              "       [4117.13124856],\n",
              "       [5062.38806307],\n",
              "       [6830.0183062 ],\n",
              "       [5939.58638693],\n",
              "       [2792.68721241],\n",
              "       [4956.51929984],\n",
              "       [4759.90588242],\n",
              "       [6552.11280273],\n",
              "       [6143.76185886],\n",
              "       [6151.32391338],\n",
              "       [6465.1491758 ],\n",
              "       [4888.4608092 ],\n",
              "       [6519.97407104],\n",
              "       [5183.38093532],\n",
              "       [5315.71688935],\n",
              "       [5107.76039016],\n",
              "       [7102.25226878],\n",
              "       [2676.55986324],\n",
              "       [2132.09193809],\n",
              "       [5061.44280625],\n",
              "       [5315.71688935],\n",
              "       [5175.81888081],\n",
              "       [1893.88722083],\n",
              "       [4896.02286371],\n",
              "       [5581.33405423],\n",
              "       [5816.70300104],\n",
              "       [6325.25116725],\n",
              "       [3439.24287354],\n",
              "       [3556.59395755],\n",
              "       [1111.21457842],\n",
              "       [2078.07306064],\n",
              "       [7011.50761458],\n",
              "       [6790.31751999],\n",
              "       [5444.27181613],\n",
              "       [1341.85724116],\n",
              "       [ 769.83762936],\n",
              "       [7820.6474478 ],\n",
              "       [4948.95724532],\n",
              "       [3999.91940356],\n",
              "       [4317.52569323],\n",
              "       [5886.65200532],\n",
              "       [4241.90514807],\n",
              "       [7188.2706389 ],\n",
              "       [3013.07128921],\n",
              "       [5120.99398557],\n",
              "       [7912.33735881],\n",
              "       [6751.56199059],\n",
              "       [5553.92160661],\n",
              "       [ 812.51342503],\n",
              "       [3935.64194017],\n",
              "       [4669.16122823],\n",
              "       [4275.93439339],\n",
              "       [1553.59476761],\n",
              "       [ 716.90324775],\n",
              "       [3697.43722291],\n",
              "       [4986.76751791],\n",
              "       [3376.04990598],\n",
              "       [7261.05541361],\n",
              "       [5483.02734552],\n",
              "       [2120.74885631],\n",
              "       [4495.23397436],\n",
              "       [2725.7132176 ],\n",
              "       [4098.22611227],\n",
              "       [3376.04990598],\n",
              "       [4480.10986533],\n",
              "       [1253.00310059],\n",
              "       [4578.41657404],\n",
              "       [2347.61049179],\n",
              "       [3447.88942388],\n",
              "       [1012.90786971],\n",
              "       [6884.84320144],\n",
              "       [1188.72563721],\n",
              "       [4844.97899573],\n",
              "       [3907.28423574],\n",
              "       [5096.41730839],\n",
              "       [6737.38313838],\n",
              "       [4166.28460291],\n",
              "       [5929.18856197],\n",
              "       [4916.81851363],\n",
              "       [5826.15556919],\n",
              "       [4547.22309916],\n",
              "       [5311.9358621 ],\n",
              "       [4504.68654251],\n",
              "       [4688.06636452],\n",
              "       [7206.23051837],\n",
              "       [4570.85451952],\n",
              "       [2672.77883599],\n",
              "       [6918.87244676],\n",
              "       [7737.46484813],\n",
              "       [6554.00331636],\n",
              "       [4599.21222396],\n",
              "       [6400.87171241],\n",
              "       [2698.16153096],\n",
              "       [ 888.13397019],\n",
              "       [6756.28827467],\n",
              "       [4875.22721379],\n",
              "       [7092.79970063],\n",
              "       [1457.98459033],\n",
              "       [5166.36631266],\n",
              "       [4438.51856549],\n",
              "       [6778.97443821],\n",
              "       [4570.85451952],\n",
              "       [5417.80462532],\n",
              "       [1529.01809043],\n",
              "       [6576.68947991],\n",
              "       [1670.80661261],\n",
              "       [5822.37454193],\n",
              "       [3066.00567082],\n",
              "       [6128.63774983],\n",
              "       [4865.77464565],\n",
              "       [5255.22045323],\n",
              "       [4985.82226109],\n",
              "       [4918.70902726],\n",
              "       [5434.81924798],\n",
              "       [2522.48300248],\n",
              "       [1050.71814229],\n",
              "       [4850.65053662],\n",
              "       [3686.09414114],\n",
              "       [1251.11258696],\n",
              "       [6805.44162902],\n",
              "       [3330.67757888],\n",
              "       [ 683.95849826],\n",
              "       [5803.46940564],\n",
              "       [3285.30525179],\n",
              "       [6968.02580112],\n",
              "       [2735.16578574],\n",
              "       [5697.60064242],\n",
              "       [5232.53428968],\n",
              "       [3739.02852275],\n",
              "       [4546.27784234],\n",
              "       [3931.86091291],\n",
              "       [3374.15939235],\n",
              "       [6567.23691176],\n",
              "       [7391.50085402],\n",
              "       [4593.54068307],\n",
              "       [4419.6134292 ],\n",
              "       [5773.22118758],\n",
              "       [6588.03256168],\n",
              "       [3493.26175098],\n",
              "       [3406.29812405],\n",
              "       [1867.42003002],\n",
              "       [4223.00001178],\n",
              "       [6470.82071668],\n",
              "       [3842.06151553],\n",
              "       [3810.86804066],\n",
              "       [3559.429728  ],\n",
              "       [1451.50703164],\n",
              "       [5671.13345161],\n",
              "       [7684.53046651],\n",
              "       [2604.72034534],\n",
              "       [3221.0277884 ],\n",
              "       [5992.52076854],\n",
              "       [6461.36814854],\n",
              "       [3421.42223308],\n",
              "       [3140.68095917],\n",
              "       [6733.60211112],\n",
              "       [4064.19686694],\n",
              "       [5207.9576125 ],\n",
              "       [4699.40944629]])"
            ]
          },
          "metadata": {
            "tags": []
          },
          "execution_count": 47
        }
      ]
    },
    {
      "cell_type": "markdown",
      "metadata": {
        "id": "e2TRX7Xkfdg5"
      },
      "source": [
        "These numbers make more sense to the user<br>\n",
        "for eg: [4302.4015842 ] implies that 4302 bikes are rented on a specific day\n"
      ]
    },
    {
      "cell_type": "markdown",
      "metadata": {
        "id": "BJOAtsIFwAyC"
      },
      "source": [
        "# Finetuning the Model"
      ]
    },
    {
      "cell_type": "markdown",
      "metadata": {
        "id": "y5WI8PfFwpLd"
      },
      "source": [
        "To improve the model<br>\n",
        "\n",
        "Reasons:<be>\n",
        "- To have a better accuracy than what we currently have<br>\n",
        "- In the curent model, we have all the variables, for limitations of storage and computation power, even the loading time of the data, or of the output. These will affect the user experience. Due to these reasons, there can be a necessity that we need to make the model work on few variables only, or the model to work on a subset of the entire dataset.\n",
        "- Another reason is data privacy, if we are working on sensitive data, we don't want loss of data. Lets say, we're using 50 variables when the job can actually be done with 5, so we need to ensure that the data in those 50 variables are protected, which will cost more ."
      ]
    },
    {
      "cell_type": "markdown",
      "metadata": {
        "id": "vhSsixME3Ma_"
      },
      "source": [
        "For finetuning the regression model, we'll be using a method called recursive feature elimination, it is exactly what the term means (feature is generally a term used for predictors) i.e to recursively eliminate the features one by one until we are left with the number of features that we want"
      ]
    },
    {
      "cell_type": "markdown",
      "metadata": {
        "id": "QQC2Vr3i3k18"
      },
      "source": [
        "We currently have 33 features i.e (220, 33). Let's say we just want 10 features in our model, the 10 most important features in our model<br>\n",
        "\n",
        "What RFA does is \n",
        "- It fits a model on the entire data\n",
        "- It evaluates the importance of each of the variables individually, after that it orders them according to the importance and then it removes the variables which is the least important\n",
        "- So now, as per our situation, we're left with 32 variables\n",
        "- Now it will again fit a model on the 32 variables, it will again calculate the importance of each of the predictors, remove the least important one, we're left with 31 variables/predictors\n",
        "\n",
        "- This process goes on happening until we have 10 predictors\n",
        "\n",
        "This is how the method works."
      ]
    },
    {
      "cell_type": "code",
      "metadata": {
        "colab": {
          "base_uri": "https://localhost:8080/"
        },
        "id": "uqloerQGgYfn",
        "outputId": "c06122c5-da38-4205-c823-fe134c7c5975"
      },
      "source": [
        "# define the model \n",
        "rfe = RFE(estimator = RandomForestRegressor(), n_features_to_select=10) \n",
        "# estimator can be any regression algorithm, linearregression, etc\n",
        "# n_features_to_select is the number of features to select. It can be any number\n",
        "\n",
        "\n",
        "#fit the data\n",
        "rfe.fit(x_train, y_train)"
      ],
      "execution_count": null,
      "outputs": [
        {
          "output_type": "stream",
          "text": [
            "/usr/local/lib/python3.7/dist-packages/sklearn/utils/validation.py:760: DataConversionWarning: A column-vector y was passed when a 1d array was expected. Please change the shape of y to (n_samples, ), for example using ravel().\n",
            "  y = column_or_1d(y, warn=True)\n"
          ],
          "name": "stderr"
        },
        {
          "output_type": "execute_result",
          "data": {
            "text/plain": [
              "RFE(estimator=RandomForestRegressor(bootstrap=True, ccp_alpha=0.0,\n",
              "                                    criterion='mse', max_depth=None,\n",
              "                                    max_features='auto', max_leaf_nodes=None,\n",
              "                                    max_samples=None, min_impurity_decrease=0.0,\n",
              "                                    min_impurity_split=None, min_samples_leaf=1,\n",
              "                                    min_samples_split=2,\n",
              "                                    min_weight_fraction_leaf=0.0,\n",
              "                                    n_estimators=100, n_jobs=None,\n",
              "                                    oob_score=False, random_state=None,\n",
              "                                    verbose=0, warm_start=False),\n",
              "    n_features_to_select=10, step=1, verbose=0)"
            ]
          },
          "metadata": {
            "tags": []
          },
          "execution_count": 48
        }
      ]
    },
    {
      "cell_type": "code",
      "metadata": {
        "colab": {
          "base_uri": "https://localhost:8080/"
        },
        "id": "wZuYfSRUgYRB",
        "outputId": "45123455-abb0-4864-dbfc-12a28657e6fe"
      },
      "source": [
        "rfe.support_"
      ],
      "execution_count": null,
      "outputs": [
        {
          "output_type": "execute_result",
          "data": {
            "text/plain": [
              "array([ True, False, False,  True,  True,  True,  True,  True, False,\n",
              "       False,  True, False, False, False, False, False, False, False,\n",
              "       False, False,  True, False, False, False, False, False, False,\n",
              "       False, False, False,  True, False,  True])"
            ]
          },
          "metadata": {
            "tags": []
          },
          "execution_count": 49
        }
      ]
    },
    {
      "cell_type": "markdown",
      "metadata": {
        "id": "P0VrZ70x8T4g"
      },
      "source": [
        "The true and false imply which features are to be present in the model, here the first feature need to be included in the model, second need not be included in the model. So basically, whichever has the support of true needs to be included in the model and whichever has the false support, need not be included in the model "
      ]
    },
    {
      "cell_type": "markdown",
      "metadata": {
        "id": "3yklzX0D8vL-"
      },
      "source": [
        "To display which variable is included and which is not, we can just print the results in the following form"
      ]
    },
    {
      "cell_type": "code",
      "metadata": {
        "id": "hFsUsDdTmtiS"
      },
      "source": [
        "cols=x.columns\n",
        "#names of the predictor variables"
      ],
      "execution_count": null,
      "outputs": []
    },
    {
      "cell_type": "code",
      "metadata": {
        "colab": {
          "base_uri": "https://localhost:8080/"
        },
        "id": "EwzYxRCep3go",
        "outputId": "acc18642-9c4c-40e2-d14d-d30ea2e2df03"
      },
      "source": [
        "x.shape[0]"
      ],
      "execution_count": null,
      "outputs": [
        {
          "output_type": "execute_result",
          "data": {
            "text/plain": [
              "731"
            ]
          },
          "metadata": {
            "tags": []
          },
          "execution_count": 51
        }
      ]
    },
    {
      "cell_type": "code",
      "metadata": {
        "colab": {
          "base_uri": "https://localhost:8080/"
        },
        "id": "nnqSNaFvqOvg",
        "outputId": "8a05d869-a604-48c0-9063-08a00135e309"
      },
      "source": [
        "x.shape[1]"
      ],
      "execution_count": null,
      "outputs": [
        {
          "output_type": "execute_result",
          "data": {
            "text/plain": [
              "33"
            ]
          },
          "metadata": {
            "tags": []
          },
          "execution_count": 52
        }
      ]
    },
    {
      "cell_type": "code",
      "metadata": {
        "id": "JZUR3PmZYcMA"
      },
      "source": [
        ""
      ],
      "execution_count": null,
      "outputs": []
    },
    {
      "cell_type": "code",
      "metadata": {
        "colab": {
          "base_uri": "https://localhost:8080/"
        },
        "id": "aJQrMH9cgX8e",
        "outputId": "20c7bc8e-b11a-43ab-c06a-0227ef0867ec"
      },
      "source": [
        "for i in range(x.shape[1]):⁷\n",
        "  print('Column: %s, Selected %s, Rank: %.3f' %(cols[i], rfe.support_[i], rfe.ranking_[i]))\n",
        " \n",
        "  # rank 1 means the variable should be selected, otherwise no\n",
        "  # using rank, we can understand the relevance of each variable"
      ],
      "execution_count": null,
      "outputs": [
        {
          "output_type": "stream",
          "text": [
            "Column: yr, Selected True, Rank: 1.000\n",
            "Column: holiday, Selected False, Rank: 4.000\n",
            "Column: workingday, Selected False, Rank: 2.000\n",
            "Column: temp, Selected True, Rank: 1.000\n",
            "Column: atemp, Selected True, Rank: 1.000\n",
            "Column: hum, Selected True, Rank: 1.000\n",
            "Column: windspeed, Selected True, Rank: 1.000\n",
            "Column: season_1, Selected True, Rank: 1.000\n",
            "Column: season_2, Selected False, Rank: 6.000\n",
            "Column: season_3, Selected False, Rank: 22.000\n",
            "Column: season_4, Selected True, Rank: 1.000\n",
            "Column: mnth_1, Selected False, Rank: 12.000\n",
            "Column: mnth_2, Selected False, Rank: 21.000\n",
            "Column: mnth_3, Selected False, Rank: 10.000\n",
            "Column: mnth_4, Selected False, Rank: 8.000\n",
            "Column: mnth_5, Selected False, Rank: 19.000\n",
            "Column: mnth_6, Selected False, Rank: 18.000\n",
            "Column: mnth_7, Selected False, Rank: 23.000\n",
            "Column: mnth_8, Selected False, Rank: 20.000\n",
            "Column: mnth_9, Selected False, Rank: 3.000\n",
            "Column: mnth_10, Selected True, Rank: 1.000\n",
            "Column: mnth_11, Selected False, Rank: 24.000\n",
            "Column: mnth_12, Selected False, Rank: 14.000\n",
            "Column: weekday_0, Selected False, Rank: 15.000\n",
            "Column: weekday_1, Selected False, Rank: 9.000\n",
            "Column: weekday_2, Selected False, Rank: 16.000\n",
            "Column: weekday_3, Selected False, Rank: 17.000\n",
            "Column: weekday_4, Selected False, Rank: 11.000\n",
            "Column: weekday_5, Selected False, Rank: 13.000\n",
            "Column: weekday_6, Selected False, Rank: 5.000\n",
            "Column: weathersit_1, Selected True, Rank: 1.000\n",
            "Column: weathersit_2, Selected False, Rank: 7.000\n",
            "Column: weathersit_3, Selected True, Rank: 1.000\n"
          ],
          "name": "stdout"
        }
      ]
    },
    {
      "cell_type": "markdown",
      "metadata": {
        "id": "ZNHFYA4xnqJ3"
      },
      "source": [
        "Using rank, we can understand the relevance of each variable, all the 1s need to be selected, if we want a 11th feature, it will be working day since it is of rank 2, mnth_9 is the next variable to be selected since it is of rank 3. \n",
        "\n",
        "- It gives information like, if we want 10 features, these are the 10 features we must select"
      ]
    },
    {
      "cell_type": "code",
      "metadata": {
        "id": "s3Jfyo0trKPI"
      },
      "source": [
        "# creating a list to store the selected features\n",
        "variables = []"
      ],
      "execution_count": null,
      "outputs": []
    },
    {
      "cell_type": "code",
      "metadata": {
        "id": "WULuNJnOuZ1i"
      },
      "source": [
        "# finding out the selected feature names\n",
        "for i in range(len(cols)):\n",
        "  if rfe.support_[i] == True:\n",
        "    variables.append(cols[i])\n",
        " "
      ],
      "execution_count": null,
      "outputs": []
    },
    {
      "cell_type": "code",
      "metadata": {
        "colab": {
          "base_uri": "https://localhost:8080/"
        },
        "id": "hblFxOnorDsb",
        "outputId": "3a4da3ea-4ce7-412a-bb05-f6071ac439d8"
      },
      "source": [
        "len(variables)"
      ],
      "execution_count": null,
      "outputs": [
        {
          "output_type": "execute_result",
          "data": {
            "text/plain": [
              "10"
            ]
          },
          "metadata": {
            "tags": []
          },
          "execution_count": 56
        }
      ]
    },
    {
      "cell_type": "code",
      "metadata": {
        "colab": {
          "base_uri": "https://localhost:8080/"
        },
        "id": "XNqj7nHKuX3M",
        "outputId": "e1feb62c-2587-4f97-c0e9-40a69609a45c"
      },
      "source": [
        "variables"
      ],
      "execution_count": null,
      "outputs": [
        {
          "output_type": "execute_result",
          "data": {
            "text/plain": [
              "['yr',\n",
              " 'temp',\n",
              " 'atemp',\n",
              " 'hum',\n",
              " 'windspeed',\n",
              " 'season_1',\n",
              " 'season_4',\n",
              " 'mnth_10',\n",
              " 'weathersit_1',\n",
              " 'weathersit_3']"
            ]
          },
          "metadata": {
            "tags": []
          },
          "execution_count": 57
        }
      ]
    },
    {
      "cell_type": "markdown",
      "metadata": {
        "id": "JP-tEMpHuwWC"
      },
      "source": [
        "Next step :  Model with 10 predictor variables"
      ]
    },
    {
      "cell_type": "markdown",
      "metadata": {
        "id": "cixfNW3Luo8L"
      },
      "source": [
        "# Model with 10 predictor variables\n",
        "\n"
      ]
    },
    {
      "cell_type": "markdown",
      "metadata": {
        "id": "5S5LM3-RvMj2"
      },
      "source": [
        "- We need to repeat the entire process again with these variables\n",
        "- First we need to make x and y, since this data is already encoded, so we don't need to encode again\n",
        "\n",
        "- We need to scale and split x and y\n",
        "- We need to make the regression model"
      ]
    },
    {
      "cell_type": "markdown",
      "metadata": {
        "id": "7H4JaOthQqh-"
      },
      "source": [
        "Making the predictor and target variables"
      ]
    },
    {
      "cell_type": "code",
      "metadata": {
        "colab": {
          "base_uri": "https://localhost:8080/"
        },
        "id": "Ikf9mFJOubRb",
        "outputId": "eb6cc493-dfb5-44dc-f597-7587353439c9"
      },
      "source": [
        "x10 = data[variables]\n",
        "y10 = data['cnt']\n",
        "\n",
        "print(x10.shape)\n",
        "print(y10.shape)"
      ],
      "execution_count": null,
      "outputs": [
        {
          "output_type": "stream",
          "text": [
            "(731, 10)\n",
            "(731,)\n"
          ],
          "name": "stdout"
        }
      ]
    },
    {
      "cell_type": "code",
      "metadata": {
        "colab": {
          "base_uri": "https://localhost:8080/"
        },
        "id": "6BmRa4ssqAXL",
        "outputId": "5b8e787f-100a-4f11-a0a3-5255601cdc08"
      },
      "source": [
        "x.iloc[0].values"
      ],
      "execution_count": null,
      "outputs": [
        {
          "output_type": "execute_result",
          "data": {
            "text/plain": [
              "array([0.      , 0.      , 0.      , 0.344167, 0.363625, 0.805833,\n",
              "       0.160446, 1.      , 0.      , 0.      , 0.      , 1.      ,\n",
              "       0.      , 0.      , 0.      , 0.      , 0.      , 0.      ,\n",
              "       0.      , 0.      , 0.      , 0.      , 0.      , 0.      ,\n",
              "       0.      , 0.      , 0.      , 0.      , 0.      , 1.      ,\n",
              "       0.      , 1.      , 0.      ])"
            ]
          },
          "metadata": {
            "tags": []
          },
          "execution_count": 59
        }
      ]
    },
    {
      "cell_type": "code",
      "metadata": {
        "colab": {
          "base_uri": "https://localhost:8080/"
        },
        "id": "5zZ_TpOowrKF",
        "outputId": "a50fbfb0-a1cc-4b5a-ef6d-46e58bde5eb8"
      },
      "source": [
        "scaler = StandardScaler()\n",
        "x10_scaled = scaler.fit_transform(x10)\n",
        "scaled_y10 = scaler.fit(np.array(y).reshape(-1,1))\n",
        "scaled_y10 "
      ],
      "execution_count": null,
      "outputs": [
        {
          "output_type": "execute_result",
          "data": {
            "text/plain": [
              "StandardScaler(copy=True, with_mean=True, with_std=True)"
            ]
          },
          "metadata": {
            "tags": []
          },
          "execution_count": 60
        }
      ]
    },
    {
      "cell_type": "code",
      "metadata": {
        "colab": {
          "base_uri": "https://localhost:8080/"
        },
        "id": "ZkLvf52AxVp8",
        "outputId": "23fbf249-0749-4ea0-fa61-eae525905d71"
      },
      "source": [
        "y10_scaled = scaler.transform(np.array(y).reshape(-1,1))\n",
        "y10_scaled.shape"
      ],
      "execution_count": null,
      "outputs": [
        {
          "output_type": "execute_result",
          "data": {
            "text/plain": [
              "(731, 1)"
            ]
          },
          "metadata": {
            "tags": []
          },
          "execution_count": 61
        }
      ]
    },
    {
      "cell_type": "code",
      "metadata": {
        "id": "9LDrt4WsxtOD"
      },
      "source": [
        "x10_train, x10_test, y10_train, y10_test = train_test_split(x10_scaled, y10_scaled, test_size=0.3, random_state=0) "
      ],
      "execution_count": null,
      "outputs": []
    },
    {
      "cell_type": "code",
      "metadata": {
        "colab": {
          "base_uri": "https://localhost:8080/"
        },
        "id": "2LRHka6KyaIk",
        "outputId": "882f091e-7ad4-48c1-94a4-ca5860261cb1"
      },
      "source": [
        "print(x10_train.shape)\n",
        "print(x10_test.shape)"
      ],
      "execution_count": null,
      "outputs": [
        {
          "output_type": "stream",
          "text": [
            "(511, 10)\n",
            "(220, 10)\n"
          ],
          "name": "stdout"
        }
      ]
    },
    {
      "cell_type": "markdown",
      "metadata": {
        "id": "oErM48uwJHeQ"
      },
      "source": [
        "# Model 2"
      ]
    },
    {
      "cell_type": "code",
      "metadata": {
        "id": "TQZPqxYWyoBE"
      },
      "source": [
        "model2 = LinearRegression()"
      ],
      "execution_count": null,
      "outputs": []
    },
    {
      "cell_type": "code",
      "metadata": {
        "colab": {
          "base_uri": "https://localhost:8080/"
        },
        "id": "67EUuHG_zA5N",
        "outputId": "239a1ea7-1ca7-43a2-dabf-72407f1633f8"
      },
      "source": [
        "model2.fit(x10_train, y10_train)"
      ],
      "execution_count": null,
      "outputs": [
        {
          "output_type": "execute_result",
          "data": {
            "text/plain": [
              "LinearRegression(copy_X=True, fit_intercept=True, n_jobs=None, normalize=False)"
            ]
          },
          "metadata": {
            "tags": []
          },
          "execution_count": 65
        }
      ]
    },
    {
      "cell_type": "code",
      "metadata": {
        "id": "yh6Mreg8J1uS"
      },
      "source": [
        "# we need to save this model \n",
        "dump(model2, open('model_reg.pkl', 'wb'))\n",
        "#we're passing the variable that we need to save, which in this case is our model2. open() is used to open the file. We'll pass the filename to which we need to open the model as.\n",
        "#wb is to write. model2 data will be written into the pickle file."
      ],
      "execution_count": null,
      "outputs": []
    },
    {
      "cell_type": "code",
      "metadata": {
        "colab": {
          "base_uri": "https://localhost:8080/"
        },
        "id": "mu9PxVZ3zSDE",
        "outputId": "63dde9f8-3a8b-4f8d-ce57-c9898d95db0f"
      },
      "source": [
        "y_pred2=model2.predict(x10_test)\n",
        "y_pred2"
      ],
      "execution_count": null,
      "outputs": [
        {
          "output_type": "execute_result",
          "data": {
            "text/plain": [
              "array([[ 0.11534487],\n",
              "       [ 0.29109997],\n",
              "       [-1.56680153],\n",
              "       [-1.70821519],\n",
              "       [-0.34238734],\n",
              "       [-1.4183377 ],\n",
              "       [-0.31786605],\n",
              "       [ 0.78130289],\n",
              "       [ 0.67036612],\n",
              "       [-1.7787325 ],\n",
              "       [-1.67294286],\n",
              "       [-1.57773543],\n",
              "       [-1.70517545],\n",
              "       [ 0.18688628],\n",
              "       [ 0.31994409],\n",
              "       [-0.20105319],\n",
              "       [ 0.87502929],\n",
              "       [ 0.75050996],\n",
              "       [-0.60134655],\n",
              "       [-0.88309345],\n",
              "       [ 1.37502502],\n",
              "       [-0.63743404],\n",
              "       [ 0.39662908],\n",
              "       [ 0.08950261],\n",
              "       [-0.99563242],\n",
              "       [ 0.94997662],\n",
              "       [ 0.64758883],\n",
              "       [ 0.2308956 ],\n",
              "       [ 0.9400623 ],\n",
              "       [ 0.9573028 ],\n",
              "       [-1.91902832],\n",
              "       [ 0.11141003],\n",
              "       [ 0.68871489],\n",
              "       [ 0.19964227],\n",
              "       [-1.37158514],\n",
              "       [-0.29743776],\n",
              "       [ 1.22517955],\n",
              "       [ 1.67699684],\n",
              "       [-1.12012329],\n",
              "       [-0.71184556],\n",
              "       [ 0.67884401],\n",
              "       [-1.54152549],\n",
              "       [ 0.04063504],\n",
              "       [-0.42465036],\n",
              "       [ 1.24512814],\n",
              "       [ 1.01178029],\n",
              "       [-0.49480179],\n",
              "       [-0.23227901],\n",
              "       [-0.61412634],\n",
              "       [-0.97308229],\n",
              "       [ 1.15762325],\n",
              "       [ 1.2950612 ],\n",
              "       [ 0.5147906 ],\n",
              "       [ 0.84943568],\n",
              "       [-0.09651928],\n",
              "       [-0.37087411],\n",
              "       [-0.73909656],\n",
              "       [ 1.06851122],\n",
              "       [ 1.26616604],\n",
              "       [-0.27767866],\n",
              "       [ 0.7844675 ],\n",
              "       [-0.18756251],\n",
              "       [ 0.37509663],\n",
              "       [ 0.95113424],\n",
              "       [ 1.02756381],\n",
              "       [-1.14555545],\n",
              "       [-0.08997695],\n",
              "       [-0.17214536],\n",
              "       [ 1.0584583 ],\n",
              "       [ 0.58196814],\n",
              "       [ 0.57241952],\n",
              "       [ 1.24690778],\n",
              "       [ 0.16978864],\n",
              "       [ 1.24360389],\n",
              "       [-0.20402326],\n",
              "       [ 0.71182618],\n",
              "       [ 0.19190308],\n",
              "       [ 1.34448056],\n",
              "       [-0.75916112],\n",
              "       [-0.63927138],\n",
              "       [ 0.52363725],\n",
              "       [ 0.48432097],\n",
              "       [ 0.4797618 ],\n",
              "       [-1.32434228],\n",
              "       [-0.00713895],\n",
              "       [ 1.06690484],\n",
              "       [ 0.35503866],\n",
              "       [ 0.81539672],\n",
              "       [-0.28062725],\n",
              "       [-0.37475145],\n",
              "       [-1.7866035 ],\n",
              "       [-1.85707801],\n",
              "       [ 1.43799683],\n",
              "       [ 1.10104289],\n",
              "       [ 0.55623762],\n",
              "       [-0.59495982],\n",
              "       [-1.95593794],\n",
              "       [ 1.36237713],\n",
              "       [ 0.11458268],\n",
              "       [-0.41380283],\n",
              "       [-0.31093573],\n",
              "       [ 0.51066623],\n",
              "       [ 0.29458145],\n",
              "       [ 1.11256955],\n",
              "       [-0.60348505],\n",
              "       [ 0.52315516],\n",
              "       [ 1.45393112],\n",
              "       [ 0.9139413 ],\n",
              "       [ 0.34936559],\n",
              "       [-1.44669897],\n",
              "       [-0.42391948],\n",
              "       [-0.1853753 ],\n",
              "       [-0.2363466 ],\n",
              "       [-1.34574683],\n",
              "       [-1.77804212],\n",
              "       [ 0.21519157],\n",
              "       [ 0.04810937],\n",
              "       [-0.50065454],\n",
              "       [ 1.00681892],\n",
              "       [ 0.43904533],\n",
              "       [-1.27834908],\n",
              "       [ 0.20671541],\n",
              "       [-0.8951893 ],\n",
              "       [-0.24101954],\n",
              "       [-0.36246102],\n",
              "       [-0.06643411],\n",
              "       [-1.67152287],\n",
              "       [ 0.60597431],\n",
              "       [-0.39807128],\n",
              "       [-0.80600087],\n",
              "       [-1.82689738],\n",
              "       [ 1.16064287],\n",
              "       [-1.63592186],\n",
              "       [-0.1199624 ],\n",
              "       [-0.34499414],\n",
              "       [ 0.19125876],\n",
              "       [ 0.97183534],\n",
              "       [-0.35209453],\n",
              "       [ 0.31489534],\n",
              "       [ 0.02137429],\n",
              "       [ 0.42754771],\n",
              "       [-0.25200922],\n",
              "       [ 0.73069331],\n",
              "       [ 0.29195923],\n",
              "       [-0.11737052],\n",
              "       [ 1.21000017],\n",
              "       [ 0.0237598 ],\n",
              "       [-1.07495342],\n",
              "       [ 1.00832101],\n",
              "       [ 1.31069683],\n",
              "       [ 0.94329726],\n",
              "       [-0.2260112 ],\n",
              "       [ 1.23422345],\n",
              "       [-1.23983049],\n",
              "       [-1.83197053],\n",
              "       [ 1.13777716],\n",
              "       [ 0.10252853],\n",
              "       [ 1.53640443],\n",
              "       [-1.50249762],\n",
              "       [-0.01466963],\n",
              "       [ 0.22687925],\n",
              "       [ 0.98141316],\n",
              "       [ 0.26004073],\n",
              "       [ 0.51556347],\n",
              "       [-1.41603785],\n",
              "       [ 1.45236426],\n",
              "       [-1.65618883],\n",
              "       [ 0.99120488],\n",
              "       [-0.78044253],\n",
              "       [ 0.87231128],\n",
              "       [ 0.03211302],\n",
              "       [ 0.03558441],\n",
              "       [ 0.87867044],\n",
              "       [-0.06554924],\n",
              "       [ 0.55117141],\n",
              "       [-0.70797711],\n",
              "       [-1.41892763],\n",
              "       [ 0.06481453],\n",
              "       [-0.32392395],\n",
              "       [-1.76629823],\n",
              "       [ 0.9200187 ],\n",
              "       [-0.53004319],\n",
              "       [-1.8628483 ],\n",
              "       [ 0.60315653],\n",
              "       [-0.52395575],\n",
              "       [ 1.0204774 ],\n",
              "       [-1.07978849],\n",
              "       [ 0.51075289],\n",
              "       [ 0.243303  ],\n",
              "       [-0.19610805],\n",
              "       [-0.16638093],\n",
              "       [-0.28603671],\n",
              "       [-0.68301753],\n",
              "       [ 0.96413791],\n",
              "       [ 1.33754076],\n",
              "       [-0.04715987],\n",
              "       [ 0.23752967],\n",
              "       [ 0.1378127 ],\n",
              "       [ 0.76539896],\n",
              "       [-0.27938972],\n",
              "       [-0.56151537],\n",
              "       [-0.72711229],\n",
              "       [-0.49011664],\n",
              "       [ 0.94292131],\n",
              "       [ 0.1155499 ],\n",
              "       [-0.13858268],\n",
              "       [-0.37145776],\n",
              "       [-1.62928527],\n",
              "       [ 1.1230055 ],\n",
              "       [ 1.34595475],\n",
              "       [-0.56940533],\n",
              "       [-0.62633477],\n",
              "       [ 0.33332257],\n",
              "       [ 0.73411376],\n",
              "       [-0.07540963],\n",
              "       [-0.55631238],\n",
              "       [ 1.36521985],\n",
              "       [-0.38264182],\n",
              "       [ 0.3924785 ],\n",
              "       [ 0.00355977]])"
            ]
          },
          "metadata": {
            "tags": []
          },
          "execution_count": 67
        }
      ]
    },
    {
      "cell_type": "code",
      "metadata": {
        "colab": {
          "base_uri": "https://localhost:8080/"
        },
        "id": "FXxykmdhzkec",
        "outputId": "d510efea-0f8f-4563-f636-324545918e96"
      },
      "source": [
        "mean_squared_error(y10_test, y_pred2)"
      ],
      "execution_count": null,
      "outputs": [
        {
          "output_type": "execute_result",
          "data": {
            "text/plain": [
              "0.1886897580110954"
            ]
          },
          "metadata": {
            "tags": []
          },
          "execution_count": 68
        }
      ]
    },
    {
      "cell_type": "code",
      "metadata": {
        "colab": {
          "base_uri": "https://localhost:8080/"
        },
        "id": "0poT9T4qz3Yt",
        "outputId": "2cd30990-25a6-426c-b221-d3131c1bcbe8"
      },
      "source": [
        "r2_score(y10_test, y_pred2)"
      ],
      "execution_count": null,
      "outputs": [
        {
          "output_type": "execute_result",
          "data": {
            "text/plain": [
              "0.8286588234136685"
            ]
          },
          "metadata": {
            "tags": []
          },
          "execution_count": 69
        }
      ]
    },
    {
      "cell_type": "markdown",
      "metadata": {
        "id": "yvCrgtc6RPGy"
      },
      "source": [
        "So when we decreased the variables to 10, we were able to get an increase in the accuracy of our model, so in this way we can try out different methods, we can try different algorithms as our estimator, we can also vary the number of features to select, say 15, 5, etc and we can check if we can improve the accuracy, we can also use different scaling techniques, like min_max scaler,etc "
      ]
    },
    {
      "cell_type": "code",
      "metadata": {
        "id": "hJq6cdoFbEdi",
        "colab": {
          "base_uri": "https://localhost:8080/",
          "height": 129
        },
        "outputId": "b80143eb-7b7d-458e-e9d1-72a81a5d1f7e"
      },
      "source": [
        ""
      ],
      "execution_count": null,
      "outputs": [
        {
          "output_type": "error",
          "ename": "SyntaxError",
          "evalue": "ignored",
          "traceback": [
            "\u001b[0;36m  File \u001b[0;32m\"<ipython-input-1-d93c8dd246e3>\"\u001b[0;36m, line \u001b[0;32m1\u001b[0m\n\u001b[0;31m    git status\u001b[0m\n\u001b[0m             ^\u001b[0m\n\u001b[0;31mSyntaxError\u001b[0m\u001b[0;31m:\u001b[0m invalid syntax\n"
          ]
        }
      ]
    },
    {
      "cell_type": "code",
      "metadata": {
        "id": "2T9zFw8mrpmu"
      },
      "source": [
        ""
      ],
      "execution_count": null,
      "outputs": []
    }
  ]
}